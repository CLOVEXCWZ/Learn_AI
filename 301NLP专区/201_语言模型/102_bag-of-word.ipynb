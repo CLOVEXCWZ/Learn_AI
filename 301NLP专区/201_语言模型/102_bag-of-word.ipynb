{
 "cells": [
  {
   "cell_type": "code",
   "execution_count": 1,
   "metadata": {},
   "outputs": [],
   "source": [
    "s1 = \"John likes to watch movies.Mary likes too\"\n",
    "s2 = \"John also likes to watch football games\"\n",
    "\n",
    "import re\n",
    "s1 = re.sub(\"[.,!:]\", \" \", s1)\n",
    "s2 = re.sub(\"[.,!:]\", \" \", s2)\n",
    "\n",
    "s1_l = [item for item in s1.split(' ') if len(item)>0]\n",
    "s2_l = [item for item in s2.split(' ') if len(item)>0]\n",
    "words = s1_l + s2_l "
   ]
  },
  {
   "cell_type": "code",
   "execution_count": 46,
   "metadata": {},
   "outputs": [
    {
     "data": {
      "text/plain": [
       "{0: 'likes',\n",
       " 1: 'John',\n",
       " 2: 'to',\n",
       " 3: 'watch',\n",
       " 4: 'movies',\n",
       " 5: 'Mary',\n",
       " 6: 'too',\n",
       " 7: 'also',\n",
       " 8: 'football',\n",
       " 9: 'games'}"
      ]
     },
     "execution_count": 46,
     "metadata": {},
     "output_type": "execute_result"
    }
   ],
   "source": [
    "# 创建词典\n",
    "word_dict = {}\n",
    "for word in words:\n",
    "    count = word_dict.get(word, 0)\n",
    "    word_dict[word] = count + 1\n",
    "word_dict \n",
    "\n",
    "# 根据词频排序（value）\n",
    "word_dict = sorted(word_dict.items(), key=lambda x: x[1], reverse=True)\n",
    "\n",
    "\n",
    "# 构建index字典\n",
    "# start_flag = '<SOS>'  # 开始符\n",
    "# end_flag   = '<EOS>'  # 结束符\n",
    "# pad_flag   = '<PAD>'  # 填充符\n",
    "# unk_flag   = '<UNK>'  # 未知\n",
    "\n",
    "\n",
    "word_to_index = {key:index for index, (key, count) in enumerate(word_dict)}\n",
    "# word_to_index[start_flag]=0\n",
    "# word_to_index[end_flag]=1\n",
    "# word_to_index[pad_flag]=4\n",
    "# word_to_index[unk_flag]=3 \n",
    "\n",
    "index_to_word = {word_to_index[key]:key for key in word_to_index}\n",
    "index_to_word"
   ]
  },
  {
   "cell_type": "code",
   "execution_count": 47,
   "metadata": {},
   "outputs": [],
   "source": [
    "# 填充句子\n",
    "# max_len = max([len(item) for item in [s1_l, s2_l]])\n",
    "\n",
    "# pad_s = []\n",
    "# for item in [s1_l, s2_l]:\n",
    "#     i_len = len(item)\n",
    "#     item = [start_flag] + item + [end_flag] + [pad_flag]*(max_len-i_len)\n",
    "#     pad_s.append(item)\n",
    "# # pad_s"
   ]
  },
  {
   "cell_type": "code",
   "execution_count": 48,
   "metadata": {},
   "outputs": [],
   "source": [
    "def bag_of_word(sentence, word_to_index):\n",
    "    table = [0 for _ in range(len(word_to_index))]\n",
    "    for word in sentence:\n",
    "        index = word_to_index.get(word, 0)\n",
    "        table[index] = table[index] + 1\n",
    "    return table"
   ]
  },
  {
   "cell_type": "code",
   "execution_count": 53,
   "metadata": {},
   "outputs": [
    {
     "name": "stdout",
     "output_type": "stream",
     "text": [
      "['John', 'likes', 'to', 'watch', 'movies', 'Mary', 'likes', 'too']\n"
     ]
    },
    {
     "data": {
      "text/plain": [
       "[2, 1, 1, 1, 1, 1, 1, 0, 0, 0]"
      ]
     },
     "execution_count": 53,
     "metadata": {},
     "output_type": "execute_result"
    }
   ],
   "source": [
    "print(s1_l)\n",
    "bag_of_word(s1_l, word_to_index)"
   ]
  },
  {
   "cell_type": "code",
   "execution_count": 52,
   "metadata": {},
   "outputs": [
    {
     "data": {
      "text/plain": [
       "{'likes': 0,\n",
       " 'John': 1,\n",
       " 'to': 2,\n",
       " 'watch': 3,\n",
       " 'movies': 4,\n",
       " 'Mary': 5,\n",
       " 'too': 6,\n",
       " 'also': 7,\n",
       " 'football': 8,\n",
       " 'games': 9}"
      ]
     },
     "execution_count": 52,
     "metadata": {},
     "output_type": "execute_result"
    }
   ],
   "source": [
    "word_to_index"
   ]
  },
  {
   "cell_type": "code",
   "execution_count": null,
   "metadata": {},
   "outputs": [],
   "source": []
  },
  {
   "cell_type": "code",
   "execution_count": null,
   "metadata": {},
   "outputs": [],
   "source": []
  }
 ],
 "metadata": {
  "kernelspec": {
   "display_name": "Python 3",
   "language": "python",
   "name": "python3"
  },
  "language_info": {
   "codemirror_mode": {
    "name": "ipython",
    "version": 3
   },
   "file_extension": ".py",
   "mimetype": "text/x-python",
   "name": "python",
   "nbconvert_exporter": "python",
   "pygments_lexer": "ipython3",
   "version": "3.7.0"
  }
 },
 "nbformat": 4,
 "nbformat_minor": 2
}
