{
 "cells": [
  {
   "cell_type": "markdown",
   "metadata": {},
   "source": [
    "# 正则表达式\n",
    "\n",
    "[正则表达式 速查表](./201_正则表达式_速查表.md)\n"
   ]
  },
  {
   "cell_type": "markdown",
   "metadata": {},
   "source": [
    "## 1 常用正则表达式"
   ]
  },
  {
   "cell_type": "code",
   "execution_count": 2,
   "metadata": {},
   "outputs": [],
   "source": [
    "import re"
   ]
  },
  {
   "cell_type": "code",
   "execution_count": 8,
   "metadata": {},
   "outputs": [
    {
     "name": "stdout",
     "output_type": "stream",
     "text": [
      "<re.Match object; span=(0, 12), match='xcsfwsdsdsdD'>\n"
     ]
    }
   ],
   "source": [
    "# ============= 用户名\n",
    "user_id = \"xcsfwsdsdsdD\"\n",
    "print(re.search(\"^[a-zA-Z0-9_-]{3,16}$\", user_id)) # 小字母(a-z)大写字母(A-Z)数字(0-9)以及下划线中线 长度：3-16"
   ]
  },
  {
   "cell_type": "code",
   "execution_count": 9,
   "metadata": {},
   "outputs": [
    {
     "name": "stdout",
     "output_type": "stream",
     "text": [
      "<re.Match object; span=(0, 12), match='xcsfwsdsdsdD'>\n"
     ]
    }
   ],
   "source": [
    "# ============== 密码\n",
    "pass_word = \"xcsfwsdsdsdD\"\n",
    "print(re.search(\"^[a-zA-Z0-9_-]{6,18}$\", pass_word)) # 小字母(a-z)大写字母(A-Z)数字(0-9)以及下划线中线 长度：6-18"
   ]
  },
  {
   "cell_type": "code",
   "execution_count": 12,
   "metadata": {},
   "outputs": [
    {
     "name": "stdout",
     "output_type": "stream",
     "text": [
      "<re.Match object; span=(0, 4), match='#009'>\n"
     ]
    }
   ],
   "source": [
    "# ============== 十六进制\n",
    "_str_ = \"#009\"\n",
    "print(re.search(\"^#?([a-f0-9]{6}|[a-f0-9]{3})$\", _str_))"
   ]
  },
  {
   "cell_type": "code",
   "execution_count": 17,
   "metadata": {},
   "outputs": [
    {
     "name": "stdout",
     "output_type": "stream",
     "text": [
      "<re.Match object; span=(0, 13), match='234323@qq.com'>\n",
      "<re.Match object; span=(0, 13), match='234323@qq.com'>\n"
     ]
    }
   ],
   "source": [
    "# ============== 电子邮箱\n",
    "email = \"234323@qq.com\"\n",
    "rule_1 = \"^([a-z0-9_\\.-]+)@([\\da-z\\.-]+)\\.([a-z\\.]{2,6})$\"\n",
    "rule_2 = \"^[a-z\\d]+(\\.[a-z\\d]+)*@([\\da-z](-[\\da-z])?)+(\\.{1,2}[a-z]+)+$\"\n",
    "print(re.search(rule_1, email))\n",
    "print(re.search(rule_2, email))"
   ]
  },
  {
   "cell_type": "code",
   "execution_count": 20,
   "metadata": {},
   "outputs": [
    {
     "name": "stdout",
     "output_type": "stream",
     "text": [
      "<re.Match object; span=(0, 21), match='https://www.baidu.com'>\n",
      "<re.Match object; span=(0, 21), match='https://www.baidu.com'>\n"
     ]
    }
   ],
   "source": [
    "# ============== url\n",
    "url = \"https://www.baidu.com\"\n",
    "rule_1 = \"^(https?:\\/\\/)?([\\da-z\\.-]+)\\.([a-z\\.]{2,6})([\\/\\w \\.-]*)*\\/?$\"\n",
    "rule_2 = \"[a-zA-z]+://[^\\s]*\"\n",
    "print(re.search(rule_1, url))\n",
    "print(re.search(rule_2, url))"
   ]
  },
  {
   "cell_type": "code",
   "execution_count": 26,
   "metadata": {},
   "outputs": [
    {
     "name": "stdout",
     "output_type": "stream",
     "text": [
      "<re.Match object; span=(0, 13), match='192.169.101.2'>\n"
     ]
    }
   ],
   "source": [
    "# ============== ip\n",
    "ip = \"192.169.101.2\"\n",
    "rule = \"((2[0-4]\\d|25[0-5]|[01]?\\d\\d?)\\.){3}(2[0-4]\\d|25[0-5]|[01]?\\d\\d?)\"\n",
    "rule_2 = \"^(?:(?:25[0-5]|2[0-4][0-9]|[01]?[0-9][0-9]?)\\.){3}(?:25[0-5]|2[0-4][0-9]|[01]?[0-9][0-9]?)$\"\n",
    "print(re.search(rule, ip))"
   ]
  },
  {
   "cell_type": "code",
   "execution_count": 98,
   "metadata": {},
   "outputs": [
    {
     "name": "stdout",
     "output_type": "stream",
     "text": [
      "<re.Match object; span=(21, 56), match='<cl class=\"grass\"> this is cl </cl>'>\n",
      "<re.Match object; span=(21, 56), match='<cl class=\"grass\"> this is cl </cl>'>\n",
      "[('l', ' this is cl '), ('c', ' this is xcwz ')]\n"
     ]
    }
   ],
   "source": [
    "# ============== HTML 标签\n",
    "html = \"\"\"\n",
    "<html as=\"ss\"> \n",
    "    <cl class=\"grass\"> this is cl </cl> \n",
    "    <xc class=\"grass\"> this is xcwz </xc>\n",
    "</html>\"\"\"\n",
    "rule_cl = \"<cl(.*)>(.*)</cl>\"\n",
    "# rule_id_grass = \"<([a-z0-z_-])* class=[\\\"\\']grass[\\\"\\']>([[a-z\\s0-9_+]]*)</[a-z\\s0-9_+]*>\"\n",
    "rule_id_grass = \"<([a-z0-z_-])* class=[\\\"\\']grass[\\\"\\']>([a-z\\s0-9_+]*)</[a-z\\s0-9_+]*>\"\n",
    "print(re.search(rule_cl, html))\n",
    "print(re.search(rule_id_grass, html))\n",
    "print(re.findall(rule_id_grass, html))"
   ]
  },
  {
   "cell_type": "code",
   "execution_count": 28,
   "metadata": {},
   "outputs": [
    {
     "data": {
      "text/plain": [
       "'\\n<html>\\n    <cl> this is cl </cl>\\n</html>\\n'"
      ]
     },
     "execution_count": 28,
     "metadata": {},
     "output_type": "execute_result"
    }
   ],
   "source": [
    "html"
   ]
  },
  {
   "cell_type": "code",
   "execution_count": null,
   "metadata": {},
   "outputs": [],
   "source": []
  },
  {
   "cell_type": "code",
   "execution_count": null,
   "metadata": {},
   "outputs": [],
   "source": []
  },
  {
   "cell_type": "code",
   "execution_count": null,
   "metadata": {},
   "outputs": [],
   "source": []
  },
  {
   "cell_type": "code",
   "execution_count": null,
   "metadata": {},
   "outputs": [],
   "source": []
  },
  {
   "cell_type": "code",
   "execution_count": null,
   "metadata": {},
   "outputs": [],
   "source": []
  },
  {
   "cell_type": "code",
   "execution_count": null,
   "metadata": {},
   "outputs": [],
   "source": []
  },
  {
   "cell_type": "code",
   "execution_count": null,
   "metadata": {},
   "outputs": [],
   "source": []
  },
  {
   "cell_type": "code",
   "execution_count": null,
   "metadata": {},
   "outputs": [],
   "source": []
  },
  {
   "cell_type": "code",
   "execution_count": null,
   "metadata": {},
   "outputs": [],
   "source": []
  },
  {
   "cell_type": "code",
   "execution_count": null,
   "metadata": {},
   "outputs": [],
   "source": []
  },
  {
   "cell_type": "code",
   "execution_count": null,
   "metadata": {},
   "outputs": [],
   "source": []
  },
  {
   "cell_type": "code",
   "execution_count": null,
   "metadata": {},
   "outputs": [],
   "source": []
  },
  {
   "cell_type": "code",
   "execution_count": null,
   "metadata": {},
   "outputs": [],
   "source": [
    "\n"
   ]
  }
 ],
 "metadata": {
  "kernelspec": {
   "display_name": "Python 3",
   "language": "python",
   "name": "python3"
  },
  "language_info": {
   "codemirror_mode": {
    "name": "ipython",
    "version": 3
   },
   "file_extension": ".py",
   "mimetype": "text/x-python",
   "name": "python",
   "nbconvert_exporter": "python",
   "pygments_lexer": "ipython3",
   "version": "3.7.0"
  }
 },
 "nbformat": 4,
 "nbformat_minor": 2
}
