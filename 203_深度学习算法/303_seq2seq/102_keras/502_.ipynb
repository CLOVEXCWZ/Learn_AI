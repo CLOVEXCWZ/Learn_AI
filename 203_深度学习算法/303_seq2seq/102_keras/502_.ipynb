{
 "cells": [
  {
   "cell_type": "code",
   "execution_count": 4,
   "metadata": {},
   "outputs": [],
   "source": [
    "from tqdm import tqdm  \n",
    "from keras.layers import *\n",
    "from keras_layer_normalization import LayerNormalization\n",
    "from keras.models import Model, Sequential\n",
    "from keras import backend as K\n",
    "from keras.callbacks import Callback\n",
    "from keras.optimizers import Adam"
   ]
  },
  {
   "cell_type": "code",
   "execution_count": 11,
   "metadata": {},
   "outputs": [
    {
     "name": "stdout",
     "output_type": "stream",
     "text": [
      "_________________________________________________________________\n",
      "Layer (type)                 Output Shape              Param #   \n",
      "=================================================================\n",
      "embedding_5 (Embedding)      (None, 50, 12)            132       \n",
      "_________________________________________________________________\n",
      "lstm_4 (LSTM)                (None, 128)               72192     \n",
      "=================================================================\n",
      "Total params: 72,324\n",
      "Trainable params: 72,192\n",
      "Non-trainable params: 132\n",
      "_________________________________________________________________\n"
     ]
    }
   ],
   "source": [
    "vocab_len = 10\n",
    "embeding_dim=12 \n",
    "\n",
    "model = Sequential() \n",
    "model.add(Embedding(vocab_len + 1, embeding_dim, input_length=50, trainable=False))\n",
    "model.add(LSTM(128))\n",
    "# model.add(Dense(1)) \n",
    "model.summary()\n",
    "\n",
    "# LSTM 参数计算  4 * ((dim_y + dim_x)*dim_y + dim_y)"
   ]
  },
  {
   "cell_type": "code",
   "execution_count": 16,
   "metadata": {},
   "outputs": [
    {
     "name": "stdout",
     "output_type": "stream",
     "text": [
      "_________________________________________________________________\n",
      "Layer (type)                 Output Shape              Param #   \n",
      "=================================================================\n",
      "embedding_6 (Embedding)      (None, 50, 12)            132       \n",
      "_________________________________________________________________\n",
      "gru_1 (GRU)                  (None, 128)               54144     \n",
      "=================================================================\n",
      "Total params: 54,276\n",
      "Trainable params: 54,144\n",
      "Non-trainable params: 132\n",
      "_________________________________________________________________\n"
     ]
    }
   ],
   "source": [
    "vocab_len = 10\n",
    "embeding_dim=12 \n",
    "\n",
    "model = Sequential() \n",
    "model.add(Embedding(vocab_len + 1, embeding_dim, input_length=50, trainable=False))\n",
    "model.add(GRU(128))\n",
    "# model.add(Dense(1)) \n",
    "model.summary()\n",
    "\n",
    "# LSTM 参数计算  4 * ((dim_y + dim_x)*dim_y + dim_y)"
   ]
  },
  {
   "cell_type": "code",
   "execution_count": 17,
   "metadata": {},
   "outputs": [
    {
     "data": {
      "text/plain": [
       "54144"
      ]
     },
     "execution_count": 17,
     "metadata": {},
     "output_type": "execute_result"
    }
   ],
   "source": [
    "n = 3 * ((12 + 128) * 128 + 128)\n",
    "n"
   ]
  },
  {
   "cell_type": "code",
   "execution_count": null,
   "metadata": {},
   "outputs": [],
   "source": []
  },
  {
   "cell_type": "code",
   "execution_count": null,
   "metadata": {},
   "outputs": [],
   "source": []
  },
  {
   "cell_type": "code",
   "execution_count": null,
   "metadata": {},
   "outputs": [],
   "source": []
  },
  {
   "cell_type": "code",
   "execution_count": null,
   "metadata": {},
   "outputs": [],
   "source": []
  },
  {
   "cell_type": "code",
   "execution_count": null,
   "metadata": {},
   "outputs": [],
   "source": []
  }
 ],
 "metadata": {
  "kernelspec": {
   "display_name": "Python 3",
   "language": "python",
   "name": "python3"
  },
  "language_info": {
   "codemirror_mode": {
    "name": "ipython",
    "version": 3
   },
   "file_extension": ".py",
   "mimetype": "text/x-python",
   "name": "python",
   "nbconvert_exporter": "python",
   "pygments_lexer": "ipython3",
   "version": "3.7.0"
  }
 },
 "nbformat": 4,
 "nbformat_minor": 2
}
