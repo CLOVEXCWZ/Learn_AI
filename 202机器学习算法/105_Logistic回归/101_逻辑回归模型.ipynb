{
 "cells": [
  {
   "cell_type": "markdown",
   "metadata": {},
   "source": [
    "# 数据准备"
   ]
  },
  {
   "cell_type": "code",
   "execution_count": 2,
   "metadata": {},
   "outputs": [],
   "source": [
    "import pandas as pd\n",
    "import numpy as np\n",
    "from sklearn.model_selection import train_test_split\n",
    "from imblearn.over_sampling import SMOTE"
   ]
  },
  {
   "cell_type": "markdown",
   "metadata": {},
   "source": [
    "## 归一化处理"
   ]
  },
  {
   "cell_type": "code",
   "execution_count": 4,
   "metadata": {},
   "outputs": [],
   "source": [
    "df = pd.read_csv(\"/Users/zhouwencheng/Desktop/Grass/05 AI/05 jupyter/10 data/creditcard.csv\")\n",
    "\n",
    "# 先对数据进行归一下处理\n",
    "from sklearn.preprocessing import StandardScaler  \n",
    "df.Amount = StandardScaler().fit_transform(df.Amount.values.reshape(-1, 1))"
   ]
  },
  {
   "cell_type": "markdown",
   "metadata": {},
   "source": [
    "## 过采样处理"
   ]
  },
  {
   "cell_type": "code",
   "execution_count": 6,
   "metadata": {},
   "outputs": [],
   "source": [
    "# 过采样\n",
    "\n",
    "features = df.loc[:, df.columns != 'Class']\n",
    "labels    = df.loc[:, df.columns == 'Class']\n",
    "X_train, X_test, y_train, y_test = train_test_split(features, labels, test_size = 0.3, random_state = 0)\n",
    "\n",
    "oversampler = SMOTE(random_state = 0)\n",
    "X_train_os, y_train_os = oversampler.fit_sample(X_train, y_train.values.ravel()) \n",
    "X_train_os = pd.DataFrame(X_train_os)\n",
    "y_train_os = pd.DataFrame(y_train_os)"
   ]
  },
  {
   "cell_type": "markdown",
   "metadata": {},
   "source": [
    "# 逻辑回归模型"
   ]
  },
  {
   "cell_type": "markdown",
   "metadata": {},
   "source": [
    "## 正则惩罚项\n",
    "- L1正则化和L2正则化可以看做是损失函数的惩罚项。所谓『惩罚』是指对损失函数中的某些参数做一些限制。"
   ]
  },
  {
   "cell_type": "markdown",
   "metadata": {},
   "source": [
    "### L1\n",
    "- L1正则化是指权值向量w中各个元素的绝对值之和，通常表示为∣∣w∣∣1 \n",
    "- L1正则化可以产生稀疏权值矩阵，即产生一个稀疏模型，可以用于特征选择\n"
   ]
  },
  {
   "cell_type": "markdown",
   "metadata": {},
   "source": [
    "### L2 \n",
    "- L2正则化是指权值向量w中各个元素的平方和然后再求平方根（可以看到Ridge回归的L2正则化项有平方符号），通常表示为∣∣w∣∣2\n",
    "- L2正则化可以防止模型过拟合（overfitting）；一定程度上，L1也可以防止过拟合"
   ]
  },
  {
   "cell_type": "code",
   "execution_count": 7,
   "metadata": {},
   "outputs": [],
   "source": [
    "from sklearn.linear_model import LogisticRegression"
   ]
  },
  {
   "cell_type": "code",
   "execution_count": 8,
   "metadata": {},
   "outputs": [],
   "source": [
    "lr = LogisticRegression(C = 1, penalty = 'l1', solver='liblinear')  # 加入正则惩罚项\n",
    "\n",
    "# 模型训练\n",
    "lr.fit(X_train,y_train.values.ravel())\n",
    "\n",
    "# 模型预测\n",
    "y_pred = lr.predict(X_test.values)"
   ]
  },
  {
   "cell_type": "markdown",
   "metadata": {},
   "source": [
    "## 弹性网络"
   ]
  },
  {
   "cell_type": "markdown",
   "metadata": {},
   "source": [
    "- __等待补充__"
   ]
  },
  {
   "cell_type": "markdown",
   "metadata": {},
   "source": [
    "# 预测概率"
   ]
  },
  {
   "cell_type": "code",
   "execution_count": 10,
   "metadata": {},
   "outputs": [
    {
     "data": {
      "text/plain": [
       "array([[9.99478463e-01, 5.21537224e-04],\n",
       "       [9.99729485e-01, 2.70514652e-04],\n",
       "       [9.99553396e-01, 4.46603707e-04],\n",
       "       ...,\n",
       "       [9.99348229e-01, 6.51771475e-04],\n",
       "       [9.99802318e-01, 1.97681588e-04],\n",
       "       [9.99054975e-01, 9.45024565e-04]])"
      ]
     },
     "execution_count": 10,
     "metadata": {},
     "output_type": "execute_result"
    }
   ],
   "source": [
    "# 转化成概率\n",
    "y_pred_proba = lr.predict_proba(X_test.values)\n",
    "y_pred_proba"
   ]
  },
  {
   "cell_type": "markdown",
   "metadata": {},
   "source": [
    "# 优劣势"
   ]
  },
  {
   "cell_type": "markdown",
   "metadata": {},
   "source": [
    "## 优势\n",
    "- 适合大规模数据\n",
    "- 计算快，存储消耗少\n",
    "- 支持增量式训练\n",
    "- 可解释性强"
   ]
  },
  {
   "cell_type": "markdown",
   "metadata": {},
   "source": [
    "## 劣势\n",
    "- 容易欠拟合\n",
    "- 分类精确度可能不高\n",
    "- 只能解决线性问题"
   ]
  }
 ],
 "metadata": {
  "kernelspec": {
   "display_name": "Python 3",
   "language": "python",
   "name": "python3"
  },
  "language_info": {
   "codemirror_mode": {
    "name": "ipython",
    "version": 3
   },
   "file_extension": ".py",
   "mimetype": "text/x-python",
   "name": "python",
   "nbconvert_exporter": "python",
   "pygments_lexer": "ipython3",
   "version": "3.7.3"
  },
  "toc": {
   "base_numbering": 1,
   "nav_menu": {},
   "number_sections": true,
   "sideBar": true,
   "skip_h1_title": false,
   "title_cell": "Table of Contents",
   "title_sidebar": "Contents",
   "toc_cell": false,
   "toc_position": {},
   "toc_section_display": true,
   "toc_window_display": true
  }
 },
 "nbformat": 4,
 "nbformat_minor": 2
}
