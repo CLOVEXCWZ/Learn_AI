{
 "cells": [
  {
   "cell_type": "code",
   "execution_count": 1,
   "metadata": {},
   "outputs": [],
   "source": [
    "import numpy as np\n",
    "import matplotlib.pyplot as plt\n",
    "from sklearn.cluster import KMeans"
   ]
  },
  {
   "cell_type": "code",
   "execution_count": 3,
   "metadata": {},
   "outputs": [],
   "source": [
    "# 加载数据集\n",
    "dataMat = []\n",
    "path = \"/Users/zhouwencheng/Desktop/Grass/05 AI/05 jupyter/10 data/01 文本/10.KMeans/testSet.txt\"\n",
    "fr = open(path) # 注意，这个是相对路径，请保证是在 MachineLearning 这个目录下执行。\n",
    "for line in fr.readlines():\n",
    "    curLine = line.strip().split('\\t')\n",
    "    fltLine = list(map(float,curLine))    # 映射所有的元素为 float（浮点数）类型\n",
    "    dataMat.append(fltLine)"
   ]
  },
  {
   "cell_type": "code",
   "execution_count": 4,
   "metadata": {},
   "outputs": [],
   "source": [
    "# 训练模型\n",
    "km = KMeans(n_clusters=4) # 初始化\n",
    "km.fit(dataMat) # 拟合\n",
    "km_pred = km.predict(dataMat) # 预测\n",
    "centers = km.cluster_centers_ # 质心"
   ]
  },
  {
   "cell_type": "code",
   "execution_count": 5,
   "metadata": {},
   "outputs": [
    {
     "data": {
      "image/png": "[encoded data removed]",
      "text/plain": [
       "<Figure size 432x288 with 1 Axes>"
      ]
     },
     "metadata": {
      "needs_background": "light"
     },
     "output_type": "display_data"
    }
   ],
   "source": [
    "# 可视化结果\n",
    "plt.scatter(np.array(dataMat)[:, 1], np.array(dataMat)[:, 0], c=km_pred)\n",
    "plt.scatter(centers[:, 1], centers[:, 0], c=\"r\")\n",
    "plt.show()"
   ]
  },
  {
   "cell_type": "code",
   "execution_count": 6,
   "metadata": {},
   "outputs": [
    {
     "data": {
      "text/plain": [
       "array([[-2.46154315,  2.78737555],\n",
       "       [ 2.80293085, -2.7315146 ],\n",
       "       [ 2.6265299 ,  3.10868015],\n",
       "       [-3.38237045, -2.9473363 ]])"
      ]
     },
     "execution_count": 6,
     "metadata": {},
     "output_type": "execute_result"
    }
   ],
   "source": [
    "centers"
   ]
  },
  {
   "cell_type": "code",
   "execution_count": 7,
   "metadata": {},
   "outputs": [
    {
     "data": {
      "text/plain": [
       "array([2, 0, 1, 3, 2, 0, 1, 3, 2, 0, 1, 3, 2, 0, 1, 3, 2, 0, 1, 3, 2, 0,\n",
       "       1, 3, 2, 0, 1, 3, 2, 0, 1, 3, 2, 0, 1, 3, 2, 0, 1, 3, 2, 0, 1, 3,\n",
       "       2, 0, 1, 3, 2, 0, 1, 3, 2, 0, 1, 3, 2, 0, 1, 3, 2, 0, 1, 3, 2, 0,\n",
       "       1, 3, 2, 0, 1, 3, 2, 0, 1, 3, 2, 0, 1, 3], dtype=int32)"
      ]
     },
     "execution_count": 7,
     "metadata": {},
     "output_type": "execute_result"
    }
   ],
   "source": [
    "km_pred"
   ]
  },
  {
   "cell_type": "code",
   "execution_count": null,
   "metadata": {},
   "outputs": [],
   "source": []
  }
 ],
 "metadata": {
  "kernelspec": {
   "display_name": "Python 3",
   "language": "python",
   "name": "python3"
  },
  "language_info": {
   "codemirror_mode": {
    "name": "ipython",
    "version": 3
   },
   "file_extension": ".py",
   "mimetype": "text/x-python",
   "name": "python",
   "nbconvert_exporter": "python",
   "pygments_lexer": "ipython3",
   "version": "3.7.3"
  },
  "toc": {
   "base_numbering": 1,
   "nav_menu": {},
   "number_sections": true,
   "sideBar": true,
   "skip_h1_title": false,
   "title_cell": "Table of Contents",
   "title_sidebar": "Contents",
   "toc_cell": false,
   "toc_position": {},
   "toc_section_display": true,
   "toc_window_display": false
  }
 },
 "nbformat": 4,
 "nbformat_minor": 2
}
