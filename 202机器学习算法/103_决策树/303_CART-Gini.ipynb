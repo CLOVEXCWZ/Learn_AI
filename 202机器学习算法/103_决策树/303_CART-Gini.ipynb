{
 "cells": [
  {
   "cell_type": "markdown",
   "metadata": {},
   "source": [
    "# CART\n",
    "\n",
    "- Gini 指数公式\n",
    "![305](picture/305.png)\n",
    "\n",
    "- 如果在样本集合D根据某个特征A被分割为D1,D2两个部分，那么在特征A的条件下集合D的Gini为\n",
    "![306](picture/306.png)"
   ]
  },
  {
   "cell_type": "markdown",
   "metadata": {},
   "source": [
    "# 连续值 Gini\n",
    "\n",
    "- 比如m个样本的连续特征A有m个\n",
    "- 从小到大排列为a1,a2,…,ama1,a2,…,am\n",
    "- 则CART算法取相邻两样本值的中位数\n",
    "- 在找出最大值"
   ]
  },
  {
   "cell_type": "markdown",
   "metadata": {},
   "source": [
    "Outlook\t| Yes | No | \tNumber of instances\n",
    "-------|----|---|--\n",
    "Sunny | 2 | 3 | 5 |\n",
    "Overcast | 4 | 0 | 4 |\n",
    "Rain | 3 | 2 | 5 |\n",
    "\n",
    "- Gini(outlook=Sunny) = 1 - (2/5)^2 - (3/5)^2 = 0.48\n",
    "- Gini(outlook=Overcast) = 1 - (4/4)^2 - (0/4)^2 = 0\n",
    "- Gini(outlook=Rain) = 1 - (3/5)^2 - (2/5)^2 = 0.48\n",
    "\n",
    "- GIni(outlook) = (5/14)Gini(outlook=Sunny) + (4/14)Gini(outlook=Overcast) + (5/14)Gini(outlook=Rain) = (5/14)*0.48 + (4/14)*0 + (5/14)*0.48=0.342"
   ]
  },
  {
   "cell_type": "code",
   "execution_count": 6,
   "metadata": {},
   "outputs": [
    {
     "data": {
      "text/plain": [
       "0.34285714285714286"
      ]
     },
     "execution_count": 6,
     "metadata": {},
     "output_type": "execute_result"
    }
   ],
   "source": [
    "1 - (2/5)**2 - (3/5)**2 # 0.48\n",
    "1 - (4/4)**2 - (0/4)**2 # 0\n",
    "1 - (3/5)**2 - (2/5)**2 # 0.48\n",
    "(5/14)*0.48 + (4/14)*0 + (5/14)*0.48 #0.342"
   ]
  },
  {
   "cell_type": "markdown",
   "metadata": {},
   "source": []
  },
  {
   "cell_type": "code",
   "execution_count": null,
   "metadata": {},
   "outputs": [],
   "source": []
  }
 ],
 "metadata": {
  "kernelspec": {
   "display_name": "Python 3",
   "language": "python",
   "name": "python3"
  },
  "language_info": {
   "codemirror_mode": {
    "name": "ipython",
    "version": 3
   },
   "file_extension": ".py",
   "mimetype": "text/x-python",
   "name": "python",
   "nbconvert_exporter": "python",
   "pygments_lexer": "ipython3",
   "version": "3.7.0"
  },
  "toc": {
   "base_numbering": 1,
   "nav_menu": {},
   "number_sections": true,
   "sideBar": true,
   "skip_h1_title": false,
   "title_cell": "Table of Contents",
   "title_sidebar": "Contents",
   "toc_cell": false,
   "toc_position": {},
   "toc_section_display": true,
   "toc_window_display": false
  }
 },
 "nbformat": 4,
 "nbformat_minor": 2
}
