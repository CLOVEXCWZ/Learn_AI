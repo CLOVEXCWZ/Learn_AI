{
 "cells": [
  {
   "cell_type": "markdown",
   "metadata": {},
   "source": [
    "## KNN 概述\n",
    "- 一句话总结：近朱者赤近墨者黑！\n",
    "- k 近邻算法实际上利用训练数据集对特征向量空间进行划分，并作为其分类的“模型”。 k值的选择、距离度量以及分类决策规则是k近邻算法的三个基本要素。"
   ]
  },
  {
   "cell_type": "markdown",
   "metadata": {},
   "source": [
    "# KNN 原理"
   ]
  },
  {
   "cell_type": "markdown",
   "metadata": {},
   "source": [
    "## KNN 工作原理\n",
    "- 假设有一个带有标签的样本数据集（训练样本集），其中包含每条数据与所属分类的对应关系。\n",
    "- 输入没有标签的新数据后，将新数据的每个特征与样本集中数据对应的特征进行比较。\n",
    "    - 计算新数据与样本数据集中每条数据的距离。\n",
    "    - 对求得的所有距离进行排序（从小到大，越小表示越相似）。\n",
    "    - 取前 k （k 一般小于等于 20 ）个样本数据对应的分类标签。\n",
    "- 求 k 个数据中出现次数最多的分类标签作为新数据的分类。"
   ]
  },
  {
   "cell_type": "markdown",
   "metadata": {},
   "source": [
    "## KNN通俗理解\n",
    "- 给定一个训练数据集，对新的输入实例，在训练数据集中找到与该实例最邻近的 k 个实例，这 k 个实例的多数属于某个类，就把该输入实例分为这个类。"
   ]
  },
  {
   "cell_type": "markdown",
   "metadata": {},
   "source": [
    "## KNN 开发流程\n",
    "- 收集数据：任何方法\n",
    "- 准备数据：距离计算所需要的数值，最好是结构化的数据格式\n",
    "- 分析数据：\n",
    "- 使用算法：输入样本数据和结构化的输出结果，然后运行 k-近邻算法判断输入数据分类属于哪个分类，最后对计算出的分类执行后续处理"
   ]
  },
  {
   "cell_type": "markdown",
   "metadata": {},
   "source": [
    "## KNN 算法特点\n",
    "- 优点： 精度高 对异常值不敏感 无数据输入假定\n",
    "- 缺点：计算复杂度高、控件复杂度高"
   ]
  },
  {
   "cell_type": "markdown",
   "metadata": {},
   "source": [
    "### 优点\n",
    "- 对噪声数据不敏感\n",
    "- 支持增量式训练\n",
    "- 可解释性强"
   ]
  },
  {
   "cell_type": "markdown",
   "metadata": {},
   "source": [
    "### 缺点：\n",
    "- k值选取对结果影响大\n",
    "- 计算量大、内存消耗大\n",
    "- 需要完整的训练数据"
   ]
  },
  {
   "cell_type": "code",
   "execution_count": null,
   "metadata": {},
   "outputs": [],
   "source": []
  }
 ],
 "metadata": {
  "kernelspec": {
   "display_name": "Python 3",
   "language": "python",
   "name": "python3"
  },
  "language_info": {
   "codemirror_mode": {
    "name": "ipython",
    "version": 3
   },
   "file_extension": ".py",
   "mimetype": "text/x-python",
   "name": "python",
   "nbconvert_exporter": "python",
   "pygments_lexer": "ipython3",
   "version": "3.7.0"
  },
  "toc": {
   "base_numbering": 1,
   "nav_menu": {},
   "number_sections": true,
   "sideBar": true,
   "skip_h1_title": false,
   "title_cell": "Table of Contents",
   "title_sidebar": "Contents",
   "toc_cell": false,
   "toc_position": {},
   "toc_section_display": true,
   "toc_window_display": false
  }
 },
 "nbformat": 4,
 "nbformat_minor": 2
}
