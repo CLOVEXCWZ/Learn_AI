{
 "cells": [
  {
   "cell_type": "markdown",
   "metadata": {},
   "source": [
    "# FP-growth 算法简介\n",
    "- 一种非常好的发现频繁项集算法\n",
    "- 基于Apriori算法构建，但数据结构不同，使用叫 FP树 的数据结构来存储集合。下面我们会介绍这种数据结构。"
   ]
  },
  {
   "cell_type": "markdown",
   "metadata": {},
   "source": [
    "# FP-growth 算法步骤\n",
    "- 基于数据构建FP树\n",
    "- 从FP树种挖掘频繁项集"
   ]
  },
  {
   "cell_type": "markdown",
   "metadata": {},
   "source": [
    "# FP-growth原理\n",
    "\n",
    "基于数据构建FP树"
   ]
  },
  {
   "cell_type": "markdown",
   "metadata": {},
   "source": [
    "## 步骤1：\n",
    "- 遍历所有集合数据，计算所有项的支持度\n",
    "- 丢弃非频繁的项\n",
    "- 基于支持度降序排序所有的项\n",
    "\n",
    " ![步骤1-3](picture/步骤1-3.png) \n",
    " \n",
    " - 所有数据集合按照得到的顺序重新整理\n",
    " - 重新整理完成后，丢弃每个集合末尾非频繁的项（这个需要指定 最小支持度）\n",
    " \n",
    " ![步骤4-5](picture/步骤4-5.png)\n",
    " "
   ]
  },
  {
   "cell_type": "markdown",
   "metadata": {},
   "source": [
    "## 步骤2\n",
    "- 读取每个集合插入PF数中，同时使用一个头部链表数据结构维护不同集合的相同项\n",
    "\n",
    "![步骤6-1](picture/步骤6-1.png)\n",
    "\n",
    "- 最终得到一棵FP树\n",
    "\n",
    "![步骤6-2](picture/步骤6-2.png)"
   ]
  },
  {
   "cell_type": "markdown",
   "metadata": {},
   "source": [
    "<font size = 5> __从FP树种挖掘出频繁项集__ </font>\n",
    "\n",
    "## 步骤3 （发现频繁项集）\n",
    "- 对头部链表进行降序排序\n",
    "- 对头部链表节点从小到大遍历，得到条件模式基，同时获得一个频繁项集\n",
    "\n",
    "![步骤6-2](picture/步骤6-2.png)\n",
    "\n",
    "如上图，从头部链表t节点开始遍历t节点加入到频繁项集。找到以t节点为尾部的路径如下\n",
    "\n",
    "![步骤7-1](picture/步骤7-1.png)\n",
    "\n",
    "去掉FP树中的t节点，得到条件模式基<左边路径,左边是值>[z,x,y,s,t]:2，[z,x,y,r,t]:1 。条件模式基的值取决于末尾节点 t ，因为 t 的出现次数最小，一个频繁项集的支持度由支持度最小的项决定。所以 t 节点的条件模式基的值可以理解为对于以 t 节点为末尾的前缀路径出现次数。\n",
    "\n",
    "- 条件模式基继续构造条件 FP树， 得到频繁项集，和之前的频繁项组合起来，这是一个递归遍历头部链表生成FP树的过程，递归截止条件是生成的FP树的头部链表为空。 根据步骤 2 得到的条件模式基 [z,x,y,s,t]:2，[z,x,y,r,t]:1 作为数据集继续构造出一棵FP树，计算支持度，去除非频繁项，集合按照支持度降序排序，重复上面构造FP树的步骤。最后得到下面 t-条件FP树 : \n",
    "\n",
    "![步骤7-2](picture/步骤7-2.png)\n",
    "\n",
    "然后根据 t-条件FP树 的头部链表进行遍历，从 y 开始。得到频繁项集 ty 。然后又得到 y 的条件模式基，构造出 ty的条件FP树，即 ty-条件FP树。继续遍历ty-条件FP树的头部链表，得到频繁项集 tyx，然后又得到频繁项集 tyxz. 然后得到构造tyxz-条件FP树的头部链表是空的，终止遍历。我们得到的频繁项集有 t->ty->tyz->tyzx，这只是一小部分。"
   ]
  },
  {
   "cell_type": "markdown",
   "metadata": {},
   "source": [
    "### 条件模式基：头部链表中的某一点的前缀路径组合就是条件模式基，条件模式基的值取决于末尾节点的值。 \n",
    "### 条件FP树:以条件模式基为数据集构造的FP树叫做条件FP树。"
   ]
  },
  {
   "cell_type": "markdown",
   "metadata": {},
   "source": [
    "<font size = 5>__1.创建PF树__<font>\n",
    "    \n",
    "<font size = 5>__1.发现频繁项集__<font>"
   ]
  },
  {
   "cell_type": "markdown",
   "metadata": {},
   "source": [
    "# 发现频繁项集(另一个博客)"
   ]
  },
  {
   "cell_type": "markdown",
   "metadata": {},
   "source": [
    "## 抽取条件模式基\n",
    "\n",
    "    首先从FP树头指针表中的单个频繁元素项开始。对于每一个元素项，获得其对应的条件模式基（conditional pattern base)，单个元素项的条件模式基也就是元素项的关键字。条件模式基是以所查找元素项为结尾的路径集合。每一条路径其实都是一条前辍路径（perfix path）。简而言之，一条前缀路径是介于所査找元素项与树根节点之间的所有内容。\n",
    "\n",
    "下图是以{s:2}或{r:1}为元素项的前缀路径：\n",
    "\n",
    "![2-1](picture/2-1.png)\n",
    "\n",
    "{s}的条件模式基，即前缀路径集合共有两个：{{z,x,y,t}, {x}}；{r}的条件模式基共三个：{{z}, {z,x,y,t}, {x,s}}。\n",
    "\n",
    "    寻找条件模式基的过程实际上是从FP树的每个叶子节点回溯到根节点的过程。我们可以通过头指针列表headTable开始，通过指针的连接快速访问到所有根节点。下表是上图FP树的所有条件模式基：\n",
    "\n",
    "![2-2](picture/2-2.png)\n",
    "\n",
    "\n"
   ]
  },
  {
   "cell_type": "markdown",
   "metadata": {},
   "source": [
    "## 创建条件FP树\n",
    "\n",
    "    为了发现更多的频繁项集，对于每一个频繁项，都要创建一棵条件FP树。可以使用刚才发现的条件模式基作为输入数据，并通过相同的建树代码来构建这些树。然后，递归地发现频繁项、发现条件模式基，以及发现另外的条件树。\n",
    " \n",
    "     以频繁项r为例，构建关于r的条件FP树。r的三个前缀路径分别是{z},{z,x,y,t},{x,s}，设最小支持度minSupport=2，则y,t,s被过滤掉，剩下{z},{z,x},{x}。y,s,t虽然是条件模式基的一部分，但是并不属于条件FP树，即对于r来说，它们不是频繁的。如下图所示，y→t→r和s→r的全局支持度都为1，所以y,t,s对于r的条件树来说是不频繁的。\n",
    "\n",
    "![2-3](picture/2-3.png)\n",
    "\n",
    "过滤后的r条件树如下：\n",
    "\n",
    "![2-4](picture/2-4.png)\n",
    "\n",
    "    重复上面步骤，r的条件模式基是{z,x},{x}，已经没有能够满足最小支持度的路径， 所以r的条件树仅有一个。需要注意的是，虽然{z,x},{x}中共存在两个x，但{z,x}中，z是x的父节点，在构造条件FP树时不能直接将父节点移除，仅能从子节点开始逐级移除。"
   ]
  },
  {
   "cell_type": "markdown",
   "metadata": {},
   "source": []
  },
  {
   "cell_type": "markdown",
   "metadata": {},
   "source": []
  },
  {
   "cell_type": "markdown",
   "metadata": {},
   "source": []
  },
  {
   "cell_type": "markdown",
   "metadata": {},
   "source": []
  },
  {
   "cell_type": "markdown",
   "metadata": {},
   "source": []
  },
  {
   "cell_type": "markdown",
   "metadata": {},
   "source": []
  },
  {
   "cell_type": "markdown",
   "metadata": {},
   "source": []
  },
  {
   "cell_type": "markdown",
   "metadata": {},
   "source": []
  },
  {
   "cell_type": "markdown",
   "metadata": {},
   "source": []
  }
 ],
 "metadata": {
  "kernelspec": {
   "display_name": "Python 3",
   "language": "python",
   "name": "python3"
  },
  "language_info": {
   "codemirror_mode": {
    "name": "ipython",
    "version": 3
   },
   "file_extension": ".py",
   "mimetype": "text/x-python",
   "name": "python",
   "nbconvert_exporter": "python",
   "pygments_lexer": "ipython3",
   "version": "3.7.3"
  },
  "toc": {
   "base_numbering": 1,
   "nav_menu": {},
   "number_sections": true,
   "sideBar": true,
   "skip_h1_title": false,
   "title_cell": "Table of Contents",
   "title_sidebar": "Contents",
   "toc_cell": false,
   "toc_position": {},
   "toc_section_display": true,
   "toc_window_display": true
  }
 },
 "nbformat": 4,
 "nbformat_minor": 2
}
