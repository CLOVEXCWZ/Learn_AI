{
 "cells": [
  {
   "cell_type": "markdown",
   "metadata": {},
   "source": [
    "# 朴素贝叶斯 概述\n",
    "\n",
    "- 朴素贝叶斯是基于贝叶斯定理与特征条件独立假设的分类算法。\n",
    "\n",
    "- 算法思想----基于概率的预测\n"
   ]
  },
  {
   "cell_type": "markdown",
   "metadata": {},
   "source": [
    "# 贝叶斯公式\n",
    "\n",
    "![102](picture/102.png)"
   ]
  },
  {
   "cell_type": "markdown",
   "metadata": {},
   "source": [
    "- 添加概率\n",
    "    - P(A|B) = P(AB)/P(B)\n",
    "    - P(B|A) = P(AB)/P(A)\n",
    "\n",
    "- 可以得出\n",
    "    - P(AB) = P(A|B)/P(B)\n",
    "    - P(AB) = P(B|A)/P(A)\n",
    "    \n",
    "- 可以得出\n",
    "    - P(A|B)/P(B) = P(B|A)P(A)\n",
    "    - P(A|B) = P(B|A)P(A)/P(B)\n",
    "    - P(B|A) = P(A|B)P(B)/P(A)\n"
   ]
  },
  {
   "cell_type": "markdown",
   "metadata": {},
   "source": [
    "# 朴素贝叶斯 场景\n",
    "\n",
    "    机器学习的一个重要应用就是稳定的自动归类。\n",
    "    在文档分类中，整个文档（如一封电子邮件）是实例，而电子邮件中的某些元素则构成特征。我们可以观察文档中出现的词，并吧每个词作为一个特征，而每个词的出现或者不出现作为该特征的值，这样得到的特征数目就会跟词汇表中的词的数目一样多。\n",
    "    朴素贝叶斯是上面介绍的贝叶斯分类器的一个扩展，是用于文档分类的常用算法。"
   ]
  },
  {
   "cell_type": "markdown",
   "metadata": {},
   "source": [
    "# 开发流程\n",
    "\n",
    "## 文档分类开发流程\n",
    "- 提取所有文档中的词条并进行去重\n",
    "- 获取文档的所有类别\n",
    "- 计算每个类别中的文档数目\n",
    "- 对每篇训练文档: \n",
    "    - 对每个类别: \n",
    "         - 如果词条出现在文档中-->增加该词条的计数值（for循环或者矩阵相加）\n",
    "        - 增加所有词条的计数值（此类别下词条总数）\n",
    "- 对每个类别: \n",
    "    - 对每个词条: \n",
    "        - 将该词条的数目除以总词条数目得到的条件概率（P(词条|类别)）\n",
    "- 返回该文档属于每个类别的条件概率（P(类别|文档的所有词条)）"
   ]
  },
  {
   "cell_type": "markdown",
   "metadata": {},
   "source": [
    "# 优缺点\n",
    "\n",
    "## 优点\n",
    "\n",
    "- 有稳定的分类效率。\n",
    "- 对小规模的数据表现很好，能个处理多分类任务，适合增量式训练，尤其是数据量超出内存时，我们可以一批批的去增量训练。\n",
    "- 对缺失数据不太敏感，算法也比较简单，常用于文本分类。\n",
    "\n",
    "## 缺点\n",
    "\n",
    "- 需要知道先验概率\n",
    "- 对输入数据的表达形式很敏感。"
   ]
  }
 ],
 "metadata": {
  "kernelspec": {
   "display_name": "Python 3",
   "language": "python",
   "name": "python3"
  },
  "language_info": {
   "codemirror_mode": {
    "name": "ipython",
    "version": 3
   },
   "file_extension": ".py",
   "mimetype": "text/x-python",
   "name": "python",
   "nbconvert_exporter": "python",
   "pygments_lexer": "ipython3",
   "version": "3.7.0"
  },
  "toc": {
   "base_numbering": 1,
   "nav_menu": {},
   "number_sections": true,
   "sideBar": true,
   "skip_h1_title": false,
   "title_cell": "Table of Contents",
   "title_sidebar": "Contents",
   "toc_cell": false,
   "toc_position": {},
   "toc_section_display": true,
   "toc_window_display": false
  }
 },
 "nbformat": 4,
 "nbformat_minor": 2
}
