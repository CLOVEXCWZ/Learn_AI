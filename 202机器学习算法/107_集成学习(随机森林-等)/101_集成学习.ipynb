{
 "cells": [
  {
   "cell_type": "markdown",
   "metadata": {},
   "source": [
    "# 什么是集成学习\n",
    "\n",
    "    集成学习通过构建并结合多个学习器来完成任务。\n",
    "    \n",
    "    只包含同种类型的个体学习器，这种集成是“同质”的；包含不同类型的个体学习器，这样的集成是“异质”的。集成学习通过将多个学习器进行结合常客获得比单一学习器显著优越的泛化性能。"
   ]
  },
  {
   "cell_type": "markdown",
   "metadata": {},
   "source": [
    "# 分类\n",
    "    根据个体学习的生成方式，目前的集成学习方法大致可以分为两大类，即个体学习器间存在强依赖关系，必须串行生成的序列化方法，以及个体学习器间不存在强依赖关系、可以同时生成的并行化方法； 前者的代表是Boosting(GNDT)，后者的代表是Bagging(Random Forest)\n",
    "    \n",
    "## Boosting\n",
    "\n",
    "## Bagging"
   ]
  },
  {
   "cell_type": "markdown",
   "metadata": {},
   "source": [
    "# Bagging\n",
    "\n",
    "    采用的是随机有放回的选择训练数据然后构造分类器，最后组合\n",
    "    - 给定一个弱学习算法，和一个训练集\n",
    "    - 单个弱学习算法准确率不高\n",
    "    - 将该学习算法使用多次，得出预测函数序列，进行投票或者平均\n",
    "    - 最后结果准确率会得到提高\n",
    "    \n",
    " ## 特点\n",
    " - 样本选择： 训练集是在原始集中有放回选取的，从原始集中选出的各轮训练集之间是独立的\n",
    " - 样例权重：使用均匀取样，每个样例的权重相等\n",
    " - 预测函数：所有预测函数的权重相等\n",
    " - 并行计算：各个预测函数可以并行生产\n",
    " "
   ]
  },
  {
   "cell_type": "markdown",
   "metadata": {},
   "source": [
    "# Random Forest 随机森林"
   ]
  },
  {
   "cell_type": "markdown",
   "metadata": {},
   "source": [
    "## 两个随机\n",
    "- 输入数据是随机的从整体的训练数据中选取一部分作为一颗决策树的构建，而且是有放回的选取\n",
    "- 每个决策树的构建所需的特征是从整体的特征随机的选取的，这个两个过程使得随机森林很大程度上避免了过拟合现象的出现"
   ]
  },
  {
   "cell_type": "markdown",
   "metadata": {},
   "source": [
    "## Random Forest 构造过程\n",
    "\n",
    "- Step1 - 选样本：从训练数据中选取n个数据作为训练数据输入，一般情况下n式远小于整体的训练数据N的，这样就会找出一部分数据是无法被取到，这部分数据称为袋外数据，可以使用袋外数据做误差估计。\n",
    "- Step2 - 选特征：每一颗树从整体的特征集M中选取m个特征构建，一般情况下m远小于M\n",
    "- Step3 - 构建树：在构建每课决策树的过程中，按照选取最小的基尼指数进行分裂节点的选取进行决策树的构建（CART决策树）。决策树的其他节点都采取相同的分裂规则进行构建知道该节点的所有训练样本都属于同一类或者达到了最大深度。\n",
    "- Step4 - 建森林：重复1，2，3步多次，每一次输入数据对应一颗决策树，这样就得到了随机森林，可以用来对预测数据进行决策。\n",
    "- Step5 - 做决策：多课数进行决策，最后采用投票的方式进行类别的决策"
   ]
  },
  {
   "cell_type": "markdown",
   "metadata": {},
   "source": [
    "## 优缺点\n",
    "### 优点\n",
    "- 表现性能很好，与其他算法相比有很大的优势\n",
    "- 随机森林能处理很高维度的数据，并且不需要做特征选择\n",
    "- 在训练完后能给出哪些特征是比较重要的\n",
    "- 训练速度快\n",
    "- 如果有很大一部分的特征依然可以维持准确度\n",
    "- 随机森林抗过拟合能力比较强 \n",
    "- 在创建随机森林的时候，对generalization error使用的是无偏估计，泛化能力强 \n",
    "\n",
    "### 缺点\n",
    "\n",
    "- 在解决回归问题上，并没有像分类那样表现好，因为它不能给出一个连续的输出\n",
    "- 由于是随机的过程，算法不稳定\n",
    "- 可能会有很多相似的决策树，掩盖了真实的结果\n",
    "- 对于小数据或者低维数据（特征较小的数据），可能不能产生很好的分类 "
   ]
  },
  {
   "cell_type": "markdown",
   "metadata": {},
   "source": [
    "## RF->extra trees\n",
    "\n",
    "    extra trees 原理几乎和RF一模一样\n",
    "   \n",
    "### 区别仅有\n",
    "\n",
    "- 每次训练决策树采用原始原始训练集，而不是采用随机采样（RF使用是随机采用）\n",
    "- extra trees 选择特征的时候会采用随机选择一个特征来划分决策树 （因此泛化能力更强）"
   ]
  },
  {
   "cell_type": "markdown",
   "metadata": {},
   "source": [
    "# Boosting\n",
    "\n",
    "    GBDT 梯度提升决策树（别名： GBT GTB GBRT MART）\n",
    "    \n",
    "    Boosting,集成学习方法之一，一种用来提高弱分类算法准确度大的方法，属于迭代算法，\n",
    "    通过不断地使用一个弱学习器弥补前一个弱学习器的“不足”的过程， 来串行地构造一个较强的学习器，能够使目标函数值足够小"
   ]
  },
  {
   "cell_type": "markdown",
   "metadata": {},
   "source": [
    "# GBDT"
   ]
  },
  {
   "cell_type": "markdown",
   "metadata": {},
   "source": [
    "## 构建过程\n",
    "- Step1: 先用一个初始值来学习一颗决策树\n",
    "- Step2: 叶子处可以德奥预测的值，以及预测之后的残差\n",
    "- Step3: 然后后面的决策树就要基于前面决策树的残差来学习\n",
    "- Step4: 直到预测值和真实值之间的残差为0\n",
    "- Step5: 最后对于测试样本的预测值，就是前面许多颗决策树预测值的累加"
   ]
  },
  {
   "cell_type": "markdown",
   "metadata": {},
   "source": [
    "## 例子\n",
    "\n",
    "![101](picture/101.png)\n",
    "![102](picture/102.png)\n",
    "![103](picture/103.png)\n",
    "![104](picture/104.png)\n",
    "![105](picture/105.png)"
   ]
  }
 ],
 "metadata": {
  "kernelspec": {
   "display_name": "Python 3",
   "language": "python",
   "name": "python3"
  },
  "language_info": {
   "codemirror_mode": {
    "name": "ipython",
    "version": 3
   },
   "file_extension": ".py",
   "mimetype": "text/x-python",
   "name": "python",
   "nbconvert_exporter": "python",
   "pygments_lexer": "ipython3",
   "version": "3.7.0"
  },
  "toc": {
   "base_numbering": 1,
   "nav_menu": {},
   "number_sections": true,
   "sideBar": true,
   "skip_h1_title": false,
   "title_cell": "Table of Contents",
   "title_sidebar": "Contents",
   "toc_cell": false,
   "toc_position": {},
   "toc_section_display": true,
   "toc_window_display": false
  }
 },
 "nbformat": 4,
 "nbformat_minor": 2
}
