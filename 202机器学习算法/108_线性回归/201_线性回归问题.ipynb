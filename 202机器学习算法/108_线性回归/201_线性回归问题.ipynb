{
 "cells": [
  {
   "cell_type": "markdown",
   "metadata": {},
   "source": [
    "# 基本问题"
   ]
  },
  {
   "cell_type": "markdown",
   "metadata": {},
   "source": [
    "## 什么是线性回归\n",
    "    用与描述数据之间的线性关系的一种算法"
   ]
  },
  {
   "cell_type": "markdown",
   "metadata": {},
   "source": [
    "## 线性回归是用来干嘛的\n",
    "\n",
    "### 线性回归的作用\n",
    "    通过已知数据推导出描述这些数据的关系模型，可以利用这个模型来预测未知的数据\n",
    "\n",
    "### 线性回归用于哪些领域\n",
    "    房价预测\n",
    "    股票预测"
   ]
  },
  {
   "cell_type": "markdown",
   "metadata": {},
   "source": [
    "## 实现过程-推导过程"
   ]
  },
  {
   "cell_type": "markdown",
   "metadata": {},
   "source": [
    "## 算法的优缺点\n",
    "\n",
    "### 优点\n",
    "\n",
    "- 原理简单，实现简单\n",
    "- 可解释性强\n",
    "\n",
    "### 缺点\n",
    "\n",
    "- 不能拟合非线性数据"
   ]
  }
 ],
 "metadata": {
  "kernelspec": {
   "display_name": "Python 3",
   "language": "python",
   "name": "python3"
  },
  "language_info": {
   "codemirror_mode": {
    "name": "ipython",
    "version": 3
   },
   "file_extension": ".py",
   "mimetype": "text/x-python",
   "name": "python",
   "nbconvert_exporter": "python",
   "pygments_lexer": "ipython3",
   "version": "3.7.3"
  },
  "toc": {
   "base_numbering": 1,
   "nav_menu": {},
   "number_sections": true,
   "sideBar": true,
   "skip_h1_title": false,
   "title_cell": "Table of Contents",
   "title_sidebar": "Contents",
   "toc_cell": false,
   "toc_position": {},
   "toc_section_display": true,
   "toc_window_display": false
  }
 },
 "nbformat": 4,
 "nbformat_minor": 2
}
