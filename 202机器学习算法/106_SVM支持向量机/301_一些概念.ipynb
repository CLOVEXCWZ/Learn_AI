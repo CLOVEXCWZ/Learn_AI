{
 "cells": [
  {
   "cell_type": "markdown",
   "metadata": {},
   "source": [
    "## sign 函数\n",
    "\n",
    "    sign(x)或者Sign(x)叫做符号函数，在数学和计算机运算中，其功能是取某个数的符号（正或负）：\n",
    "    当x>0，sign(x)=1;\n",
    "    当x=0，sign(x)=0;\n",
    "    当x<0， sign(x)=-1；\n",
    "    在通信中，sign(t)表示这样一种信号：\n",
    "    当t≥0，sign(t)=1; 即从t=0时刻开始，信号的幅度均为1；\n",
    "    当t<0， sign(t)=-1；在t=0时刻之前，信号幅度均为-1 \n",
    "    \n",
    "![101](picture/101.png)"
   ]
  },
  {
   "cell_type": "markdown",
   "metadata": {},
   "source": [
    "## 点到直线的距离\n",
    "\n",
    "- 有直线Ax + By + C = 0，点（x0，y0）到该直线的距离为：\n",
    "\n",
    "![102](picture/102.gif)\n",
    "\n",
    "\n",
    "    即\n",
    "![103](picture/103.gif)\n",
    "\n",
    "\n",
    "\n",
    "    如果数据是 __n__ 维时，此时直线就变成了平面，用W表示平面的法向量的：\n",
    "![104](picture/104.gif)"
   ]
  }
 ],
 "metadata": {
  "kernelspec": {
   "display_name": "Python 3",
   "language": "python",
   "name": "python3"
  },
  "language_info": {
   "codemirror_mode": {
    "name": "ipython",
    "version": 3
   },
   "file_extension": ".py",
   "mimetype": "text/x-python",
   "name": "python",
   "nbconvert_exporter": "python",
   "pygments_lexer": "ipython3",
   "version": "3.7.3"
  },
  "toc": {
   "base_numbering": 1,
   "nav_menu": {},
   "number_sections": true,
   "sideBar": true,
   "skip_h1_title": false,
   "title_cell": "Table of Contents",
   "title_sidebar": "Contents",
   "toc_cell": false,
   "toc_position": {},
   "toc_section_display": true,
   "toc_window_display": false
  }
 },
 "nbformat": 4,
 "nbformat_minor": 2
}
