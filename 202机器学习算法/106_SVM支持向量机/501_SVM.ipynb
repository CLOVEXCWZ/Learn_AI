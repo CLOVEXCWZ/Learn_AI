{
 "cells": [
  {
   "cell_type": "markdown",
   "metadata": {},
   "source": [
    "<font size = 8>  SVM  </font>"
   ]
  },
  {
   "cell_type": "code",
   "execution_count": 83,
   "metadata": {},
   "outputs": [],
   "source": [
    "import numpy as np\n",
    "from sklearn.datasets import load_iris\n",
    "from sklearn.preprocessing import StandardScaler\n",
    "from sklearn.svm import SVC, SVR\n",
    "from sklearn.model_selection import GridSearchCV, train_test_split"
   ]
  },
  {
   "cell_type": "code",
   "execution_count": 84,
   "metadata": {},
   "outputs": [
    {
     "data": {
      "text/plain": [
       "array([[ 0.55333328, -1.28296331,  0.64908342,  0.3957741 ],\n",
       "       [ 1.03800476,  0.09821729,  0.53540856,  0.3957741 ],\n",
       "       [-0.65834543,  1.47939788, -1.2833891 , -1.3154443 ],\n",
       "       [ 0.31099753, -1.05276654,  1.0469454 ,  0.26414192],\n",
       "       [ 0.79566902, -0.13197948,  1.16062026,  1.31719939],\n",
       "       [ 0.18982966, -0.82256978,  0.76275827,  0.52740629],\n",
       "       [ 2.24968346, -0.59237301,  1.6721571 ,  1.05393502],\n",
       "       [ 0.91683689, -0.13197948,  0.36489628,  0.26414192],\n",
       "       [ 0.4321654 , -0.36217625,  0.30805885,  0.13250973],\n",
       "       [ 1.64384411,  1.24920112,  1.33113254,  1.71209594]])"
      ]
     },
     "execution_count": 84,
     "metadata": {},
     "output_type": "execute_result"
    }
   ],
   "source": [
    "# load dataset iris\n",
    "X, y = load_iris(return_X_y = True)\n",
    "\n",
    "# 数据标准化\n",
    "scaler = StandardScaler()\n",
    "X_std = scaler.fit_transform(X)\n",
    "\n",
    "# 分离测试集训练集 \n",
    "x_train, x_test, y_train, y_test = train_test_split(X_std, y, test_size = 0.2)\n",
    "x_train[:10]"
   ]
  },
  {
   "cell_type": "markdown",
   "metadata": {},
   "source": [
    "## 核函数 \n",
    "- kernel \n",
    "    - 'linear':线性核函数\n",
    "    - 'poly'：多项式核函数\n",
    "    - 'rbf'：径像核函数/高斯核\n",
    "    - 'sigmoid':sigmoid核函数\n",
    "    - 'precomputed’:核矩阵\n"
   ]
  },
  {
   "cell_type": "code",
   "execution_count": 85,
   "metadata": {},
   "outputs": [],
   "source": [
    "def svm_c(x_train, x_test, y_train, y_test):\n",
    "     # rbf核函数，设置数据权重\n",
    "     svc = SVC(kernel='rbf', class_weight='balanced',)\n",
    "     c_range = np.logspace(-5, 15, 11, base=2)\n",
    "     gamma_range = np.logspace(-9, 3, 13, base=2)\n",
    "     # 网格搜索交叉验证的参数范围，cv=3,3折交叉\n",
    "     param_grid = [{'kernel': [ 'rbf', 'sigmoid','poly','linear'], 'C': c_range, 'gamma': gamma_range}]\n",
    "#      param_grid = [{'kernel': ['linear','poly','rbf', 'sigmoid', 'precomputed'], 'C': c_range, 'gamma': gamma_range}]\n",
    "\n",
    "\n",
    "     grid = GridSearchCV(svc, param_grid, cv=3, n_jobs=-1)\n",
    "     # 训练模型\n",
    "     clf = grid.fit(x_train, y_train)\n",
    "     # 计算测试集精度\n",
    "     score = grid.score(x_test, y_test)\n",
    "     print(clf.best_params_) \n",
    "     print(score)"
   ]
  },
  {
   "cell_type": "code",
   "execution_count": 86,
   "metadata": {},
   "outputs": [
    {
     "name": "stdout",
     "output_type": "stream",
     "text": [
      "{'C': 0.5, 'gamma': 0.001953125, 'kernel': 'linear'}\n",
      "0.9666666666666667\n"
     ]
    }
   ],
   "source": [
    "svm_c(x_train, x_test, y_train, y_test)"
   ]
  },
  {
   "cell_type": "markdown",
   "metadata": {},
   "source": [
    "# 优劣势"
   ]
  },
  {
   "cell_type": "markdown",
   "metadata": {},
   "source": [
    "## 优势\n",
    "- 有效处理连续特征\n",
    "-  泛化错误率低 "
   ]
  },
  {
   "cell_type": "markdown",
   "metadata": {},
   "source": [
    "## 劣势\n",
    "- 核函数及相关参数难以确定\n",
    "- 内存消耗大，计算耗时多"
   ]
  },
  {
   "cell_type": "code",
   "execution_count": null,
   "metadata": {},
   "outputs": [],
   "source": []
  }
 ],
 "metadata": {
  "kernelspec": {
   "display_name": "Python 3",
   "language": "python",
   "name": "python3"
  },
  "language_info": {
   "codemirror_mode": {
    "name": "ipython",
    "version": 3
   },
   "file_extension": ".py",
   "mimetype": "text/x-python",
   "name": "python",
   "nbconvert_exporter": "python",
   "pygments_lexer": "ipython3",
   "version": "3.7.3"
  },
  "toc": {
   "base_numbering": 1,
   "nav_menu": {},
   "number_sections": true,
   "sideBar": true,
   "skip_h1_title": false,
   "title_cell": "Table of Contents",
   "title_sidebar": "Contents",
   "toc_cell": false,
   "toc_position": {},
   "toc_section_display": true,
   "toc_window_display": false
  }
 },
 "nbformat": 4,
 "nbformat_minor": 2
}
