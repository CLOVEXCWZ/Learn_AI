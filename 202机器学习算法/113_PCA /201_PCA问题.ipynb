{
 "cells": [
  {
   "cell_type": "markdown",
   "metadata": {},
   "source": [
    "# 基本问题"
   ]
  },
  {
   "cell_type": "markdown",
   "metadata": {},
   "source": [
    "## 什么是PCA\n",
    "\n",
    "- 主成分分析\n",
    "- 是一种使用最为广泛的降维算法\n",
    "\n",
    "\n",
    "\n",
    " [博客](https://blog.csdn.net/program_developer/article/details/80632779)\n",
    "\n",
    "- 思考：我们如何得到这些包含最大差异性的主成分方向呢？\n",
    "- 答案：通过计算数据矩阵的协方差矩阵，然后得到协方差矩阵的特征值特征向量，选择特征值最大(即方差最大)的k个特征所对应的特征向量组成的矩阵。这样就可以将数据矩阵转换到新的空间当中，实现数据特征的降维。\n",
    "\n",
    "\n",
    "- 由于得到协方差矩阵的特征值特征向量有两种方法：特征值分解协方差矩阵、奇异值分解协方差矩阵，所以PCA算法有两种实现方法：基于特征值分解协方差矩阵实现PCA算法、基于SVD分解协方差矩阵实现PCA算法。"
   ]
  },
  {
   "cell_type": "markdown",
   "metadata": {},
   "source": [
    "## PCA 用来干嘛的？\n",
    "\n",
    "### PCA 的作用\n",
    "\n",
    "- 数据降维\n",
    "\n",
    "\n",
    "- 缓解维度灾难\n",
    "- 压缩数据时让信息损失最小化\n",
    "- 高维数据可视化\n",
    "\n",
    "### PCA用于哪些领域\n",
    "\n",
    "- 高维数据降维\n",
    "- 数据压缩\n",
    "- 数据预处理\n",
    "- 图形、语音、通信的分析处理\n",
    "- 去除噪音"
   ]
  },
  {
   "cell_type": "markdown",
   "metadata": {},
   "source": [
    "## PCA 的实现过程\n",
    "\n",
    "- 计算数据去均值化\n",
    "- 计算协方差矩阵\n",
    "- 求矩阵特征值特征向量"
   ]
  },
  {
   "cell_type": "markdown",
   "metadata": {},
   "source": [
    "## PCA的优缺点"
   ]
  },
  {
   "cell_type": "markdown",
   "metadata": {},
   "source": [
    "### 优点\n",
    "\n",
    "- 降低数据复杂度 \n",
    "- 去除噪点\n",
    "\n",
    "\n",
    "- 以方差衡量信息的无监督学习，不受样本标签限制。 \n",
    "- 由于协方差矩阵对称，因此k个特征向量之间两两正交，也就是各主成分之间正交，正交就肯定线性不相关，可消除原始数据成分间的相互影响\n",
    "- 可减少指标选择的工作量 \n",
    "- 计算方法简单，易于在计算机上实现。 "
   ]
  },
  {
   "cell_type": "markdown",
   "metadata": {},
   "source": [
    "### 缺点\n",
    "\n",
    "- 主成分解释其含义往往具有一定的模糊性，不如原始样本完整  \n",
    "- 无监督学习"
   ]
  }
 ],
 "metadata": {
  "kernelspec": {
   "display_name": "Python 3",
   "language": "python",
   "name": "python3"
  },
  "language_info": {
   "codemirror_mode": {
    "name": "ipython",
    "version": 3
   },
   "file_extension": ".py",
   "mimetype": "text/x-python",
   "name": "python",
   "nbconvert_exporter": "python",
   "pygments_lexer": "ipython3",
   "version": "3.7.0"
  },
  "toc": {
   "base_numbering": 1,
   "nav_menu": {},
   "number_sections": true,
   "sideBar": true,
   "skip_h1_title": false,
   "title_cell": "Table of Contents",
   "title_sidebar": "Contents",
   "toc_cell": false,
   "toc_position": {},
   "toc_section_display": true,
   "toc_window_display": false
  }
 },
 "nbformat": 4,
 "nbformat_minor": 2
}
