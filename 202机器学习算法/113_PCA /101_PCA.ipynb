{
 "cells": [
  {
   "cell_type": "markdown",
   "metadata": {},
   "source": [
    "# PCA 计算步骤\n",
    "- 零均值化\n",
    "- 求协方差矩阵\n",
    "- 求特征值、特征矩阵\n",
    "- 保留主要成分 [即保留值比较大的前n个特征]"
   ]
  },
  {
   "cell_type": "markdown",
   "metadata": {},
   "source": [
    "# PCA的作用\n",
    "- PCA算法已经被广泛的应用于高维数据集的探索与可视化，还可以用于数据压缩，数据预处理等领域。在机器学习当中应用很广，比如图像，语音，通信的分析处理。PCA算法最主要的用途在于“降维”，去除掉数据的一些冗余信息和噪声，使数据变得更加简单高效，提高其他机器学习任务的计算效率。"
   ]
  },
  {
   "cell_type": "markdown",
   "metadata": {},
   "source": [
    "## 降维\n",
    "- 降维可以缓解维度灾难问题；\n",
    "- 降维可以在压缩数据的同时让信息损失最小化；\n",
    "- 理解几百个维度的数据结构很困难，两三个维度的数据通过可视化更容易理解。"
   ]
  },
  {
   "cell_type": "markdown",
   "metadata": {},
   "source": [
    "## 去噪"
   ]
  },
  {
   "cell_type": "markdown",
   "metadata": {},
   "source": []
  },
  {
   "cell_type": "markdown",
   "metadata": {},
   "source": []
  },
  {
   "cell_type": "markdown",
   "metadata": {},
   "source": [
    "# 降维技术"
   ]
  },
  {
   "cell_type": "markdown",
   "metadata": {},
   "source": [
    "## 主成分分析(PCA)\n",
    "- 通俗理解：就是找出一个最主要的特征，然后进行分析\n",
    "- 例如：考察某一个人的智力情况，就直接看数学成绩就行（存在:数学、语文、英语成绩）"
   ]
  },
  {
   "cell_type": "markdown",
   "metadata": {},
   "source": [
    "## 因子成分（Facetor Analysis）\n",
    "- 通俗理解: 将多个实测变量转换成少数几个综合指标。它反映一种降维思想，通过降维相关性高的变量聚在一起，从而减少需要分析的变量的数量，而减少问题分析的复杂性\n",
    "- 例如：考察一个人的整体情况，就直接组合3样成绩（隐变量），看平均成绩就行（存在：数学、语文、英语成绩）\n",
    "\n",
    "- 应用领域：社会科学、金融和其他领域\n",
    "- 在因子分析中，我们\n",
    "    - 假设观察数据的成分中有一些观察不到的隐变量\n",
    "    - 假设观察数据是这些隐变量和某些噪音的线性组合\n",
    "    - 那么隐变量的数据可能比观察数据的数目少，也就是说通过找到隐变量就可以实现数据降维。"
   ]
  },
  {
   "cell_type": "markdown",
   "metadata": {},
   "source": [
    "## 独立成分分析（ICA）\n",
    "- 通俗理解：ICA认为观测信号是若干个独立信号的线性组合，ICA要做的是一个解混的过程\n",
    "- 例如：我们去KTV唱歌，想辨别唱的是什么歌曲？ ICA是观察发现原唱唱的一首歌【2个独立声音（原唱/主唱）】\n",
    "\n",
    "- ICA是假设数据从N个数据源混合组成的，这一点和因子分析有些类似，这些数据源之间在统计上市相互独立的，而PCA中只假设数据是不相关（线性关系）的。\n",
    "- 同因子分析一样，如果数据源的数目少于观察数据的数据，则可以实现降维过程"
   ]
  },
  {
   "cell_type": "markdown",
   "metadata": {},
   "source": [
    "# PCA"
   ]
  },
  {
   "cell_type": "markdown",
   "metadata": {},
   "source": [
    "## PCA概述\n",
    "- 主成分分析(Principal Component Analysis, PCA)：通俗理解：就是找出一个最主要的特征，然后进行分析。"
   ]
  },
  {
   "cell_type": "markdown",
   "metadata": {},
   "source": [
    "## PCA场景\n",
    "- 例如： 考察一个人的智力情况，就直接看数学成绩就行(存在：数学、语文、英语成绩)"
   ]
  },
  {
   "cell_type": "markdown",
   "metadata": {},
   "source": [
    "## PCA 的工作原理\n",
    "- 找出第一个主成分的方向，也就是数据 方差最大 的方向。\n",
    "- 找出第二个主成分的方向，也就是数据 方差次大 的方向，并且该方向与第一个主成分方向 正交(orthogonal 如果是二维空间就叫垂直)。\n",
    "- 通过这种方式计算出所有的主成分方向。\n",
    "- 通过数据集的协方差矩阵及其特征值分析，我们就可以得到这些主成分的值。\n",
    "- 一旦得到了协方差矩阵的特征值和特征向量，我们就可以保留最大的 N 个特征。这些特征向量也给出了 N 个最重要特征的真实结构，我们就可以通过将数据乘上这 N 个特征向量 从而将它转换到新的空间上。"
   ]
  },
  {
   "cell_type": "markdown",
   "metadata": {},
   "source": [
    "## 为什么是正交\n",
    "- 正交是为了数据有效性损失最小\n",
    "- 正交的一个原因是特征值的特征向量是正交的"
   ]
  },
  {
   "cell_type": "markdown",
   "metadata": {},
   "source": []
  },
  {
   "cell_type": "markdown",
   "metadata": {},
   "source": [
    "# 优缺点"
   ]
  },
  {
   "cell_type": "markdown",
   "metadata": {},
   "source": [
    "## 优点\n",
    "- 降低数据的复杂性\n",
    "- 识别最重要的多个特征。\n",
    "- 去除噪点"
   ]
  },
  {
   "cell_type": "markdown",
   "metadata": {},
   "source": [
    "## 缺点\n",
    "- 主成分解释其含义往往具有一定的模糊性，不如原始样本完整\n",
    "- 如果用户对观测对象有一定的先验知识，掌握了数据的一些特征，却无法通过参数化等方法对处理过程进行干预，可能会得不到预期的效果，效率也不高；\n",
    "- PCA方法寻找的是用来有效表示同一类样本共同特点的主轴方向，这对于表示同一类数据样本的共同特征是非常有效的。但PCA不适合用于区分不同的样本类。"
   ]
  }
 ],
 "metadata": {
  "kernelspec": {
   "display_name": "Python 3",
   "language": "python",
   "name": "python3"
  },
  "language_info": {
   "codemirror_mode": {
    "name": "ipython",
    "version": 3
   },
   "file_extension": ".py",
   "mimetype": "text/x-python",
   "name": "python",
   "nbconvert_exporter": "python",
   "pygments_lexer": "ipython3",
   "version": "3.7.0"
  },
  "toc": {
   "base_numbering": 1,
   "nav_menu": {},
   "number_sections": true,
   "sideBar": true,
   "skip_h1_title": false,
   "title_cell": "Table of Contents",
   "title_sidebar": "Contents",
   "toc_cell": false,
   "toc_position": {
    "height": "calc(100% - 180px)",
    "left": "10px",
    "top": "150px",
    "width": "188.796875px"
   },
   "toc_section_display": true,
   "toc_window_display": true
  }
 },
 "nbformat": 4,
 "nbformat_minor": 2
}
