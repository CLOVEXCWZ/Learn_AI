{
 "cells": [
  {
   "cell_type": "code",
   "execution_count": 40,
   "metadata": {},
   "outputs": [],
   "source": [
    "from __future__ import absolute_import, division, print_function, unicode_literals\n",
    "\n",
    "import tensorflow as tf \n",
    "\n",
    "import numpy as np\n",
    "import pandas as pd"
   ]
  },
  {
   "cell_type": "markdown",
   "metadata": {},
   "source": [
    "# 1 Dataset 基本操作"
   ]
  },
  {
   "cell_type": "markdown",
   "metadata": {},
   "source": [
    "## 1.1 创建"
   ]
  },
  {
   "cell_type": "markdown",
   "metadata": {},
   "source": [
    "### 1.1.1 tuple输入"
   ]
  },
  {
   "cell_type": "code",
   "execution_count": 44,
   "metadata": {},
   "outputs": [
    {
     "name": "stdout",
     "output_type": "stream",
     "text": [
      "d_np.shape:(20, 5)\n",
      "l_np.shape:(20, 1)\n"
     ]
    }
   ],
   "source": [
    "d_np = np.random.rand(100).reshape(-1, 5)\n",
    "l_np = np.random.randint(0, 5, (20)).reshape(20, -1)\n",
    "\n",
    "\n",
    "print(f\"d_np.shape:{d_np.shape}\")\n",
    "print(f\"l_np.shape:{l_np.shape}\")"
   ]
  },
  {
   "cell_type": "code",
   "execution_count": 99,
   "metadata": {},
   "outputs": [],
   "source": [
    "ds = tf.data.Dataset.from_tensor_slices((d_np, l_np))\n",
    "ds = ds.shuffle(buffer_size=len(d_np)) # 用于打乱数据集但不影响映射关系\n",
    "ds = ds.batch(batch_size=5) # 批处理\n",
    "ds = ds.repeat(2) # 整个数据集的循环次数"
   ]
  },
  {
   "cell_type": "code",
   "execution_count": 100,
   "metadata": {},
   "outputs": [
    {
     "name": "stdout",
     "output_type": "stream",
     "text": [
      "feature_batch:\n",
      "[[0.97039877 0.69910395 0.89097558 0.25355272 0.72552711]\n",
      " [0.20349443 0.53751182 0.236943   0.43649216 0.79802451]\n",
      " [0.81386435 0.31782834 0.39704509 0.89016825 0.82541621]\n",
      " [0.90208287 0.03097446 0.32416909 0.28659275 0.95713608]\n",
      " [0.75498971 0.14166991 0.7938222  0.72540315 0.54143928]]\n",
      "label_batch:\n",
      "[[0]\n",
      " [0]\n",
      " [4]\n",
      " [3]\n",
      " [1]]\n"
     ]
    }
   ],
   "source": [
    "for feature_batch, label_batch in ds.take(1):\n",
    "    print(f\"feature_batch:\\n{feature_batch}\")\n",
    "    print(f\"label_batch:\\n{label_batch}\")\n",
    "    "
   ]
  },
  {
   "cell_type": "markdown",
   "metadata": {},
   "source": [
    "### 1.1.2 字典创建"
   ]
  },
  {
   "cell_type": "code",
   "execution_count": 137,
   "metadata": {},
   "outputs": [
    {
     "name": "stdout",
     "output_type": "stream",
     "text": [
      "feature_labels- >shape:\n",
      "[[0.55095129 0.65079965]\n",
      " [0.06920547 0.17278314]]\n",
      "[[1.]\n",
      " [2.]]\n",
      "feature_labels- >shape:\n",
      "[[0.82493705 0.81355732]\n",
      " [0.34669445 0.61119527]]\n",
      "[[3.]\n",
      " [4.]]\n",
      "feature_labels- >shape:\n",
      "[[0.61389431 0.15289676]\n",
      " [0.64509653 0.86673105]]\n",
      "[[5.]\n",
      " [6.]]\n"
     ]
    }
   ],
   "source": [
    "b = {\"a\":np.array([1.0, 2.0, 3.0, 4.0, 5.0, 6.0]).reshape(-1, 1),\n",
    "     \"b\": np.random.uniform(size=(6, 2))}\n",
    "dict_ds = tf.data.Dataset.from_tensor_slices(b) \n",
    "dict_ds = dict_ds.batch(batch_size=2)\n",
    "\n",
    "for f in dict_ds:\n",
    "    print(f\"feature_labels- >shape:\\n{f['b']}\") \n",
    "    print(f\"{f['a']}\")  "
   ]
  },
  {
   "cell_type": "markdown",
   "metadata": {},
   "source": [
    "## 1.2 遍历\n",
    "\n",
    "- 直接遍历  for f, l in ds:\n",
    "- toke  ds.take(1)\n",
    "- iter  iter(ds)"
   ]
  },
  {
   "cell_type": "code",
   "execution_count": 101,
   "metadata": {},
   "outputs": [],
   "source": [
    "d_np = np.random.rand(100).reshape(-1, 5)\n",
    "l_np = np.random.randint(0, 5, (20)).reshape(20, -1)\n",
    "\n",
    "ds = tf.data.Dataset.from_tensor_slices((d_np, l_np))\n",
    "ds = ds.shuffle(buffer_size=len(d_np))\n",
    "ds = ds.batch(batch_size=5)\n",
    "ds = ds.repeat(2)"
   ]
  },
  {
   "cell_type": "markdown",
   "metadata": {},
   "source": [
    "### 1.2.1 直接访问"
   ]
  },
  {
   "cell_type": "code",
   "execution_count": 102,
   "metadata": {},
   "outputs": [
    {
     "name": "stdout",
     "output_type": "stream",
     "text": [
      "feature_labels- >shape:\n",
      "(5, 5)\n",
      "(5, 1)\n",
      "feature_labels- >shape:\n",
      "(5, 5)\n",
      "(5, 1)\n",
      "feature_labels- >shape:\n",
      "(5, 5)\n",
      "(5, 1)\n",
      "feature_labels- >shape:\n",
      "(5, 5)\n",
      "(5, 1)\n",
      "feature_labels- >shape:\n",
      "(5, 5)\n",
      "(5, 1)\n",
      "feature_labels- >shape:\n",
      "(5, 5)\n",
      "(5, 1)\n",
      "feature_labels- >shape:\n",
      "(5, 5)\n",
      "(5, 1)\n",
      "feature_labels- >shape:\n",
      "(5, 5)\n",
      "(5, 1)\n"
     ]
    }
   ],
   "source": [
    "for feature_batch, label_batch in ds:\n",
    "    print(f\"feature_labels- >shape:\\n{feature_batch.shape}\")\n",
    "    print(f\"{label_batch.shape}\")"
   ]
  },
  {
   "cell_type": "markdown",
   "metadata": {},
   "source": [
    "### 1.2.2 take"
   ]
  },
  {
   "cell_type": "code",
   "execution_count": 103,
   "metadata": {},
   "outputs": [
    {
     "name": "stdout",
     "output_type": "stream",
     "text": [
      "feature_labels- >shape:\n",
      "(5, 5)\n",
      "(5, 1)\n"
     ]
    }
   ],
   "source": [
    "for feature_batch, label_batch in ds.take(1):\n",
    "    print(f\"feature_labels- >shape:\\n{feature_batch.shape}\")\n",
    "    print(f\"{label_batch.shape}\")"
   ]
  },
  {
   "cell_type": "code",
   "execution_count": 104,
   "metadata": {},
   "outputs": [
    {
     "name": "stdout",
     "output_type": "stream",
     "text": [
      "feature_labels- >shape:\n",
      "(5, 5)\n",
      "(5, 1)\n",
      "feature_labels- >shape:\n",
      "(5, 5)\n",
      "(5, 1)\n",
      "feature_labels- >shape:\n",
      "(5, 5)\n",
      "(5, 1)\n",
      "feature_labels- >shape:\n",
      "(5, 5)\n",
      "(5, 1)\n",
      "feature_labels- >shape:\n",
      "(5, 5)\n",
      "(5, 1)\n"
     ]
    }
   ],
   "source": [
    "# 超过的内容将不输出\n",
    "for feature_batch, label_batch in ds.take(5):\n",
    "    print(f\"feature_labels- >shape:\\n{feature_batch.shape}\")\n",
    "    print(f\"{label_batch.shape}\")"
   ]
  },
  {
   "cell_type": "markdown",
   "metadata": {},
   "source": [
    "### 1.2.3 iter"
   ]
  },
  {
   "cell_type": "code",
   "execution_count": 105,
   "metadata": {},
   "outputs": [],
   "source": [
    "iterator = iter(ds)"
   ]
  },
  {
   "cell_type": "code",
   "execution_count": 106,
   "metadata": {},
   "outputs": [
    {
     "name": "stdout",
     "output_type": "stream",
     "text": [
      "feature_batch.shape:\n",
      "[[5.70793444e-01 6.42531982e-01 7.48771705e-01 8.61960717e-01\n",
      "  8.59558538e-01]\n",
      " [4.73135994e-01 4.08826487e-01 5.75841366e-01 7.87987389e-01\n",
      "  8.88300778e-01]\n",
      " [4.33145734e-01 7.58715898e-01 7.57203912e-01 8.74393246e-01\n",
      "  8.79851985e-01]\n",
      " [5.41077298e-01 7.66517835e-01 5.88442311e-01 6.75217346e-01\n",
      "  3.91591286e-01]\n",
      " [2.59123215e-01 7.11203072e-01 3.35041570e-01 5.59996975e-04\n",
      "  8.63765474e-01]]\n",
      "label_batch.shape:\n",
      "[[3]\n",
      " [1]\n",
      " [2]\n",
      " [4]\n",
      " [4]]\n"
     ]
    }
   ],
   "source": [
    "feature_batch, label_batch = next(iterator) \n",
    "print(f\"feature_batch.shape:\\n{feature_batch}\")\n",
    "print(f\"label_batch.shape:\\n{label_batch}\")"
   ]
  },
  {
   "cell_type": "code",
   "execution_count": 107,
   "metadata": {},
   "outputs": [
    {
     "name": "stdout",
     "output_type": "stream",
     "text": [
      "feature_labels- >shape:\n",
      "(5, 5)\n",
      "(5, 1)\n",
      "feature_labels- >shape:\n",
      "(5, 5)\n",
      "(5, 1)\n",
      "feature_labels- >shape:\n",
      "(5, 5)\n",
      "(5, 1)\n",
      "feature_labels- >shape:\n",
      "(5, 5)\n",
      "(5, 1)\n",
      "feature_labels- >shape:\n",
      "(5, 5)\n",
      "(5, 1)\n",
      "feature_labels- >shape:\n",
      "(5, 5)\n",
      "(5, 1)\n",
      "feature_labels- >shape:\n",
      "(5, 5)\n",
      "(5, 1)\n"
     ]
    }
   ],
   "source": [
    "for feature_batch, label_batch in iterator:\n",
    "    print(f\"feature_labels- >shape:\\n{feature_batch.shape}\")\n",
    "    print(f\"{label_batch.shape}\")"
   ]
  }
 ],
 "metadata": {
  "kernelspec": {
   "display_name": "Python 3",
   "language": "python",
   "name": "python3"
  },
  "language_info": {
   "codemirror_mode": {
    "name": "ipython",
    "version": 3
   },
   "file_extension": ".py",
   "mimetype": "text/x-python",
   "name": "python",
   "nbconvert_exporter": "python",
   "pygments_lexer": "ipython3",
   "version": "3.7.0"
  }
 },
 "nbformat": 4,
 "nbformat_minor": 2
}
