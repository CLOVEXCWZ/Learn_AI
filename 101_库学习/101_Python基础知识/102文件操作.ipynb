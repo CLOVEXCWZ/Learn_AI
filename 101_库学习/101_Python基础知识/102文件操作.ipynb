{
 "cells": [
  {
   "cell_type": "markdown",
   "metadata": {},
   "source": [
    "# 文件操作\n",
    "- 基本操作\n",
    "- read&write\n",
    "- line \n",
    "- 二进制的读写\n",
    "- pickle\n",
    "- 文件路径"
   ]
  },
  {
   "cell_type": "markdown",
   "metadata": {},
   "source": [
    "|方式 | 说明| \n",
    "|----|----|\n",
    "|r|\t　　以只读方式打开文件。文件的指针将会放在文件的开头。这是默认模式。|\n",
    "|w\t|　　打开一个文件只用于写入。如果该文件已存在则将其覆盖。如果该文件不存在，创建新文件。|\n",
    "|a\t|　　打开一个文件用于追加。如果该文件已存在，文件指针将会放在文件的结尾。也就是说，新的内容将会被写入到已有内容之后。如果该文件不存在，创建新文件进行写入。|\n",
    "|rb\t|　　以二进制格式打开一个文件用于只读。文件指针将会放在文件的开头。这是默认模式。|\n",
    "|wb\t|　　以二进制格式打开一个文件只用于写入。如果该文件已存在则将其覆盖。如果该文件不存在，创建新文件。|\n",
    "|ab\t|　　以二进制格式打开一个文件用于追加。如果该文件已存在，文件指针将会放在文件的结尾。也就是说，新的内容将会被写入到已有内容之后。如果该文件不存在，创建新文件进行写入。|\n",
    "|r+\t　|　打开一个文件用于读写。文件指针将会放在文件的开头。|\n",
    "|w+\t　|　打开一个文件用于读写。如果该文件已存在则将其覆盖。如果该文件不存在，创建新文件。|\n",
    "|a+\t　|　打开一个文件用于读写。如果该文件已存在，文件指针将会放在文件的结尾。文件打开时会是追加模式。如果该文件不存在，创建新文件用于读写。|\n",
    "|rb+\t|　　以二进制格式打开一个文件用于读写。文件指针将会放在文件的开头。|\n",
    "|wb+\t|　　以二进制格式打开一个文件用于读写。如果该文件已存在则将其覆盖。如果该文件不存在，创建新文件。|\n",
    "|ab+\t|　　以二进制格式打开一个文件用于追加。如果该文件已存在，文件指针将会放在文件的结尾。如果该文件不存在，创建新文件用于读写。|"
   ]
  },
  {
   "cell_type": "markdown",
   "metadata": {},
   "source": [
    "## 1 基本操作\n",
    "- open() 打开文件\n",
    "- close() 关闭文件\n",
    "- readline() 读取一行\n",
    "- readlines() 以行读取\n",
    "- seek(n)  按照位置访问\n",
    "- tell()  读取当前位置"
   ]
  },
  {
   "cell_type": "code",
   "execution_count": 31,
   "metadata": {},
   "outputs": [
    {
     "name": "stdout",
     "output_type": "stream",
     "text": [
      "据BI消息，Netflix 正准备在本月上线其最新的原创剧集《马可波罗》。\n",
      "\n",
      "据BI消息，Netflix 正准备在本月上线其最新的原创剧集《马可波罗》。\n",
      "\n",
      "据BI消息，Netflix 正准备在本月上线其最新的原创剧集《马可波罗》。\n",
      "\n",
      "x 正准备在本月上线其最新的原创剧集《马可波罗》。\n",
      "\n",
      "20\n",
      "x 正准备在本月上线其最新的原创剧集《马可波罗》。\n",
      "\n",
      "92\n"
     ]
    }
   ],
   "source": [
    "##---------- open ----------##\n",
    "\"\"\"\n",
    "两种方式\n",
    "方式一  open + close\n",
    "方式二 with open  (不需要再单独close)\n",
    "\"\"\"\n",
    "\n",
    "f = open(\"data/101.txt\", 'r')\n",
    "print(f.readline())\n",
    "f.close()\n",
    "\n",
    "with open(\"data/101.txt\", \"r\") as f:\n",
    "    print(f.readline())\n",
    "\n",
    "    \n",
    "##----------- close----------##\n",
    "\"\"\"\n",
    "关闭文件\n",
    "\"\"\"\n",
    "f = open(\"data/101.txt\", 'r')\n",
    "f.close # 关闭打开的文件\n",
    "\n",
    "##----------- readline----------##\n",
    "\"\"\"\n",
    "读取文件的一行\n",
    "\"\"\"\n",
    "with open(\"data/101.txt\", \"r\") as f:\n",
    "    print(f.readline())\n",
    "\n",
    "##----------- seek----------##\n",
    "\"\"\"\n",
    "移动到一个位置\n",
    "\"\"\"\n",
    "with open(\"data/101.txt\", \"r\") as f:\n",
    "    f.seek(20)\n",
    "    print(f.readline())\n",
    "\n",
    "##----------- tell----------##\n",
    "\"\"\"\n",
    "获取当前读取到的位置\n",
    "\"\"\"\n",
    "with open(\"data/101.txt\", \"r\") as f:\n",
    "    f.seek(20)\n",
    "    print(f.tell())\n",
    "    print(f.readline())\n",
    "    print(f.tell())"
   ]
  },
  {
   "cell_type": "markdown",
   "metadata": {},
   "source": [
    "## 2 read&write"
   ]
  },
  {
   "cell_type": "code",
   "execution_count": 29,
   "metadata": {},
   "outputs": [
    {
     "name": "stdout",
     "output_type": "stream",
     "text": [
      "据BI消息，Netflix 正准备在本月上线其最新的原创剧集《马可波罗》。\n",
      "而据纽约时报报道，《马可波罗》第一季 10 集的总投资高达 9000 万美元，这不仅创下了 Netflix 的最高电视剧投资记录，在全球电视剧制作成本的排名中也是数一数二的，仅次于 HBO 原创的《权利的游戏》。\n",
      "\n",
      "《马可波罗》在意大利、哈萨克斯坦、马来西亚等多国取景拍摄，数百名演员来自多个国家，电视剧把传奇冒险、战争、武术、性诱惑、政治阴谋等元素都融了进去，看起来会包含不少大家喜闻乐见的题材。Netflix 也为《马可波罗》的播出制定了庞大的市场营销计划。比如，Netflix 将携主要演员参加巴西的圣地亚哥国际动漫展，另外也会在墨西哥的一个大型购物中心展示《马可波罗》演出所用的服装和道具。\n",
      "  \n",
      "\n"
     ]
    }
   ],
   "source": [
    "##------------read-----------\n",
    "with open(\"data/101.txt\", 'r') as f:\n",
    "    t = f.read()\n",
    "print(t)"
   ]
  },
  {
   "cell_type": "code",
   "execution_count": 30,
   "metadata": {},
   "outputs": [],
   "source": [
    "##------------write-----------\n",
    "\"\"\"\n",
    "1.从头开始写\n",
    "2.接着后面写 \n",
    "\"\"\"\n",
    "\n",
    "# 1 从头开始写\n",
    "with open(\"data/102.txt\", 'w') as f:\n",
    "    f.write(\"This is my write CLOVE. \\n OK good\")\n",
    "    \n",
    "# 2 接着后面写\n",
    "with open(\"data/103.txt\", 'a') as f:\n",
    "    f.write(\"This is my write CLOVE. \\n OK good\\n\") "
   ]
  },
  {
   "cell_type": "markdown",
   "metadata": {},
   "source": [
    "## 3 line\n",
    "- readline\n",
    "- readlines"
   ]
  },
  {
   "cell_type": "code",
   "execution_count": 33,
   "metadata": {},
   "outputs": [
    {
     "name": "stdout",
     "output_type": "stream",
     "text": [
      "据BI消息，Netflix 正准备在本月上线其最新的原创剧集《马可波罗》。\n",
      "\n",
      "['据BI消息，Netflix 正准备在本月上线其最新的原创剧集《马可波罗》。\\n', '而据纽约时报报道，《马可波罗》第一季 10 集的总投资高达 9000 万美元，这不仅创下了 Netflix 的最高电视剧投资记录，在全球电视剧制作成本的排名中也是数一数二的，仅次于 HBO 原创的《权利的游戏》。\\n', '\\n', '《马可波罗》在意大利、哈萨克斯坦、马来西亚等多国取景拍摄，数百名演员来自多个国家，电视剧把传奇冒险、战争、武术、性诱惑、政治阴谋等元素都融了进去，看起来会包含不少大家喜闻乐见的题材。Netflix 也为《马可波罗》的播出制定了庞大的市场营销计划。比如，Netflix 将携主要演员参加巴西的圣地亚哥国际动漫展，另外也会在墨西哥的一个大型购物中心展示《马可波罗》演出所用的服装和道具。\\n', '  \\n']\n"
     ]
    }
   ],
   "source": [
    "#---------- readline -----------# \n",
    "with open(\"data/101.txt\", 'r') as f:\n",
    "    print(f.readline())\n",
    "    \n",
    "#---------- readlines -----------# \n",
    "with open(\"data/101.txt\", 'r') as f:\n",
    "    print(f.readlines())"
   ]
  },
  {
   "cell_type": "markdown",
   "metadata": {},
   "source": [
    "## 4 二进制读写\n",
    "有时可能需要以二进制方式读写文件，比如图片和可执行文件。此时，只要在打开文件的方式参数中增加一个“b”即可："
   ]
  },
  {
   "cell_type": "code",
   "execution_count": 35,
   "metadata": {},
   "outputs": [
    {
     "name": "stdout",
     "output_type": "stream",
     "text": [
      "b'There is no spoon'\n"
     ]
    }
   ],
   "source": [
    "with open(\"data/105.txt\", 'wb') as f:\n",
    "    f.write(b\"There is no spoon\")   # 注意字符串 前面有个  b \n",
    "    \n",
    "with open(\"data/105.txt\", 'rb') as f:\n",
    "    print(f.read())"
   ]
  },
  {
   "cell_type": "markdown",
   "metadata": {},
   "source": [
    "## 5 pickle\n",
    "有的时候，你可能需要传递其它类型的数据，如list、tuple、dictionary和其它对象。在Python中，你可以使用Pickling来完成。你可以使用Python标准库中的“pickle”模块完成数据编组。 "
   ]
  },
  {
   "cell_type": "code",
   "execution_count": 40,
   "metadata": {},
   "outputs": [
    {
     "name": "stdout",
     "output_type": "stream",
     "text": [
      "['This', 2, 'is', 1, 'a', 0, 'test.']\n"
     ]
    }
   ],
   "source": [
    "##----------- 存储数组-------------\n",
    "\"\"\"\n",
    "pickle.dump ([list], fileHandle ) \n",
    "\"\"\"\n",
    "\n",
    "import pickle\n",
    "\n",
    "# 存储\n",
    "list_1 = [ 'This', 2, 'is', 1, 'a', 0, 'test.' ] \n",
    "with open(\"data/201list.pickle\", 'wb') as f:\n",
    "    pickle.dump(list_1, f)\n",
    "    \n",
    "# 读取\n",
    "with open(\"data/201list.pickle\", 'rb') as f:\n",
    "    list_1 =pickle.load(f)\n",
    "    print(list_1)"
   ]
  },
  {
   "cell_type": "code",
   "execution_count": 41,
   "metadata": {},
   "outputs": [
    {
     "name": "stdout",
     "output_type": "stream",
     "text": [
      "{'a': 1, 'b': [2, 3, 4]}\n"
     ]
    }
   ],
   "source": [
    "##----------- 存储字典-------------\n",
    "\"\"\"\n",
    "pickle.dump ([list], fileHandle ) \n",
    "\"\"\"\n",
    "\n",
    "import pickle\n",
    "\n",
    "# 存储\n",
    "dict_1 = {\"a\":1, 'b':[2, 3, 4]} \n",
    "with open(\"data/201list.pickle\", 'wb') as f:\n",
    "    pickle.dump(dict_1, f)\n",
    "    \n",
    "# 读取\n",
    "with open(\"data/201list.pickle\", 'rb') as f:\n",
    "    dict_1 =pickle.load(f)\n",
    "    print(dict_1)"
   ]
  },
  {
   "cell_type": "code",
   "execution_count": 42,
   "metadata": {},
   "outputs": [
    {
     "data": {
      "text/plain": [
       "'/Users/zhouwencheng/Desktop/Life/601AI/101库学习/101Python基础知识'"
      ]
     },
     "execution_count": 42,
     "metadata": {},
     "output_type": "execute_result"
    }
   ],
   "source": [
    "import os\n",
    "os.getcwd()"
   ]
  },
  {
   "cell_type": "code",
   "execution_count": 43,
   "metadata": {},
   "outputs": [
    {
     "data": {
      "text/plain": [
       "('data/ss', '.txt')"
      ]
     },
     "execution_count": 43,
     "metadata": {},
     "output_type": "execute_result"
    }
   ],
   "source": [
    "os.path.splitext(\"data/ss.txt\") "
   ]
  },
  {
   "cell_type": "code",
   "execution_count": 45,
   "metadata": {},
   "outputs": [
    {
     "data": {
      "text/plain": [
       "'data'"
      ]
     },
     "execution_count": 45,
     "metadata": {},
     "output_type": "execute_result"
    }
   ],
   "source": [
    "os.path.dirname(\"data/101.txt\")"
   ]
  },
  {
   "cell_type": "markdown",
   "metadata": {},
   "source": [
    "## 文件路径\n",
    "- os.getcwd()  获取当前目录\n",
    "- os.listdir() 获取当前目录下的文件名列表\n",
    "- os.remove() 删除一个文件\n",
    "- os.path.isfile() 判断是否是一个文件\n",
    "- os.path.isdir() 判断是否是一个目录\n",
    "- os.path.isabs() 判断是否为绝对路径\n",
    "- os.path.islink ( filename ) 检查是否为会快捷方式\n",
    "- os.path.exists() 检查路径是否存在\n",
    "- os.path.splitext() 分离扩展名\n",
    "- os.path.dirname() 获取路径名\n",
    "- os.path.basename() 获取文件名\n",
    "- os.rename（old， new） 重命名\n",
    "- os.makedirs（r“c：\\python\\test”） 创建多级目录\n",
    "- os.mkdir（“test”）创建单个目录\n",
    "- os.stat（file） 获取文件属性\n",
    "- os.chmod（file）修改文件权限与时间戳\n",
    "- os.exit（）终止当前进程\n",
    "- os.path.getsize（filename）获取文件大小"
   ]
  },
  {
   "cell_type": "code",
   "execution_count": null,
   "metadata": {},
   "outputs": [],
   "source": []
  }
 ],
 "metadata": {
  "kernelspec": {
   "display_name": "Python 3",
   "language": "python",
   "name": "python3"
  },
  "language_info": {
   "codemirror_mode": {
    "name": "ipython",
    "version": 3
   },
   "file_extension": ".py",
   "mimetype": "text/x-python",
   "name": "python",
   "nbconvert_exporter": "python",
   "pygments_lexer": "ipython3",
   "version": "3.7.0"
  }
 },
 "nbformat": 4,
 "nbformat_minor": 2
}
