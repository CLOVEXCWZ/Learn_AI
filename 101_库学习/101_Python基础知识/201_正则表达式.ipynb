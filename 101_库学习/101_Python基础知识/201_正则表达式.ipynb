{
 "cells": [
  {
   "cell_type": "markdown",
   "metadata": {},
   "source": [
    "# 1 查询匹配\n",
    "- match 尝试从字符串的起始位置匹配一个模式\n",
    "- search  扫描整个字符串并返回第一个成功的匹配。\n",
    "- complie 函数用于编译正则表达式，生成一个正则表达式（ Pattern ）对象\n",
    "- findall"
   ]
  },
  {
   "cell_type": "code",
   "execution_count": 2,
   "metadata": {},
   "outputs": [],
   "source": [
    "import re"
   ]
  },
  {
   "cell_type": "code",
   "execution_count": 15,
   "metadata": {},
   "outputs": [
    {
     "name": "stdout",
     "output_type": "stream",
     "text": [
      "<re.Match object; span=(0, 3), match='www'>\n",
      "None\n"
     ]
    }
   ],
   "source": [
    "# ================ macth\n",
    "print(re.match('www', 'www.runoob.com'))\n",
    "print(re.match('com', 'www.runoob.com'))"
   ]
  },
  {
   "cell_type": "code",
   "execution_count": 16,
   "metadata": {},
   "outputs": [
    {
     "name": "stdout",
     "output_type": "stream",
     "text": [
      "(0, 3)\n",
      "(11, 14)\n"
     ]
    }
   ],
   "source": [
    "# ================ search\n",
    "\n",
    "print(re.search('www', 'www.runoob.com').span())  # 在起始位置匹配\n",
    "print(re.search('com', 'www.runoob.com').span())  # 不在起始位置匹配"
   ]
  },
  {
   "cell_type": "code",
   "execution_count": 14,
   "metadata": {},
   "outputs": [
    {
     "name": "stdout",
     "output_type": "stream",
     "text": [
      "None\n",
      "None\n",
      "<re.Match object; span=(3, 5), match='12'>\n"
     ]
    }
   ],
   "source": [
    "# ================== complie\n",
    "pattern = re.compile(r'\\d+') # 用于匹配至少一个数字\n",
    "print(pattern.match('one12twothree34four')) # 查找头部，没有匹配\n",
    "print(pattern.match('one12twothree34four', 2, 10)) # 从'e'的位置开始匹配，没有匹配\n",
    "print(pattern.match('one12twothree34four', 3, 10)) # 从'1'的位置开始匹配，正好匹配\n"
   ]
  },
  {
   "cell_type": "code",
   "execution_count": 19,
   "metadata": {},
   "outputs": [
    {
     "name": "stdout",
     "output_type": "stream",
     "text": [
      "['123', '456']\n",
      "['88', '12']\n"
     ]
    }
   ],
   "source": [
    "# ================= 在字符串中找到正则表达式所匹配的所有子串，并返回一个列表\n",
    "\n",
    "pattern = re.compile(r'\\d+')   # 查找数字\n",
    "print(pattern.findall('runoob 123 google 456'))\n",
    "print(pattern.findall('run88oob123google456', 0, 10))"
   ]
  },
  {
   "cell_type": "markdown",
   "metadata": {},
   "source": [
    "# 检索和替换 \n",
    "- re.sub用于替换字符串中的匹配项  re.sub(pattern, repl, string, count=0, flags=0)\n",
    "    - pattern : 正则中的模式字符串。\n",
    "    - repl : 替换的字符串，也可为一个函数。\n",
    "    - string : 要被查找替换的原始字符串。\n",
    "    - count : 模式匹配后替换的最大次数，默认 0 表示替换所有的匹配。\n",
    "    - flags : 编译时用的匹配模式，数字形式。"
   ]
  },
  {
   "cell_type": "code",
   "execution_count": 6,
   "metadata": {},
   "outputs": [],
   "source": [
    "import re"
   ]
  },
  {
   "cell_type": "code",
   "execution_count": 9,
   "metadata": {},
   "outputs": [
    {
     "name": "stdout",
     "output_type": "stream",
     "text": [
      "电话号码:2004-959-559 \n",
      "电话号码:2004959559\n"
     ]
    }
   ],
   "source": [
    "phone = \"2004-959-559 # 这是一个电话号码\"\n",
    "\n",
    "# 删除注释\n",
    "num = re.sub(r'#.*$', \"\", phone)\n",
    "print(f\"电话号码:{num}\")\n",
    "\n",
    "# 移除非数字的内容\n",
    "\n",
    "num = re.sub(r'\\D', \"\", phone)\n",
    "print(f\"电话号码:{num}\")"
   ]
  },
  {
   "cell_type": "markdown",
   "metadata": {},
   "source": [
    "## repl 参数是一个函数"
   ]
  },
  {
   "cell_type": "code",
   "execution_count": 10,
   "metadata": {},
   "outputs": [
    {
     "name": "stdout",
     "output_type": "stream",
     "text": [
      "A46G8HFD1134\n"
     ]
    }
   ],
   "source": [
    "def double(matched):\n",
    "    value = int(matched.group('value'))\n",
    "    return str(value*2)\n",
    "s = 'A23G4HFD567'\n",
    "print(re.sub('(?P<value>\\d+)', double, s))"
   ]
  },
  {
   "cell_type": "code",
   "execution_count": null,
   "metadata": {},
   "outputs": [],
   "source": []
  }
 ],
 "metadata": {
  "kernelspec": {
   "display_name": "Python 3",
   "language": "python",
   "name": "python3"
  },
  "language_info": {
   "codemirror_mode": {
    "name": "ipython",
    "version": 3
   },
   "file_extension": ".py",
   "mimetype": "text/x-python",
   "name": "python",
   "nbconvert_exporter": "python",
   "pygments_lexer": "ipython3",
   "version": "3.7.0"
  }
 },
 "nbformat": 4,
 "nbformat_minor": 2
}
