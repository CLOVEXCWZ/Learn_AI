{
 "cells": [
  {
   "cell_type": "markdown",
   "metadata": {},
   "source": [
    "# 什么也别说，先练习"
   ]
  },
  {
   "cell_type": "code",
   "execution_count": 2,
   "metadata": {},
   "outputs": [
    {
     "name": "stdout",
     "output_type": "stream",
     "text": [
      "thread_1:Fri Nov 15 14:42:05 2019\n",
      "thread_2:Fri Nov 15 14:42:06 2019\n",
      "thread_1:Fri Nov 15 14:42:06 2019\n",
      "thread_1:Fri Nov 15 14:42:07 2019\n",
      "thread_2:Fri Nov 15 14:42:08 2019\n",
      "thread_1:Fri Nov 15 14:42:08 2019\n",
      "thread_1:Fri Nov 15 14:42:09 2019\n",
      "thread_2:Fri Nov 15 14:42:10 2019\n",
      "thread_2:Fri Nov 15 14:42:12 2019\n",
      "thread_2:Fri Nov 15 14:42:14 2019\n"
     ]
    }
   ],
   "source": [
    "import _thread\n",
    "import time\n",
    "\n",
    "# 为线程定义一个函数\n",
    "def print_time(thread_name, delay):\n",
    "    count = 0\n",
    "    while count < 5:\n",
    "        time.sleep(delay)\n",
    "        count += 1\n",
    "        print(f\"{thread_name}:{time.ctime(time.time())}\")\n",
    "    \n",
    "# 创建2个线程\n",
    "try:\n",
    "    _thread.start_new_thread(print_time, (\"thread_1\", 1))\n",
    "    _thread.start_new_thread(print_time, (\"thread_2\", 2))\n",
    "except:\n",
    "    print(\"Error:无法启动线程\")"
   ]
  },
  {
   "cell_type": "markdown",
   "metadata": {},
   "source": [
    "## threading\n",
    "- threading.currentThread(): 返回当前的线程变量。\n",
    "- threading.enumerate(): 返回一个包含正在运行的线程的list。正在运行指线程启动后、结束前，不包括启动前和终止后的线程。\n",
    "- threading.activeCount(): 返回正在运行的线程数量，与len(threading.enumerate())有相同的结果。\n",
    "\n",
    "除了使用方法外，线程模块同样提供了Thread类来处理线程，Thread类提供了以下方法:\n",
    "\n",
    "- run(): 用以表示线程活动的方法。\n",
    "- start():启动线程活动。\n",
    "- join([time]): 等待至线程中止。这阻塞调用线程直至线程的join() 方法被调用中止-正常退出或者抛出未处理的异常-或者是可选的超时发生。\n",
    "- isAlive(): 返回线程是否活动的。\n",
    "- getName(): 返回线程名。\n",
    "- setName(): 设置线程名。"
   ]
  },
  {
   "cell_type": "code",
   "execution_count": 5,
   "metadata": {},
   "outputs": [
    {
     "name": "stdout",
     "output_type": "stream",
     "text": [
      "开始线程:thread_1开始线程:thread_2\n",
      "\n",
      "thread_1: Fri Nov 15 14:56:58 2019\n",
      "thread_2: Fri Nov 15 14:56:59 2019thread_1: Fri Nov 15 14:56:59 2019\n",
      "\n",
      "thread_1: Fri Nov 15 14:57:00 2019\n",
      "thread_2: Fri Nov 15 14:57:01 2019\n",
      "thread_1: Fri Nov 15 14:57:01 2019\n",
      "thread_1: Fri Nov 15 14:57:02 2019\n",
      "thread_2: Fri Nov 15 14:57:03 2019\n",
      "thread_1: Fri Nov 15 14:57:03 2019\n",
      "thread_1: Fri Nov 15 14:57:04 2019\n",
      "thread_2: Fri Nov 15 14:57:05 2019\n",
      "thread_1: Fri Nov 15 14:57:05 2019\n",
      "thread_1: Fri Nov 15 14:57:06 2019\n",
      "thread_2: Fri Nov 15 14:57:07 2019\n",
      "thread_1: Fri Nov 15 14:57:07 2019\n",
      "退出线程:thread_1\n",
      "thread_2: Fri Nov 15 14:57:09 2019\n",
      "thread_2: Fri Nov 15 14:57:11 2019\n",
      "thread_2: Fri Nov 15 14:57:13 2019\n",
      "thread_2: Fri Nov 15 14:57:15 2019\n",
      "thread_2: Fri Nov 15 14:57:17 2019\n",
      "退出线程:thread_2\n",
      "退出主线程\n"
     ]
    }
   ],
   "source": [
    "import threading\n",
    "import time\n",
    "\n",
    "exitFlag = 0\n",
    "\n",
    "def print_time(thread_name, delay, counter):\n",
    "    while counter:\n",
    "        if exitFlag:\n",
    "            threadName.exit()\n",
    "        time.sleep(delay)\n",
    "        print (\"%s: %s\" % (thread_name, time.ctime(time.time())))\n",
    "        counter -= 1\n",
    "\n",
    "class my_thread(threading.Thread):\n",
    "    def __init__(self, thread_id, name, counter):\n",
    "        threading.Thread.__init__(self)\n",
    "        self.thread_id = thread_id\n",
    "        self.name = name\n",
    "        self.counter = counter\n",
    "    def run(self):\n",
    "        print(f\"开始线程:{self.name}\")\n",
    "        print_time(self.name, self.counter, 10)\n",
    "        print(f\"退出线程:{self.name}\")\n",
    "        \n",
    "# 创建线程\n",
    "thread_1 = my_thread(1, 'thread_1', 1)\n",
    "thread_2 = my_thread(2, 'thread_2', 2)\n",
    "\n",
    "# 开启新线程\n",
    "thread_1.start()\n",
    "thread_2.start()\n",
    "thread_2.join()\n",
    "thread_1.join()\n",
    "print(\"退出主线程\")"
   ]
  },
  {
   "cell_type": "markdown",
   "metadata": {},
   "source": [
    "## 线程优先级队列(Queue)\n",
    "\n",
    "- Queue.qsize() 返回队列的大小\n",
    "- Queue.empty() 如果队列为空，返回True,反之False\n",
    "- Queue.full() 如果队列满了，返回True,反之False\n",
    "- Queue.full 与 maxsize 大小对应\n",
    "- Queue.get([block[, timeout]])获取队列，timeout等待时间\n",
    "- Queue.get_nowait() 相当Queue.get(False)\n",
    "- Queue.put(item) 写入队列，timeout等待时间\n",
    "- Queue.put_nowait(item) 相当Queue.put(item, False)\n",
    "- Queue.task_done() 在完成一项工作之后，Queue.task_done()函数向任务已经完成的队列发送一个信号\n",
    "- Queue.join() 实际上意味着等到队列为空，再执行别的操作"
   ]
  },
  {
   "cell_type": "code",
   "execution_count": 8,
   "metadata": {},
   "outputs": [
    {
     "name": "stdout",
     "output_type": "stream",
     "text": [
      "开启线程:thread_1\n",
      "开启线程:thread_2\n",
      "开启线程:thread_3\n",
      "thread_3 processing One\n",
      "thread_1 processing Twothread_2 processing Three\n",
      "\n",
      "thread_3 processing Four\n",
      "thread_2 processing Five\n",
      "退出线程:thread_3\n",
      "退出线程:thread_1退出线程:thread_2\n",
      "\n",
      "退出主线程\n"
     ]
    }
   ],
   "source": [
    "import queue\n",
    "import threading\n",
    "import time\n",
    "\n",
    "exitFlag = 0\n",
    "\n",
    "def process_data(thread_name, q):\n",
    "    while not exitFlag:\n",
    "        queue_lock.acquire()\n",
    "        if not work_queue.empty():\n",
    "            data = q.get()\n",
    "            queue_lock.release()\n",
    "            print (\"%s processing %s\" % (thread_name, data))\n",
    "        else:\n",
    "            queue_lock.release()\n",
    "        time.sleep(1)\n",
    "\n",
    "class my_thread(threading.Thread):\n",
    "    def __init__(self, thread_id, name, q):\n",
    "        threading.Thread.__init__(self)\n",
    "        self.thread_id = thread_id\n",
    "        self.name = name\n",
    "        self.q = q\n",
    "    def run(self):\n",
    "        print(f\"开启线程:{self.name}\")\n",
    "        process_data(self.name, self.q)\n",
    "        print(f\"退出线程:{self.name}\")\n",
    "\n",
    "thread_list = ['thread_1', 'thread_2', 'thread_3']\n",
    "name_list = ['One', 'Two', 'Three', 'Four', 'Five']\n",
    "queue_lock = threading.Lock()\n",
    "work_queue = queue.Queue(10)\n",
    "threads = []\n",
    "thread_id = 1\n",
    "\n",
    "# 创建新线程\n",
    "for t_name in thread_list:\n",
    "    thread = my_thread(thread_id, t_name, work_queue)\n",
    "    thread.start()\n",
    "    threads.append(thread)\n",
    "    thread_id += 1\n",
    "\n",
    "# 填充队列\n",
    "queue_lock.acquire()\n",
    "for word in name_list:\n",
    "    work_queue.put(word)\n",
    "queue_lock.release()\n",
    "\n",
    "# 等待队列清空\n",
    "while not work_queue.empty():\n",
    "    pass\n",
    "\n",
    "# 通知线程结束\n",
    "exitFlag = 1\n",
    "\n",
    "# 等待多有进程完成\n",
    "for t in threads:\n",
    "    t.join()\n",
    "print(\"退出主线程\")"
   ]
  },
  {
   "cell_type": "code",
   "execution_count": null,
   "metadata": {},
   "outputs": [],
   "source": []
  },
  {
   "cell_type": "code",
   "execution_count": null,
   "metadata": {},
   "outputs": [],
   "source": []
  },
  {
   "cell_type": "code",
   "execution_count": null,
   "metadata": {},
   "outputs": [],
   "source": []
  },
  {
   "cell_type": "code",
   "execution_count": null,
   "metadata": {},
   "outputs": [],
   "source": []
  },
  {
   "cell_type": "code",
   "execution_count": null,
   "metadata": {},
   "outputs": [],
   "source": []
  },
  {
   "cell_type": "code",
   "execution_count": null,
   "metadata": {},
   "outputs": [],
   "source": []
  }
 ],
 "metadata": {
  "kernelspec": {
   "display_name": "Python 3",
   "language": "python",
   "name": "python3"
  },
  "language_info": {
   "codemirror_mode": {
    "name": "ipython",
    "version": 3
   },
   "file_extension": ".py",
   "mimetype": "text/x-python",
   "name": "python",
   "nbconvert_exporter": "python",
   "pygments_lexer": "ipython3",
   "version": "3.7.0"
  }
 },
 "nbformat": 4,
 "nbformat_minor": 2
}
