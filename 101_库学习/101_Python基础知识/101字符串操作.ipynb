{
 "cells": [
  {
   "cell_type": "markdown",
   "metadata": {},
   "source": [
    "## 1 字符串常用操作\n",
    "- 初始化\n",
    "- 读取截取\n",
    "- 拼接\n",
    "- 读取长度\n",
    "- 统计\n",
    "- 分割\n",
    "- 替换"
   ]
  },
  {
   "cell_type": "code",
   "execution_count": 1,
   "metadata": {},
   "outputs": [],
   "source": [
    "#----------字符串初始化\n",
    "\n",
    "s1 = \"abc\""
   ]
  },
  {
   "cell_type": "code",
   "execution_count": 13,
   "metadata": {},
   "outputs": [
    {
     "name": "stdout",
     "output_type": "stream",
     "text": [
      "s[n]  获取字符串s索引为n处的字符\n",
      "\n",
      "s: 123456789\n",
      "\n",
      "s[start : end : step]  截取字符start到end(步长为step)的字符串，其中step默认为1\n",
      "\n",
      "s[0]: 1\n",
      "s[1:]: 23456789\n",
      "s[-1:]: 9\n",
      "s[:2]: 12\n",
      "s[:-2]: 1234567\n",
      "s[1:3]: 23\n",
      "s[-3:-1]: 78\n",
      "s[:8:2]: 1357\n",
      "\n",
      "ord(s)  函数获取字符的整数表示\n",
      "\n",
      "ord('A'): 65\n",
      "\n",
      "chr(s) 函数把编码转换为对应的字符\n",
      "\n",
      "chr(54): 6\n"
     ]
    }
   ],
   "source": [
    "#---------去读截取字符串\n",
    "\"\"\"\n",
    "s[n]  获取字符串s索引为n处的字符\n",
    "s[start : end : step]  截取字符start到end(步长为step)的字符串，其中step默认为1\n",
    "\"\"\"\n",
    "s = \"123456789\"\n",
    "\n",
    "print(\"s[n]  获取字符串s索引为n处的字符\\n\")\n",
    "\n",
    "print(\"s:\", s)\n",
    "\n",
    "print(\"\\ns[start : end : step]  截取字符start到end(步长为step)的字符串，其中step默认为1\\n\")\n",
    "\n",
    "print(\"s[0]:\", s[0])  # 读取一个字符\n",
    "print(\"s[1:]:\", s[1:])\n",
    "print(\"s[-1:]:\", s[-1:])\n",
    "print(\"s[:2]:\", s[:2])\n",
    "print(\"s[:-2]:\", s[:-2])\n",
    "print(\"s[1:3]:\", s[1:3])\n",
    "print(\"s[-3:-1]:\", s[-3:-1])\n",
    "print(\"s[:8:2]:\", s[:8:2])\n",
    "\n",
    "print(\"\\nord(s)  函数获取字符的整数表示\\n\")\n",
    "\n",
    "print(\"ord('A'):\", ord('A'))\n",
    "\n",
    "print(\"\\nchr(s) 函数把编码转换为对应的字符\\n\")\n",
    "\n",
    "print(\"chr(54):\", chr(54))"
   ]
  },
  {
   "cell_type": "code",
   "execution_count": 20,
   "metadata": {},
   "outputs": [
    {
     "name": "stdout",
     "output_type": "stream",
     "text": [
      "123abc\n",
      "\n",
      "s1.join(iterable)  (iterable是字符串元组字符串数组等)\n",
      "\n",
      "a~c~d~e\n",
      "2-4-5\n"
     ]
    }
   ],
   "source": [
    "#------------拼接\n",
    "\n",
    "\"\"\"\n",
    "s1.join(iterable)  (iterable是字符串元组字符串数组等)\n",
    "\"\"\"\n",
    "\n",
    "s1 = \"123\"\n",
    "s2 = \"abc\"\n",
    "\n",
    "print(s1+s2)\n",
    "\n",
    "print(\"\\ns1.join(iterable)  (iterable是字符串元组字符串数组等)\\n\")\n",
    "list_1 = ['a', 'c', 'd', 'e']\n",
    "print(\"~\".join(list_1))\n",
    "e_1 = (\"2\", \"4\", \"5\")\n",
    "print(\"-\".join(e_1))"
   ]
  },
  {
   "cell_type": "code",
   "execution_count": 24,
   "metadata": {},
   "outputs": [
    {
     "name": "stdout",
     "output_type": "stream",
     "text": [
      "s: 我就是我，是颜色不一样的烟火\n",
      "len(s): 14\n",
      "len(s.encode()): 42\n"
     ]
    }
   ],
   "source": [
    "#------------- 读取长度\n",
    "\n",
    "\"\"\"\n",
    "len(s)  获取字符串长度\n",
    "len(s.encode())  获取字节数\n",
    "\"\"\"\n",
    "\n",
    "s = \"我就是我，是颜色不一样的烟火\"\n",
    "print(\"s:\", s)\n",
    "print(\"len(s):\", len(s))\n",
    "print(\"len(s.encode()):\", len(s.encode()))"
   ]
  },
  {
   "cell_type": "code",
   "execution_count": 25,
   "metadata": {},
   "outputs": [
    {
     "name": "stdout",
     "output_type": "stream",
     "text": [
      "3\n",
      "9\n"
     ]
    }
   ],
   "source": [
    "#------------- 统计\n",
    "\n",
    "\"\"\"\n",
    "s.count('ch') 统计字符串s中ch的出现次数\n",
    "\"\"\"\n",
    "\n",
    "s1 = \"aabbb\"\n",
    "s2 = \"aabbbbbbbbb\"\n",
    "\n",
    "print(s1.count('b'))\n",
    "print(s2.count('b'))"
   ]
  },
  {
   "cell_type": "code",
   "execution_count": 44,
   "metadata": {},
   "outputs": [
    {
     "name": "stdout",
     "output_type": "stream",
     "text": [
      "s.split(sep, maxsplit) 以sep作为分割符号，最多分割成maxsplit（默认为-1，没有次数限制 \n",
      "\n",
      "s1.split(\"，\"): ['我们', '都', '很好', '的', '是么']  count: 5\n",
      "s1.split(\"，\", 1): ['我们', '都，很好，的，是么']  count: 2\n",
      "s1.rsplit(\"，\"): ['我们', '都', '很好', '的', '是么']  count: 5\n",
      "s1.rsplit(\"，\", 1): ['我们，都，很好，的', '是么']  count: 2\n",
      "\n",
      "s.partition('ch')  s.rpartition('ch')\n",
      "\n",
      "s1.partition(\"，\"): ('我们', '，', '都，很好，的，是么')  count: 3\n",
      "s1.rpartition(\"，\"): ('我们，都，很好，的', '，', '是么')  count: 3\n"
     ]
    }
   ],
   "source": [
    "#--------------- 分割\n",
    "\n",
    "\"\"\"\n",
    "- s.split(sep, maxsplit) 以sep作为分割符号，最多分割成maxsplit（默认为-1，没有次数限制）\n",
    "- s.split('ch') 以ch为分隔符，将s进行分割，并返回分割后的列表\n",
    "- s.rsplit('ch') 以ch为分隔符，将s进行分割，并返回分割后的列表,从s的右端开始搜索ch\n",
    "- s.partition('ch') 将字符串s按照ch字符串分成三个部分，从左到右的顺序\n",
    "- s.rpartition('ch') 将字符串s按照ch字符串分成三个部分，从右到左的顺序\n",
    "\"\"\"\n",
    "\n",
    "print(\"s.split(sep, maxsplit) 以sep作为分割符号，最多分割成maxsplit（默认为-1，没有次数限制 \\n\")\n",
    "s1 = \"我们，都，很好，的，是么\"\n",
    "print(\"s1.split(\\\"，\\\"):\", s1.split(\"，\"), \" count:\", len(s1.split(\"，\")))\n",
    "print(\"s1.split(\\\"，\\\", 1):\", s1.split(\"，\", 1), \" count:\", len(s1.split(\"，\", 1)))\n",
    "print(\"s1.rsplit(\\\"，\\\"):\", s1.rsplit(\"，\"), \" count:\", len(s1.rsplit(\"，\")))\n",
    "print(\"s1.rsplit(\\\"，\\\", 1):\", s1.rsplit(\"，\", 1), \" count:\", len(s1.rsplit(\"，\", 1)))\n",
    "\n",
    "print(\"\\ns.partition('ch')  s.rpartition('ch')\\n\")\n",
    "\n",
    "print(\"s1.partition(\\\"，\\\"):\", s1.partition(\"，\"), \" count:\", len(s1.partition(\"，\")))\n",
    "print(\"s1.rpartition(\\\"，\\\"):\", s1.rpartition(\"，\"), \" count:\", len(s1.rpartition(\"，\")))\n",
    "\n"
   ]
  },
  {
   "cell_type": "code",
   "execution_count": 53,
   "metadata": {},
   "outputs": [
    {
     "name": "stdout",
     "output_type": "stream",
     "text": [
      "s.replace(old,new) 将字符串s中的old子字符串全部替换成new\n",
      "\n",
      "s.replace(\"a\",\"0\"): 0b0000bcd\n",
      "\n",
      "s.expandtabs(n) 将字符串s中的每个制表符替换成n个空格\n",
      "\n",
      "s s s\n"
     ]
    }
   ],
   "source": [
    "#------------- 替换\n",
    "\"\"\"\n",
    "s.replace(old,new) 将字符串s中的old子字符串全部替换成new\n",
    "s.expandtabs(n) 将字符串s中的每个制表符替换成n个空格\n",
    "\"\"\"\n",
    "\n",
    "print(\"s.replace(old,new) 将字符串s中的old子字符串全部替换成new\\n\")\n",
    "s = \"abaaaabcd\"\n",
    "print('s.replace(\"a\",\"0\"):',s.replace(\"a\",\"0\"))\n",
    "\n",
    "print(\"\\ns.expandtabs(n) 将字符串s中的每个制表符替换成n个空格\\n\")\n",
    "s = \"s\\ts\\ts\"\n",
    "print(s.expandtabs(1))\n"
   ]
  },
  {
   "cell_type": "markdown",
   "metadata": {},
   "source": [
    "## 2 字符串检测\n",
    "- 子串的位置\n",
    "- ..."
   ]
  },
  {
   "cell_type": "code",
   "execution_count": 66,
   "metadata": {},
   "outputs": [
    {
     "name": "stdout",
     "output_type": "stream",
     "text": [
      "2\n",
      "11\n",
      "2\n",
      "11\n",
      "\n",
      "是否包含子串\n",
      "\n",
      "True\n",
      "False\n"
     ]
    }
   ],
   "source": [
    "#------------  子串的位置\n",
    "\"\"\"\n",
    "- s.find(t) 如果没有找到子字符串t，返回-1，否则返回t在s中的起始位置\n",
    "- s.rfind(t) 如果没有找到子字符串t，返回-1，否则返回t在s中的最后一个的位置\n",
    "- s.index(t) 如果没有找到子字符串t，返回ValueError异常，否则返回t在s中的起始位\n",
    "- s.rindex(t) 如果没有找到子字符串t，返回ValueError异常，否则返回t在s中的最后一个的位置\n",
    "\"\"\"\n",
    "\n",
    "s = \"uuabcdfskdjabcd\"\n",
    "\n",
    "s_sub = \"abc\"\n",
    "print(s.find(s_sub))\n",
    "print(s.rfind(s_sub))\n",
    "print(s.index(s_sub))\n",
    "print(s.rindex(s_sub))\n",
    "\n",
    "# ---------------- 是否包含子串\n",
    "\n",
    "print(\"\\n是否包含子串\\n\")\n",
    "\n",
    "s = \"sssabckh\"\n",
    "s_sub = \"abc\"\n",
    "print(s_sub  in s)\n",
    "print(s_sub+\"l\"  in s)"
   ]
  },
  {
   "cell_type": "code",
   "execution_count": 71,
   "metadata": {},
   "outputs": [
    {
     "name": "stdout",
     "output_type": "stream",
     "text": [
      "\n"
     ]
    }
   ],
   "source": [
    "#------------- 判断字符串\n",
    "\n",
    "\"\"\"\n",
    "- 开始检测 （s.startswith(t) s以字符串t开头，区分大小写）\n",
    "- 结尾结束检测 （s.endswith(t) s以字符串t结尾，区分大小写）\n",
    "- 是否只包含字符串或数字（s.isalnum()）\n",
    "- 是否只包含字符串（s.isalpha()）\n",
    "- 是否只包含数字字符（s.isdigit()）\n",
    "- 是否合法标识符（s.isidentifier() ）\n",
    "- 是否只包含小写字符（s.islower()）\n",
    "- 是否只包含数字（ s.isnumeric()）\n",
    "- 是否只包含可打印字符（ s.isprintable() ）\n",
    "- 是否只包含空白符（ s.isspace()）\n",
    "- 是否符合头衔大小写（ s.istitle() ）\n",
    "- 是否只包含大写字母（s.isupper()）\n",
    "\"\"\" \n",
    "print()"
   ]
  },
  {
   "cell_type": "markdown",
   "metadata": {},
   "source": [
    "## 3 字符串转化\n",
    "- 大小写转化\n",
    "- 填充\n",
    "- 过滤"
   ]
  },
  {
   "cell_type": "code",
   "execution_count": 79,
   "metadata": {},
   "outputs": [
    {
     "name": "stdout",
     "output_type": "stream",
     "text": [
      "Today is good day!  yes! good\n",
      "today is good day!  yes! good\n",
      "TODAY IS GOOD DAY!  YES! GOOD\n",
      "TODAY IS GOOD DAY!  YES! good\n",
      "Today Is Good Day!  Yes! Good\n"
     ]
    }
   ],
   "source": [
    "#------------ 大小写转化\n",
    "\"\"\"\n",
    "- s.capitalize() 将s[0]变成大写\n",
    "- s.lower() 将字母全部改成小写\n",
    "- s.upper() 将字母全部改成大写\n",
    "- s.swapcase() 交换大小写\n",
    "- s.title() 将字符串改成符合头衔大小写\n",
    "\"\"\"\n",
    "s = \"today is good day!  yes! GOOD\"\n",
    "print(s.capitalize())\n",
    "print(s.lower())\n",
    "print(s.upper())\n",
    "print(s.swapcase())\n",
    "print(s.title())"
   ]
  },
  {
   "cell_type": "code",
   "execution_count": 86,
   "metadata": {},
   "outputs": [
    {
     "name": "stdout",
     "output_type": "stream",
     "text": [
      "000aba0000\n",
      "aba0000000\n",
      "0000000aba\n",
      "abc10\n"
     ]
    }
   ],
   "source": [
    "#------------- 填充\n",
    "\"\"\"\n",
    "- s.center(n,ch) 包含n个字符串，其中s位于中间，两边使用ch填充\n",
    "- s.ljust(n,ch) 包含n个字符串，其中s位于右边，左边使用ch填充\n",
    "- s.rjust(n,ch) 包含n个字符串，其中s位于左边，右边使用ch填充\n",
    "- s.format(ch1,ch2) s中包含{0}{1}的位置被ch1、ch2填充\n",
    "\"\"\"\n",
    "s = \"aba\"\n",
    "print(s.center(10, '0'))\n",
    "print(s.ljust(10, '0'))\n",
    "print(s.rjust(10, '0'))\n",
    "print(\"abc{0}{1}\".format('1', '0'))"
   ]
  },
  {
   "cell_type": "code",
   "execution_count": 88,
   "metadata": {},
   "outputs": [
    {
     "name": "stdout",
     "output_type": "stream",
     "text": [
      "babababab\n",
      "bababababa\n",
      "ababababab\n"
     ]
    }
   ],
   "source": [
    "#-------------- 过滤\n",
    "\"\"\"\n",
    "- s.strip(ch) 去除字符串s中开头和结尾的ch字符串\n",
    "- s.lstrip(ch) 去除字符串s中开头的ch字符串\n",
    "- s.rstrip(ch) 去除字符串s中结尾的ch字符串\n",
    "\"\"\"\n",
    "s = \"abababababa\"\n",
    "print(s.strip('a'))\n",
    "print(s.lstrip('a'))\n",
    "print(s.rstrip('a'))"
   ]
  },
  {
   "cell_type": "markdown",
   "metadata": {},
   "source": [
    "## 字符串格式化\n",
    "- 占位符 (例如 %%  %c  %d 等)\n",
    "- %-formatting\n",
    "- format方法\n",
    "- f-strings"
   ]
  },
  {
   "cell_type": "markdown",
   "metadata": {},
   "source": [
    "### 占位符\n",
    "|占位符|用途|\n",
    "|-----|---|\n",
    "|%r\t|字符串，采用repr()的显示|\n",
    "|%c\t|单个字符|\n",
    "|%d\t|十进整数|\n",
    "|%i\t|十进整数，同%d|\n",
    "|%o\t|八进整数|\n",
    "|%x|\t十六进整数|\n",
    "|%e|\t指数，基底为e|\n",
    "|%E\t|指数，基底为E|\n",
    "|%f\t|浮点型|\n",
    "|%F\t|浮点型，同%f|\n",
    "|%g\t|指数e或浮点型，根据显示长度决定|\n",
    "|%G|\t指数E或浮点型，根据显示长度决定 |"
   ]
  },
  {
   "cell_type": "markdown",
   "metadata": {},
   "source": [
    "#### %[(name)][flags][width].[precision]typecode\n",
    "- (name): 命名,用于字典控制赋值\n",
    "- flags: 可以有+,-,, 0, # :\n",
    "    - + 表示右对齐(默认形式)。一般在数值数据要显示正负号时使用.\n",
    "    - - 表示左对齐。\n",
    "    -  为一个空格，表示在正数的左侧填充一个空格，从而与负数对齐\n",
    "    - 0 表示使用0填充左侧多余空格部分。仅对数值起效, 不能和-一起用.\n",
    "    - '#' 对于八进制和十六进制, 前面显示0或0x或0X\n",
    "- width: 显示宽度,总长度,会补齐空格. 该部分可以设为*, 此时长度由后面的元组中指定.\n",
    "- .precision: 对于数值, 表示小数点后精度; 对于数值转字符串, 表示字符串有效长度(包括.+-符号). 该部分可以设为*, 此时长度由后面的元组中指定."
   ]
  },
  {
   "cell_type": "code",
   "execution_count": 103,
   "metadata": {},
   "outputs": [
    {
     "name": "stdout",
     "output_type": "stream",
     "text": [
      "I'm Hom. I'm 30 year old\n",
      "I'm Hom. I'm 30 year old\n",
      "\n",
      "\n",
      "1.23\n",
      "1.230000\n",
      "1\n",
      "1.230000e+00\n",
      "1.230000E+00\n",
      "\n",
      "  1.230\n",
      "1.230  \n",
      " +1.230\n",
      "    1.2300\n",
      "\n",
      "100 to hex is 0x64\n",
      " 100    to hex is 0X64\n",
      "Zhao is         18 years old\n"
     ]
    }
   ],
   "source": [
    "#------------- %formatting\n",
    "print(\"I'm %s. I'm %d year old\" % ('Hom', 30))\n",
    "print(\"I'm %(name)s. I'm %(age)d year old\" % {'name':'Hom', 'age':30})\n",
    "\n",
    "print(\"\\n\")\n",
    " \n",
    "print(\"%s\"%1.23)\n",
    "print(\"%f\"%1.23)\n",
    "print(\"%d\"%1.23)\n",
    "print(\"%e\"%1.23)\n",
    "print(\"%E\"%1.23)\n",
    "\n",
    "print()\n",
    "\n",
    "print(\"%7.3f\" % 1.23)\n",
    "print(\"%-7.3f\" % 1.23)\n",
    "print(\"%+7.3f\" % 1.23)\n",
    "print(\"%*.*f\" % (10,4,1.23)) \n",
    "\n",
    "print()\n",
    "\n",
    "print(\"%d to hex is %#x\" %(100, 100)) \n",
    "print(\"%- *d to hex is %#X\" % (7, 100, 100)) \n",
    "print(\"%(name)s is %(age)d years old\" % {'name': \"Zhao\",'age':18}) "
   ]
  },
  {
   "cell_type": "code",
   "execution_count": 110,
   "metadata": {},
   "outputs": [
    {
     "name": "stdout",
     "output_type": "stream",
     "text": [
      "5,a,5\n",
      "\n",
      "通过序列调用下标\n",
      "\n",
      "Hom:30\n",
      "\n",
      "通过命名方式\n",
      "\n",
      "Hom:30\n",
      "\n",
      "格式限定符 [flags][width].[precision]typecode\n",
      "\n",
      "6.4000  \n",
      "00000189\n",
      "_____189\n",
      "10001\n",
      "1,234,567,890\n"
     ]
    }
   ],
   "source": [
    "#------------ format\n",
    "\n",
    "# {0}{1}其中0和1分别代表元组index\n",
    "print('{1},{0},{1}'.format('a',5))\n",
    "\n",
    "print(\"\\n通过序列调用下标\\n\")\n",
    "s=['Hom',30]\n",
    "print('{0[0]}:{0[1]}'.format(s))\n",
    "\n",
    "print(\"\\n通过命名方式\\n\")\n",
    "print('{name}:{age}'.format(age=30,name=\"Hom\"))\n",
    "\n",
    "print(\"\\n格式限定符 [flags][width].[precision]typecode\\n\")\n",
    "print('{:<8.4f}'.format(6.4))\n",
    "print('{:0>8}'.format('189'))\n",
    "print('{:_>8}'.format('189'))\n",
    "print('{:b}'.format(17))\n",
    "print('{:,}'.format(1234567890))"
   ]
  },
  {
   "cell_type": "code",
   "execution_count": 122,
   "metadata": {},
   "outputs": [
    {
     "name": "stdout",
     "output_type": "stream",
     "text": [
      "通过未知\n",
      "\n",
      "data1: data1, data2: data2\n",
      "\n",
      "通过关键字\n",
      "\n",
      "Name:Json, age: 12, sex: M\n",
      "\n",
      "数据精度和类型\n",
      "\n",
      "0023234.77\n",
      "\n",
      "填充和对齐经常是一起使用的\n",
      "\n",
      "Name:    Json   , age:     12    , sex:     M     \n",
      "\n",
      "使用 !r可以给字符串添加引号\n",
      "\n",
      "'abc' -- 'hjk'\n"
     ]
    }
   ],
   "source": [
    "#------------f-strings\n",
    "\n",
    "print(\"通过未知\\n\")\n",
    "data = ['data1', 'data2']\n",
    "print(f\"data1: {data[0]}, data2: {data[1]}\")\n",
    "\n",
    "print(\"\\n通过关键字\\n\")\n",
    "personal = {\"name\": \"Json\", \"age\": 12, \"sex\": \"M\"}\n",
    "print(f\"Name:{personal['name']}, age: {personal['age']}, sex: {personal['sex']}\")\n",
    "      \n",
    "print(\"\\n数据精度和类型\\n\")\n",
    "num = 23234.76686566\n",
    "print(f\"{num:010.2f}\")\n",
    "      \n",
    "print(\"\\n填充和对齐经常是一起使用的\\n\")\n",
    "personal = {\"name\": \"Json\", \"age\": 12, \"sex\": \"M\"}\n",
    "print(f\"Name: {personal['name']:^10}, age: {personal['age']:^10}, sex: {personal['sex']:^10}\")\n",
    "     \n",
    "print(\"\\n使用 !r可以给字符串添加引号\\n\")\n",
    "      \n",
    "a = \"abc\"\n",
    "b = \"hjk\" \n",
    "# f-string\n",
    "print(f\"{a!r} -- {b!r}\" )"
   ]
  }
 ],
 "metadata": {
  "kernelspec": {
   "display_name": "Python 3",
   "language": "python",
   "name": "python3"
  },
  "language_info": {
   "codemirror_mode": {
    "name": "ipython",
    "version": 3
   },
   "file_extension": ".py",
   "mimetype": "text/x-python",
   "name": "python",
   "nbconvert_exporter": "python",
   "pygments_lexer": "ipython3",
   "version": "3.7.0"
  }
 },
 "nbformat": 4,
 "nbformat_minor": 2
}
