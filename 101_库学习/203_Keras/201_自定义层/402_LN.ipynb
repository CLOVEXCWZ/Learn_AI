{
 "cells": [
  {
   "cell_type": "markdown",
   "metadata": {},
   "source": [
    "# LayerNormalization\n",
    "\n",
    "- from: keras_layer_naromalization -> layer_normalization\n"
   ]
  },
  {
   "cell_type": "code",
   "execution_count": 3,
   "metadata": {},
   "outputs": [
    {
     "name": "stderr",
     "output_type": "stream",
     "text": [
      "Using TensorFlow backend.\n"
     ]
    }
   ],
   "source": [
    "import keras\n",
    "import keras.backend as K"
   ]
  },
  {
   "cell_type": "code",
   "execution_count": 4,
   "metadata": {},
   "outputs": [],
   "source": [
    "class LayerNormalization(keras.layers.Layer):\n",
    "    \n",
    "    def __init__(self,\n",
    "                 center=True,\n",
    "                 scale=True,\n",
    "                 epsilon=None,\n",
    "                 gamma_initializer='ones',\n",
    "                 beta_initializer='zeros',\n",
    "                 gamma_regularizer=None,\n",
    "                 beta_regularizer=None,\n",
    "                 gamma_constraint=None,\n",
    "                 beta_constraint=None,\n",
    "                 **kwargs):\n",
    "        \"\"\" 归一化 层\n",
    "        See: [Layer Normalization](https://arxiv.org/pdf/1607.06450.pdf)\n",
    "        \n",
    "        :param center: Add an offset parameter if it is True.\n",
    "        :param scale: Add a scale parameter if it is True.\n",
    "        :param epsilon: Epsilon for calculating variance.\n",
    "        :param gamma_initializer: Initializer for the gamma weight.\n",
    "        :param beta_initializer: Initializer for the beta weight.\n",
    "        :param gamma_regularizer: Optional regularizer for the gamma weight.\n",
    "        :param beta_regularizer: Optional regularizer for the beta weight.\n",
    "        :param gamma_constraint: Optional constraint for the gamma weight.\n",
    "        :param beta_constraint: Optional constraint for the beta weight.\n",
    "        :param kwargs:\n",
    "        \"\"\"\n",
    "        super(LayerNormalization, self).__init__(**kwargs)\n",
    "        self.supports_masking = True\n",
    "        self.center = center\n",
    "        self.scals = scals\n",
    "        if epsilon is None:\n",
    "            # K.epsilon() = 1e-07\n",
    "            epsilon = K.epsilon()*K.epsilon()\n",
    "        self.epsilon = epsilon\n",
    "        self.gamma_initializer = keras.initializers.get(gamma_initializer)\n",
    "        self.beta_initializer = keras.initializers.get(beta_initializer)\n",
    "        self.gamma_regularizer = keras.regularizers.get(gamma_regularizer)\n",
    "        self.beta_regularizer = keras.regularizers.get(beta_regularizer)\n",
    "        self.gamma_constraint = keras.constraints.get(gamma_constraint)\n",
    "        self.beta_constraint = keras.constraints.get(beta_constraint)\n",
    "        self.gamma, self.beta = None, None\n",
    "        \n",
    "    def get_config(self):\n",
    "        config = {\n",
    "            'center': self.center,\n",
    "            'scale': self.scale,\n",
    "            'epsilon': self.epsilon,\n",
    "            'gamma_initializer': keras.initializers.serialize(self.gamma_initializer),\n",
    "            'beta_initializer': keras.initializers.serialize(self.beta_initializer),\n",
    "            'gamma_regularizer': keras.regularizers.serialize(self.gamma_regularizer),\n",
    "            'beta_regularizer': keras.regularizers.serialize(self.beta_regularizer),\n",
    "            'gamma_constraint': keras.constraints.serialize(self.gamma_constraint),\n",
    "            'beta_constraint': keras.constraints.serialize(self.beta_constraint),\n",
    "        }\n",
    "        base_config = super(LayerNormalization, self).get_config()\n",
    "        return dict(list(base_config.items()) + list(config.items()))\n",
    "    \n",
    "    def comput_output_shape(self, input_shape):\n",
    "        return input_shape\n",
    "    \n",
    "    def comput_mask(self, inputs, input_mask=None):\n",
    "        return input_mask\n",
    "    \n",
    "    def build(self, input_shape):\n",
    "        shape = input_shape[-1:]\n",
    "        if self.scale:\n",
    "            self.gamma = self.add_weight(\n",
    "                shape=shape,\n",
    "                initializer=self.gamma_initializer,\n",
    "                regularizer=self.gamma_regularizer,\n",
    "                constraint=self.gamma_constraint,\n",
    "                name='gamma',\n",
    "            )\n",
    "        if self.center:\n",
    "            self.beta = self.add_weight(\n",
    "                shape=shape,\n",
    "                initializer=self.beta_initializer,\n",
    "                regularizer=self.beta_regularizer,\n",
    "                constraint=self.beta_constraint,\n",
    "                name='beta',\n",
    "            )\n",
    "        super(LayerNormalization, self).build(input_shape)\n",
    "    \n",
    "    def call(self, inouts, training=None):\n",
    "        mean = K.mean(inputs, axis=-1, keepdims=Ture) # 均值\n",
    "        variance = K.mean(K.square(inputs-mean), axis=-1, keepdims=True) # 求方差\n",
    "        std = K.sqrt(variance + self.epsilon) # 标准差\n",
    "        outputs = (inputs - mean) / std  # 输出\n",
    "        if self.scale:\n",
    "            output *= self.gamma  # 缩放\n",
    "        if self.center:\n",
    "            output += self.beta  # 偏移\n",
    "        return outputs\n",
    "        "
   ]
  },
  {
   "cell_type": "code",
   "execution_count": 7,
   "metadata": {},
   "outputs": [
    {
     "data": {
      "text/plain": [
       "1e-07"
      ]
     },
     "execution_count": 7,
     "metadata": {},
     "output_type": "execute_result"
    }
   ],
   "source": [
    "# K.epsilon() = 1e-07\n",
    "K.epsilon()"
   ]
  },
  {
   "cell_type": "code",
   "execution_count": 34,
   "metadata": {},
   "outputs": [
    {
     "data": {
      "text/plain": [
       "<tf.Tensor: id=145, shape=(2, 2, 1), dtype=int32, numpy=\n",
       "array([[[1],\n",
       "        [3]],\n",
       "\n",
       "       [[5],\n",
       "        [7]]], dtype=int32)>"
      ]
     },
     "execution_count": 34,
     "metadata": {},
     "output_type": "execute_result"
    }
   ],
   "source": [
    "import tensorflow as tf\n",
    "\n",
    "# 平均值\n",
    "\n",
    "a = [\n",
    "    [\n",
    "        [1, 2],\n",
    "        [3, 4]\n",
    "    ],\n",
    "    [\n",
    "        [5, 6],\n",
    "        [7, 8]\n",
    "    ]\n",
    "]\n",
    "\n",
    "x = tf.constant(a) \n",
    "\n",
    "\"\"\"\n",
    "[[[1],\n",
    "  [3]],\n",
    " [[5],\n",
    "  [7]]]\n",
    "\"\"\"\n",
    "K.mean(x, -1, keepdims=True)"
   ]
  },
  {
   "cell_type": "code",
   "execution_count": null,
   "metadata": {},
   "outputs": [],
   "source": []
  }
 ],
 "metadata": {
  "kernelspec": {
   "display_name": "Python 3",
   "language": "python",
   "name": "python3"
  },
  "language_info": {
   "codemirror_mode": {
    "name": "ipython",
    "version": 3
   },
   "file_extension": ".py",
   "mimetype": "text/x-python",
   "name": "python",
   "nbconvert_exporter": "python",
   "pygments_lexer": "ipython3",
   "version": "3.7.0"
  }
 },
 "nbformat": 4,
 "nbformat_minor": 2
}
