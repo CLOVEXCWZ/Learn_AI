{
 "cells": [
  {
   "cell_type": "markdown",
   "metadata": {},
   "source": [
    "# Keras 系统 Flatten 摊平层"
   ]
  },
  {
   "cell_type": "code",
   "execution_count": 4,
   "metadata": {},
   "outputs": [],
   "source": [
    "from keras import backend as K\n",
    "from keras.engine.topology import Layer\n",
    " \n",
    "from keras.engine.base_layer import InputSpec\n",
    "\n",
    "import numpy as np\n",
    "\n",
    "\n",
    "\n",
    "class Flatten(Layer): \n",
    "    \n",
    "    def __init__(self, data_format=None, **kwargs):\n",
    "        super(Flatten, self).__init__(**kwargs)\n",
    "        self.input_spec = InputSpec(min_ndim=3)\n",
    "        self.data_format = K.normalize_data_format(data_format)\n",
    "        \n",
    "    def compute_output_shape(self, input_shape):\n",
    "        if not all(input_shape[1:]):\n",
    "            raise ValueError('The shape of the input to \"Flatten\" '\n",
    "                             'is not fully defined '\n",
    "                             '(got ' + str(input_shape[1:]) + '). '\n",
    "                             'Make sure to pass a complete \"input_shape\" '\n",
    "                             'or \"batch_input_shape\" argument to the first '\n",
    "                             'layer in your model.')\n",
    "        return (input_shape[0], np.prod(input_shape[1:]))\n",
    "    \n",
    "    def call(self, inputs):\n",
    "        if self.data_format == 'channels_first':\n",
    "            # Ensure works for any dim\n",
    "            permutation = [0]\n",
    "            permutation.extend([i for i in\n",
    "                                range(2, K.ndim(inputs))])\n",
    "            permutation.append(1)\n",
    "            inputs = K.permute_dimensions(inputs, permutation)\n",
    "\n",
    "        return K.batch_flatten(inputs)\n",
    "    \n",
    "    def get_config(self):\n",
    "        config = {'data_format':self.data_format}\n",
    "        base_config = super(Flatten, self).get_config()\n",
    "        return dict(list(base_config.items()) + list(config.items()))"
   ]
  },
  {
   "cell_type": "code",
   "execution_count": 5,
   "metadata": {},
   "outputs": [
    {
     "name": "stdout",
     "output_type": "stream",
     "text": [
      "Model: \"sequential_2\"\n",
      "_________________________________________________________________\n",
      "Layer (type)                 Output Shape              Param #   \n",
      "=================================================================\n",
      "conv2d_2 (Conv2D)            (None, 3, 32, 64)         18496     \n",
      "_________________________________________________________________\n",
      "flatten_2 (Flatten)          (None, 6144)              0         \n",
      "=================================================================\n",
      "Total params: 18,496\n",
      "Trainable params: 18,496\n",
      "Non-trainable params: 0\n",
      "_________________________________________________________________\n"
     ]
    }
   ],
   "source": [
    "from keras.models import Sequential\n",
    "from keras import layers\n",
    "\n",
    "model = Sequential()\n",
    "model.add(layers.Conv2D(64, (3, 3), input_shape=(3, 32, 32), padding='same',))\n",
    "# now: model.output_shape == (None, 64, 32, 32)\n",
    "model.add(Flatten())\n",
    "# now: model.output_shape == (None, 65536)\n",
    "model.summary()\n",
    "    "
   ]
  },
  {
   "cell_type": "code",
   "execution_count": null,
   "metadata": {},
   "outputs": [],
   "source": []
  }
 ],
 "metadata": {
  "kernelspec": {
   "display_name": "Python 3",
   "language": "python",
   "name": "python3"
  },
  "language_info": {
   "codemirror_mode": {
    "name": "ipython",
    "version": 3
   },
   "file_extension": ".py",
   "mimetype": "text/x-python",
   "name": "python",
   "nbconvert_exporter": "python",
   "pygments_lexer": "ipython3",
   "version": "3.7.0"
  }
 },
 "nbformat": 4,
 "nbformat_minor": 2
}
