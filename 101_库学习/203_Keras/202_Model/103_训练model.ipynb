{
 "cells": [
  {
   "cell_type": "markdown",
   "metadata": {},
   "source": [
    "# 编译 Model\n",
    "\n",
    "- fit\n",
    "- fit_generator\n",
    "- train_on_batch"
   ]
  },
  {
   "cell_type": "markdown",
   "metadata": {},
   "source": [
    "# fit"
   ]
  },
  {
   "cell_type": "code",
   "execution_count": 11,
   "metadata": {},
   "outputs": [
    {
     "name": "stdout",
     "output_type": "stream",
     "text": [
      "Train on 1000 samples, validate on 200 samples\n",
      "Epoch 1/1\n",
      "1000/1000 [==============================] - 0s 473us/step - loss: 2.3798 - accuracy: 0.1050 - val_loss: 2.3344 - val_accuracy: 0.1300\n"
     ]
    },
    {
     "data": {
      "text/plain": [
       "<keras.callbacks.callbacks.History at 0x136067fd0>"
      ]
     },
     "execution_count": 11,
     "metadata": {},
     "output_type": "execute_result"
    }
   ],
   "source": [
    "from keras.layers import Input, Dense\n",
    "from keras.models import Model\n",
    "\n",
    "# this returen a tensor\n",
    "inputs = Input(shape=(784,))\n",
    "x = Dense(64, activation='relu')(inputs)\n",
    "x = Dense(64, activation='relu')(x)\n",
    "outputs = Dense(10, activation='softmax')(x)\n",
    "\n",
    "model = Model(inputs=inputs, outputs=outputs)\n",
    "\n",
    "model.name = \"CL-Dense\"\n",
    "\n",
    "model.compile(loss='categorical_crossentropy',\n",
    "             optimizer='sgd', metrics=['accuracy'])\n",
    "\n",
    "# model.summary()\n",
    "\n",
    "import numpy as np\n",
    "from keras.utils import np_utils\n",
    "\n",
    "train_data = np.random.random((1000, 784))\n",
    "train_label = np.random.randint(0, 10, (1000,))\n",
    "test_data = np.random.random((200, 784))\n",
    "test_label = np.random.randint(0, 10, (200,)) \n",
    "\n",
    "test_label = np_utils.to_categorical(test_label, num_classes=10)\n",
    "train_label = np_utils.to_categorical(train_label, num_classes=10)\n",
    "\n",
    "model.fit(x=train_data, \n",
    "          y=train_label, \n",
    "          batch_size=32,\n",
    "          epochs=1,\n",
    "          validation_data=(test_data, test_label))"
   ]
  },
  {
   "cell_type": "markdown",
   "metadata": {},
   "source": [
    "# fit_generator"
   ]
  },
  {
   "cell_type": "code",
   "execution_count": 20,
   "metadata": {},
   "outputs": [
    {
     "name": "stdout",
     "output_type": "stream",
     "text": [
      "Epoch 1/2\n",
      "10/10 [==============================] - 0s 19ms/step - loss: 2.3859 - accuracy: 0.1063 - val_loss: 2.3899 - val_accuracy: 0.0625\n",
      "Epoch 2/2\n",
      "10/10 [==============================] - 0s 5ms/step - loss: 2.3420 - accuracy: 0.0938 - val_loss: 2.3768 - val_accuracy: 0.0312\n"
     ]
    },
    {
     "data": {
      "text/plain": [
       "<keras.callbacks.callbacks.History at 0x13af41278>"
      ]
     },
     "execution_count": 20,
     "metadata": {},
     "output_type": "execute_result"
    }
   ],
   "source": [
    "from keras.layers import Input, Dense\n",
    "from keras.models import Model\n",
    "\n",
    "# this returen a tensor\n",
    "inputs = Input(shape=(784,))\n",
    "x = Dense(64, activation='relu')(inputs)\n",
    "x = Dense(64, activation='relu')(x)\n",
    "outputs = Dense(10, activation='softmax')(x)\n",
    "\n",
    "model = Model(inputs=inputs, outputs=outputs)\n",
    "\n",
    "model.name = \"CL-Dense\"\n",
    "\n",
    "model.compile(loss='categorical_crossentropy',\n",
    "             optimizer='sgd', metrics=['accuracy'])\n",
    "\n",
    "# model.summary()\n",
    "\n",
    "import numpy as np\n",
    "from keras.utils import np_utils\n",
    "\n",
    "def get_generate(num=1000, batch_size=32):\n",
    "    num_batch = 10000//32\n",
    "    for _ in range(num_batch):\n",
    "        data = np.random.random((batch_size, 784))\n",
    "        label = np.random.randint(0, 10, (batch_size,))\n",
    "        label = np_utils.to_categorical(label, num_classes=10)\n",
    "        yield (data, label) \n",
    "\n",
    "        \n",
    "v_data = np.random.random((32, 784))\n",
    "v_label = np.random.randint(0, 10, (32,))\n",
    "v_label = np_utils.to_categorical(v_label, num_classes=10)\n",
    "        \n",
    "model.fit_generator(get_generate(),\n",
    "                    steps_per_epoch=10, \n",
    "                    epochs=2, \n",
    "                    max_queue_size=1,\n",
    "                    validation_data=(v_data, v_label)) "
   ]
  },
  {
   "cell_type": "markdown",
   "metadata": {},
   "source": [
    "# train_on_batch"
   ]
  },
  {
   "cell_type": "code",
   "execution_count": 23,
   "metadata": {},
   "outputs": [
    {
     "name": "stdout",
     "output_type": "stream",
     "text": [
      "loss: [2.3731208, 0.09375]\n",
      "loss: [2.3153188, 0.125]\n",
      "loss: [2.291349, 0.125]\n",
      "loss: [2.2989745, 0.0625]\n",
      "loss: [2.3034508, 0.1875]\n",
      "loss: [2.3087802, 0.03125]\n",
      "loss: [2.303601, 0.09375]\n",
      "loss: [2.2984133, 0.09375]\n",
      "loss: [2.3190002, 0.03125]\n",
      "loss: [2.326257, 0.0]\n",
      "----Testing----\n",
      "32/32 [==============================] - 0s 1ms/step\n",
      "loss: [2.2981529235839844, 0.125]\n"
     ]
    }
   ],
   "source": [
    "from keras.layers import Input, Dense\n",
    "from keras.models import Model\n",
    "\n",
    "# this returen a tensor\n",
    "inputs = Input(shape=(784,))\n",
    "x = Dense(64, activation='relu')(inputs)\n",
    "x = Dense(64, activation='relu')(x)\n",
    "outputs = Dense(10, activation='softmax')(x)\n",
    "\n",
    "model = Model(inputs=inputs, outputs=outputs)\n",
    "\n",
    "model.name = \"CL-Dense\"\n",
    "\n",
    "model.compile(loss='categorical_crossentropy',\n",
    "             optimizer='sgd', metrics=['accuracy'])\n",
    "\n",
    "# model.summary()\n",
    "\n",
    "import numpy as np\n",
    "from keras.utils import np_utils\n",
    "\n",
    "for n_b in range(1000):\n",
    "    data = np.random.random((32, 784))\n",
    "    label = np.random.randint(0, 10, (32,))\n",
    "    label = np_utils.to_categorical(label, num_classes=10)\n",
    "    cost = model.train_on_batch(data, label)\n",
    "    if n_b % 100 == 0:\n",
    "        print(f'loss: {cost}')\n",
    "    \n",
    "print('----Testing----' ) \n",
    "        \n",
    "v_data = np.random.random((32, 784))\n",
    "v_label = np.random.randint(0, 10, (32,))\n",
    "v_label = np_utils.to_categorical(v_label, num_classes=10)\n",
    "cost = model.evaluate(v_data, v_label, batch_size = 32) \n",
    "print(f'loss: {cost}')"
   ]
  },
  {
   "cell_type": "code",
   "execution_count": null,
   "metadata": {},
   "outputs": [],
   "source": []
  }
 ],
 "metadata": {
  "kernelspec": {
   "display_name": "Python 3",
   "language": "python",
   "name": "python3"
  },
  "language_info": {
   "codemirror_mode": {
    "name": "ipython",
    "version": 3
   },
   "file_extension": ".py",
   "mimetype": "text/x-python",
   "name": "python",
   "nbconvert_exporter": "python",
   "pygments_lexer": "ipython3",
   "version": "3.7.0"
  }
 },
 "nbformat": 4,
 "nbformat_minor": 2
}
