{
 "cells": [
  {
   "cell_type": "code",
   "execution_count": 17,
   "metadata": {},
   "outputs": [
    {
     "name": "stdout",
     "output_type": "stream",
     "text": [
      "Model: \"D-E\"\n",
      "_________________________________________________________________\n",
      "Layer (type)                 Output Shape              Param #   \n",
      "=================================================================\n",
      "Input (InputLayer)           (None, 784)               0         \n",
      "_________________________________________________________________\n",
      "D-1 (Dense)                  (None, 64)                50240     \n",
      "_________________________________________________________________\n",
      "D-2 (Dense)                  (None, 64)                4160      \n",
      "_________________________________________________________________\n",
      "D-3 (Dense)                  (None, 10)                650       \n",
      "=================================================================\n",
      "Total params: 55,050\n",
      "Trainable params: 55,050\n",
      "Non-trainable params: 0\n",
      "_________________________________________________________________\n"
     ]
    }
   ],
   "source": [
    "from keras.layers import Input, Dense\n",
    "from keras.models import Model\n",
    "\n",
    "# this returen a tensor\n",
    "inputs = Input(shape=(784,), name=\"Input\")\n",
    "x = Dense(64, activation='relu', name=\"D-1\")(inputs)\n",
    "x = Dense(64, activation='relu', name=\"D-2\")(x)\n",
    "outputs = Dense(10, activation='softmax', name=\"D-3\")(x)\n",
    "model = Model(inputs=inputs, outputs=outputs)\n",
    "model.name = \"D-E\"\n",
    "model.summary()"
   ]
  },
  {
   "cell_type": "code",
   "execution_count": 18,
   "metadata": {},
   "outputs": [
    {
     "name": "stdout",
     "output_type": "stream",
     "text": [
      "layer name: Input\n",
      "layer name: D-1\n",
      "layer name: D-2\n",
      "layer name: D-3\n"
     ]
    }
   ],
   "source": [
    "for layer in model.layers:\n",
    "    print(f\"layer name: {layer.name}\")"
   ]
  },
  {
   "cell_type": "markdown",
   "metadata": {},
   "source": [
    "# model.get_layer(self，name=None，index=None)"
   ]
  },
  {
   "cell_type": "code",
   "execution_count": 19,
   "metadata": {},
   "outputs": [
    {
     "name": "stdout",
     "output_type": "stream",
     "text": [
      "Model: \"model_7\"\n",
      "_________________________________________________________________\n",
      "Layer (type)                 Output Shape              Param #   \n",
      "=================================================================\n",
      "Input (InputLayer)           (None, 784)               0         \n",
      "_________________________________________________________________\n",
      "D-1 (Dense)                  (None, 64)                50240     \n",
      "_________________________________________________________________\n",
      "D-2 (Dense)                  (None, 64)                4160      \n",
      "=================================================================\n",
      "Total params: 54,400\n",
      "Trainable params: 54,400\n",
      "Non-trainable params: 0\n",
      "_________________________________________________________________\n"
     ]
    }
   ],
   "source": [
    "# 重先 整合 整个模型\n",
    "\n",
    "i_i = model.get_layer(name=\"Input\").input\n",
    "d1_o = model.get_layer(name=\"D-1\").output\n",
    "d2_o = model.get_layer(name=\"D-2\").output\n",
    "d3_o = model.get_layer(name=\"D-3\").output\n",
    "\n",
    "model_ = Model(inputs=i_i, outputs=d2_o)\n",
    "model_.summary()"
   ]
  },
  {
   "cell_type": "code",
   "execution_count": 21,
   "metadata": {},
   "outputs": [
    {
     "name": "stdout",
     "output_type": "stream",
     "text": [
      "Model: \"model_9\"\n",
      "_________________________________________________________________\n",
      "Layer (type)                 Output Shape              Param #   \n",
      "=================================================================\n",
      "Input (InputLayer)           (None, 784)               0         \n",
      "_________________________________________________________________\n",
      "D-1 (Dense)                  (None, 64)                50240     \n",
      "_________________________________________________________________\n",
      "D-2 (Dense)                  (None, 64)                4160      \n",
      "_________________________________________________________________\n",
      "D-3 (Dense)                  (None, 20)                1300      \n",
      "=================================================================\n",
      "Total params: 55,700\n",
      "Trainable params: 55,700\n",
      "Non-trainable params: 0\n",
      "_________________________________________________________________\n"
     ]
    }
   ],
   "source": [
    "# 重先 整合 整个模型\n",
    "\n",
    "i_i = model.get_layer(name=\"Input\").input \n",
    "d2_o = model.get_layer(name=\"D-2\").output \n",
    "d3_o = Dense(20, activation='softmax', name=\"D-3\")(d2_o)\n",
    "\n",
    "model_2 = Model(inputs=i_i, outputs=d3_o)\n",
    "model_2.summary()"
   ]
  },
  {
   "cell_type": "code",
   "execution_count": null,
   "metadata": {},
   "outputs": [],
   "source": []
  }
 ],
 "metadata": {
  "kernelspec": {
   "display_name": "Python 3",
   "language": "python",
   "name": "python3"
  },
  "language_info": {
   "codemirror_mode": {
    "name": "ipython",
    "version": 3
   },
   "file_extension": ".py",
   "mimetype": "text/x-python",
   "name": "python",
   "nbconvert_exporter": "python",
   "pygments_lexer": "ipython3",
   "version": "3.7.0"
  }
 },
 "nbformat": 4,
 "nbformat_minor": 2
}
