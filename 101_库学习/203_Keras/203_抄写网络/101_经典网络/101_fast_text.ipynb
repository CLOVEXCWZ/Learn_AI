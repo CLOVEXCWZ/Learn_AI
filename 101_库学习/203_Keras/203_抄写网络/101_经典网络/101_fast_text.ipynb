{
 "cells": [
  {
   "cell_type": "markdown",
   "metadata": {},
   "source": [
    "# Fast-text\n",
    "\n",
    "- 数据处理方面进行n-gram\n",
    "- 进行embedding操作\n",
    "- 进行评价池化操作\n",
    "- 全连接进行分类处理"
   ]
  },
  {
   "cell_type": "code",
   "execution_count": 15,
   "metadata": {},
   "outputs": [
    {
     "name": "stdout",
     "output_type": "stream",
     "text": [
      "Model: \"Fast-Text\"\n",
      "_________________________________________________________________\n",
      "Layer (type)                 Output Shape              Param #   \n",
      "=================================================================\n",
      "Text_index (InputLayer)      (None, 30)                0         \n",
      "_________________________________________________________________\n",
      "Embedding (Embedding)        (None, 30, 128)           640000    \n",
      "_________________________________________________________________\n",
      "avg_pool (GlobalAveragePooli (None, 128)               0         \n",
      "_________________________________________________________________\n",
      "Output (Dense)               (None, 10)                1290      \n",
      "=================================================================\n",
      "Total params: 641,290\n",
      "Trainable params: 641,290\n",
      "Non-trainable params: 0\n",
      "_________________________________________________________________\n"
     ]
    }
   ],
   "source": [
    "from keras.models import Model\n",
    "from keras.layers import Dense, Embedding, GlobalAveragePooling1D, Input\n",
    "\n",
    "max_len = 30 # 句子最大长度\n",
    "max_feature = 5000 # vocab_size\n",
    "embed_dim = 128  \n",
    "n_class = 10  # 类别数量\n",
    "\n",
    "inputs = Input(shape=(max_len,), name=\"Text_index\")\n",
    "# 进行embedding操作\n",
    "embedding = Embedding(input_dim=max_feature, \n",
    "                      output_dim=embed_dim, \n",
    "                      input_length=max_len,\n",
    "                      name=\"Embedding\")(inputs)\n",
    "# 进行平均池化\n",
    "globavgpool = GlobalAveragePooling1D(name=\"avg_pool\")(embedding)\n",
    "# 全连接进行分类处理\n",
    "outputs = Dense(units=n_class, \n",
    "                activation='sigmoid',\n",
    "                name=\"Output\")(globavgpool)\n",
    "# 进行分类处理\n",
    "model = Model(inputs=inputs, outputs=outputs, name=\"Fast-Text\")\n",
    "model.summary()"
   ]
  },
  {
   "cell_type": "code",
   "execution_count": null,
   "metadata": {},
   "outputs": [],
   "source": []
  },
  {
   "cell_type": "code",
   "execution_count": null,
   "metadata": {},
   "outputs": [],
   "source": []
  }
 ],
 "metadata": {
  "kernelspec": {
   "display_name": "Python 3",
   "language": "python",
   "name": "python3"
  },
  "language_info": {
   "codemirror_mode": {
    "name": "ipython",
    "version": 3
   },
   "file_extension": ".py",
   "mimetype": "text/x-python",
   "name": "python",
   "nbconvert_exporter": "python",
   "pygments_lexer": "ipython3",
   "version": "3.7.0"
  }
 },
 "nbformat": 4,
 "nbformat_minor": 2
}
