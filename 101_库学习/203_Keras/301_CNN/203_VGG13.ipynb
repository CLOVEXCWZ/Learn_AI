{
 "cells": [
  {
   "cell_type": "markdown",
   "metadata": {},
   "source": []
  },
  {
   "cell_type": "code",
   "execution_count": 5,
   "metadata": {},
   "outputs": [],
   "source": [
    "#coding=utf-8\n",
    "from keras.models import Sequential\n",
    "from keras.layers import Dense,Flatten,Dropout\n",
    "from keras.layers.convolutional import Conv2D,MaxPooling2D\n",
    "import numpy as np\n",
    "seed = 7\n",
    "np.random.seed(seed)"
   ]
  },
  {
   "cell_type": "code",
   "execution_count": 6,
   "metadata": {},
   "outputs": [
    {
     "name": "stdout",
     "output_type": "stream",
     "text": [
      "_________________________________________________________________\n",
      "Layer (type)                 Output Shape              Param #   \n",
      "=================================================================\n",
      "cov1 (Conv2D)                (None, 224, 224, 64)      1792      \n",
      "_________________________________________________________________\n",
      "cov2 (Conv2D)                (None, 224, 224, 64)      36928     \n",
      "_________________________________________________________________\n",
      "pool1 (MaxPooling2D)         (None, 112, 112, 64)      0         \n",
      "_________________________________________________________________\n",
      "cov3 (Conv2D)                (None, 112, 112, 128)     49280     \n",
      "_________________________________________________________________\n",
      "cov4 (Conv2D)                (None, 112, 112, 128)     147584    \n",
      "_________________________________________________________________\n",
      "pool2 (MaxPooling2D)         (None, 56, 56, 128)       0         \n",
      "_________________________________________________________________\n",
      "cov5 (Conv2D)                (None, 56, 56, 256)       295168    \n",
      "_________________________________________________________________\n",
      "cov6 (Conv2D)                (None, 56, 56, 256)       590080    \n",
      "_________________________________________________________________\n",
      "pool3 (MaxPooling2D)         (None, 28, 28, 256)       0         \n",
      "_________________________________________________________________\n",
      "cov7 (Conv2D)                (None, 28, 28, 512)       1180160   \n",
      "_________________________________________________________________\n",
      "cov8 (Conv2D)                (None, 28, 28, 512)       2359808   \n",
      "_________________________________________________________________\n",
      "pool4 (MaxPooling2D)         (None, 14, 14, 512)       0         \n",
      "_________________________________________________________________\n",
      "cov9 (Conv2D)                (None, 14, 14, 512)       2359808   \n",
      "_________________________________________________________________\n",
      "cov10 (Conv2D)               (None, 14, 14, 512)       2359808   \n",
      "_________________________________________________________________\n",
      "pool5 (MaxPooling2D)         (None, 7, 7, 512)         0         \n",
      "_________________________________________________________________\n",
      "Flat1 (Flatten)              (None, 25088)             0         \n",
      "_________________________________________________________________\n",
      "Dense1 (Dense)               (None, 4096)              102764544 \n",
      "_________________________________________________________________\n",
      "Dropout1 (Dropout)           (None, 4096)              0         \n",
      "_________________________________________________________________\n",
      "Dense2 (Dense)               (None, 4096)              16781312  \n",
      "_________________________________________________________________\n",
      "Dropout2 (Dropout)           (None, 4096)              0         \n",
      "_________________________________________________________________\n",
      "Dense3 (Dense)               (None, 1000)              4097000   \n",
      "=================================================================\n",
      "Total params: 133,023,272\n",
      "Trainable params: 133,023,272\n",
      "Non-trainable params: 0\n",
      "_________________________________________________________________\n"
     ]
    }
   ],
   "source": [
    "model = Sequential()\n",
    "model.add(Conv2D(64,(3,3),strides=(1,1),input_shape=(224,224,3),padding='same',activation='relu',kernel_initializer='uniform', name=\"cov1\"))\n",
    "model.add(Conv2D(64,(3,3),strides=(1,1),padding='same',activation='relu',kernel_initializer='uniform', name=\"cov2\"))\n",
    "model.add(MaxPooling2D(pool_size=(2,2), name=\"pool1\"))\n",
    "model.add(Conv2D(128,(3,2),strides=(1,1),padding='same',activation='relu',kernel_initializer='uniform', name=\"cov3\"))\n",
    "model.add(Conv2D(128,(3,3),strides=(1,1),padding='same',activation='relu',kernel_initializer='uniform', name=\"cov4\"))\n",
    "model.add(MaxPooling2D(pool_size=(2,2), name=\"pool2\"))\n",
    "model.add(Conv2D(256,(3,3),strides=(1,1),padding='same',activation='relu',kernel_initializer='uniform', name=\"cov5\"))\n",
    "model.add(Conv2D(256,(3,3),strides=(1,1),padding='same',activation='relu',kernel_initializer='uniform', name=\"cov6\"))\n",
    "model.add(MaxPooling2D(pool_size=(2,2), name=\"pool3\"))\n",
    "model.add(Conv2D(512,(3,3),strides=(1,1),padding='same',activation='relu',kernel_initializer='uniform', name=\"cov7\"))\n",
    "model.add(Conv2D(512,(3,3),strides=(1,1),padding='same',activation='relu',kernel_initializer='uniform', name=\"cov8\"))\n",
    "model.add(MaxPooling2D(pool_size=(2,2), name=\"pool4\"))\n",
    "model.add(Conv2D(512,(3,3),strides=(1,1),padding='same',activation='relu',kernel_initializer='uniform', name=\"cov9\"))\n",
    "model.add(Conv2D(512,(3,3),strides=(1,1),padding='same',activation='relu',kernel_initializer='uniform', name=\"cov10\"))\n",
    "model.add(MaxPooling2D(pool_size=(2,2), name=\"pool5\"))\n",
    "model.add(Flatten(name=\"Flat1\"))\n",
    "model.add(Dense(4096,activation='relu', name=\"Dense1\"))\n",
    "model.add(Dropout(0.5, name=\"Dropout1\"))\n",
    "model.add(Dense(4096,activation='relu', name=\"Dense2\"))\n",
    "model.add(Dropout(0.5, name=\"Dropout2\"))\n",
    "model.add(Dense(1000,activation='softmax', name=\"Dense3\"))\n",
    "model.compile(loss='categorical_crossentropy',optimizer='sgd',metrics=['accuracy'])\n",
    "model.summary()\n",
    "\n",
    "# 把模型保存为图片\n",
    "from keras.utils import plot_model\n",
    "plot_model(model,to_file='model_png/203VGG13.png', show_layer_names=True, show_shapes=True)"
   ]
  },
  {
   "cell_type": "code",
   "execution_count": null,
   "metadata": {},
   "outputs": [],
   "source": []
  }
 ],
 "metadata": {
  "kernelspec": {
   "display_name": "Python 3",
   "language": "python",
   "name": "python3"
  },
  "language_info": {
   "codemirror_mode": {
    "name": "ipython",
    "version": 3
   },
   "file_extension": ".py",
   "mimetype": "text/x-python",
   "name": "python",
   "nbconvert_exporter": "python",
   "pygments_lexer": "ipython3",
   "version": "3.7.0"
  }
 },
 "nbformat": 4,
 "nbformat_minor": 2
}
