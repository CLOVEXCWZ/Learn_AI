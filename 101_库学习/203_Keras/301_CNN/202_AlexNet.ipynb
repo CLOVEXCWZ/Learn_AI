{
 "cells": [
  {
   "cell_type": "code",
   "execution_count": 5,
   "metadata": {},
   "outputs": [],
   "source": [
    "#coding=utf-8\n",
    "from keras.models import Sequential\n",
    "from keras.layers import Dense,Flatten,Dropout\n",
    "from keras.layers.convolutional import Conv2D,MaxPooling2D\n",
    "from keras.utils.np_utils import to_categorical\n",
    "import numpy as np\n",
    "seed = 7\n",
    "np.random.seed(seed)"
   ]
  },
  {
   "cell_type": "code",
   "execution_count": 6,
   "metadata": {},
   "outputs": [
    {
     "name": "stdout",
     "output_type": "stream",
     "text": [
      "_________________________________________________________________\n",
      "Layer (type)                 Output Shape              Param #   \n",
      "=================================================================\n",
      "conv1 (Conv2D)               (None, 55, 55, 96)        34944     \n",
      "_________________________________________________________________\n",
      "pool1 (MaxPooling2D)         (None, 27, 27, 96)        0         \n",
      "_________________________________________________________________\n",
      "conv2 (Conv2D)               (None, 27, 27, 256)       614656    \n",
      "_________________________________________________________________\n",
      "pool2 (MaxPooling2D)         (None, 13, 13, 256)       0         \n",
      "_________________________________________________________________\n",
      "cov3 (Conv2D)                (None, 13, 13, 384)       885120    \n",
      "_________________________________________________________________\n",
      "cov4 (Conv2D)                (None, 13, 13, 384)       1327488   \n",
      "_________________________________________________________________\n",
      "cov5 (Conv2D)                (None, 13, 13, 256)       884992    \n",
      "_________________________________________________________________\n",
      "pool3 (MaxPooling2D)         (None, 6, 6, 256)         0         \n",
      "_________________________________________________________________\n",
      "Flat_Out_9216 (Flatten)      (None, 9216)              0         \n",
      "_________________________________________________________________\n",
      "Flat1 (Dense)                (None, 4096)              37752832  \n",
      "_________________________________________________________________\n",
      "dropout_3 (Dropout)          (None, 4096)              0         \n",
      "_________________________________________________________________\n",
      "Dense1 (Dense)               (None, 4096)              16781312  \n",
      "_________________________________________________________________\n",
      "dropout_4 (Dropout)          (None, 4096)              0         \n",
      "_________________________________________________________________\n",
      "Dense2 (Dense)               (None, 1000)              4097000   \n",
      "=================================================================\n",
      "Total params: 62,378,344\n",
      "Trainable params: 62,378,344\n",
      "Non-trainable params: 0\n",
      "_________________________________________________________________\n"
     ]
    }
   ],
   "source": [
    "model = Sequential()\n",
    "model.add(Conv2D(96,(11,11),strides=(4,4),input_shape=(227,227,3),padding='valid',activation='relu',kernel_initializer='uniform', name=\"conv1\"))\n",
    "model.add(MaxPooling2D(pool_size=(3,3),strides=(2,2), name=\"pool1\"))\n",
    "model.add(Conv2D(256,(5,5),strides=(1,1),padding='same',activation='relu',kernel_initializer='uniform', name=\"conv2\"))\n",
    "model.add(MaxPooling2D(pool_size=(3,3),strides=(2,2), name=\"pool2\"))\n",
    "model.add(Conv2D(384,(3,3),strides=(1,1),padding='same',activation='relu',kernel_initializer='uniform', name=\"cov3\"))\n",
    "model.add(Conv2D(384,(3,3),strides=(1,1),padding='same',activation='relu',kernel_initializer='uniform', name=\"cov4\"))\n",
    "model.add(Conv2D(256,(3,3),strides=(1,1),padding='same',activation='relu',kernel_initializer='uniform', name=\"cov5\"))\n",
    "model.add(MaxPooling2D(pool_size=(3,3),strides=(2,2), name=\"pool3\"))\n",
    "model.add(Flatten(name=\"Flat_Out_9216\"))\n",
    "model.add(Dense(4096,activation='relu', name=\"Flat1\"))\n",
    "model.add(Dropout(0.5))\n",
    "model.add(Dense(4096,activation='relu', name=\"Dense1\"))\n",
    "model.add(Dropout(0.5))\n",
    "model.add(Dense(1000,activation='softmax', name=\"Dense2\"))\n",
    "model.compile(loss='categorical_crossentropy',optimizer='sgd',metrics=['accuracy'])\n",
    "model.summary()\n",
    "\n",
    "# 把模型保存为图片\n",
    "from keras.utils import plot_model\n",
    "plot_model(model,to_file='model_png/202AlexNet.png', show_layer_names=True, show_shapes=True)"
   ]
  },
  {
   "cell_type": "code",
   "execution_count": null,
   "metadata": {},
   "outputs": [],
   "source": []
  }
 ],
 "metadata": {
  "kernelspec": {
   "display_name": "Python 3",
   "language": "python",
   "name": "python3"
  },
  "language_info": {
   "codemirror_mode": {
    "name": "ipython",
    "version": 3
   },
   "file_extension": ".py",
   "mimetype": "text/x-python",
   "name": "python",
   "nbconvert_exporter": "python",
   "pygments_lexer": "ipython3",
   "version": "3.7.0"
  }
 },
 "nbformat": 4,
 "nbformat_minor": 2
}
