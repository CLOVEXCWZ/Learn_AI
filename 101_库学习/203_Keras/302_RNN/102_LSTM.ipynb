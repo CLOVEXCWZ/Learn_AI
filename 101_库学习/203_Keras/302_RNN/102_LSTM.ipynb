{
 "cells": [
  {
   "cell_type": "code",
   "execution_count": 13,
   "metadata": {},
   "outputs": [],
   "source": [
    "from keras.models import Model, Sequential\n",
    "from keras.layers import SimpleRNN, Activation, Dense, Embedding, Input, LSTM"
   ]
  },
  {
   "cell_type": "code",
   "execution_count": 18,
   "metadata": {},
   "outputs": [
    {
     "name": "stdout",
     "output_type": "stream",
     "text": [
      "_________________________________________________________________\n",
      "Layer (type)                 Output Shape              Param #   \n",
      "=================================================================\n",
      "embedding_8 (Embedding)      (None, 50, 300)           1500300   \n",
      "_________________________________________________________________\n",
      "lstm_5 (LSTM)                (None, 128)               219648    \n",
      "_________________________________________________________________\n",
      "dense_3 (Dense)              (None, 1)                 129       \n",
      "=================================================================\n",
      "Total params: 1,720,077\n",
      "Trainable params: 219,777\n",
      "Non-trainable params: 1,500,300\n",
      "_________________________________________________________________\n"
     ]
    }
   ],
   "source": [
    "vocab_len = 5000\n",
    "embeding_dim=300\n",
    "OUTPUT_SIZE = 10 \n",
    "\n",
    "model = Sequential() \n",
    "model.add(Embedding(vocab_len + 1, embeding_dim, input_length=50, trainable=False))\n",
    "model.add(LSTM(128))\n",
    "model.add(Dense(1)) \n",
    "model.summary()\n",
    "\n",
    "# 把模型保存为图片\n",
    "from keras.utils import plot_model\n",
    "plot_model(model,to_file='model_png/102LSTM.png', show_layer_names=True, show_shapes=True) "
   ]
  },
  {
   "cell_type": "code",
   "execution_count": null,
   "metadata": {},
   "outputs": [],
   "source": []
  },
  {
   "cell_type": "code",
   "execution_count": null,
   "metadata": {},
   "outputs": [],
   "source": []
  }
 ],
 "metadata": {
  "kernelspec": {
   "display_name": "Python 3",
   "language": "python",
   "name": "python3"
  },
  "language_info": {
   "codemirror_mode": {
    "name": "ipython",
    "version": 3
   },
   "file_extension": ".py",
   "mimetype": "text/x-python",
   "name": "python",
   "nbconvert_exporter": "python",
   "pygments_lexer": "ipython3",
   "version": "3.7.0"
  }
 },
 "nbformat": 4,
 "nbformat_minor": 2
}
