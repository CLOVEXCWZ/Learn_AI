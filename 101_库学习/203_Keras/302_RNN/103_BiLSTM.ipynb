{
 "cells": [
  {
   "cell_type": "code",
   "execution_count": 2,
   "metadata": {},
   "outputs": [
    {
     "name": "stdout",
     "output_type": "stream",
     "text": [
      "2.2.0\n",
      "0.0.2\n"
     ]
    }
   ],
   "source": [
    "from keras.models import Sequential\n",
    "from keras.layers import Bidirectional, Activation, Dense, Embedding, LSTM\n",
    "from keras_contrib.layers import CRF\n",
    "\n",
    "\n",
    "import keras\n",
    "import keras_contrib\n",
    "\n",
    "print(keras.__version__)\n",
    "print(keras_contrib.__version__)"
   ]
  },
  {
   "cell_type": "code",
   "execution_count": 3,
   "metadata": {
    "scrolled": false
   },
   "outputs": [
    {
     "name": "stdout",
     "output_type": "stream",
     "text": [
      "WARNING:tensorflow:From /Users/zhouwencheng/Desktop/Grass/101PythonEnv/envpy3.6/lib/python3.6/site-packages/keras/backend/tensorflow_backend.py:71: The name tf.get_default_graph is deprecated. Please use tf.compat.v1.get_default_graph instead.\n",
      "\n",
      "WARNING:tensorflow:From /Users/zhouwencheng/Desktop/Grass/101PythonEnv/envpy3.6/lib/python3.6/site-packages/keras/backend/tensorflow_backend.py:514: The name tf.placeholder is deprecated. Please use tf.compat.v1.placeholder instead.\n",
      "\n",
      "WARNING:tensorflow:From /Users/zhouwencheng/Desktop/Grass/101PythonEnv/envpy3.6/lib/python3.6/site-packages/keras/backend/tensorflow_backend.py:4076: The name tf.random_uniform is deprecated. Please use tf.random.uniform instead.\n",
      "\n",
      "WARNING:tensorflow:From /Users/zhouwencheng/Desktop/Grass/101PythonEnv/envpy3.6/lib/python3.6/site-packages/keras/backend/tensorflow_backend.py:2920: add_dispatch_support.<locals>.wrapper (from tensorflow.python.ops.array_ops) is deprecated and will be removed in a future version.\n",
      "Instructions for updating:\n",
      "Use tf.where in 2.0, which has the same broadcast rule as np.where\n",
      "WARNING:tensorflow:From /Users/zhouwencheng/Desktop/Grass/101PythonEnv/envpy3.6/lib/python3.6/site-packages/keras/backend/tensorflow_backend.py:130: The name tf.placeholder_with_default is deprecated. Please use tf.compat.v1.placeholder_with_default instead.\n",
      "\n",
      "_________________________________________________________________\n",
      "Layer (type)                 Output Shape              Param #   \n",
      "=================================================================\n",
      "embedding_1 (Embedding)      (None, None, 300)         1500000   \n",
      "_________________________________________________________________\n",
      "bidirectional_1 (Bidirection (None, None, 256)         439296    \n",
      "_________________________________________________________________\n",
      "crf_1 (CRF)                  (None, None, 100)         35900     \n",
      "=================================================================\n",
      "Total params: 1,975,196\n",
      "Trainable params: 1,975,196\n",
      "Non-trainable params: 0\n",
      "_________________________________________________________________\n"
     ]
    }
   ],
   "source": [
    "vocab_len=5000\n",
    "enbedding_dim=300\n",
    "BiRNN_UNITS = 256\n",
    "chunk_tags = 100\n",
    "\n",
    "model = Sequential()\n",
    "model.add(Embedding(vocab_len, enbedding_dim, mask_zero=True))  # Random embedding\n",
    "model.add(Bidirectional(LSTM(BiRNN_UNITS // 2, return_sequences=True)))\n",
    "crf = CRF(chunk_tags, sparse_target=True)\n",
    "model.add(crf)\n",
    "model.summary() \n",
    "\n",
    "# 把模型保存为图片\n",
    "# from keras.utils import plot_model\n",
    "# plot_model(model,to_file='model_png/103BiLSTM.png', show_layer_names=True, show_shapes=True) "
   ]
  },
  {
   "cell_type": "code",
   "execution_count": null,
   "metadata": {},
   "outputs": [],
   "source": []
  },
  {
   "cell_type": "code",
   "execution_count": null,
   "metadata": {},
   "outputs": [],
   "source": []
  },
  {
   "cell_type": "code",
   "execution_count": null,
   "metadata": {},
   "outputs": [],
   "source": []
  }
 ],
 "metadata": {
  "kernelspec": {
   "display_name": "Python 3",
   "language": "python",
   "name": "python3"
  },
  "language_info": {
   "codemirror_mode": {
    "name": "ipython",
    "version": 3
   },
   "file_extension": ".py",
   "mimetype": "text/x-python",
   "name": "python",
   "nbconvert_exporter": "python",
   "pygments_lexer": "ipython3",
   "version": "3.7.0"
  }
 },
 "nbformat": 4,
 "nbformat_minor": 2
}
