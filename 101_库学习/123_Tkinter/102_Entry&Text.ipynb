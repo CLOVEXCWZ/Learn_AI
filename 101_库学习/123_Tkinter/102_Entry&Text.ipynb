{
 "cells": [
  {
   "cell_type": "code",
   "execution_count": 2,
   "metadata": {},
   "outputs": [],
   "source": [
    "import tkinter as tk"
   ]
  },
  {
   "cell_type": "code",
   "execution_count": 3,
   "metadata": {},
   "outputs": [],
   "source": [
    "window = tk.Tk()\n",
    "window.title('my window')\n",
    "window.geometry('200x200')\n",
    "\n",
    "e = tk.Entry(window, show='*')\n",
    "e.pack()\n",
    "\n",
    "def insert_point():\n",
    "    var = e.get()\n",
    "    t.insert('insert', var)\n",
    "def insert_end():\n",
    "    var = e.get()\n",
    "    t.insert(2.2, var) # 第2行第2列\n",
    "    \n",
    "b1 = tk.Button(window, text='insert point', width=15, height=2, command=insert_point)\n",
    "b1.pack()\n",
    "\n",
    "b2 = tk.Button(window, text='insert end', command=insert_end)\n",
    "b2.pack()\n",
    "\n",
    "t = tk.Text(window, height=2)\n",
    "t.pack()\n",
    "\n",
    "window.mainloop()"
   ]
  },
  {
   "cell_type": "code",
   "execution_count": 1,
   "metadata": {},
   "outputs": [],
   "source": []
  },
  {
   "cell_type": "code",
   "execution_count": null,
   "metadata": {},
   "outputs": [],
   "source": []
  }
 ],
 "metadata": {
  "kernelspec": {
   "display_name": "Python 3",
   "language": "python",
   "name": "python3"
  },
  "language_info": {
   "codemirror_mode": {
    "name": "ipython",
    "version": 3
   },
   "file_extension": ".py",
   "mimetype": "text/x-python",
   "name": "python",
   "nbconvert_exporter": "python",
   "pygments_lexer": "ipython3",
   "version": "3.7.0"
  },
  "toc": {
   "base_numbering": 1,
   "nav_menu": {},
   "number_sections": true,
   "sideBar": true,
   "skip_h1_title": false,
   "title_cell": "Table of Contents",
   "title_sidebar": "Contents",
   "toc_cell": false,
   "toc_position": {},
   "toc_section_display": true,
   "toc_window_display": false
  }
 },
 "nbformat": 4,
 "nbformat_minor": 2
}
