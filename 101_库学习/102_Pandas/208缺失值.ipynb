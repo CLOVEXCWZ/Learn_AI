{
 "cells": [
  {
   "cell_type": "markdown",
   "metadata": {},
   "source": [
    "# 缺失值\n",
    "\n",
    "\n",
    "何时以及为什么数据丢失？\n",
    "\n",
    "想象一下有一个产品的在线调查。很多时候，人们不会分享与他们有关的所有信息。 很少有人分享他们的经验，但不是他们使用产品多久; 很少有人分享使用产品的时间，经验，但不是他们的个人联系信息。 因此，以某种方式或其他方式，总会有一部分数据总是会丢失，这是非常常见的现象。\n",
    "现在来看看如何处理使用Pandas的缺失值(如NA或NaN)。 \n",
    "\n",
    "- 检查缺失值\n",
    "- 缺少数据的计算\n",
    "- 清理/填充缺少数据\n",
    "  - 用标量值替换NaN\n",
    "  - 填写NA前进和后退\n",
    "  - 丢失缺少的值\n",
    "  - 替换丢失(或)通用值\n"
   ]
  },
  {
   "cell_type": "code",
   "execution_count": 2,
   "metadata": {},
   "outputs": [
    {
     "name": "stdout",
     "output_type": "stream",
     "text": [
      "        one       two     three\n",
      "a  0.046807  0.290463  0.979174\n",
      "b       NaN       NaN       NaN\n",
      "c  0.121279  2.182342  0.465830\n",
      "d       NaN       NaN       NaN\n",
      "e  0.268761  0.323568 -0.127466\n",
      "f -0.361894 -0.264720  0.665884\n",
      "g       NaN       NaN       NaN\n",
      "h  1.415022 -0.949700 -0.173139\n"
     ]
    }
   ],
   "source": [
    "import pandas as pd\n",
    "import numpy as np\n",
    "\n",
    "df = pd.DataFrame(np.random.randn(5, 3), index=['a', 'c', 'e', 'f',\n",
    "'h'],columns=['one', 'two', 'three'])\n",
    "df = df.reindex(['a', 'b', 'c', 'd', 'e', 'f', 'g', 'h'])\n",
    "print (df) "
   ]
  },
  {
   "cell_type": "markdown",
   "metadata": {},
   "source": [
    "## 1 检查缺失值\n",
    "为了更容易地检测缺失值(以及跨越不同的数组dtype)，Pandas提供了isnull()和notnull()函数，它们也是Series和DataFrame对象的方法 "
   ]
  },
  {
   "cell_type": "code",
   "execution_count": 4,
   "metadata": {},
   "outputs": [
    {
     "name": "stdout",
     "output_type": "stream",
     "text": [
      "a    False\n",
      "b     True\n",
      "c    False\n",
      "d     True\n",
      "e    False\n",
      "f    False\n",
      "g     True\n",
      "h    False\n",
      "Name: one, dtype: bool\n",
      "a     True\n",
      "b    False\n",
      "c     True\n",
      "d    False\n",
      "e     True\n",
      "f     True\n",
      "g    False\n",
      "h     True\n",
      "Name: one, dtype: bool\n"
     ]
    }
   ],
   "source": [
    "import pandas as pd\n",
    "import numpy as np \n",
    "df = pd.DataFrame(np.random.randn(5, 3), index=['a', 'c', 'e', 'f',\n",
    "'h'],columns=['one', 'two', 'three']) \n",
    "df = df.reindex(['a', 'b', 'c', 'd', 'e', 'f', 'g', 'h']) \n",
    "print (df['one'].isnull())  # 返回一个列表(布尔值的列表)\n",
    "print (df['one'].notnull()) "
   ]
  },
  {
   "cell_type": "markdown",
   "metadata": {},
   "source": [
    "## 2 缺少数据的计算\n",
    "- 在求和数据时，NA将被视为0 "
   ]
  },
  {
   "cell_type": "code",
   "execution_count": 8,
   "metadata": {},
   "outputs": [
    {
     "name": "stdout",
     "output_type": "stream",
     "text": [
      "2.903436867171946\n"
     ]
    }
   ],
   "source": [
    "import pandas as pd\n",
    "import numpy as np\n",
    "\n",
    "df = pd.DataFrame(np.random.randn(5, 3), index=['a', 'c', 'e', 'f',\n",
    "'h'],columns=['one', 'two', 'three'])\n",
    "df = df.reindex(['a', 'b', 'c', 'd', 'e', 'f', 'g', 'h'])\n",
    "print (df['one'].sum())  "
   ]
  },
  {
   "cell_type": "markdown",
   "metadata": {},
   "source": [
    "## 3 清理/填充缺少数据\n",
    "Pandas提供了各种方法来清除缺失的值。fillna()函数可以通过几种方法用非空数据“填充”NA值，在下面的章节中将学习和使用。 \n",
    "- 用标量值替换NaN\n",
    "- 填写NA前进和后退\n",
    "- 丢掉缺少的值"
   ]
  },
  {
   "cell_type": "code",
   "execution_count": 10,
   "metadata": {},
   "outputs": [
    {
     "name": "stdout",
     "output_type": "stream",
     "text": [
      "        one       two     three\n",
      "a  0.249008 -0.459125  0.333342\n",
      "b       NaN       NaN       NaN\n",
      "c -0.135275 -0.700354 -0.114933\n",
      "NaN replaced with '0':\n",
      "        one       two     three\n",
      "a  0.249008 -0.459125  0.333342\n",
      "b  0.000000  0.000000  0.000000\n",
      "c -0.135275 -0.700354 -0.114933\n"
     ]
    }
   ],
   "source": [
    "#--------------------- 用标量值替换NaN\n",
    "\n",
    "\"\"\"\n",
    "以下程序显示如何用0替换NaN\n",
    "\"\"\"\n",
    "\n",
    "import pandas as pd\n",
    "import numpy as np\n",
    "df = pd.DataFrame(np.random.randn(3, 3), index=['a', 'c', 'e'],columns=['one',\n",
    "'two', 'three'])\n",
    "df = df.reindex(['a', 'b', 'c']) \n",
    "print (df.fillna(0))  # 用0来填充缺失值"
   ]
  },
  {
   "cell_type": "code",
   "execution_count": 12,
   "metadata": {},
   "outputs": [
    {
     "name": "stdout",
     "output_type": "stream",
     "text": [
      "        one       two     three\n",
      "a  0.194399 -0.385730  0.338172\n",
      "b  0.194399 -0.385730  0.338172\n",
      "c -0.067270 -1.858202 -1.499314\n",
      "d -0.067270 -1.858202 -1.499314\n",
      "e  0.228682 -1.107757  0.323603\n",
      "f  0.469024 -0.221272  0.603823\n",
      "g  0.469024 -0.221272  0.603823\n",
      "h -0.807022 -0.421614 -0.398633\n",
      "        one       two     three\n",
      "a  0.194399 -0.385730  0.338172\n",
      "b -0.067270 -1.858202 -1.499314\n",
      "c -0.067270 -1.858202 -1.499314\n",
      "d  0.228682 -1.107757  0.323603\n",
      "e  0.228682 -1.107757  0.323603\n",
      "f  0.469024 -0.221272  0.603823\n",
      "g -0.807022 -0.421614 -0.398633\n",
      "h -0.807022 -0.421614 -0.398633\n"
     ]
    }
   ],
   "source": [
    "#------------------ 填写NA前进和后退\n",
    "\"\"\"\n",
    "使用重构索引章节讨论的填充概念，来填补缺失的值。\n",
    "\n",
    "- pad/fill        填充方法向前\n",
    "- bfill/backfill  填充方法向后\n",
    "\"\"\"\n",
    "\n",
    "import pandas as pd\n",
    "import numpy as np\n",
    "\n",
    "df = pd.DataFrame(np.random.randn(5, 3), index=['a', 'c', 'e', 'f',\n",
    "'h'],columns=['one', 'two', 'three'])\n",
    "df = df.reindex(['a', 'b', 'c', 'd', 'e', 'f', 'g', 'h'])\n",
    "print (df.fillna(method='pad'))  # 填充前向\n",
    "print (df.fillna(method='backfill')) # 填充后向"
   ]
  },
  {
   "cell_type": "code",
   "execution_count": 16,
   "metadata": {},
   "outputs": [
    {
     "name": "stdout",
     "output_type": "stream",
     "text": [
      "        one       two     three\n",
      "a -1.973678  0.049021  0.919289\n",
      "c -1.053036  0.961547 -1.421711\n",
      "e  0.063460 -0.971598 -0.690402\n",
      "f -0.092586  1.134437 -0.254210\n",
      "h -0.539921 -0.775163  0.630517\n",
      "Empty DataFrame\n",
      "Columns: []\n",
      "Index: [a, b, c, d, e, f, g, h]\n"
     ]
    }
   ],
   "source": [
    "#-------------------- 丢失缺少的值\n",
    "import pandas as pd\n",
    "import numpy as np\n",
    "\n",
    "df = pd.DataFrame(np.random.randn(5, 3), index=['a', 'c', 'e', 'f',\n",
    "'h'],columns=['one', 'two', 'three'])\n",
    "df = df.reindex(['a', 'b', 'c', 'd', 'e', 'f', 'g', 'h'])\n",
    "print (df.dropna())  # 丢弃掉有缺失值的行\n",
    "print (df.dropna(axis=1)) # 丢弃掉有缺失值的列"
   ]
  },
  {
   "cell_type": "markdown",
   "metadata": {},
   "source": [
    "## 替换通用值"
   ]
  },
  {
   "cell_type": "code",
   "execution_count": 18,
   "metadata": {},
   "outputs": [
    {
     "name": "stdout",
     "output_type": "stream",
     "text": [
      "    one   two\n",
      "0    10  1000\n",
      "1    20     0\n",
      "2    30    30\n",
      "3    40    40\n",
      "4    50    50\n",
      "5  2000    60\n",
      "   one  two\n",
      "0   10   10\n",
      "1   20    0\n",
      "2   30   30\n",
      "3   40   40\n",
      "4   50   50\n",
      "5   60   60\n"
     ]
    }
   ],
   "source": [
    "#------------------ 替换通用值\n",
    "import pandas as pd\n",
    "import numpy as np\n",
    "df = pd.DataFrame({'one':[10,20,30,40,50,2000],\n",
    "'two':[1000,0,30,40,50,60]})\n",
    "print(df)\n",
    "print (df.replace({1000:10,2000:60})) \n"
   ]
  },
  {
   "cell_type": "code",
   "execution_count": null,
   "metadata": {},
   "outputs": [],
   "source": []
  }
 ],
 "metadata": {
  "kernelspec": {
   "display_name": "Python 3",
   "language": "python",
   "name": "python3"
  },
  "language_info": {
   "codemirror_mode": {
    "name": "ipython",
    "version": 3
   },
   "file_extension": ".py",
   "mimetype": "text/x-python",
   "name": "python",
   "nbconvert_exporter": "python",
   "pygments_lexer": "ipython3",
   "version": "3.7.0"
  }
 },
 "nbformat": 4,
 "nbformat_minor": 2
}
