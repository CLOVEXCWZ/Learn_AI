{
 "cells": [
  {
   "cell_type": "markdown",
   "metadata": {},
   "source": [
    "# 函数应用\n",
    "- 表合理函数应用：pipe()\n",
    "- 行或列函数应用：apply()\n",
    "- 元素函数应用：applymap()"
   ]
  },
  {
   "cell_type": "markdown",
   "metadata": {},
   "source": [
    "## 1 表格函数应用\n",
    "- adder函数将两个数值作为参数相加并返回总和。"
   ]
  },
  {
   "cell_type": "code",
   "execution_count": 26,
   "metadata": {},
   "outputs": [
    {
     "name": "stdout",
     "output_type": "stream",
     "text": [
      "df1:\n",
      "        col1      col2      col3\n",
      "0  0.657631 -0.748022  0.479552\n",
      "1  0.103155  0.828946  0.200918\n",
      "2 -0.765607 -0.791743 -1.761628\n",
      "3  1.822568  0.147871  0.718759\n",
      "4 -0.600519  0.587664 -1.720643\n",
      "df2:\n",
      "        col1      col2      col3\n",
      "0  1.315261 -1.496043  0.959104\n",
      "1  0.206310  1.657892  0.401836\n",
      "2 -1.531214 -1.583487 -3.523257\n",
      "3  3.645136  0.295741  1.437518\n",
      "4 -1.201038  1.175328 -3.441285\n",
      "\n"
     ]
    }
   ],
   "source": [
    "import pandas as pd\n",
    "import numpy as np\n",
    "\n",
    "def adder(ele1, ele2, ele3): \n",
    "    return ele1+ele2+ele3\n",
    "df1 = pd.DataFrame(np.random.randn(5,3),columns=['col1','col2','col3'])\n",
    "print(\"df1:\\n\", df1)\n",
    "df2=df1.pipe(adder, 2, 3) \n",
    "print(\"df2:\\n\", df2)\n",
    "\"\"\"\n",
    "df1:\n",
    "        col1      col2      col3\n",
    "0 -0.170694  1.719652 -0.136084\n",
    "1  0.025139  0.663993 -1.083569\n",
    "2 -0.217043  0.465953 -0.076968\n",
    "3  1.294821 -1.237323 -0.766703\n",
    "4 -1.570477  0.502310 -0.540119\n",
    "df2:\n",
    "        col1      col2      col3\n",
    "0  4.829306  6.719652  4.863916\n",
    "1  5.025139  5.663993  3.916431\n",
    "2  4.782957  5.465953  4.923032\n",
    "3  6.294821  3.762677  4.233297\n",
    "4  3.429523  5.502310  4.459881\n",
    "\"\"\"\n",
    "\n",
    "def adder(ele1): \n",
    "    return ele1+ele1\n",
    "df1 = pd.DataFrame(np.random.randn(5,3),columns=['col1','col2','col3'])\n",
    "print(\"df1:\\n\", df1) \n",
    "df2=df1.pipe(adder)\n",
    "print(\"df2:\\n\", df2)\n",
    "\"\"\"\n",
    "df1:\n",
    "        col1      col2      col3\n",
    "0  0.657631 -0.748022  0.479552\n",
    "1  0.103155  0.828946  0.200918\n",
    "2 -0.765607 -0.791743 -1.761628\n",
    "3  1.822568  0.147871  0.718759\n",
    "4 -0.600519  0.587664 -1.720643\n",
    "df2:\n",
    "        col1      col2      col3\n",
    "0  1.315261 -1.496043  0.959104\n",
    "1  0.206310  1.657892  0.401836\n",
    "2 -1.531214 -1.583487 -3.523257\n",
    "3  3.645136  0.295741  1.437518\n",
    "4 -1.201038  1.175328 -3.441285\n",
    "\"\"\"\n",
    "print()"
   ]
  },
  {
   "cell_type": "markdown",
   "metadata": {},
   "source": [
    "## 2 行或列合理函数应用\n",
    "可以使用apply()方法沿DataFrame或Panel的轴应用任意函数，它与描述性统计方法一样，采用可选的axis参数。 默认情况下，操作按列执行，将每列列为数组。 "
   ]
  },
  {
   "cell_type": "code",
   "execution_count": 14,
   "metadata": {},
   "outputs": [
    {
     "name": "stdout",
     "output_type": "stream",
     "text": [
      "\n"
     ]
    }
   ],
   "source": [
    "import pandas as pd\n",
    "import numpy as np\n",
    "\n",
    "df = pd.DataFrame(np.random.randn(5,3),columns=['col1','col2','col3'])\n",
    "\"\"\"\n",
    "print(df)\n",
    "print(df.apply(np.mean))\n",
    "\n",
    "       col1      col2      col3\n",
    "0  0.699171  1.174304  1.808056\n",
    "1  0.371191  1.106797 -0.349805\n",
    "2  0.906245 -1.044522 -0.450919\n",
    "3  0.480870  0.870196  0.073125\n",
    "4  0.381928 -1.508164 -0.384090\n",
    "\n",
    "col1    0.567881\n",
    "col2    0.119722\n",
    "col3    0.139273\n",
    "dtype: float64\n",
    "\n",
    "\"\"\"\n",
    "\n",
    "import pandas as pd\n",
    "import numpy as np\n",
    "\n",
    "df = pd.DataFrame(np.random.randn(5,3),columns=['col1','col2','col3']) \n",
    "\"\"\"\n",
    "print(df)\n",
    "print(df.apply(np.mean, axis=1))\n",
    "\n",
    "       col1      col2      col3\n",
    "0 -0.072673  0.715110 -0.592150\n",
    "1 -1.216105  0.098471 -0.920143\n",
    "2 -1.195518  0.536300 -1.038083\n",
    "3 -0.628611 -1.098576 -0.761081\n",
    "4 -0.832026 -0.248135  0.139155\n",
    "0    0.016763\n",
    "1   -0.679259\n",
    "2   -0.565767\n",
    "3   -0.829423\n",
    "4   -0.313669\n",
    "dtype: float64\n",
    "\"\"\"\n",
    "\n",
    "import pandas as pd\n",
    "import numpy as np \n",
    "df = pd.DataFrame(np.random.randn(5,3),columns=['col1','col2','col3'])\n",
    "\"\"\"\n",
    "print(df)\n",
    "print(df.apply(lambda x: x.max() - x.min()))\n",
    "\n",
    "       col1      col2      col3\n",
    "0  0.276372 -0.348530 -0.912841\n",
    "1 -0.819007 -0.467740 -0.298918\n",
    "2  1.607816  0.424580  0.158974\n",
    "3  0.100884  0.873865  0.775902\n",
    "4 -1.025005 -0.534617  0.892838\n",
    "col1    2.632821\n",
    "col2    1.408482\n",
    "col3    1.805679\n",
    "dtype: float64\n",
    "\"\"\"\n",
    "print()"
   ]
  },
  {
   "cell_type": "markdown",
   "metadata": {},
   "source": [
    "## 3 元素合理函数应用\n",
    "并不是所有的函数都可以向量化(也不是返回另一个数组的NumPy数组，也不是任何值)，在DataFrame上的方法applymap()和类似于在Series上的map()接受任何Python函数，并且返回单个值。 "
   ]
  },
  {
   "cell_type": "code",
   "execution_count": 20,
   "metadata": {},
   "outputs": [
    {
     "name": "stdout",
     "output_type": "stream",
     "text": [
      "df:\n",
      "        col1      col2      col3\n",
      "0 -0.423348 -0.926960  1.028099\n",
      "1 -0.401481  0.805968 -0.657708\n",
      "2 -1.802866  1.225432  2.084175\n",
      "3  0.589757  0.269814 -1.294617\n",
      "4  0.628785 -0.144890 -1.060085\n",
      "\n",
      "Series map:\n",
      " 0    -42.334849\n",
      "1    -40.148116\n",
      "2   -180.286637\n",
      "3     58.975712\n",
      "4     62.878452\n",
      "Name: col1, dtype: float64\n",
      "\n",
      "dataformat:\n",
      "          col1        col2        col3\n",
      "0  -42.334849  -92.695992  102.809885\n",
      "1  -40.148116   80.596832  -65.770781\n",
      "2 -180.286637  122.543225  208.417542\n",
      "3   58.975712   26.981405 -129.461665\n",
      "4   62.878452  -14.489015 -106.008526\n"
     ]
    }
   ],
   "source": [
    "import pandas as pd\n",
    "import numpy as np\n",
    "df = pd.DataFrame(np.random.randn(5,3),columns=['col1','col2','col3']) \n",
    "\"\"\"\n",
    "print(\"df:\\n\", df)\n",
    "print(\"\\nSeries map:\\n\", df['col1'].map(lambda x:x*100))\n",
    "print(\"\\ndataformat:\\n\", df.applymap(lambda x:x*100))\n",
    "\n",
    "df:\n",
    "        col1      col2      col3\n",
    "0 -0.423348 -0.926960  1.028099\n",
    "1 -0.401481  0.805968 -0.657708\n",
    "2 -1.802866  1.225432  2.084175\n",
    "3  0.589757  0.269814 -1.294617\n",
    "4  0.628785 -0.144890 -1.060085\n",
    "\n",
    "Series map:\n",
    " 0    -42.334849\n",
    "1    -40.148116\n",
    "2   -180.286637\n",
    "3     58.975712\n",
    "4     62.878452\n",
    "Name: col1, dtype: float64\n",
    "\n",
    "dataformat:\n",
    "          col1        col2        col3\n",
    "0  -42.334849  -92.695992  102.809885\n",
    "1  -40.148116   80.596832  -65.770781\n",
    "2 -180.286637  122.543225  208.417542\n",
    "3   58.975712   26.981405 -129.461665\n",
    "4   62.878452  -14.489015 -106.008526\n",
    "\"\"\""
   ]
  },
  {
   "cell_type": "code",
   "execution_count": null,
   "metadata": {},
   "outputs": [],
   "source": []
  }
 ],
 "metadata": {
  "kernelspec": {
   "display_name": "Python 3",
   "language": "python",
   "name": "python3"
  },
  "language_info": {
   "codemirror_mode": {
    "name": "ipython",
    "version": 3
   },
   "file_extension": ".py",
   "mimetype": "text/x-python",
   "name": "python",
   "nbconvert_exporter": "python",
   "pygments_lexer": "ipython3",
   "version": "3.7.0"
  }
 },
 "nbformat": 4,
 "nbformat_minor": 2
}
