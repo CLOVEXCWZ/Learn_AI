{
 "cells": [
  {
   "cell_type": "code",
   "execution_count": 1,
   "metadata": {},
   "outputs": [],
   "source": [
    "import pandas as pd"
   ]
  },
  {
   "cell_type": "markdown",
   "metadata": {},
   "source": [
    "# Attributes"
   ]
  },
  {
   "cell_type": "code",
   "execution_count": 26,
   "metadata": {},
   "outputs": [
    {
     "name": "stdout",
     "output_type": "stream",
     "text": [
      "s.index:RangeIndex(start=0, stop=3, step=1)\n",
      "\n",
      "s.array:<PandasArray>\n",
      "[1, 2, 3]\n",
      "Length: 3, dtype: int64\n",
      "\n",
      "s.values:[1 2 3] type:<class 'numpy.ndarray'> \n",
      "\n",
      "s.dtype:int64 type:<class 'numpy.dtype'> \n",
      "\n",
      "s.shape:(3,) type:<class 'tuple'> \n",
      "\n",
      "s.nbytes:24 type:<class 'int'> \n",
      "\n",
      "s.ndim:1 type:<class 'int'> \n",
      "\n",
      "s.T:0    1\n",
      "1    2\n",
      "2    3\n",
      "dtype: int64 type:<class 'pandas.core.series.Series'> \n",
      "\n",
      "s.hasnans:False type:<class 'bool'> \n",
      "\n",
      "s.empty:False type:<class 'bool'> \n",
      "\n",
      "s.dtypes:int64 type:<class 'numpy.dtype'> \n",
      "\n",
      "s.name:None type:<class 'NoneType'> \n",
      "\n"
     ]
    }
   ],
   "source": [
    "s = pd.Series([1, 2, 3])\n",
    "print(f\"s.index:{s.index}\\n\")\n",
    "print(f\"s.array:{s.array}\\n\") \n",
    "print(f\"s.values:{s.values} type:{type(s.values)} \\n\") \n",
    "print(f\"s.dtype:{s.dtype} type:{type(s.dtype)} \\n\")  \n",
    "print(f\"s.shape:{s.shape} type:{type(s.shape)} \\n\") \n",
    "print(f\"s.nbytes:{s.nbytes} type:{type(s.nbytes)} \\n\") \n",
    "print(f\"s.ndim:{s.ndim} type:{type(s.ndim)} \\n\")  # 维度 \n",
    "print(f\"s.T:{s.T} type:{type(s.T)} \\n\") # 转置hasnans\n",
    "print(f\"s.hasnans:{s.hasnans} type:{type(s.hasnans)} \\n\") \n",
    "print(f\"s.empty:{s.empty} type:{type(s.empty)} \\n\") \n",
    "print(f\"s.dtypes:{s.dtypes} type:{type(s.dtypes)} \\n\")  \n",
    "print(f\"s.name:{s.name} type:{type(s.name)} \\n\")  "
   ]
  },
  {
   "cell_type": "markdown",
   "metadata": {},
   "source": [
    "# Conversion (转换)\n",
    "\n",
    "\n",
    "- Series.astype(self, dtype[, copy, errors])\tCast a pandas object to a specified dtype dtype.\n",
    "    - 格式转换\n",
    "\n",
    "Series.infer_objects(self)\tAttempt to infer better dtypes for object columns.\n",
    "\n",
    "Series.copy(self[, deep])\tMake a copy of this object’s indices and data.\n",
    "\n",
    "Series.bool(self)\tReturn the bool of a single element PandasObject.\n",
    "\n",
    "Series.to_numpy(self[, dtype, copy])\tA NumPy ndarray representing the values in this \n",
    "Series or Index.\n",
    "\n",
    "Series.to_period(self[, freq, copy])\tConvert Series from DatetimeIndex to PeriodIndex \n",
    "with desired frequency (inferred from index if not passed).\n",
    "\n",
    "Series.to_timestamp(self[, freq, how, copy])\tCast to DatetimeIndex of Timestamps, at beginning of period.\n",
    "\n",
    "Series.to_list(self)\tReturn a list of the values.\n",
    "\n",
    "Series.__array__(self[, dtype])\tReturn the values as a NumPy array."
   ]
  },
  {
   "cell_type": "code",
   "execution_count": 2,
   "metadata": {},
   "outputs": [],
   "source": [
    "import pandas as pd"
   ]
  },
  {
   "cell_type": "code",
   "execution_count": 3,
   "metadata": {},
   "outputs": [
    {
     "data": {
      "text/plain": [
       "col1    int64\n",
       "col2    int64\n",
       "dtype: object"
      ]
     },
     "execution_count": 3,
     "metadata": {},
     "output_type": "execute_result"
    }
   ],
   "source": [
    ">>> d = {'col1': [1, 2], 'col2': [3, 4]}\n",
    ">>> df = pd.DataFrame(data=d)\n",
    ">>> df.dtypes"
   ]
  },
  {
   "cell_type": "code",
   "execution_count": 5,
   "metadata": {},
   "outputs": [
    {
     "data": {
      "text/plain": [
       "col1    int32\n",
       "col2    int32\n",
       "dtype: object"
      ]
     },
     "execution_count": 5,
     "metadata": {},
     "output_type": "execute_result"
    }
   ],
   "source": [
    "df.astype('int32').dtypes"
   ]
  },
  {
   "cell_type": "code",
   "execution_count": 12,
   "metadata": {},
   "outputs": [
    {
     "data": {
      "text/plain": [
       "array([1, 2])"
      ]
     },
     "execution_count": 12,
     "metadata": {},
     "output_type": "execute_result"
    }
   ],
   "source": [
    "df.col1.to_numpy()"
   ]
  },
  {
   "cell_type": "code",
   "execution_count": 14,
   "metadata": {},
   "outputs": [
    {
     "data": {
      "text/plain": [
       "[1, 2]"
      ]
     },
     "execution_count": 14,
     "metadata": {},
     "output_type": "execute_result"
    }
   ],
   "source": [
    "df.col1.to_list()"
   ]
  },
  {
   "cell_type": "code",
   "execution_count": 15,
   "metadata": {},
   "outputs": [
    {
     "data": {
      "text/plain": [
       "array([[1, 3],\n",
       "       [2, 4]])"
      ]
     },
     "execution_count": 15,
     "metadata": {},
     "output_type": "execute_result"
    }
   ],
   "source": [
    "df.__array__()"
   ]
  },
  {
   "cell_type": "markdown",
   "metadata": {},
   "source": [
    "# Indexing, iteration （索引迭代）\n",
    "- Series.get(self, key[, default])\t \n",
    "- Series.at\t \n",
    "- Series.iat\t \n",
    "- Series.loc\t \n",
    "- Series.iloc\t \n",
    "- Series.__iter__(self)\t \n",
    "- Series.items(self)\t \n",
    "- Series.iteritems(self)\t \n",
    "- Series.keys(self)\t \n",
    "- Series.pop(self, item)\t \n",
    "- Series.item(self)\t \n",
    "- Series.xs(self, key[, axis, level, drop_level])\t  "
   ]
  },
  {
   "cell_type": "code",
   "execution_count": 23,
   "metadata": {},
   "outputs": [
    {
     "data": {
      "text/plain": [
       "1"
      ]
     },
     "execution_count": 23,
     "metadata": {},
     "output_type": "execute_result"
    }
   ],
   "source": [
    ">>> df = pd.DataFrame([[0, 2, 3], [0, 4, 1], [10, 20, 30]],\n",
    "...                   columns=['A', 'B', 'C'])\n",
    ">>> df\n",
    ">>> df.iat[1, 2]"
   ]
  },
  {
   "cell_type": "code",
   "execution_count": 36,
   "metadata": {},
   "outputs": [
    {
     "data": {
      "text/plain": [
       "A    1\n",
       "B    2\n",
       "dtype: int64"
      ]
     },
     "execution_count": 36,
     "metadata": {},
     "output_type": "execute_result"
    }
   ],
   "source": [
    "s = pd.Series([1, 2, 3], index=['A', 'B', 'C'])\n",
    "\n",
    "s.loc[['A', 'B']]"
   ]
  },
  {
   "cell_type": "code",
   "execution_count": 34,
   "metadata": {},
   "outputs": [
    {
     "data": {
      "text/plain": [
       "A    1\n",
       "B    2\n",
       "C    3\n",
       "dtype: int64"
      ]
     },
     "execution_count": 34,
     "metadata": {},
     "output_type": "execute_result"
    }
   ],
   "source": [
    "s"
   ]
  },
  {
   "cell_type": "code",
   "execution_count": null,
   "metadata": {},
   "outputs": [],
   "source": []
  }
 ],
 "metadata": {
  "kernelspec": {
   "display_name": "Python 3",
   "language": "python",
   "name": "python3"
  },
  "language_info": {
   "codemirror_mode": {
    "name": "ipython",
    "version": 3
   },
   "file_extension": ".py",
   "mimetype": "text/x-python",
   "name": "python",
   "nbconvert_exporter": "python",
   "pygments_lexer": "ipython3",
   "version": "3.7.0"
  }
 },
 "nbformat": 4,
 "nbformat_minor": 2
}
