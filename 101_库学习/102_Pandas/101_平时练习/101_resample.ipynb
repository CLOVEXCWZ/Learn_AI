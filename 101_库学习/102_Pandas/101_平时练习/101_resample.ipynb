{
 "cells": [
  {
   "cell_type": "markdown",
   "metadata": {},
   "source": [
    "# resample函数的理解\n",
    "\n",
    "- rule的取值\n",
    "\n",
    "[更多频率请点击查看](https://blog.csdn.net/lbywyj/article/details/90514255)\n",
    "\n",
    "\n",
    "```python\n",
    "\"\"\"\n",
    "    B       business day frequency\n",
    "    C       custom business day frequency (experimental)\n",
    "    D       calendar day frequency\n",
    "    W       weekly frequency\n",
    "    M       month end frequency\n",
    "    SM      semi-month end frequency (15th and end of month)\n",
    "    BM      business month end frequency\n",
    "    CBM     custom business month end frequency\n",
    "    MS      month start frequency\n",
    "    SMS     semi-month start frequency (1st and 15th)\n",
    "    BMS     business month start frequency\n",
    "    CBMS    custom business month start frequency\n",
    "    Q       quarter end frequency\n",
    "    BQ      business quarter endfrequency\n",
    "    QS      quarter start frequency\n",
    "    BQS     business quarter start frequency\n",
    "    A       year end frequency\n",
    "    BA      business year end frequency\n",
    "    AS      year start frequency\n",
    "    BAS     business year start frequency\n",
    "    BH      business hour frequency\n",
    "    H       hourly frequency\n",
    "    T       minutely frequency\n",
    "    S       secondly frequency\n",
    "    L       milliseonds\n",
    "    U       microseconds\n",
    "    N       nanoseconds\n",
    "\"\"\"\n",
    "```\n",
    "\n"
   ]
  },
  {
   "cell_type": "code",
   "execution_count": 1,
   "metadata": {},
   "outputs": [
    {
     "data": {
      "text/html": [
       "<div>\n",
       "<style scoped>\n",
       "    .dataframe tbody tr th:only-of-type {\n",
       "        vertical-align: middle;\n",
       "    }\n",
       "\n",
       "    .dataframe tbody tr th {\n",
       "        vertical-align: top;\n",
       "    }\n",
       "\n",
       "    .dataframe thead th {\n",
       "        text-align: right;\n",
       "    }\n",
       "</style>\n",
       "<table border=\"1\" class=\"dataframe\">\n",
       "  <thead>\n",
       "    <tr style=\"text-align: right;\">\n",
       "      <th></th>\n",
       "      <th>name</th>\n",
       "      <th>code</th>\n",
       "      <th>date</th>\n",
       "      <th>price</th>\n",
       "    </tr>\n",
       "    <tr>\n",
       "      <th>index</th>\n",
       "      <th></th>\n",
       "      <th></th>\n",
       "      <th></th>\n",
       "      <th></th>\n",
       "    </tr>\n",
       "  </thead>\n",
       "  <tbody>\n",
       "    <tr>\n",
       "      <th>2010-11-01</th>\n",
       "      <td>易方达消费行业股</td>\n",
       "      <td>110022</td>\n",
       "      <td>2010-11-01</td>\n",
       "      <td>1.026</td>\n",
       "    </tr>\n",
       "    <tr>\n",
       "      <th>2010-11-02</th>\n",
       "      <td>易方达消费行业股</td>\n",
       "      <td>110022</td>\n",
       "      <td>2010-11-02</td>\n",
       "      <td>1.024</td>\n",
       "    </tr>\n",
       "    <tr>\n",
       "      <th>2010-11-03</th>\n",
       "      <td>易方达消费行业股</td>\n",
       "      <td>110022</td>\n",
       "      <td>2010-11-03</td>\n",
       "      <td>1.024</td>\n",
       "    </tr>\n",
       "    <tr>\n",
       "      <th>2010-11-04</th>\n",
       "      <td>易方达消费行业股</td>\n",
       "      <td>110022</td>\n",
       "      <td>2010-11-04</td>\n",
       "      <td>1.030</td>\n",
       "    </tr>\n",
       "    <tr>\n",
       "      <th>2010-11-05</th>\n",
       "      <td>易方达消费行业股</td>\n",
       "      <td>110022</td>\n",
       "      <td>2010-11-05</td>\n",
       "      <td>1.033</td>\n",
       "    </tr>\n",
       "    <tr>\n",
       "      <th>2010-11-08</th>\n",
       "      <td>易方达消费行业股</td>\n",
       "      <td>110022</td>\n",
       "      <td>2010-11-08</td>\n",
       "      <td>1.038</td>\n",
       "    </tr>\n",
       "    <tr>\n",
       "      <th>2010-11-09</th>\n",
       "      <td>易方达消费行业股</td>\n",
       "      <td>110022</td>\n",
       "      <td>2010-11-09</td>\n",
       "      <td>1.045</td>\n",
       "    </tr>\n",
       "    <tr>\n",
       "      <th>2010-11-10</th>\n",
       "      <td>易方达消费行业股</td>\n",
       "      <td>110022</td>\n",
       "      <td>2010-11-10</td>\n",
       "      <td>1.058</td>\n",
       "    </tr>\n",
       "    <tr>\n",
       "      <th>2010-11-11</th>\n",
       "      <td>易方达消费行业股</td>\n",
       "      <td>110022</td>\n",
       "      <td>2010-11-11</td>\n",
       "      <td>1.051</td>\n",
       "    </tr>\n",
       "    <tr>\n",
       "      <th>2010-11-12</th>\n",
       "      <td>易方达消费行业股</td>\n",
       "      <td>110022</td>\n",
       "      <td>2010-11-12</td>\n",
       "      <td>1.020</td>\n",
       "    </tr>\n",
       "  </tbody>\n",
       "</table>\n",
       "</div>"
      ],
      "text/plain": [
       "                name    code        date  price\n",
       "index                                          \n",
       "2010-11-01  易方达消费行业股  110022  2010-11-01  1.026\n",
       "2010-11-02  易方达消费行业股  110022  2010-11-02  1.024\n",
       "2010-11-03  易方达消费行业股  110022  2010-11-03  1.024\n",
       "2010-11-04  易方达消费行业股  110022  2010-11-04  1.030\n",
       "2010-11-05  易方达消费行业股  110022  2010-11-05  1.033\n",
       "2010-11-08  易方达消费行业股  110022  2010-11-08  1.038\n",
       "2010-11-09  易方达消费行业股  110022  2010-11-09  1.045\n",
       "2010-11-10  易方达消费行业股  110022  2010-11-10  1.058\n",
       "2010-11-11  易方达消费行业股  110022  2010-11-11  1.051\n",
       "2010-11-12  易方达消费行业股  110022  2010-11-12  1.020"
      ]
     },
     "execution_count": 1,
     "metadata": {},
     "output_type": "execute_result"
    }
   ],
   "source": [
    "import pandas as pd\n",
    "import numpy as np\n",
    "\n",
    "df = pd.read_csv('./data/110022.csv')\n",
    "df['index'] = pd.to_datetime(df['date'])  # 把列\n",
    "df.set_index('index', inplace=True)  # 用时间替代原来的索引\n",
    "df.pop('percent')\n",
    "df = df[14:]\n",
    "df.head(10)"
   ]
  },
  {
   "cell_type": "markdown",
   "metadata": {},
   "source": [
    "# 基本操作 "
   ]
  },
  {
   "cell_type": "code",
   "execution_count": 2,
   "metadata": {},
   "outputs": [
    {
     "name": "stdout",
     "output_type": "stream",
     "text": [
      "index\n",
      "2010-10-30    1.026\n",
      "2010-11-01    1.024\n",
      "2010-11-03    1.033\n",
      "2010-11-05      NaN\n",
      "2010-11-07    1.045\n",
      "Freq: 2D, Name: price, dtype: float64\n"
     ]
    },
    {
     "data": {
      "text/plain": [
       "index\n",
       "2010-11-01    1.024\n",
       "2010-11-03    1.030\n",
       "2010-11-05    1.033\n",
       "2010-11-07    1.038\n",
       "2010-11-09    1.058\n",
       "Freq: 2D, Name: price, dtype: float64"
      ]
     },
     "execution_count": 2,
     "metadata": {},
     "output_type": "execute_result"
    }
   ],
   "source": [
    "# 周期转化为2天\n",
    "df_2d = df['price'].resample('2D', closed='right').last() \n",
    "print(df_2d.head())\n",
    "df_2d = df['price'].resample('2D', closed='left').last() \n",
    "df_2d.head()"
   ]
  },
  {
   "cell_type": "markdown",
   "metadata": {},
   "source": [
    "# label\n",
    "\n",
    "- 'right' 划分成左开右闭的区间\n",
    "- 'left'  会划成左闭右开区间\n",
    "\n",
    "```python\n",
    "\n",
    "2D       区间      right      left    right数值  left数值\n",
    "周期2 [1,  2, 3]  [1,  3)   (1,  3]   d1 = v_3  d1 = v_2\n",
    "周期3 [3,  4, 5]  [3,  5)   (3,  5]   d3 = v_5  d3 = v_4\n",
    "周期4 [5,  6, 7]  [5,  7)   (5,  7]   d5 = v_7  d5 = v_6\n",
    "周期5 [7,  8, 9]  [7,  9)   (7,  9]   d7 = v_9  d7 = v_8\n",
    "```"
   ]
  },
  {
   "cell_type": "code",
   "execution_count": 3,
   "metadata": {},
   "outputs": [
    {
     "name": "stdout",
     "output_type": "stream",
     "text": [
      "index\n",
      "2010-10-30    1.026\n",
      "2010-11-01    1.024\n",
      "2010-11-03    1.033\n",
      "2010-11-05      NaN\n",
      "2010-11-07    1.045\n",
      "Freq: 2D, Name: price, dtype: float64\n"
     ]
    },
    {
     "data": {
      "text/plain": [
       "index\n",
       "2010-11-01    1.024\n",
       "2010-11-03    1.030\n",
       "2010-11-05    1.033\n",
       "2010-11-07    1.038\n",
       "2010-11-09    1.058\n",
       "Freq: 2D, Name: price, dtype: float64"
      ]
     },
     "execution_count": 3,
     "metadata": {},
     "output_type": "execute_result"
    }
   ],
   "source": [
    "df_2d_r = df['price'].resample('2D', closed='right').last() \n",
    "print(df_2d_r.head())\n",
    "df_2d_l = df['price'].resample('2D', closed='left').last() \n",
    "df_2d_l.head()"
   ]
  },
  {
   "cell_type": "markdown",
   "metadata": {},
   "source": [
    "# 更改周期"
   ]
  },
  {
   "cell_type": "code",
   "execution_count": 12,
   "metadata": {},
   "outputs": [
    {
     "data": {
      "text/plain": [
       "index\n",
       "2010-11-01    1.024\n",
       "2010-11-03    1.030\n",
       "2010-11-05    1.033\n",
       "2010-11-07    1.038\n",
       "2010-11-09    1.058\n",
       "Name: price, dtype: float64"
      ]
     },
     "execution_count": 12,
     "metadata": {},
     "output_type": "execute_result"
    }
   ],
   "source": [
    "# 5天为一周期\n",
    "df_5d = df['price'].resample('2D', closed='left').last() \n",
    "df_5d = df_5d.dropna()\n",
    "df_5d.head()"
   ]
  },
  {
   "cell_type": "code",
   "execution_count": 13,
   "metadata": {},
   "outputs": [
    {
     "data": {
      "text/plain": [
       "index\n",
       "2010-11-01    1.026\n",
       "2010-11-21    0.999\n",
       "2010-12-11    0.966\n",
       "2010-12-31    0.940\n",
       "2011-01-20    0.921\n",
       "Freq: 20D, Name: price, dtype: float64"
      ]
     },
     "execution_count": 13,
     "metadata": {},
     "output_type": "execute_result"
    }
   ],
   "source": [
    "# 20天为一周期\n",
    "df_20d = df['price'].resample('20D', closed='left').last() \n",
    "df_20d = df_20d.dropna()\n",
    "df_20d.head()"
   ]
  },
  {
   "cell_type": "code",
   "execution_count": 16,
   "metadata": {},
   "outputs": [
    {
     "data": {
      "text/plain": [
       "index\n",
       "2010-11-07    1.033\n",
       "2010-11-14    1.020\n",
       "2010-11-21    1.026\n",
       "2010-11-28    1.042\n",
       "2010-12-05    1.014\n",
       "Freq: W-SUN, Name: price, dtype: float64"
      ]
     },
     "execution_count": 16,
     "metadata": {},
     "output_type": "execute_result"
    }
   ],
   "source": [
    "# 一周为一个周期 Freq: W-SUN\n",
    "df_1w = df['price'].resample('1W', closed='left').last() \n",
    "df_1w = df_1w.dropna()\n",
    "df_1w.head()"
   ]
  },
  {
   "cell_type": "code",
   "execution_count": 18,
   "metadata": {},
   "outputs": [
    {
     "data": {
      "text/plain": [
       "index\n",
       "2010-11-08    1.033\n",
       "2010-11-15    1.020\n",
       "2010-11-22    1.026\n",
       "2010-11-29    1.042\n",
       "2010-12-06    1.014\n",
       "Freq: W-MON, Name: price, dtype: float64"
      ]
     },
     "execution_count": 18,
     "metadata": {},
     "output_type": "execute_result"
    }
   ],
   "source": [
    "# 一周为一个周期 Freq: W-MON  周一\n",
    "df_1w = df['price'].resample('1W-MON', closed='left').last() \n",
    "# df_1w = df_1w.dropna()\n",
    "df_1w.head()"
   ]
  },
  {
   "cell_type": "code",
   "execution_count": 21,
   "metadata": {},
   "outputs": [
    {
     "data": {
      "text/plain": [
       "index\n",
       "2010-11-02    1.026\n",
       "2010-11-09    1.038\n",
       "2010-11-16    1.042\n",
       "2010-11-23    1.031\n",
       "2010-11-30    1.044\n",
       "Freq: W-TUE, Name: price, dtype: float64"
      ]
     },
     "execution_count": 21,
     "metadata": {},
     "output_type": "execute_result"
    }
   ],
   "source": [
    "# 一周为一个周期 Freq:W-TUE  周二\n",
    "df_1w = df['price'].resample('1W-TUE', closed='left').last() \n",
    "# df_1w = df_1w.dropna()\n",
    "df_1w.head()"
   ]
  },
  {
   "cell_type": "code",
   "execution_count": 22,
   "metadata": {},
   "outputs": [
    {
     "data": {
      "text/plain": [
       "index\n",
       "2010-11-03    1.024\n",
       "2010-11-10    1.045\n",
       "2010-11-17    1.027\n",
       "2010-11-24    1.022\n",
       "2010-12-01    1.028\n",
       "Freq: W-WED, Name: price, dtype: float64"
      ]
     },
     "execution_count": 22,
     "metadata": {},
     "output_type": "execute_result"
    }
   ],
   "source": [
    "# 一周为一个周期 Freq:W-WED  周三\n",
    "df_1w = df['price'].resample('1W-WED', closed='left').last() \n",
    "# df_1w = df_1w.dropna()\n",
    "df_1w.head()"
   ]
  },
  {
   "cell_type": "code",
   "execution_count": 23,
   "metadata": {},
   "outputs": [
    {
     "data": {
      "text/plain": [
       "index\n",
       "2010-11-04    1.024\n",
       "2010-11-11    1.058\n",
       "2010-11-18    1.002\n",
       "2010-11-25    1.036\n",
       "2010-12-02    1.024\n",
       "Freq: W-THU, Name: price, dtype: float64"
      ]
     },
     "execution_count": 23,
     "metadata": {},
     "output_type": "execute_result"
    }
   ],
   "source": [
    "# 一周为一个周期 Freq:W-THU  周四\n",
    "df_1w = df['price'].resample('1W-THU', closed='left').last() \n",
    "# df_1w = df_1w.dropna()\n",
    "df_1w.head()"
   ]
  },
  {
   "cell_type": "code",
   "execution_count": 24,
   "metadata": {},
   "outputs": [
    {
     "data": {
      "text/plain": [
       "index\n",
       "2010-11-05    1.030\n",
       "2010-11-12    1.051\n",
       "2010-11-19    1.010\n",
       "2010-11-26    1.044\n",
       "2010-12-03    1.020\n",
       "Freq: W-FRI, Name: price, dtype: float64"
      ]
     },
     "execution_count": 24,
     "metadata": {},
     "output_type": "execute_result"
    }
   ],
   "source": [
    "# 一周为一个周期 Freq:W-FRI  周五\n",
    "df_1w = df['price'].resample('1W-FRI', closed='left').last() \n",
    "# df_1w = df_1w.dropna()\n",
    "df_1w.head()"
   ]
  },
  {
   "cell_type": "code",
   "execution_count": 25,
   "metadata": {},
   "outputs": [
    {
     "data": {
      "text/plain": [
       "index\n",
       "2010-11-06    1.033\n",
       "2010-11-13    1.020\n",
       "2010-11-20    1.026\n",
       "2010-11-27    1.042\n",
       "2010-12-04    1.014\n",
       "Freq: W-SAT, Name: price, dtype: float64"
      ]
     },
     "execution_count": 25,
     "metadata": {},
     "output_type": "execute_result"
    }
   ],
   "source": [
    "# 一周为一个周期 Freq:W-SAT  周日\n",
    "df_1w = df['price'].resample('1W-SAT', closed='left').last() \n",
    "# df_1w = df_1w.dropna()\n",
    "df_1w.head()"
   ]
  },
  {
   "cell_type": "code",
   "execution_count": 30,
   "metadata": {},
   "outputs": [
    {
     "data": {
      "text/plain": [
       "index\n",
       "2010-11-30    1.044\n",
       "2010-12-31    0.966\n",
       "2011-01-31    0.915\n",
       "2011-02-28    0.954\n",
       "2011-03-31    0.931\n",
       "Freq: M, Name: price, dtype: float64"
      ]
     },
     "execution_count": 30,
     "metadata": {},
     "output_type": "execute_result"
    }
   ],
   "source": [
    "# 以一个月为周期\n",
    "df_1m = df['price'].resample('1M', closed='left').last() \n",
    "# df_1w = df_1w.dropna()\n",
    "df_1m.head()"
   ]
  },
  {
   "cell_type": "code",
   "execution_count": 32,
   "metadata": {},
   "outputs": [
    {
     "data": {
      "text/plain": [
       "index\n",
       "2010-11-01    1.014\n",
       "2010-12-06    0.983\n",
       "2011-01-03    0.921\n",
       "2011-02-07    0.972\n",
       "2011-03-07    0.933\n",
       "Freq: WOM-1MON, Name: price, dtype: float64"
      ]
     },
     "execution_count": 32,
     "metadata": {},
     "output_type": "execute_result"
    }
   ],
   "source": [
    "# 以一个月为周期\n",
    "df_1m = df['price'].resample('WOM-1MON',base=-1, closed='left').last() \n",
    "# df_1w = df_1w.dropna()\n",
    "df_1m.head()"
   ]
  },
  {
   "cell_type": "code",
   "execution_count": null,
   "metadata": {},
   "outputs": [],
   "source": []
  }
 ],
 "metadata": {
  "kernelspec": {
   "display_name": "Python 3",
   "language": "python",
   "name": "python3"
  },
  "language_info": {
   "codemirror_mode": {
    "name": "ipython",
    "version": 3
   },
   "file_extension": ".py",
   "mimetype": "text/x-python",
   "name": "python",
   "nbconvert_exporter": "python",
   "pygments_lexer": "ipython3",
   "version": "3.7.0"
  }
 },
 "nbformat": 4,
 "nbformat_minor": 2
}
