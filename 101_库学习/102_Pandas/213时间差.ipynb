{
 "cells": [
  {
   "cell_type": "markdown",
   "metadata": {},
   "source": [
    "# 时间差\n",
    "时间差(Timedelta)是时间上的差异，以不同的单位来表示。例如：日，小时，分钟，秒。它们可以是正值，也可以是负值。\n",
    "\n",
    "- 时间差创建\n",
    "    - 字符串\n",
    "    - 整数\n",
    "    - 数据偏移\n",
    "- 运算操作\n",
    "    - 相加操作\n",
    "    - 相减操作"
   ]
  },
  {
   "cell_type": "markdown",
   "metadata": {},
   "source": [
    "##  1 时间差创建\n",
    "- 字符串\n",
    "- 整数\n",
    "- 数据偏移\n",
    "通过传递字符串，可以创建一个timedelta对象。"
   ]
  },
  {
   "cell_type": "code",
   "execution_count": 7,
   "metadata": {},
   "outputs": [
    {
     "name": "stdout",
     "output_type": "stream",
     "text": [
      "\n"
     ]
    }
   ],
   "source": [
    "#-------------  字符串\n",
    "\"\"\"\n",
    "通过传递字符串，可以创建一个timedelta对象。\n",
    "\"\"\"\n",
    "\n",
    "import pandas as pd\n",
    "timediff = pd.Timedelta('2 days 2 hours 15 minutes 30 seconds')\n",
    "\"\"\"\n",
    "print(timediff) \n",
    "\n",
    "2 days 02:15:30\n",
    "\"\"\"\n",
    "\n",
    "#--------------- 整数\n",
    "\"\"\"\n",
    "通过传递一个整数值与指定单位，这样的一个参数也可以用来创建Timedelta对象。\n",
    "\"\"\"\n",
    "import pandas as pd\n",
    "timediff = pd.Timedelta(6,unit='h')\n",
    "\"\"\"\n",
    "print(timediff) \n",
    "\n",
    "0 days 06:00:00\n",
    "\"\"\"\n",
    "\n",
    "#--------------- 数据偏移\n",
    "\"\"\"\n",
    "例如 - 周，天，小时，分钟，秒，毫秒，微秒，纳秒的数据偏移也可用于构建。\n",
    "\"\"\"\n",
    "import pandas as pd\n",
    "timediff = pd.Timedelta(days=2)\n",
    "\"\"\"\n",
    "print(timediff) \n",
    "\n",
    "2 days 00:00:00\n",
    "\"\"\"\n",
    "print()"
   ]
  },
  {
   "cell_type": "markdown",
   "metadata": {},
   "source": [
    "## 2 运算操作\n",
    "可以在Series/DataFrames上执行运算操作，并通过在datetime64 [ns]系列或在时间戳上减法操作来构造timedelta64 [ns]系列 \n",
    "\n",
    "- 相加操作\n",
    "- 相减操作"
   ]
  },
  {
   "cell_type": "code",
   "execution_count": 12,
   "metadata": {},
   "outputs": [
    {
     "name": "stdout",
     "output_type": "stream",
     "text": [
      "\n"
     ]
    }
   ],
   "source": [
    "import pandas as pd\n",
    "\n",
    "s = pd.Series(pd.date_range('2018-1-1', periods=3, freq='D'))\n",
    "td = pd.Series([ pd.Timedelta(days=i) for i in range(3) ])\n",
    "df = pd.DataFrame(dict(A = s, B = td))\n",
    "\"\"\"\n",
    "print(df) \n",
    "\n",
    "           A      B\n",
    "0 2018-01-01 0 days\n",
    "1 2018-01-02 1 days\n",
    "2 2018-01-03 2 days\n",
    "\"\"\"\n",
    "\n",
    "#--------------------- 相加操作\n",
    "df['C']=df['A']+df['B']\n",
    "\"\"\"\n",
    "print(df) \n",
    "\n",
    "           A      B          C\n",
    "0 2018-01-01 0 days 2018-01-01\n",
    "1 2018-01-02 1 days 2018-01-03\n",
    "2 2018-01-03 2 days 2018-01-05\n",
    "\"\"\"\n",
    "\n",
    "#--------------------- 相减操作\n",
    "df['D']=df['C']-df['B']\n",
    "\"\"\"\n",
    "print(df) \n",
    "\n",
    "0 2018-01-01 0 days 2018-01-01 2018-01-01\n",
    "1 2018-01-02 1 days 2018-01-03 2018-01-02\n",
    "2 2018-01-03 2 days 2018-01-05 2018-01-03\n",
    "\"\"\"\n",
    "print()"
   ]
  },
  {
   "cell_type": "code",
   "execution_count": null,
   "metadata": {},
   "outputs": [],
   "source": []
  }
 ],
 "metadata": {
  "kernelspec": {
   "display_name": "Python 3",
   "language": "python",
   "name": "python3"
  },
  "language_info": {
   "codemirror_mode": {
    "name": "ipython",
    "version": 3
   },
   "file_extension": ".py",
   "mimetype": "text/x-python",
   "name": "python",
   "nbconvert_exporter": "python",
   "pygments_lexer": "ipython3",
   "version": "3.7.0"
  }
 },
 "nbformat": 4,
 "nbformat_minor": 2
}
