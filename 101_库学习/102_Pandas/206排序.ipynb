{
 "cells": [
  {
   "cell_type": "markdown",
   "metadata": {},
   "source": [
    "# 排序\n",
    "- 按标签\n",
    "    - 排序顺序\n",
    "    - 按列排列\n",
    "- 按实际值\n",
    "    - 排序算法"
   ]
  },
  {
   "cell_type": "markdown",
   "metadata": {},
   "source": [
    "## 1 按标签\n",
    "- 排序顺序\n",
    "- 按列排序"
   ]
  },
  {
   "cell_type": "code",
   "execution_count": 5,
   "metadata": {},
   "outputs": [
    {
     "name": "stdout",
     "output_type": "stream",
     "text": [
      "\n"
     ]
    }
   ],
   "source": [
    "#---------------- 按标签排序\n",
    "\"\"\"\n",
    "使用sort_index()方法，通过传递axis参数和排序顺序，可以对DataFrame进行排序。\n",
    "默认情况下，按照升序对行标签进行排序。 \n",
    "\"\"\"\n",
    "import pandas as pd\n",
    "import numpy as np\n",
    "unsorted_df = pd.DataFrame(np.random.randn(5,2),index=[5,9,8,0,7],columns = ['col2','col1'])\n",
    "sorted_df=unsorted_df.sort_index()\n",
    "\"\"\"\n",
    "print (sorted_df) \n",
    "       col2      col1\n",
    "0  1.263412 -0.090153\n",
    "5  0.435609 -1.312084\n",
    "7 -0.043339 -0.299793\n",
    "8 -1.220893  1.063311\n",
    "9  0.377686 -1.051608\n",
    "\n",
    "\"\"\"\n",
    "\n",
    "#------------------排序顺序\n",
    "\n",
    "\"\"\"\n",
    "通过将布尔值传递给升序参数，可以控制排序顺序。 来看看下面的例子来理解一下。\n",
    "\"\"\"\n",
    "\n",
    "import pandas as pd\n",
    "import numpy as np\n",
    "unsorted_df = pd.DataFrame(np.random.randn(5,2),index=[5,9,8,0,7],columns = ['col2','col1'])\n",
    "sorted_df = unsorted_df.sort_index(ascending=False)\n",
    "\"\"\"\n",
    "print (sorted_df) \n",
    "\n",
    "       col2      col1\n",
    "9  0.072576 -0.454951\n",
    "8 -0.078238  0.889726\n",
    "7  0.128667 -1.092788\n",
    "5 -0.699209 -0.470586\n",
    "0 -0.424473  0.118444\n",
    "\"\"\"\n",
    "\n",
    "#--------------- 按列排列\n",
    "\"\"\"\n",
    "通过传递axis参数值为0或1，可以对列标签进行排序。 \n",
    "默认情况下，axis = 0，逐行排列。\n",
    "\"\"\"\n",
    "import pandas as pd\n",
    "import numpy as np\n",
    "unsorted_df = pd.DataFrame(np.random.randn(5,2),index=[5,9,8,0,7],columns = ['col2','col1'])\n",
    "sorted_df=unsorted_df.sort_index(axis=1)\n",
    "\"\"\"\n",
    "print (sorted_df) \n",
    "\n",
    "       col1      col2\n",
    "5  0.817850  1.021765\n",
    "9  0.767597  1.350208\n",
    "8  0.866164  0.717240\n",
    "0 -1.427572 -1.072589\n",
    "7 -0.274216  0.968537\n",
    "\"\"\"\n",
    "print()"
   ]
  },
  {
   "cell_type": "markdown",
   "metadata": {},
   "source": [
    "## 按值排序"
   ]
  },
  {
   "cell_type": "code",
   "execution_count": 11,
   "metadata": {},
   "outputs": [
    {
     "name": "stdout",
     "output_type": "stream",
     "text": [
      "\n"
     ]
    }
   ],
   "source": [
    "#---------------------- 按值排序\n",
    "\n",
    "\"\"\"\n",
    "像索引排序一样，sort_values()是按值排序的方法。\n",
    "它接受一个by参数，它将使用要与其排序值的DataFrame的列名称。 \n",
    "\"\"\"\n",
    "import pandas as pd\n",
    "import numpy as np\n",
    "unsorted_df = pd.DataFrame({'col1':[2,1,1,1],'col2':[1,3,2,4]})\n",
    "sorted_df = unsorted_df.sort_values(by='col1')\n",
    "\"\"\"\n",
    "print (sorted_df) \n",
    "\n",
    "   col1  col2\n",
    "1     1     3\n",
    "2     1     2\n",
    "3     1     4\n",
    "0     2     1\n",
    "\"\"\"\n",
    "\n",
    "sorted_df2 = unsorted_df.sort_values(by=['col1','col2'])\n",
    "\"\"\"\n",
    "print (sorted_df2) \n",
    "\n",
    "   col1  col2\n",
    "2     1     2\n",
    "1     1     3\n",
    "3     1     4\n",
    "0     2     1\n",
    "\"\"\"\n",
    "\n",
    "#-------------------- 排序算法\n",
    "\n",
    "\"\"\"\n",
    "sort_values()提供了从mergeesort，heapsort和quicksort中选择算法的一个配置。\n",
    "Mergesort是唯一稳定的算法。 \n",
    "\"\"\"\n",
    "\n",
    "import pandas as pd\n",
    "import numpy as np\n",
    "unsorted_df = pd.DataFrame({'col1':[2,1,1,1],'col2':[1,3,2,4]})\n",
    "sorted_df = unsorted_df.sort_values(by='col1' ,kind='mergesort')\n",
    "\"\"\"\n",
    "print (sorted_df)\n",
    "\n",
    "   col1  col2\n",
    "1     1     3\n",
    "2     1     2\n",
    "3     1     4\n",
    "0     2     1\n",
    "\"\"\" \n",
    "print()"
   ]
  },
  {
   "cell_type": "code",
   "execution_count": null,
   "metadata": {},
   "outputs": [],
   "source": []
  }
 ],
 "metadata": {
  "kernelspec": {
   "display_name": "Python 3",
   "language": "python",
   "name": "python3"
  },
  "language_info": {
   "codemirror_mode": {
    "name": "ipython",
    "version": 3
   },
   "file_extension": ".py",
   "mimetype": "text/x-python",
   "name": "python",
   "nbconvert_exporter": "python",
   "pygments_lexer": "ipython3",
   "version": "3.7.0"
  }
 },
 "nbformat": 4,
 "nbformat_minor": 2
}
