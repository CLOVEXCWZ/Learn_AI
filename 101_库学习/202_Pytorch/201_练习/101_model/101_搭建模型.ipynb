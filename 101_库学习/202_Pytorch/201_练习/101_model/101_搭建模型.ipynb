{
 "cells": [
  {
   "cell_type": "markdown",
   "metadata": {},
   "source": [
    "# torch 搭建模型\n",
    "\n",
    "torch搭建模型可以分为2类，第一是class的方法，另一个是快速搭建\n",
    "\n",
    "- class\n",
    "    - 直接初始化 Layer(torch里面都是继承至Module的)\n",
    "    - 通过 Sequential 快速添加\n",
    "    - 通过 Sequential 的 add 方法一个个组件添加\n",
    "    - 通过 Sequential 添加 dict 来添加\n",
    "- 快速搭建 （未找到可靠的依据---暂不示例，也不推荐）\n",
    "    - 直接通过 Sequential 快速搭建"
   ]
  },
  {
   "cell_type": "markdown",
   "metadata": {},
   "source": [
    "# 通过 继承 Module的方法进行搭建"
   ]
  },
  {
   "cell_type": "code",
   "execution_count": 31,
   "metadata": {},
   "outputs": [],
   "source": [
    "import torch\n",
    "import torch.nn.functional as F\n",
    "from collections import OrderedDict\n",
    "from torchsummary import summary"
   ]
  },
  {
   "cell_type": "code",
   "execution_count": 11,
   "metadata": {},
   "outputs": [
    {
     "name": "stdout",
     "output_type": "stream",
     "text": [
      "----------------------------------------------------------------\n",
      "        Layer (type)               Output Shape         Param #\n",
      "================================================================\n",
      "            Conv2d-1             [-1, 32, 6, 6]             896\n",
      "         MaxPool2d-2             [-1, 32, 3, 3]               0\n",
      "            Linear-3                  [-1, 128]          36,992\n",
      "            Linear-4                   [-1, 10]           1,290\n",
      "================================================================\n",
      "Total params: 39,178\n",
      "Trainable params: 39,178\n",
      "Non-trainable params: 0\n",
      "----------------------------------------------------------------\n",
      "Input size (MB): 0.00\n",
      "Forward/backward pass size (MB): 0.01\n",
      "Params size (MB): 0.15\n",
      "Estimated Total Size (MB): 0.16\n",
      "----------------------------------------------------------------\n"
     ]
    }
   ],
   "source": [
    "# 直接初始化 Layer(torch里面都是继承至Module的)\n",
    "\n",
    "class Net_1(torch.nn.Module):\n",
    "    def __init__(self):\n",
    "        super(Net_1, self).__init__()\n",
    "        # Conv2d(in_channels, out_channels, kernel_size, stride, padding)\n",
    "        self.conv_1 = torch.nn.Conv2d(3, 32, 3, 1, 1)\n",
    "        self.pool_1 = torch.nn.MaxPool2d(2)\n",
    "        self.dense_1 = torch.nn.Linear(32*3*3, 128) # 之所以是32*3*3是因为会经过一个池化层\n",
    "        self.dense_2 = torch.nn.Linear(128, 10)\n",
    "    \n",
    "    def forward(self, x):\n",
    "        x = F.relu(self.conv_1(x))\n",
    "        x = self.pool_1(x)\n",
    "        x = x.view(x.size(0), -1)\n",
    "        x = F.relu(self.dense_1(x))\n",
    "        x = self.dense_2(x)\n",
    "        return x\n",
    "\n",
    "summary(Net_1(), (3, 6, 6))"
   ]
  },
  {
   "cell_type": "code",
   "execution_count": 10,
   "metadata": {},
   "outputs": [
    {
     "name": "stdout",
     "output_type": "stream",
     "text": [
      "----------------------------------------------------------------\n",
      "        Layer (type)               Output Shape         Param #\n",
      "================================================================\n",
      "            Conv2d-1             [-1, 32, 6, 6]             896\n",
      "              ReLU-2             [-1, 32, 6, 6]               0\n",
      "         MaxPool2d-3             [-1, 32, 3, 3]               0\n",
      "            Linear-4                  [-1, 128]          36,992\n",
      "              ReLU-5                  [-1, 128]               0\n",
      "            Linear-6                   [-1, 10]           1,290\n",
      "================================================================\n",
      "Total params: 39,178\n",
      "Trainable params: 39,178\n",
      "Non-trainable params: 0\n",
      "----------------------------------------------------------------\n",
      "Input size (MB): 0.00\n",
      "Forward/backward pass size (MB): 0.02\n",
      "Params size (MB): 0.15\n",
      "Estimated Total Size (MB): 0.17\n",
      "----------------------------------------------------------------\n"
     ]
    }
   ],
   "source": [
    "# 通过 Sequential 快速添加\n",
    "class Net_2(torch.nn.Module):\n",
    "    def __init__(self):\n",
    "        super(Net_2, self).__init__()\n",
    "        self.conv = torch.nn.Sequential(torch.nn.Conv2d(3, 32, 3, 1, 1),\n",
    "                                        torch.nn.ReLU(), \n",
    "                                        torch.nn.MaxPool2d(2))\n",
    "        self.dense = torch.nn.Sequential(torch.nn.Linear(32*3*3, 128),\n",
    "                                         torch.nn.ReLU(),\n",
    "                                         torch.nn.Linear(128, 10))\n",
    "    def forward(self, x):\n",
    "        x = self.conv(x)\n",
    "        x = x.view(x.size(0), -1)\n",
    "        x = self.dense(x)\n",
    "        return x\n",
    "    \n",
    "summary(Net_2(), (3, 6, 6))    "
   ]
  },
  {
   "cell_type": "code",
   "execution_count": 30,
   "metadata": {},
   "outputs": [
    {
     "name": "stdout",
     "output_type": "stream",
     "text": [
      "----------------------------------------------------------------\n",
      "        Layer (type)               Output Shape         Param #\n",
      "================================================================\n",
      "            Conv2d-1             [-1, 32, 6, 6]             896\n",
      "              ReLU-2             [-1, 32, 6, 6]               0\n",
      "         MaxPool2d-3             [-1, 32, 3, 3]               0\n",
      "            Linear-4                  [-1, 128]          36,992\n",
      "              ReLU-5                  [-1, 128]               0\n",
      "            Linear-6                   [-1, 10]           1,290\n",
      "================================================================\n",
      "Total params: 39,178\n",
      "Trainable params: 39,178\n",
      "Non-trainable params: 0\n",
      "----------------------------------------------------------------\n",
      "Input size (MB): 0.00\n",
      "Forward/backward pass size (MB): 0.02\n",
      "Params size (MB): 0.15\n",
      "Estimated Total Size (MB): 0.17\n",
      "----------------------------------------------------------------\n",
      "Net_3(\n",
      "  (conv): Sequential(\n",
      "    (conv_1): Conv2d(3, 32, kernel_size=(3, 3), stride=(1, 1), padding=(1, 1))\n",
      "    (relu_1): ReLU()\n",
      "    (pool_1): MaxPool2d(kernel_size=2, stride=2, padding=0, dilation=1, ceil_mode=False)\n",
      "  )\n",
      "  (dense): Sequential(\n",
      "    (dense_1): Linear(in_features=288, out_features=128, bias=True)\n",
      "    (relu_2): ReLU()\n",
      "    (dense_2): Linear(in_features=128, out_features=10, bias=True)\n",
      "  )\n",
      ")\n"
     ]
    }
   ],
   "source": [
    "# 通过 Sequential 的 add 方法一个个组件添加\n",
    "class Net_3(torch.nn.Module):\n",
    "    def __init__(self):\n",
    "        super(Net_3, self).__init__()\n",
    "        self.conv = torch.nn.Sequential()\n",
    "        self.conv.add_module('conv_1', torch.nn.Conv2d(3, 32, 3, 1, 1))\n",
    "        self.conv.add_module('relu_1', torch.nn.ReLU())\n",
    "        self.conv.add_module('pool_1', torch.nn.MaxPool2d(2))\n",
    "        self.dense = torch.nn.Sequential()\n",
    "        self.dense.add_module('dense_1', torch.nn.Linear(32*3*3, 128))\n",
    "        self.dense.add_module('relu_2', torch.nn.ReLU())\n",
    "        self.dense.add_module('dense_2', torch.nn.Linear(128, 10))\n",
    "    \n",
    "    def forward(self, x):\n",
    "        x = self.conv(x)\n",
    "        x = x.view(x.size(0), -1)\n",
    "        x = self.dense(x)\n",
    "        return x\n",
    "    \n",
    "summary(Net_3(), (3, 6, 6))  \n",
    "print(Net_3())"
   ]
  },
  {
   "cell_type": "code",
   "execution_count": 32,
   "metadata": {},
   "outputs": [
    {
     "name": "stdout",
     "output_type": "stream",
     "text": [
      "----------------------------------------------------------------\n",
      "        Layer (type)               Output Shape         Param #\n",
      "================================================================\n",
      "            Conv2d-1             [-1, 32, 6, 6]             896\n",
      "              ReLU-2             [-1, 32, 6, 6]               0\n",
      "         MaxPool2d-3             [-1, 32, 3, 3]               0\n",
      "            Linear-4                  [-1, 128]          36,992\n",
      "              ReLU-5                  [-1, 128]               0\n",
      "            Linear-6                   [-1, 10]           1,290\n",
      "================================================================\n",
      "Total params: 39,178\n",
      "Trainable params: 39,178\n",
      "Non-trainable params: 0\n",
      "----------------------------------------------------------------\n",
      "Input size (MB): 0.00\n",
      "Forward/backward pass size (MB): 0.02\n",
      "Params size (MB): 0.15\n",
      "Estimated Total Size (MB): 0.17\n",
      "----------------------------------------------------------------\n",
      "Net_4(\n",
      "  (conv): Sequential(\n",
      "    (conv_1): Conv2d(3, 32, kernel_size=(3, 3), stride=(1, 1), padding=(1, 1))\n",
      "    (rule_1): ReLU()\n",
      "    (pool): MaxPool2d(kernel_size=2, stride=2, padding=0, dilation=1, ceil_mode=False)\n",
      "  )\n",
      "  (dense): Sequential(\n",
      "    (dense_1): Linear(in_features=288, out_features=128, bias=True)\n",
      "    (rule_2): ReLU()\n",
      "    (desnse_2): Linear(in_features=128, out_features=10, bias=True)\n",
      "  )\n",
      ")\n"
     ]
    }
   ],
   "source": [
    "# 通过 Sequential 添加 dict 来添加\n",
    "\n",
    "class Net_4(torch.nn.Module):\n",
    "    def __init__(self):\n",
    "        super(Net_4, self).__init__()\n",
    "        self.conv = torch.nn.Sequential(\n",
    "            OrderedDict([\n",
    "                (\"conv_1\", torch.nn.Conv2d(3, 32, 3, 1, 1)),\n",
    "                (\"rule_1\", torch.nn.ReLU()),\n",
    "                (\"pool\", torch.nn.MaxPool2d(2))\n",
    "            ])\n",
    "        )\n",
    "        self.dense = torch.nn.Sequential(\n",
    "            OrderedDict([\n",
    "                (\"dense_1\", torch.nn.Linear(32*3*3, 128)),\n",
    "                (\"rule_2\", torch.nn.ReLU()),\n",
    "                (\"desnse_2\", torch.nn.Linear(128, 10))\n",
    "            ])\n",
    "        )\n",
    "    \n",
    "    def forward(self, x):\n",
    "        x = self.conv(x)\n",
    "        x = x.view(x.size(0), -1)\n",
    "        x = self.dense(x)\n",
    "        return x\n",
    "\n",
    "summary(Net_4(), (3, 6, 6))  \n",
    "print(Net_4())"
   ]
  },
  {
   "cell_type": "code",
   "execution_count": null,
   "metadata": {},
   "outputs": [],
   "source": []
  }
 ],
 "metadata": {
  "kernelspec": {
   "display_name": "Python 3",
   "language": "python",
   "name": "python3"
  },
  "language_info": {
   "codemirror_mode": {
    "name": "ipython",
    "version": 3
   },
   "file_extension": ".py",
   "mimetype": "text/x-python",
   "name": "python",
   "nbconvert_exporter": "python",
   "pygments_lexer": "ipython3",
   "version": "3.7.0"
  }
 },
 "nbformat": 4,
 "nbformat_minor": 2
}
