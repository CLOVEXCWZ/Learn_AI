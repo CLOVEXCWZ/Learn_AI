{
 "cells": [
  {
   "cell_type": "code",
   "execution_count": null,
   "metadata": {},
   "outputs": [],
   "source": []
  },
  {
   "cell_type": "code",
   "execution_count": 29,
   "metadata": {},
   "outputs": [],
   "source": [
    "import torch\n",
    "import torch.nn.functional as F\n",
    "from collections import OrderedDict\n",
    "from torchsummary import summary\n",
    "\n",
    "class Net_5(torch.nn.Module):\n",
    "    def __init__(self):\n",
    "        super(Net_5, self).__init__()\n",
    "        self.conv = torch.nn.Sequential(\n",
    "            OrderedDict([\n",
    "                (\"conv_1\", torch.nn.Conv2d(3, 32, 3, 1, 1)),\n",
    "                (\"rule_1\", torch.nn.ReLU()),\n",
    "                (\"pool\", torch.nn.MaxPool2d(2))\n",
    "            ])\n",
    "        )\n",
    "        self.dense = torch.nn.Sequential(\n",
    "            OrderedDict([\n",
    "                (\"dense_1\", torch.nn.Linear(32*3*3, 128)),\n",
    "                (\"rule_2\", torch.nn.ReLU()),\n",
    "                (\"desnse_2\", torch.nn.Linear(128, 10))\n",
    "            ])\n",
    "        )\n",
    "    \n",
    "    def forward(self, x):\n",
    "        self.conv_output = self.conv(x)\n",
    "        self.conv_view = x.view(x.size(0), -1)\n",
    "        self.output = self.dense(x)\n",
    "        return x\n",
    "    \n",
    "net5 = Net_5()  \n",
    "\n",
    "# net5.state_dict() # 参数\n",
    "\n",
    "# net5.conv[0].out_features = None\n",
    "\n",
    " \n",
    "    \n"
   ]
  },
  {
   "cell_type": "code",
   "execution_count": null,
   "metadata": {},
   "outputs": [],
   "source": []
  }
 ],
 "metadata": {
  "kernelspec": {
   "display_name": "Python 3",
   "language": "python",
   "name": "python3"
  },
  "language_info": {
   "codemirror_mode": {
    "name": "ipython",
    "version": 3
   },
   "file_extension": ".py",
   "mimetype": "text/x-python",
   "name": "python",
   "nbconvert_exporter": "python",
   "pygments_lexer": "ipython3",
   "version": "3.7.0"
  }
 },
 "nbformat": 4,
 "nbformat_minor": 2
}
