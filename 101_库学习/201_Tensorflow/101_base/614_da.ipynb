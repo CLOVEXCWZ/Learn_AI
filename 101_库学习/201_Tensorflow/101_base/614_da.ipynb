{
 "cells": [
  {
   "cell_type": "code",
   "execution_count": 2,
   "metadata": {},
   "outputs": [],
   "source": [
    "import tensorflow as tf\n",
    "import numpy as np \n",
    "from tensorflow.examples.tutorials.mnist import input_data\n",
    "\n",
    "import matplotlib.pyplot as plt"
   ]
  },
  {
   "cell_type": "code",
   "execution_count": 33,
   "metadata": {},
   "outputs": [
    {
     "name": "stdout",
     "output_type": "stream",
     "text": [
      "Extracting ./data/MNIST_data/train-images-idx3-ubyte.gz\n",
      "Extracting ./data/MNIST_data/train-labels-idx1-ubyte.gz\n",
      "Extracting ./data/MNIST_data/t10k-images-idx3-ubyte.gz\n",
      "Extracting ./data/MNIST_data/t10k-labels-idx1-ubyte.gz\n"
     ]
    }
   ],
   "source": [
    "mnist_base_path=\"/Users/zhouwencheng/Desktop/Grass/data/picture/mnist\"\n",
    "# 载入数据集\n",
    "mnist = input_data.read_data_sets(mnist_base_path, one_hot=True)"
   ]
  },
  {
   "cell_type": "code",
   "execution_count": 88,
   "metadata": {},
   "outputs": [],
   "source": [
    "class DA(object):\n",
    "    def __init__(self, n_input = 784, n_hid_1 = 128, n_hid_2 = 64, activetor_func = tf.nn.sigmoid):\n",
    "        self.n_input = n_input\n",
    "        self.n_hid_1 = n_hid_1\n",
    "        self.n_hid_2 = n_hid_2\n",
    "        self.activetor_func = activetor_func\n",
    "        \n",
    "        self.w_encode_1 = self.__get_w_variable(n_input, n_hid_1)\n",
    "        self.w_encode_2 = self.__get_w_variable(n_hid_1, n_hid_2)\n",
    "        self.b_encode_1  = self.__get_b_variable(n_hid_1)\n",
    "        self.b_encode_2 = self.__get_b_variable(n_hid_2)\n",
    "        \n",
    "        self.w_decode_1 = self.__get_w_variable(n_hid_2, n_hid_1)\n",
    "        self.w_decode_2 = self.__get_w_variable(n_hid_1, n_input)\n",
    "        self.b_decode_1  = self.__get_b_variable(n_hid_1)\n",
    "        self.b_decode_2  = self.__get_b_variable(n_input)\n",
    "        \n",
    "        \n",
    "    def __get_w_variable(self, in_size, out_size):\n",
    "        return tf.Variable(tf.truncated_normal(shape = [in_size, out_size], stddev = 0.1))\n",
    "    \n",
    "    def __get_b_variable(self, out_size):\n",
    "        return tf.Variable(tf.constant(0.1, shape = [out_size]))\n",
    "    \n",
    "        \n",
    "    def __add_fc_layer(self, x, W, b, activator_func = None): \n",
    "        mul = tf.matmul(x, W) + b\n",
    "        if activator_func:\n",
    "            return activator_func(mul)\n",
    "        else:\n",
    "            return mul \n",
    "        \n",
    "    def __encode(self, x):\n",
    "        layer_1 = self.__add_fc_layer(x, self.w_encode_1, self.b_encode_1, tf.nn.sigmoid)\n",
    "        layer_2 = self.__add_fc_layer(layer_1, self.w_encode_2, self.b_encode_2, tf.nn.sigmoid) \n",
    "        return layer_2\n",
    "    \n",
    "    def __decode(self, x):\n",
    "        layer_1 = self.__add_fc_layer(x, self.w_decode_1, self.b_decode_1, tf.nn.sigmoid)\n",
    "        layer_2 = self.__add_fc_layer(layer_1, self.w_decode_2, self.b_decode_2, tf.nn.sigmoid) \n",
    "        return layer_2\n",
    "    \n",
    "    def loss(self, x):\n",
    "        encode = self.__encode(x)\n",
    "        decond = self.__decode(encode)\n",
    "        loss = tf.reduce_mean(tf.pow(decond - x, 2))\n",
    "        return loss\n",
    "    \n",
    "    def prediction(self, x):\n",
    "        encode = self.__encode(x)\n",
    "        decond = self.__decode(encode)\n",
    "        return decond\n",
    "    \n",
    "    def paramters(self):\n",
    "        return [self.w_decode_1,  self.w_encode_2, self.b_encode_1, self.b_encode_2,\n",
    "                  self.w_decode_1,  self.w_decode_2, self.b_decode_1, self.b_decode_2]"
   ]
  },
  {
   "cell_type": "code",
   "execution_count": 84,
   "metadata": {},
   "outputs": [],
   "source": [
    "# Parameter\n",
    "learning_rate = 0.01\n",
    "training_epochs = 15 # 五组训练\n",
    "batch_size = 256\n",
    "display_step = 1\n",
    "examples_to_show = 10\n",
    "\n",
    "keep_prob = 1\n",
    "\n",
    "# Network Parameters\n",
    "n_input = 784  # MNIST data input (img shape: 28*28)"
   ]
  },
  {
   "cell_type": "code",
   "execution_count": 85,
   "metadata": {},
   "outputs": [],
   "source": [
    "x = tf.placeholder(dtype=tf.float32, shape=[None, 28*28])   "
   ]
  },
  {
   "cell_type": "code",
   "execution_count": 86,
   "metadata": {},
   "outputs": [],
   "source": [
    "da = DA()\n",
    "cost = da.loss(x)\n",
    "\n",
    "y_pred = da.prediction(x)\n",
    "# Define loss and optimizer, minimize the squared error\n",
    "# cost = tf.reduce_mean(tf.pow(y_true - y_pred, 2))\n",
    "# cost = tf.reduce_mean(tf.nn.softmax_cross_entropy_with_logits(labels=y_true, logits=y_pred))\n",
    "optimizer = tf.train.AdamOptimizer(learning_rate).minimize(cost)"
   ]
  },
  {
   "cell_type": "code",
   "execution_count": 87,
   "metadata": {
    "scrolled": false
   },
   "outputs": [
    {
     "name": "stdout",
     "output_type": "stream",
     "text": [
      "Epoch: 0001 cost= 0.047778632\n",
      "Epoch: 0002 cost= 0.031910852\n",
      "Epoch: 0003 cost= 0.022981299\n",
      "Epoch: 0004 cost= 0.017555360\n",
      "Epoch: 0005 cost= 0.015819369\n",
      "Epoch: 0006 cost= 0.014729501\n",
      "Epoch: 0007 cost= 0.012549479\n",
      "Epoch: 0008 cost= 0.013085406\n",
      "Epoch: 0009 cost= 0.011626001\n",
      "Epoch: 0010 cost= 0.011149915\n",
      "Epoch: 0011 cost= 0.010111382\n",
      "Epoch: 0012 cost= 0.009756357\n",
      "Epoch: 0013 cost= 0.009206863\n",
      "Epoch: 0014 cost= 0.008331576\n",
      "Epoch: 0015 cost= 0.008716340\n",
      "Optimization Finished!\n"
     ]
    },
    {
     "data": {
      "image/png": "[encoded data removed]",
      "text/plain": [
       "<Figure size 720x144 with 20 Axes>"
      ]
     },
     "metadata": {
      "needs_background": "light"
     },
     "output_type": "display_data"
    }
   ],
   "source": [
    "# Launch the graph\n",
    "with tf.Session() as sess:\n",
    "    # tf 马上就要废弃tf.initialize_all_variables()这种写法\n",
    "    # 替换成下面:\n",
    "    sess.run(tf.global_variables_initializer())\n",
    "    total_batch = int(mnist.train.num_examples/batch_size)\n",
    "    # Training cycle\n",
    "    for epoch in range(training_epochs):\n",
    "        # Loop over all batches\n",
    "        for i in range(total_batch):\n",
    "            batch_xs, batch_ys = mnist.train.next_batch(batch_size)  # max(x) = 1, min(x) = 0 \n",
    "            _, c = sess.run([optimizer, cost], feed_dict={x: batch_xs})\n",
    "        # Display logs per epoch step\n",
    "        if epoch % display_step == 0:\n",
    "            print(\"Epoch:\", '%04d' % (epoch+1),\n",
    "                  \"cost=\", \"{:.9f}\".format(c))\n",
    "\n",
    "    print(\"Optimization Finished!\")\n",
    "    \n",
    "    # # Applying encode and decode over test set\n",
    "    encode_decode = sess.run(\n",
    "        y_pred, feed_dict={x: mnist.test.images[:examples_to_show]})\n",
    "    # Compare original images with their reconstructions\n",
    "    f, a = plt.subplots(2, 10, figsize=(10, 2))\n",
    "    for i in range(examples_to_show):\n",
    "        a[0][i].imshow(np.reshape(mnist.test.images[i], (28, 28)))\n",
    "        a[1][i].imshow(np.reshape(encode_decode[i], (28, 28)))\n",
    "    plt.show()"
   ]
  },
  {
   "cell_type": "code",
   "execution_count": null,
   "metadata": {},
   "outputs": [],
   "source": []
  }
 ],
 "metadata": {
  "kernelspec": {
   "display_name": "Python 3",
   "language": "python",
   "name": "python3"
  },
  "language_info": {
   "codemirror_mode": {
    "name": "ipython",
    "version": 3
   },
   "file_extension": ".py",
   "mimetype": "text/x-python",
   "name": "python",
   "nbconvert_exporter": "python",
   "pygments_lexer": "ipython3",
   "version": "3.7.0"
  },
  "toc": {
   "base_numbering": 1,
   "nav_menu": {},
   "number_sections": true,
   "sideBar": true,
   "skip_h1_title": false,
   "title_cell": "Table of Contents",
   "title_sidebar": "Contents",
   "toc_cell": false,
   "toc_position": {},
   "toc_section_display": true,
   "toc_window_display": false
  }
 },
 "nbformat": 4,
 "nbformat_minor": 2
}
