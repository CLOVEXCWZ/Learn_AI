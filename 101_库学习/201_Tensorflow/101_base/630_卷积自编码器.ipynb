{
 "cells": [
  {
   "cell_type": "code",
   "execution_count": 2,
   "metadata": {},
   "outputs": [],
   "source": [
    "import tensorflow as tf\n",
    "from tensorflow.examples.tutorials.mnist import input_data"
   ]
  },
  {
   "cell_type": "code",
   "execution_count": 3,
   "metadata": {},
   "outputs": [
    {
     "name": "stderr",
     "output_type": "stream",
     "text": [
      "WARNING: Logging before flag parsing goes to stderr.\n",
      "W0815 22:14:54.577753 4321588096 deprecation.py:323] From <ipython-input-3-09d24b014694>:3: read_data_sets (from tensorflow.contrib.learn.python.learn.datasets.mnist) is deprecated and will be removed in a future version.\n",
      "Instructions for updating:\n",
      "Please use alternatives such as official/mnist/dataset.py from tensorflow/models.\n",
      "W0815 22:14:54.581096 4321588096 deprecation.py:323] From /Users/zhouwencheng/Desktop/Grass/02Study/02PythonEnv/envpy3.7/lib/python3.7/site-packages/tensorflow/contrib/learn/python/learn/datasets/mnist.py:260: maybe_download (from tensorflow.contrib.learn.python.learn.datasets.base) is deprecated and will be removed in a future version.\n",
      "Instructions for updating:\n",
      "Please write your own downloading logic.\n",
      "W0815 22:14:54.582466 4321588096 deprecation.py:323] From /Users/zhouwencheng/Desktop/Grass/02Study/02PythonEnv/envpy3.7/lib/python3.7/site-packages/tensorflow/contrib/learn/python/learn/datasets/mnist.py:262: extract_images (from tensorflow.contrib.learn.python.learn.datasets.mnist) is deprecated and will be removed in a future version.\n",
      "Instructions for updating:\n",
      "Please use tf.data to implement this functionality.\n"
     ]
    },
    {
     "name": "stdout",
     "output_type": "stream",
     "text": [
      "Extracting /Users/zhouwencheng/Desktop/Grass/data/picture/mnist/train-images-idx3-ubyte.gz\n"
     ]
    },
    {
     "name": "stderr",
     "output_type": "stream",
     "text": [
      "W0815 22:14:54.884186 4321588096 deprecation.py:323] From /Users/zhouwencheng/Desktop/Grass/02Study/02PythonEnv/envpy3.7/lib/python3.7/site-packages/tensorflow/contrib/learn/python/learn/datasets/mnist.py:267: extract_labels (from tensorflow.contrib.learn.python.learn.datasets.mnist) is deprecated and will be removed in a future version.\n",
      "Instructions for updating:\n",
      "Please use tf.data to implement this functionality.\n",
      "W0815 22:14:54.887201 4321588096 deprecation.py:323] From /Users/zhouwencheng/Desktop/Grass/02Study/02PythonEnv/envpy3.7/lib/python3.7/site-packages/tensorflow/contrib/learn/python/learn/datasets/mnist.py:110: dense_to_one_hot (from tensorflow.contrib.learn.python.learn.datasets.mnist) is deprecated and will be removed in a future version.\n",
      "Instructions for updating:\n",
      "Please use tf.one_hot on tensors.\n",
      "W0815 22:14:54.968578 4321588096 deprecation.py:323] From /Users/zhouwencheng/Desktop/Grass/02Study/02PythonEnv/envpy3.7/lib/python3.7/site-packages/tensorflow/contrib/learn/python/learn/datasets/mnist.py:290: DataSet.__init__ (from tensorflow.contrib.learn.python.learn.datasets.mnist) is deprecated and will be removed in a future version.\n",
      "Instructions for updating:\n",
      "Please use alternatives such as official/mnist/dataset.py from tensorflow/models.\n"
     ]
    },
    {
     "name": "stdout",
     "output_type": "stream",
     "text": [
      "Extracting /Users/zhouwencheng/Desktop/Grass/data/picture/mnist/train-labels-idx1-ubyte.gz\n",
      "Extracting /Users/zhouwencheng/Desktop/Grass/data/picture/mnist/t10k-images-idx3-ubyte.gz\n",
      "Extracting /Users/zhouwencheng/Desktop/Grass/data/picture/mnist/t10k-labels-idx1-ubyte.gz\n"
     ]
    }
   ],
   "source": [
    "mnist_base_path=\"/Users/zhouwencheng/Desktop/Grass/data/picture/mnist\"\n",
    "# 载入数据集\n",
    "mnist = input_data.read_data_sets(mnist_base_path, one_hot=True)"
   ]
  },
  {
   "cell_type": "code",
   "execution_count": 4,
   "metadata": {},
   "outputs": [],
   "source": [
    "x = tf.placeholder(dtype=tf.float32, shape=[None, 28*28])\n",
    "x_flat = tf.reshape(x, shape=[-1, 28, 28, 1])\n",
    "# x_sigmoid = tf.nn.sigmoid(x_flat)"
   ]
  },
  {
   "cell_type": "code",
   "execution_count": 9,
   "metadata": {},
   "outputs": [],
   "source": [
    "### 编码器--压缩\n",
    "conv1 = tf.layers.conv2d(x_flat, 16, (3,3), padding='same', activation=tf.nn.relu)\n",
    "# 当前shape: 28x28x16\n",
    "maxpool1 = tf.layers.max_pooling2d(conv1, (2,2), (2,2), padding='same')\n",
    "# 当前shape: 14x14x16\n",
    "conv2 = tf.layers.conv2d(maxpool1, 8, (3,3), padding='same', activation=tf.nn.relu)\n",
    "# 当前shape: 14x14x8\n",
    "maxpool2 = tf.layers.max_pooling2d(conv2, (2,2), (2,2), padding='same')\n",
    "# 当前shape: 7x7x8\n",
    "conv3 = tf.layers.conv2d(maxpool2, 8, (3,3), padding='same', activation=tf.nn.relu)\n",
    "# 当前shape: 7x7x8\n",
    "encoded = tf.layers.max_pooling2d(conv3, (2,2), (2,2), padding='same')\n",
    "# 当前shape: 4x4x8 "
   ]
  },
  {
   "cell_type": "code",
   "execution_count": 10,
   "metadata": {},
   "outputs": [],
   "source": [
    "### 解码器--还原\n",
    "upsample1 = tf.image.resize_nearest_neighbor(encoded, (7,7))\n",
    "# 当前shape: 7x7x8\n",
    "conv4 = tf.layers.conv2d(upsample1, 8, (3,3), padding='same', activation=tf.nn.relu)\n",
    "# 当前shape: 7x7x8\n",
    "upsample2 = tf.image.resize_nearest_neighbor(conv4, (14,14))\n",
    "# 当前shape: 14x14x8\n",
    "conv5 = tf.layers.conv2d(upsample2, 8, (3,3), padding='same', activation=tf.nn.relu)\n",
    "# 当前shape: 14x14x8\n",
    "upsample3 = tf.image.resize_nearest_neighbor(conv5, (28,28))\n",
    "# 当前shape: 28x28x8\n",
    "conv6 = tf.layers.conv2d(upsample3, 16, (3,3), padding='same', activation=tf.nn.relu)\n",
    "# 当前shape: 28x28x16 \n",
    "\n",
    "logits = tf.layers.conv2d(conv6, 1, (3,3), padding='same', activation=None)\n",
    "#当前shape: 28x28x1\n",
    "decoded = tf.nn.sigmoid(logits, name='decoded')"
   ]
  },
  {
   "cell_type": "code",
   "execution_count": 23,
   "metadata": {},
   "outputs": [],
   "source": [
    "#计算损失函数\n",
    "# loss = tf.nn.sigmoid_cross_entropy_with_logits(labels=x_flat, logits=logits)\n",
    "# cost = tf.reduce_mean(loss)\n",
    "\n",
    "cost = tf.reduce_mean(tf.pow(x_flat - logits, 2))\n",
    "\n",
    "#使用adam优化器优化损失函数\n",
    "opt = tf.train.AdamOptimizer(0.01).minimize(cost) "
   ]
  },
  {
   "cell_type": "code",
   "execution_count": 24,
   "metadata": {
    "scrolled": false
   },
   "outputs": [
    {
     "name": "stdout",
     "output_type": "stream",
     "text": [
      "BG\n",
      "epoch: 1 loss: 0.11070447\n",
      "epoch: 1 loss: 0.072767735\n",
      "epoch: 1 loss: 0.055394635\n",
      "epoch: 1 loss: 0.050032437\n",
      "epoch: 1 loss: 0.04684939\n",
      "epoch: 1 loss: 0.041778013\n",
      "epoch: 1 loss: 0.040105715\n",
      "epoch: 1 loss: 0.039704423\n",
      "epoch: 1 loss: 0.036445543\n",
      "epoch: 1 loss: 0.035552274\n",
      "epoch: 1 loss: 0.03345844\n",
      "epoch: 1 loss: 0.03433732\n",
      "epoch: 1 loss: 0.03293147\n",
      "epoch: 1 loss: 0.030422177\n",
      "epoch: 1 loss: 0.03096932\n",
      "epoch: 1 loss: 0.03012511\n",
      "epoch: 1 loss: 0.02894497\n",
      "epoch: 1 loss: 0.028640613\n",
      "epoch: 1 loss: 0.028663807\n",
      "epoch: 1 loss: 0.032203212\n",
      "epoch: 1 loss: 0.03348929\n",
      "epoch: 1 loss: 0.028848818\n",
      "epoch: 1 loss: 0.026814912\n",
      "epoch: 1 loss: 0.02569856\n",
      "epoch: 1 loss: 0.025769435\n",
      "epoch: 1 loss: 0.025838863\n",
      "epoch: 1 loss: 0.025335513\n",
      "epoch: 1 loss: 0.024626818\n",
      "epoch: 2 loss: 0.025243219\n",
      "epoch: 2 loss: 0.026949765\n",
      "epoch: 2 loss: 0.025641246\n",
      "epoch: 2 loss: 0.024318824\n",
      "epoch: 2 loss: 0.025274653\n",
      "epoch: 2 loss: 0.024083735\n",
      "epoch: 2 loss: 0.024941947\n",
      "epoch: 2 loss: 0.02554465\n",
      "epoch: 2 loss: 0.02418136\n",
      "epoch: 2 loss: 0.025672225\n",
      "epoch: 2 loss: 0.030651899\n",
      "epoch: 2 loss: 0.027933082\n",
      "epoch: 2 loss: 0.025548024\n",
      "epoch: 2 loss: 0.022380246\n",
      "epoch: 2 loss: 0.021800451\n",
      "epoch: 2 loss: 0.022466816\n",
      "epoch: 2 loss: 0.022499872\n",
      "epoch: 2 loss: 0.022056025\n",
      "epoch: 2 loss: 0.021963557\n",
      "epoch: 2 loss: 0.022970816\n",
      "epoch: 2 loss: 0.023245275\n",
      "epoch: 2 loss: 0.02183357\n",
      "epoch: 2 loss: 0.021730572\n",
      "epoch: 2 loss: 0.027549215\n",
      "epoch: 2 loss: 0.027660815\n",
      "epoch: 2 loss: 0.024072649\n",
      "epoch: 2 loss: 0.021976477\n",
      "epoch: 2 loss: 0.02184324\n"
     ]
    },
    {
     "data": {
      "image/png": "[encoded data removed]",
      "text/plain": [
       "<Figure size 720x144 with 20 Axes>"
      ]
     },
     "metadata": {
      "needs_background": "light"
     },
     "output_type": "display_data"
    }
   ],
   "source": [
    "import matplotlib.pyplot as plt\n",
    "import numpy as np\n",
    "\n",
    "epochs = 2\n",
    "batch_size = 200\n",
    "\n",
    "# \n",
    "\n",
    "print(\"BG\")\n",
    "with tf.Session() as sess:\n",
    "    sess.run(tf.global_variables_initializer())\n",
    "    for e in range(epochs):\n",
    "        for index in range(mnist.train.num_examples//batch_size):\n",
    "            x_train, y_train = mnist.train.next_batch(batch_size)  \n",
    "            batch_cost, _ = sess.run([cost, opt], feed_dict={x:x_train}) \n",
    "            if index%10 == 0:\n",
    "                print(\"epoch:\", e+1, \"loss:\", batch_cost)\n",
    "                \n",
    "    # # Applying encode and decode over test set\n",
    "    encode_decode = sess.run(\n",
    "        logits, feed_dict={x: mnist.test.images[:10]})\n",
    "    # Compare original images with their reconstructions\n",
    "    f, a = plt.subplots(2, 10, figsize=(10, 2))\n",
    "    for i in range(10):\n",
    "        a[0][i].imshow(np.reshape(mnist.test.images[i], (28, 28)))\n",
    "        a[1][i].imshow(np.reshape(encode_decode[i], (28, 28)))\n",
    "    plt.show()"
   ]
  },
  {
   "cell_type": "code",
   "execution_count": null,
   "metadata": {},
   "outputs": [],
   "source": []
  },
  {
   "cell_type": "code",
   "execution_count": null,
   "metadata": {},
   "outputs": [],
   "source": []
  },
  {
   "cell_type": "code",
   "execution_count": null,
   "metadata": {},
   "outputs": [],
   "source": []
  },
  {
   "cell_type": "code",
   "execution_count": null,
   "metadata": {},
   "outputs": [],
   "source": []
  },
  {
   "cell_type": "code",
   "execution_count": null,
   "metadata": {},
   "outputs": [],
   "source": []
  },
  {
   "cell_type": "code",
   "execution_count": null,
   "metadata": {},
   "outputs": [],
   "source": []
  },
  {
   "cell_type": "code",
   "execution_count": null,
   "metadata": {},
   "outputs": [],
   "source": []
  },
  {
   "cell_type": "code",
   "execution_count": null,
   "metadata": {},
   "outputs": [],
   "source": []
  }
 ],
 "metadata": {
  "kernelspec": {
   "display_name": "Python 3",
   "language": "python",
   "name": "python3"
  },
  "language_info": {
   "codemirror_mode": {
    "name": "ipython",
    "version": 3
   },
   "file_extension": ".py",
   "mimetype": "text/x-python",
   "name": "python",
   "nbconvert_exporter": "python",
   "pygments_lexer": "ipython3",
   "version": "3.7.0"
  },
  "toc": {
   "base_numbering": 1,
   "nav_menu": {},
   "number_sections": true,
   "sideBar": true,
   "skip_h1_title": false,
   "title_cell": "Table of Contents",
   "title_sidebar": "Contents",
   "toc_cell": false,
   "toc_position": {},
   "toc_section_display": true,
   "toc_window_display": false
  }
 },
 "nbformat": 4,
 "nbformat_minor": 2
}
