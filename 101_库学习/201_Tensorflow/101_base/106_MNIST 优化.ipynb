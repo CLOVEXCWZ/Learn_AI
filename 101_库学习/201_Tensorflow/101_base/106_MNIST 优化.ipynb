{
 "cells": [
  {
   "cell_type": "code",
   "execution_count": 1,
   "metadata": {},
   "outputs": [],
   "source": [
    "import tensorflow as tf\n",
    "from tensorflow.examples.tutorials.mnist import input_data"
   ]
  },
  {
   "cell_type": "code",
   "execution_count": 3,
   "metadata": {},
   "outputs": [
    {
     "name": "stdout",
     "output_type": "stream",
     "text": [
      "Extracting ./data/MNIST_data/train-images-idx3-ubyte.gz\n",
      "Extracting ./data/MNIST_data/train-labels-idx1-ubyte.gz\n",
      "Extracting ./data/MNIST_data/t10k-images-idx3-ubyte.gz\n",
      "Extracting ./data/MNIST_data/t10k-labels-idx1-ubyte.gz\n"
     ]
    }
   ],
   "source": [
    "mnist_base_path=\"/Users/zhouwencheng/Desktop/Grass/data/picture/mnist\"\n",
    "# 载入数据集\n",
    "mnist = input_data.read_data_sets(mnist_base_path, one_hot=True)"
   ]
  },
  {
   "cell_type": "code",
   "execution_count": 12,
   "metadata": {},
   "outputs": [
    {
     "name": "stdout",
     "output_type": "stream",
     "text": [
      "accuracy: 0.9501  lr: 0.001\n",
      "accuracy: 0.9626  lr: 0.00095\n",
      "accuracy: 0.969  lr: 0.0009025\n",
      "accuracy: 0.9696  lr: 0.000857375\n",
      "accuracy: 0.9739  lr: 0.00081450626\n",
      "accuracy: 0.9768  lr: 0.0007737809\n",
      "accuracy: 0.9754  lr: 0.0007350919\n",
      "accuracy: 0.9758  lr: 0.0006983373\n",
      "accuracy: 0.9751  lr: 0.0006634204\n",
      "accuracy: 0.9779  lr: 0.0006302494\n",
      "accuracy: 0.9775  lr: 0.0005987369\n",
      "accuracy: 0.9795  lr: 0.0005688001\n",
      "accuracy: 0.9802  lr: 0.0005403601\n",
      "accuracy: 0.9795  lr: 0.0005133421\n",
      "accuracy: 0.9795  lr: 0.000487675\n",
      "accuracy: 0.9778  lr: 0.00046329122\n",
      "accuracy: 0.9788  lr: 0.00044012666\n",
      "accuracy: 0.9799  lr: 0.00041812033\n",
      "accuracy: 0.9809  lr: 0.00039721432\n",
      "accuracy: 0.9802  lr: 0.0003773536\n",
      "accuracy: 0.9804  lr: 0.00035848594\n",
      "accuracy: 0.979  lr: 0.00034056162\n",
      "accuracy: 0.979  lr: 0.00032353355\n",
      "accuracy: 0.9792  lr: 0.00030735688\n",
      "accuracy: 0.9804  lr: 0.000291989\n",
      "accuracy: 0.9811  lr: 0.00027738957\n",
      "accuracy: 0.9814  lr: 0.0002635201\n",
      "accuracy: 0.9808  lr: 0.00025034408\n",
      "accuracy: 0.9816  lr: 0.00023782688\n",
      "accuracy: 0.981  lr: 0.00022593554\n",
      "accuracy: 0.9795  lr: 0.00021463877\n",
      "accuracy: 0.9809  lr: 0.00020390682\n",
      "accuracy: 0.9811  lr: 0.00019371149\n",
      "accuracy: 0.981  lr: 0.0001840259\n",
      "accuracy: 0.9806  lr: 0.00017482461\n",
      "accuracy: 0.9811  lr: 0.00016608338\n",
      "accuracy: 0.9811  lr: 0.00015777921\n",
      "accuracy: 0.981  lr: 0.00014989026\n",
      "accuracy: 0.9815  lr: 0.00014239574\n",
      "accuracy: 0.9805  lr: 0.00013527596\n",
      "accuracy: 0.9807  lr: 0.00012851215\n",
      "accuracy: 0.9813  lr: 0.00012208655\n",
      "accuracy: 0.9806  lr: 0.00011598222\n",
      "accuracy: 0.9808  lr: 0.00011018311\n",
      "accuracy: 0.9806  lr: 0.000104673956\n",
      "accuracy: 0.9808  lr: 9.944026e-05\n",
      "accuracy: 0.9811  lr: 9.446825e-05\n",
      "accuracy: 0.981  lr: 8.974483e-05\n",
      "accuracy: 0.9815  lr: 8.525759e-05\n",
      "accuracy: 0.9809  lr: 8.099471e-05\n",
      "accuracy: 0.9811  lr: 7.6944976e-05\n"
     ]
    },
    {
     "data": {
      "text/plain": [
       "550"
      ]
     },
     "execution_count": 12,
     "metadata": {},
     "output_type": "execute_result"
    }
   ],
   "source": [
    "# 每个批次的大小\n",
    "batch_size = 100\n",
    "# 计算一共有多少个批次 (550)\n",
    "n_batch = mnist.train.num_examples // batch_size\n",
    "\n",
    "# 定义两个 placeholder\n",
    "x = tf.placeholder(tf.float32, [None, 784])\n",
    "y = tf.placeholder(tf.float32, [None, 10])\n",
    "keep_prob = tf.placeholder(tf.float32)\n",
    "lr = tf.Variable(0.001,   dtype = tf.float32)\n",
    "\n",
    "# 创建一个简单的神经网络\n",
    "W1 = tf.Variable(tf.truncated_normal([784, 500], stddev = 0.1))\n",
    "b1 = tf.Variable(tf.zeros([500]) + 0.1)\n",
    "L1 = tf.nn.tanh(tf.matmul(x, W1) + b1)\n",
    "L1_drop = tf.nn.dropout(L1, keep_prob)\n",
    "\n",
    "W2 = tf.Variable(tf.truncated_normal([500, 300], stddev = 0.1))\n",
    "b2 = tf.Variable(tf.zeros([300]) + 0.1)\n",
    "L2 = tf.nn.tanh(tf.matmul(L1_drop, W2) + b2)\n",
    "L2_drop = tf.nn.dropout(L2, keep_prob)\n",
    "\n",
    "W3 = tf.Variable(tf.truncated_normal([300, 10], stddev = 0.1))\n",
    "b3 = tf.Variable(tf.zeros([10]) + 0.1) \n",
    "prediction = tf.nn.softmax(tf.matmul(L2_drop, W3) + b3)\n",
    "\n",
    "# 定义 二次代价函数\n",
    "# loss = tf.reduce_mean(tf.square(y - prediction))\n",
    "# 使用交叉熵\n",
    "loss = tf.reduce_mean(tf.nn.softmax_cross_entropy_with_logits(labels = y, logits = prediction))\n",
    "\n",
    "# 使用梯度下降法\n",
    "train_step = tf.train.AdamOptimizer (lr).minimize(loss)\n",
    "# 初始化变量\n",
    "init = tf.global_variables_initializer()\n",
    "\n",
    "# 结果放在一个布尔型列表中\n",
    "correct_prediction = tf.equal(tf.arg_max(y, 1), tf.arg_max(prediction, 1))\n",
    "# 求准确率\n",
    "accuracy = tf.reduce_mean(tf.cast(correct_prediction, tf.float32))\n",
    "\n",
    "\n",
    "with tf.Session() as sess:\n",
    "    sess.run(init)\n",
    "    for epoch in range(51):\n",
    "        \n",
    "        # 动态改变学习率\n",
    "        sess.run(tf.assign(lr, 0.001 * (0.95 ** epoch)))\n",
    "        for batch in range(n_batch): \n",
    "            batch_xs, batch_ys = mnist.train.next_batch(batch_size)\n",
    "            sess.run(train_step, feed_dict = {x:batch_xs, y:batch_ys, keep_prob:1.0})\n",
    "        acc = sess.run(accuracy, feed_dict = {x:mnist.test.images, y:mnist.test.labels, keep_prob:1.0})\n",
    "#         acc1 = sess.run(accuracy, feed_dict = {x:mnist.train.images, y:mnist.train.labels, keep_prob:1.0})\n",
    "        print('accuracy:', acc, ' lr:', sess.run(lr))\n",
    "            \n",
    "\n",
    "\n",
    "n_batch"
   ]
  },
  {
   "cell_type": "code",
   "execution_count": null,
   "metadata": {},
   "outputs": [],
   "source": []
  }
 ],
 "metadata": {
  "kernelspec": {
   "display_name": "Python 3",
   "language": "python",
   "name": "python3"
  },
  "language_info": {
   "codemirror_mode": {
    "name": "ipython",
    "version": 3
   },
   "file_extension": ".py",
   "mimetype": "text/x-python",
   "name": "python",
   "nbconvert_exporter": "python",
   "pygments_lexer": "ipython3",
   "version": "3.7.0"
  },
  "toc": {
   "base_numbering": 1,
   "nav_menu": {},
   "number_sections": true,
   "sideBar": true,
   "skip_h1_title": false,
   "title_cell": "Table of Contents",
   "title_sidebar": "Contents",
   "toc_cell": false,
   "toc_position": {},
   "toc_section_display": true,
   "toc_window_display": false
  }
 },
 "nbformat": 4,
 "nbformat_minor": 2
}
