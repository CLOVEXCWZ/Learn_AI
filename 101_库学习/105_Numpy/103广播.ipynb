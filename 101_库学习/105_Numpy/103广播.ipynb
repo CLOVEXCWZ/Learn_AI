{
 "cells": [
  {
   "cell_type": "markdown",
   "metadata": {},
   "source": [
    "# 广播\n",
    "术语广播是指Numpy在算术运算期间处理不同形状的数组的能力。对数组的算术运算通常在相应的元素上进行。如果两个阵列具有完全相同的形状，则这些操作被无缝执行。"
   ]
  },
  {
   "cell_type": "code",
   "execution_count": 2,
   "metadata": {},
   "outputs": [
    {
     "name": "stdout",
     "output_type": "stream",
     "text": [
      "[ 10  40  90 160]\n",
      "[[ 1.  2.  3.]\n",
      " [11. 12. 13.]\n",
      " [21. 22. 23.]\n",
      " [31. 32. 33.]]\n"
     ]
    }
   ],
   "source": [
    "import numpy as np \n",
    "\n",
    "a = np.array([1,2,3,4]) \n",
    "b = np.array([10,20,30,40]) \n",
    "c = a * b \n",
    "print(c)  # [ 10  40  90 160]\n",
    "\n",
    "a = np.array([[0.0,0.0,0.0],[10.0,10.0,10.0],[20.0,20.0,20.0],[30.0,30.0,30.0]]) \n",
    "b = np.array([1.0,2.0,3.0])  \n",
    "print(a+b)\n",
    "\"\"\"\n",
    "a:\n",
    "[[ 0. 0. 0.]\n",
    " [ 10. 10. 10.]\n",
    " [ 20. 20. 20.]\n",
    " [ 30. 30. 30.]]\n",
    " \n",
    "b:\n",
    "[ 1. 2. 3.]\n",
    "\n",
    "a+b:\n",
    "[[ 1. 2. 3.]\n",
    " [ 11. 12. 13.]\n",
    " [ 21. 22. 23.]\n",
    " [ 31. 32. 33.]]\n",
    " \n",
    " \n",
    "b数组被处理成：\n",
    "[[ 1. 2. 3.],\n",
    " [ 1. 2. 3.],\n",
    " [ 1. 2. 3.],\n",
    " [ 1. 2. 3.] ]\n",
    " 然后在和a相加\n",
    "\"\"\"\n"
   ]
  },
  {
   "cell_type": "code",
   "execution_count": null,
   "metadata": {},
   "outputs": [],
   "source": []
  }
 ],
 "metadata": {
  "kernelspec": {
   "display_name": "Python 3",
   "language": "python",
   "name": "python3"
  },
  "language_info": {
   "codemirror_mode": {
    "name": "ipython",
    "version": 3
   },
   "file_extension": ".py",
   "mimetype": "text/x-python",
   "name": "python",
   "nbconvert_exporter": "python",
   "pygments_lexer": "ipython3",
   "version": "3.7.0"
  }
 },
 "nbformat": 4,
 "nbformat_minor": 2
}
