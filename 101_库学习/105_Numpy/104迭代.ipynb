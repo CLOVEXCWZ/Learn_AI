{
 "cells": [
  {
   "cell_type": "markdown",
   "metadata": {},
   "source": [
    "# 迭代\n",
    "\n",
    "NumPy 包包含一个迭代器对象numpy.nditer。 它是一个有效的多维迭代器对象，可以用于在数组上进行迭代。 数组的每个元素可使用 Python 的标准Iterator接口来访问。\n",
    "- nditer\n",
    "- 迭代顺序\n",
    "  - 如果相同元素使用 F 风格顺序存储，则迭代器选择以更有效的方式对数组进行迭代。\n",
    "- 修改数组的值\n",
    "  - nditer对象有另一个可选参数op_flags。 其默认值为只读，但可以设置为读写或只写模式。 这将允许使用此迭代器修改数组元素。 \n",
    "- 外部循环\n",
    "- 广播迭代\n",
    "  - 如果两个数组是可广播的，nditer组合对象能够同时迭代它们。 假设数组a具有维度 3X4，并且存在维度为 1X4 的另一个数组b，则使用以下类型的迭代器(数组b被广播到a的大小) "
   ]
  },
  {
   "cell_type": "markdown",
   "metadata": {},
   "source": [
    "## 1 nditer\n",
    "np.nditer(a, op_flags=['readwrite'])"
   ]
  },
  {
   "cell_type": "code",
   "execution_count": 5,
   "metadata": {},
   "outputs": [
    {
     "name": "stdout",
     "output_type": "stream",
     "text": [
      "0\n",
      "5\n",
      "10\n",
      "15\n",
      "20\n",
      "25\n",
      "30\n",
      "35\n",
      "40\n",
      "45\n",
      "50\n",
      "55\n"
     ]
    }
   ],
   "source": [
    "import numpy as np \n",
    "a = np.arange(0,60,5).reshape(3, -1)\n",
    "for x in np.nditer(a):  \n",
    "    print(x) # 遍历每一个元素\n",
    "\"\"\"\n",
    "0 5 10 15 20 25 30 35 40 45 50 55\n",
    "\"\"\""
   ]
  },
  {
   "cell_type": "markdown",
   "metadata": {},
   "source": [
    "# 2 迭代顺序\n",
    "如果相同元素使用 F 风格顺序存储，则迭代器选择以更有效的方式对数组进行迭代。"
   ]
  },
  {
   "cell_type": "code",
   "execution_count": 11,
   "metadata": {},
   "outputs": [
    {
     "name": "stdout",
     "output_type": "stream",
     "text": [
      "[[ 0 20 40]\n",
      " [ 5 25 45]\n",
      " [10 30 50]\n",
      " [15 35 55]]\n",
      "[[ 0 20 40]\n",
      " [ 5 25 45]\n",
      " [10 30 50]\n",
      " [15 35 55]]\n",
      "0\n",
      "5\n",
      "10\n",
      "15\n",
      "20\n",
      "25\n",
      "30\n",
      "35\n",
      "40\n",
      "45\n",
      "50\n",
      "55\n",
      "0\n",
      "20\n",
      "40\n",
      "5\n",
      "25\n",
      "45\n",
      "10\n",
      "30\n",
      "50\n",
      "15\n",
      "35\n",
      "55\n",
      "\n"
     ]
    }
   ],
   "source": [
    "import numpy as np \n",
    "a = np.arange(0,60,5).reshape(3, -1)\n",
    "b = a.T \n",
    "c = b.copy(order='C') #  '以 C 风格顺序排序：' \n",
    "print(c)\n",
    "for x in np.nditer(c):   \n",
    "    print (x)\n",
    "c = b.copy(order='F')  \n",
    "print(c)\n",
    "for x in np.nditer(c):   \n",
    "    print(x)\n",
    "\n",
    "\"\"\"\n",
    "原始数组是：\n",
    "[[ 0 5 10 15]\n",
    " [20 25 30 35]\n",
    " [40 45 50 55]]\n",
    "\n",
    "原始数组的转置是：\n",
    "[[ 0 20 40]\n",
    " [ 5 25 45]\n",
    " [10 30 50]\n",
    " [15 35 55]]\n",
    "\n",
    "以 C 风格顺序排序：\n",
    "[[ 0 20 40]\n",
    " [ 5 25 45]\n",
    " [10 30 50]\n",
    " [15 35 55]]\n",
    "0 20 40 5 25 45 10 30 50 15 35 55\n",
    "\n",
    "以 F 风格顺序排序：\n",
    "[[ 0 20 40]\n",
    " [ 5 25 45]\n",
    " [10 30 50]\n",
    " [15 35 55]]\n",
    "0 5 10 15 20 25 30 35 40 45 50 55\n",
    "\"\"\"\n",
    "\n",
    "for x in np.nditer(a, order =  'C'):   # 以 C 风格顺序排序：\n",
    "    print(x)\n",
    "for x in np.nditer(a, order =  'F'):  # 以 F 风格顺序排序：' \n",
    "    print(x)\n",
    "\"\"\"\n",
    "原始数组是：\n",
    "[[ 0 5 10 15]\n",
    " [20 25 30 35]\n",
    " [40 45 50 55]]\n",
    "\n",
    "以 C 风格顺序排序：\n",
    "0 5 10 15 20 25 30 35 40 45 50 55\n",
    "\n",
    "以 F 风格顺序排序：\n",
    "0 20 40 5 25 45 10 30 50 15 35 55 \n",
    "\"\"\"\n",
    "print()"
   ]
  },
  {
   "cell_type": "markdown",
   "metadata": {},
   "source": [
    "## 3 修改数组的值\n",
    "nditer对象有另一个可选参数op_flags。 其默认值为只读，但可以设置为读写或只写模式。 这将允许使用此迭代器修改数组元素。 "
   ]
  },
  {
   "cell_type": "code",
   "execution_count": 12,
   "metadata": {},
   "outputs": [
    {
     "name": "stdout",
     "output_type": "stream",
     "text": [
      "[[ 0  5 10 15]\n",
      " [20 25 30 35]\n",
      " [40 45 50 55]]\n",
      "[[  0  10  20  30]\n",
      " [ 40  50  60  70]\n",
      " [ 80  90 100 110]]\n"
     ]
    }
   ],
   "source": [
    "import numpy as np\n",
    "a = np.arange(0,60,5).reshape(3,4)   \n",
    "print(a)\n",
    "for x in np.nditer(a, op_flags=['readwrite']): \n",
    "    x[...]=2*x  \n",
    "print(a)"
   ]
  },
  {
   "cell_type": "markdown",
   "metadata": {},
   "source": [
    "# 4 外部循环\n",
    "nditer类的构造器拥有flags参数，它可以接受下列值：\n",
    "\n",
    "- c_index 可以跟踪 C 顺序的索引\n",
    "- f_index 可以跟踪 Fortran 顺序的索引\n",
    "- multi-index 每次迭代可以跟踪一种索引类型\n",
    "- external_loop 给出的值是具有多个值的一维数组，而不是零维数组 "
   ]
  },
  {
   "cell_type": "code",
   "execution_count": 13,
   "metadata": {},
   "outputs": [
    {
     "name": "stdout",
     "output_type": "stream",
     "text": [
      "[[ 0  5 10 15]\n",
      " [20 25 30 35]\n",
      " [40 45 50 55]]\n",
      "[ 0 20 40]\n",
      "[ 5 25 45]\n",
      "[10 30 50]\n",
      "[15 35 55]\n"
     ]
    }
   ],
   "source": [
    "import numpy as np \n",
    "a = np.arange(0,60,5).reshape(3,4)    \n",
    "print(a)\n",
    "for x in np.nditer(a, flags =  ['external_loop'], order =  'F'):  \n",
    "    print(x)"
   ]
  },
  {
   "cell_type": "markdown",
   "metadata": {},
   "source": [
    "# 5 广播迭代\n",
    "如果两个数组是可广播的，nditer组合对象能够同时迭代它们。 假设数组a具有维度 3X4，并且存在维度为 1X4 的另一个数组b，则使用以下类型的迭代器(数组b被广播到a的大小) "
   ]
  },
  {
   "cell_type": "code",
   "execution_count": 14,
   "metadata": {},
   "outputs": [
    {
     "name": "stdout",
     "output_type": "stream",
     "text": [
      "[[ 0  5 10 15]\n",
      " [20 25 30 35]\n",
      " [40 45 50 55]]\n",
      "[1 2 3 4]\n",
      "0:1\n",
      "5:2\n",
      "10:3\n",
      "15:4\n",
      "20:1\n",
      "25:2\n",
      "30:3\n",
      "35:4\n",
      "40:1\n",
      "45:2\n",
      "50:3\n",
      "55:4\n"
     ]
    }
   ],
   "source": [
    "import numpy as np \n",
    "a = np.arange(0,60,5).reshape(3,4)     \n",
    "print(a) \n",
    "b = np.array([1,  2,  3,  4], dtype =  int)  \n",
    "print(b)   \n",
    "for x,y in np.nditer([a,b]):  \n",
    "    print(\"%d:%d\"  %  (x,y))"
   ]
  },
  {
   "cell_type": "code",
   "execution_count": null,
   "metadata": {},
   "outputs": [],
   "source": []
  }
 ],
 "metadata": {
  "kernelspec": {
   "display_name": "Python 3",
   "language": "python",
   "name": "python3"
  },
  "language_info": {
   "codemirror_mode": {
    "name": "ipython",
    "version": 3
   },
   "file_extension": ".py",
   "mimetype": "text/x-python",
   "name": "python",
   "nbconvert_exporter": "python",
   "pygments_lexer": "ipython3",
   "version": "3.7.0"
  }
 },
 "nbformat": 4,
 "nbformat_minor": 2
}
