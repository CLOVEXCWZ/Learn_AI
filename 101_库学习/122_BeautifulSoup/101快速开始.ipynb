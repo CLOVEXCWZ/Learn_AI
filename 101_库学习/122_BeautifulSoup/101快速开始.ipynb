{
 "cells": [
  {
   "cell_type": "markdown",
   "metadata": {},
   "source": [
    "# 快速开始\n",
    "我们将直接上一些例子来感受一下BeautifulSoup的用法。以及介绍如何使用\n",
    "\n",
    "- 快速开始\n",
    "- 如何使用"
   ]
  },
  {
   "cell_type": "markdown",
   "metadata": {},
   "source": [
    "## 1 快速开始\n",
    " 我们将直接上一个例子暂时BeautifulSoup用法"
   ]
  },
  {
   "cell_type": "code",
   "execution_count": 16,
   "metadata": {},
   "outputs": [
    {
     "name": "stdout",
     "output_type": "stream",
     "text": [
      "<title>The Dormouse's story</title>\n",
      "title\n",
      "The Dormouse's story\n",
      "head\n",
      "<p class=\"title\"><b>The Dormouse's story</b></p>\n",
      "['title']\n",
      "<a class=\"sister\" href=\"http://example.com/elsie\" id=\"link1\">Elsie</a>\n",
      "[<a class=\"sister\" href=\"http://example.com/elsie\" id=\"link1\">Elsie</a>, <a class=\"sister\" href=\"http://example.com/lacie\" id=\"link2\">Lacie</a>, <a class=\"sister\" href=\"http://example.com/tillie\" id=\"link3\">Tillie</a>]\n",
      "<a class=\"sister\" href=\"http://example.com/tillie\" id=\"link3\">Tillie</a>\n",
      "http://example.com/elsie\n",
      "http://example.com/lacie\n",
      "http://example.com/tillie\n",
      "\n",
      "The Dormouse's story\n",
      "\n",
      "The Dormouse's story\n",
      "Once upon a time there were three little sisters; and their names were\n",
      "Elsie,\n",
      "Lacie and\n",
      "Tillie;\n",
      "and they lived at the bottom of a well.\n",
      "...\n",
      "\n"
     ]
    }
   ],
   "source": [
    "html_doc = \"\"\"\n",
    "<html><head><title>The Dormouse's story</title></head>\n",
    "<body>\n",
    "<p class=\"title\"><b>The Dormouse's story</b></p>\n",
    "\n",
    "<p class=\"story\">Once upon a time there were three little sisters; and their names were\n",
    "<a href=\"http://example.com/elsie\" class=\"sister\" id=\"link1\">Elsie</a>,\n",
    "<a href=\"http://example.com/lacie\" class=\"sister\" id=\"link2\">Lacie</a> and\n",
    "<a href=\"http://example.com/tillie\" class=\"sister\" id=\"link3\">Tillie</a>;\n",
    "and they lived at the bottom of a well.</p>\n",
    "\n",
    "<p class=\"story\">...</p>\n",
    "\"\"\"\n",
    "\n",
    "\"\"\"\n",
    "使用BeautifulSoup解析这段代码,能够得到一个 BeautifulSoup 的对象,\n",
    "并能按照标准的缩进格式的结构输出:\n",
    "\"\"\"\n",
    "from bs4 import BeautifulSoup\n",
    "soup = BeautifulSoup(html_doc, 'html.parser')\n",
    "# print(soup.prettify()) # 输出标准缩进的结构\n",
    "\n",
    "# 几个简单的结构化数据的方法\n",
    "print(soup.title) # <title>The Dormouse's story</title>\n",
    "print(soup.title.name) # title\n",
    "print(soup.title.string) # The Dormouse's story\n",
    "print(soup.title.parent.name) # head\n",
    "print(soup.p) # <p class=\"title\"><b>The Dormouse's story</b></p>\n",
    "print(soup.p['class']) # ['title']\n",
    "print(soup.a) # <a class=\"sister\" href=\"http://example.com/elsie\" id=\"link1\">Elsie</a>\n",
    "print(soup.find_all('a'))\n",
    "\"\"\"\n",
    "[<a class=\"sister\" href=\"http://example.com/elsie\" id=\"link1\">Elsie</a>,\n",
    "<a class=\"sister\" href=\"http://example.com/lacie\" id=\"link2\">Lacie</a>, \n",
    "<a class=\"sister\" href=\"http://example.com/tillie\" id=\"link3\">Tillie</a>]\n",
    "\"\"\"\n",
    "print(soup.find(id=\"link3\"))\n",
    "\"\"\"\n",
    "<a class=\"sister\" href=\"http://example.com/tillie\" id=\"link3\">Tillie</a>\n",
    "\"\"\"\n",
    "\n",
    "# 从文档中找到所有<a>标签的链接:\n",
    "for link in soup.find_all('a'):\n",
    "    print(link.get('href'))\n",
    "\"\"\"\n",
    "http://example.com/elsie\n",
    "http://example.com/lacie\n",
    "http://example.com/tillie\n",
    "\"\"\"\n",
    "\n",
    "# 从文档中获取所有文字内容:\n",
    "print(soup.get_text())\n",
    "\"\"\"\n",
    "The Dormouse's story\n",
    "\n",
    "The Dormouse's story\n",
    "Once upon a time there were three little sisters; and their names were\n",
    "Elsie,\n",
    "Lacie and\n",
    "Tillie;\n",
    "and they lived at the bottom of a well.\n",
    "...\n",
    "\"\"\""
   ]
  },
  {
   "cell_type": "markdown",
   "metadata": {},
   "source": [
    "## 2 如何使用\n",
    "我们将一段文档传入BeautifulSoup的构造方法，就能得到一个文档的对象，可以传入一段字符串或一个文件句柄"
   ]
  },
  {
   "cell_type": "code",
   "execution_count": 19,
   "metadata": {},
   "outputs": [
    {
     "name": "stdout",
     "output_type": "stream",
     "text": [
      "<html><body><p>data</p></body></html>\n",
      "<html><body><p>data</p></body></html>\n"
     ]
    }
   ],
   "source": [
    "from bs4 import BeautifulSoup\n",
    "soup = BeautifulSoup(open('data/101.txt'))\n",
    "print(soup)\n",
    "soup =BeautifulSoup(\"<html>data</html>\")\n",
    "print(soup)"
   ]
  }
 ],
 "metadata": {
  "kernelspec": {
   "display_name": "Python 3",
   "language": "python",
   "name": "python3"
  },
  "language_info": {
   "codemirror_mode": {
    "name": "ipython",
    "version": 3
   },
   "file_extension": ".py",
   "mimetype": "text/x-python",
   "name": "python",
   "nbconvert_exporter": "python",
   "pygments_lexer": "ipython3",
   "version": "3.7.0"
  }
 },
 "nbformat": 4,
 "nbformat_minor": 2
}
