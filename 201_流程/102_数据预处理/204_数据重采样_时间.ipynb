{
 "cells": [
  {
   "cell_type": "code",
   "execution_count": 1,
   "metadata": {},
   "outputs": [],
   "source": [
    "import pandas as pd\n",
    "import numpy as np"
   ]
  },
  {
   "cell_type": "markdown",
   "metadata": {},
   "source": [
    "# 数据重采样\n",
    "- 时间数据由一个频率转换到另一个频率\n",
    "- 降采样\n",
    "- 升采样"
   ]
  },
  {
   "cell_type": "code",
   "execution_count": 3,
   "metadata": {},
   "outputs": [
    {
     "data": {
      "text/plain": [
       "2011-03-27   -0.444928\n",
       "2011-03-28    0.908828\n",
       "2011-03-29   -0.226102\n",
       "2011-03-30   -1.302943\n",
       "2011-03-31   -1.019838\n",
       "Freq: D, dtype: float64"
      ]
     },
     "execution_count": 3,
     "metadata": {},
     "output_type": "execute_result"
    }
   ],
   "source": [
    "rng = pd.date_range('1/1/2011', periods = 90, freq='D')\n",
    "ts = pd.Series(np.random.randn(len(rng)), index=rng)\n",
    "ts.tail()"
   ]
  },
  {
   "cell_type": "markdown",
   "metadata": {},
   "source": [
    "## 降采样"
   ]
  },
  {
   "cell_type": "markdown",
   "metadata": {},
   "source": [
    "###  D -> M (sum)"
   ]
  },
  {
   "cell_type": "code",
   "execution_count": 6,
   "metadata": {},
   "outputs": [
    {
     "data": {
      "text/plain": [
       "2011-01-31   -1.324287\n",
       "2011-02-28    2.011445\n",
       "2011-03-31   -8.153330\n",
       "Freq: M, dtype: float64"
      ]
     },
     "execution_count": 6,
     "metadata": {},
     "output_type": "execute_result"
    }
   ],
   "source": [
    "ts.resample('M').sum()"
   ]
  },
  {
   "cell_type": "markdown",
   "metadata": {},
   "source": [
    "### D -> M (max)"
   ]
  },
  {
   "cell_type": "code",
   "execution_count": 7,
   "metadata": {},
   "outputs": [
    {
     "data": {
      "text/plain": [
       "2011-01-31    1.364310\n",
       "2011-02-28    1.827814\n",
       "2011-03-31    1.705528\n",
       "Freq: M, dtype: float64"
      ]
     },
     "execution_count": 7,
     "metadata": {},
     "output_type": "execute_result"
    }
   ],
   "source": [
    "ts.resample('M').max()"
   ]
  },
  {
   "cell_type": "markdown",
   "metadata": {},
   "source": [
    "### D -> 3D (sum)"
   ]
  },
  {
   "cell_type": "code",
   "execution_count": 8,
   "metadata": {},
   "outputs": [
    {
     "data": {
      "text/plain": [
       "2011-01-01   -1.121355\n",
       "2011-01-04    0.786452\n",
       "2011-01-07    1.535233\n",
       "2011-01-10   -1.393566\n",
       "2011-01-13   -0.356286\n",
       "2011-01-16    0.476023\n",
       "2011-01-19   -3.012235\n",
       "2011-01-22   -0.015122\n",
       "2011-01-25    0.173757\n",
       "2011-01-28    1.639449\n",
       "2011-01-31   -1.787618\n",
       "2011-02-03    2.168242\n",
       "2011-02-06    0.485013\n",
       "2011-02-09   -0.517827\n",
       "2011-02-12    1.314276\n",
       "2011-02-15   -2.856299\n",
       "2011-02-18    0.018961\n",
       "2011-02-21    2.630093\n",
       "2011-02-24    1.228419\n",
       "2011-02-27   -1.566359\n",
       "2011-03-02    2.010262\n",
       "2011-03-05   -2.132934\n",
       "2011-03-08    0.970516\n",
       "2011-03-11   -0.131999\n",
       "2011-03-14   -3.198736\n",
       "2011-03-17   -1.954922\n",
       "2011-03-20   -1.507713\n",
       "2011-03-23    1.180107\n",
       "2011-03-26    0.018878\n",
       "2011-03-29   -2.548883\n",
       "Freq: 3D, dtype: float64"
      ]
     },
     "execution_count": 8,
     "metadata": {},
     "output_type": "execute_result"
    }
   ],
   "source": [
    "ts.resample('3D').sum()"
   ]
  },
  {
   "cell_type": "markdown",
   "metadata": {},
   "source": [
    "### D -> 3D (mean)"
   ]
  },
  {
   "cell_type": "code",
   "execution_count": 11,
   "metadata": {},
   "outputs": [
    {
     "data": {
      "text/plain": [
       "2011-01-01   -0.373785\n",
       "2011-01-04    0.262151\n",
       "2011-01-07    0.511744\n",
       "2011-01-10   -0.464522\n",
       "2011-01-13   -0.118762\n",
       "2011-01-16    0.158674\n",
       "2011-01-19   -1.004078\n",
       "2011-01-22   -0.005041\n",
       "2011-01-25    0.057919\n",
       "2011-01-28    0.546483\n",
       "2011-01-31   -0.595873\n",
       "2011-02-03    0.722747\n",
       "2011-02-06    0.161671\n",
       "2011-02-09   -0.172609\n",
       "2011-02-12    0.438092\n",
       "2011-02-15   -0.952100\n",
       "2011-02-18    0.006320\n",
       "2011-02-21    0.876698\n",
       "2011-02-24    0.409473\n",
       "2011-02-27   -0.522120\n",
       "2011-03-02    0.670087\n",
       "2011-03-05   -0.710978\n",
       "2011-03-08    0.323505\n",
       "2011-03-11   -0.044000\n",
       "2011-03-14   -1.066245\n",
       "2011-03-17   -0.651641\n",
       "2011-03-20   -0.502571\n",
       "2011-03-23    0.393369\n",
       "2011-03-26    0.006293\n",
       "2011-03-29   -0.849628\n",
       "Freq: 3D, dtype: float64"
      ]
     },
     "execution_count": 11,
     "metadata": {},
     "output_type": "execute_result"
    }
   ],
   "source": [
    "day3Ts = ts.resample('3D').mean()\n",
    "day3Ts "
   ]
  },
  {
   "cell_type": "markdown",
   "metadata": {},
   "source": [
    "## 升采样\n",
    "- 插值方法\n",
    "    - ffill 空值取前面的值\n",
    "    - bfill空值取后面的值\n",
    "    - interpolate 线性取值"
   ]
  },
  {
   "cell_type": "markdown",
   "metadata": {},
   "source": [
    "### D3 -> D （asfreq）\n",
    "- 会有很多空值"
   ]
  },
  {
   "cell_type": "code",
   "execution_count": 14,
   "metadata": {},
   "outputs": [
    {
     "data": {
      "text/plain": [
       "2011-01-01   -0.373785\n",
       "2011-01-02         NaN\n",
       "2011-01-03         NaN\n",
       "2011-01-04    0.262151\n",
       "2011-01-05         NaN\n",
       "2011-01-06         NaN\n",
       "2011-01-07    0.511744\n",
       "2011-01-08         NaN\n",
       "2011-01-09         NaN\n",
       "2011-01-10   -0.464522\n",
       "2011-01-11         NaN\n",
       "2011-01-12         NaN\n",
       "2011-01-13   -0.118762\n",
       "2011-01-14         NaN\n",
       "2011-01-15         NaN\n",
       "2011-01-16    0.158674\n",
       "2011-01-17         NaN\n",
       "2011-01-18         NaN\n",
       "2011-01-19   -1.004078\n",
       "2011-01-20         NaN\n",
       "2011-01-21         NaN\n",
       "2011-01-22   -0.005041\n",
       "2011-01-23         NaN\n",
       "2011-01-24         NaN\n",
       "2011-01-25    0.057919\n",
       "2011-01-26         NaN\n",
       "2011-01-27         NaN\n",
       "2011-01-28    0.546483\n",
       "2011-01-29         NaN\n",
       "2011-01-30         NaN\n",
       "                ...   \n",
       "2011-02-28         NaN\n",
       "2011-03-01         NaN\n",
       "2011-03-02    0.670087\n",
       "2011-03-03         NaN\n",
       "2011-03-04         NaN\n",
       "2011-03-05   -0.710978\n",
       "2011-03-06         NaN\n",
       "2011-03-07         NaN\n",
       "2011-03-08    0.323505\n",
       "2011-03-09         NaN\n",
       "2011-03-10         NaN\n",
       "2011-03-11   -0.044000\n",
       "2011-03-12         NaN\n",
       "2011-03-13         NaN\n",
       "2011-03-14   -1.066245\n",
       "2011-03-15         NaN\n",
       "2011-03-16         NaN\n",
       "2011-03-17   -0.651641\n",
       "2011-03-18         NaN\n",
       "2011-03-19         NaN\n",
       "2011-03-20   -0.502571\n",
       "2011-03-21         NaN\n",
       "2011-03-22         NaN\n",
       "2011-03-23    0.393369\n",
       "2011-03-24         NaN\n",
       "2011-03-25         NaN\n",
       "2011-03-26    0.006293\n",
       "2011-03-27         NaN\n",
       "2011-03-28         NaN\n",
       "2011-03-29   -0.849628\n",
       "Freq: D, Length: 88, dtype: float64"
      ]
     },
     "execution_count": 14,
     "metadata": {},
     "output_type": "execute_result"
    }
   ],
   "source": [
    "day3Ts.resample('D').asfreq() "
   ]
  },
  {
   "cell_type": "markdown",
   "metadata": {},
   "source": [
    "### 插值方法\n",
    "- ffill 空值取前面的值\n",
    "- bfill空值取后面的值\n",
    "- interpolate 线性取值"
   ]
  },
  {
   "cell_type": "markdown",
   "metadata": {},
   "source": [
    "#### ffill"
   ]
  },
  {
   "cell_type": "code",
   "execution_count": 16,
   "metadata": {},
   "outputs": [
    {
     "data": {
      "text/plain": [
       "2011-01-01   -0.373785\n",
       "2011-01-02   -0.373785\n",
       "2011-01-03         NaN\n",
       "2011-01-04    0.262151\n",
       "2011-01-05    0.262151\n",
       "2011-01-06         NaN\n",
       "2011-01-07    0.511744\n",
       "2011-01-08    0.511744\n",
       "2011-01-09         NaN\n",
       "2011-01-10   -0.464522\n",
       "Freq: D, dtype: float64"
      ]
     },
     "execution_count": 16,
     "metadata": {},
     "output_type": "execute_result"
    }
   ],
   "source": [
    "day3Ts.resample('D').ffill(1).head(10)"
   ]
  },
  {
   "cell_type": "code",
   "execution_count": 17,
   "metadata": {},
   "outputs": [
    {
     "data": {
      "text/plain": [
       "2011-01-01   -0.373785\n",
       "2011-01-02   -0.373785\n",
       "2011-01-03   -0.373785\n",
       "2011-01-04    0.262151\n",
       "2011-01-05    0.262151\n",
       "2011-01-06    0.262151\n",
       "2011-01-07    0.511744\n",
       "2011-01-08    0.511744\n",
       "2011-01-09    0.511744\n",
       "2011-01-10   -0.464522\n",
       "Freq: D, dtype: float64"
      ]
     },
     "execution_count": 17,
     "metadata": {},
     "output_type": "execute_result"
    }
   ],
   "source": [
    "day3Ts.resample('D').ffill(2).head(10)"
   ]
  },
  {
   "cell_type": "markdown",
   "metadata": {},
   "source": [
    "#### bfill"
   ]
  },
  {
   "cell_type": "code",
   "execution_count": 20,
   "metadata": {},
   "outputs": [
    {
     "data": {
      "text/plain": [
       "2011-03-20   -0.502571\n",
       "2011-03-21         NaN\n",
       "2011-03-22    0.393369\n",
       "2011-03-23    0.393369\n",
       "2011-03-24         NaN\n",
       "2011-03-25    0.006293\n",
       "2011-03-26    0.006293\n",
       "2011-03-27         NaN\n",
       "2011-03-28   -0.849628\n",
       "2011-03-29   -0.849628\n",
       "Freq: D, dtype: float64"
      ]
     },
     "execution_count": 20,
     "metadata": {},
     "output_type": "execute_result"
    }
   ],
   "source": [
    "day3Ts.resample('D').bfill(1).tail(10)"
   ]
  },
  {
   "cell_type": "code",
   "execution_count": 21,
   "metadata": {},
   "outputs": [
    {
     "data": {
      "text/plain": [
       "2011-01-01   -0.373785\n",
       "2011-01-02    0.262151\n",
       "2011-01-03    0.262151\n",
       "2011-01-04    0.262151\n",
       "2011-01-05    0.511744\n",
       "2011-01-06    0.511744\n",
       "2011-01-07    0.511744\n",
       "2011-01-08   -0.464522\n",
       "2011-01-09   -0.464522\n",
       "2011-01-10   -0.464522\n",
       "Freq: D, dtype: float64"
      ]
     },
     "execution_count": 21,
     "metadata": {},
     "output_type": "execute_result"
    }
   ],
   "source": [
    "day3Ts.resample('D').bfill(2).head(10)"
   ]
  },
  {
   "cell_type": "markdown",
   "metadata": {},
   "source": [
    "#### interpolate"
   ]
  },
  {
   "cell_type": "code",
   "execution_count": 22,
   "metadata": {},
   "outputs": [
    {
     "data": {
      "text/plain": [
       "2011-01-01   -0.373785\n",
       "2011-01-02   -0.161806\n",
       "2011-01-03    0.050172\n",
       "2011-01-04    0.262151\n",
       "2011-01-05    0.345348\n",
       "2011-01-06    0.428546\n",
       "2011-01-07    0.511744\n",
       "2011-01-08    0.186322\n",
       "2011-01-09   -0.139100\n",
       "2011-01-10   -0.464522\n",
       "Freq: D, dtype: float64"
      ]
     },
     "execution_count": 22,
     "metadata": {},
     "output_type": "execute_result"
    }
   ],
   "source": [
    "day3Ts.resample('D').interpolate('linear').head(10)"
   ]
  },
  {
   "cell_type": "code",
   "execution_count": null,
   "metadata": {},
   "outputs": [],
   "source": []
  }
 ],
 "metadata": {
  "kernelspec": {
   "display_name": "Python 3",
   "language": "python",
   "name": "python3"
  },
  "language_info": {
   "codemirror_mode": {
    "name": "ipython",
    "version": 3
   },
   "file_extension": ".py",
   "mimetype": "text/x-python",
   "name": "python",
   "nbconvert_exporter": "python",
   "pygments_lexer": "ipython3",
   "version": "3.7.3"
  },
  "toc": {
   "base_numbering": 1,
   "nav_menu": {},
   "number_sections": true,
   "sideBar": true,
   "skip_h1_title": false,
   "title_cell": "Table of Contents",
   "title_sidebar": "Contents",
   "toc_cell": false,
   "toc_position": {},
   "toc_section_display": true,
   "toc_window_display": false
  }
 },
 "nbformat": 4,
 "nbformat_minor": 2
}
