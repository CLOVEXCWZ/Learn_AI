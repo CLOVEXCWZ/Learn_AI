{
 "cells": [
  {
   "cell_type": "markdown",
   "metadata": {},
   "source": [
    "# 评价指标"
   ]
  },
  {
   "cell_type": "markdown",
   "metadata": {},
   "source": [
    "## Variance\n",
    "\n",
    "- 方差\n",
    "\n",
    "- 􏰚􏱅􏰢􏰝􏰸􏰼􏰿􏰇􏰆􏰨􏰅􏰛􏰊􏰱􏰞􏰛􏰿􏰌􏰒􏰓􏰕 􏰚􏱅􏰢􏰝􏰸􏰼􏰿􏰇􏰆􏰨􏰅􏰛􏰊􏰱􏰞􏰛􏰿􏰌􏰒􏰓􏰕 度量学习算法的期望预测与真实结果的偏离程序，刻画了学习算法本身的拟合能力\n",
    "\n",
    " ![101](picture/101.png)"
   ]
  },
  {
   "cell_type": "markdown",
   "metadata": {},
   "source": [
    " ## Explained Variance\n",
    " \n",
    "  ![107](picture/107.png)"
   ]
  },
  {
   "cell_type": "code",
   "execution_count": 4,
   "metadata": {},
   "outputs": [
    {
     "name": "stdout",
     "output_type": "stream",
     "text": [
      "0.9571734475374732\n",
      "[0.96774194 1.        ]\n",
      "0.9903225806451612\n",
      "0.9838709677419355\n",
      "0.9838709677419355\n"
     ]
    }
   ],
   "source": [
    "# Explained_variance_score\n",
    "import numpy as np\n",
    "from sklearn.metrics import explained_variance_score\n",
    "\n",
    "y_true = [3, -0.5, 2, 7] # ground truth\n",
    "y_pred = [2.5, 0.0, 2, 8] # prediction\n",
    "print(explained_variance_score(y_true, y_pred))  \n",
    "\n",
    "y_true = [[0.5, 1], [-1, 1], [7, -6]]\n",
    "y_pred = [[0, 2], [-1, 2], [8, -5]]\n",
    "print(explained_variance_score(y_true, y_pred, multioutput='raw_values')) # 以数组的方式返回\n",
    "print(explained_variance_score(y_true, y_pred, multioutput=[0.3, 0.7])) # 按占比重返回\n",
    "print(explained_variance_score(y_true, y_pred))   # 默认 0.5 0.5\n",
    "\n"
   ]
  },
  {
   "cell_type": "markdown",
   "metadata": {},
   "source": [
    "## Bias\n",
    "\n",
    "- 偏差\n",
    "\n",
    "- 度量同样大小的训练集的变动所致的学习性能的变化，刻画了数据扰动所造成的影响\n",
    "\n",
    "![102](picture/102.png)"
   ]
  },
  {
   "cell_type": "markdown",
   "metadata": {},
   "source": [
    "## MSE （Mean Squared Error） 均方误差\n",
    "\n",
    "- 真实值 - 预测值  然后平方后求值\n",
    "\n",
    "![103](picture/103.png)"
   ]
  },
  {
   "cell_type": "code",
   "execution_count": 6,
   "metadata": {},
   "outputs": [
    {
     "name": "stdout",
     "output_type": "stream",
     "text": [
      "0.375\n",
      "0.7083333333333334\n"
     ]
    }
   ],
   "source": [
    "# Mean squared error\n",
    "from sklearn.metrics import mean_squared_error\n",
    "\n",
    "y_true = [3, -0.5, 2, 7] # ground truth\n",
    "y_pred = [2.5, 0.0, 2, 8] # prediction\n",
    "print(mean_squared_error(y_true, y_pred))\n",
    "\n",
    "y_true = [[0.5, 1], [-1, 1], [7, -6]]\n",
    "y_pred = [[0, 2], [-1, 2], [8, -5]]\n",
    "print(mean_squared_error(y_true, y_pred))"
   ]
  },
  {
   "cell_type": "markdown",
   "metadata": {},
   "source": [
    "## RMSE(Root Mean Squared Error) 均方根误差\n",
    "\n",
    "\n",
    "![104](picture/104.png)"
   ]
  },
  {
   "cell_type": "markdown",
   "metadata": {},
   "source": [
    "## MAE (Mean Absolute Error) 平均绝对误差\n",
    "\n",
    "\n",
    "![105](picture/105.png)"
   ]
  },
  {
   "cell_type": "code",
   "execution_count": 5,
   "metadata": {},
   "outputs": [
    {
     "name": "stdout",
     "output_type": "stream",
     "text": [
      "0.5\n",
      "0.75\n",
      "[0.5 1. ]\n",
      "0.85\n"
     ]
    }
   ],
   "source": [
    "# Mean absolute error\n",
    "from sklearn.metrics import mean_absolute_error\n",
    "\n",
    "y_true = [3, -0.5, 2, 7] # ground truth\n",
    "y_pred = [2.5, 0.0, 2, 8] # prediction\n",
    "print(mean_absolute_error(y_true, y_pred))\n",
    "\n",
    "y_true = [[0.5, 1], [-1, 1], [7, -6]]\n",
    "y_pred = [[0, 2], [-1, 2], [8, -5]]\n",
    "print(mean_absolute_error(y_true, y_pred))\n",
    "print(mean_absolute_error(y_true, y_pred, multioutput='raw_values'))\n",
    "print(mean_absolute_error(y_true, y_pred, multioutput=[0.3, 0.7]))"
   ]
  },
  {
   "cell_type": "markdown",
   "metadata": {},
   "source": [
    "## R-squared\n",
    "\n",
    "![106](picture/106.png)"
   ]
  },
  {
   "cell_type": "code",
   "execution_count": 8,
   "metadata": {},
   "outputs": [
    {
     "name": "stdout",
     "output_type": "stream",
     "text": [
      "0.9486081370449679\n",
      "0.9382566585956417\n",
      "0.9368005266622779\n",
      "[0.96543779 0.90816327]\n",
      "0.9253456221198156\n"
     ]
    }
   ],
   "source": [
    "# R² score\n",
    "from sklearn.metrics import r2_score\n",
    "\n",
    "y_true = [3, -0.5, 2, 7]\n",
    "y_pred = [2.5, 0.0, 2, 8]\n",
    "print(r2_score(y_true, y_pred))  \n",
    "\n",
    "y_true = [[0.5, 1], [-1, 1], [7, -6]]\n",
    "y_pred = [[0, 2], [-1, 2], [8, -5]]\n",
    "print(r2_score(y_true, y_pred, multioutput='variance_weighted'))\n",
    "print(r2_score(y_true, y_pred, multioutput='uniform_average'))\n",
    "print(r2_score(y_true, y_pred, multioutput='raw_values'))\n",
    "print(r2_score(y_true, y_pred, multioutput=[0.3, 0.7]))"
   ]
  },
  {
   "cell_type": "markdown",
   "metadata": {},
   "source": [
    "## MSLE\n",
    "\n",
    "![108](picture/108.png)"
   ]
  },
  {
   "cell_type": "code",
   "execution_count": 7,
   "metadata": {},
   "outputs": [
    {
     "name": "stdout",
     "output_type": "stream",
     "text": [
      "0.03973012298459379\n",
      "0.044199361889160536\n"
     ]
    }
   ],
   "source": [
    "# Mean squared logarithmic error\n",
    "from sklearn.metrics import mean_squared_log_error\n",
    "\n",
    "y_true = [3, 5, 2.5, 7] # ground truth\n",
    "y_pred = [2.5, 5, 4, 8] # prediction\n",
    "print(mean_squared_log_error(y_true, y_pred))\n",
    "\n",
    "y_true = [[0.5, 1], [1, 2], [7, 6]]\n",
    "y_pred = [[0.5, 2], [1, 2.5], [8, 8]]\n",
    "print(mean_squared_log_error(y_true, y_pred))"
   ]
  },
  {
   "cell_type": "markdown",
   "metadata": {},
   "source": [
    "##  Median absolute error"
   ]
  },
  {
   "cell_type": "code",
   "execution_count": 9,
   "metadata": {},
   "outputs": [
    {
     "name": "stdout",
     "output_type": "stream",
     "text": [
      "0.5\n"
     ]
    }
   ],
   "source": [
    "# Median absolute error\n",
    "from sklearn.metrics import median_absolute_error\n",
    "\n",
    "y_true = [3, -0.5, 2, 7]\n",
    "y_pred = [2.5, 0.0, 2, 8]\n",
    "print(median_absolute_error(y_true, y_pred))"
   ]
  }
 ],
 "metadata": {
  "kernelspec": {
   "display_name": "Python 3",
   "language": "python",
   "name": "python3"
  },
  "language_info": {
   "codemirror_mode": {
    "name": "ipython",
    "version": 3
   },
   "file_extension": ".py",
   "mimetype": "text/x-python",
   "name": "python",
   "nbconvert_exporter": "python",
   "pygments_lexer": "ipython3",
   "version": "3.7.3"
  },
  "toc": {
   "base_numbering": 1,
   "nav_menu": {},
   "number_sections": true,
   "sideBar": true,
   "skip_h1_title": false,
   "title_cell": "Table of Contents",
   "title_sidebar": "Contents",
   "toc_cell": false,
   "toc_position": {},
   "toc_section_display": true,
   "toc_window_display": false
  }
 },
 "nbformat": 4,
 "nbformat_minor": 2
}
