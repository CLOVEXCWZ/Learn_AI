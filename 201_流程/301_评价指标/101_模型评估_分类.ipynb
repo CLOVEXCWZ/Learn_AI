{
 "cells": [
  {
   "cell_type": "markdown",
   "metadata": {},
   "source": [
    "__模型评估__"
   ]
  },
  {
   "cell_type": "markdown",
   "metadata": {},
   "source": [
    "# 数据处理"
   ]
  },
  {
   "cell_type": "code",
   "execution_count": 26,
   "metadata": {},
   "outputs": [],
   "source": [
    "import pandas as pd\n",
    "import numpy as np\n",
    "from sklearn.model_selection import train_test_split\n",
    "from imblearn.over_sampling import SMOTE"
   ]
  },
  {
   "cell_type": "markdown",
   "metadata": {},
   "source": [
    "## 读取数据，对数据进行归一化"
   ]
  },
  {
   "cell_type": "code",
   "execution_count": 27,
   "metadata": {},
   "outputs": [],
   "source": [
    "df = pd.read_csv(\"/Users/zhouwencheng/Desktop/Grass/05 AI/05 jupyter/10 data/creditcard.csv\")\n",
    "\n",
    "# 先对数据进行归一下处理\n",
    "from sklearn.preprocessing import StandardScaler  \n",
    "df.Amount = StandardScaler().fit_transform(df.Amount.values.reshape(-1, 1))"
   ]
  },
  {
   "cell_type": "markdown",
   "metadata": {},
   "source": [
    "## 对数据进行过采样处理"
   ]
  },
  {
   "cell_type": "code",
   "execution_count": 28,
   "metadata": {},
   "outputs": [],
   "source": [
    "# 过采样\n",
    "\n",
    "features = df.loc[:, df.columns != 'Class']\n",
    "labels    = df.loc[:, df.columns == 'Class']\n",
    "X_train, X_test, y_train, y_test = train_test_split(features, labels, test_size = 0.3, random_state = 0)\n",
    "\n",
    "oversampler = SMOTE(random_state = 0)\n",
    "X_train_os, y_train_os = oversampler.fit_sample(X_train, y_train.values.ravel()) \n",
    "X_train_os = pd.DataFrame(X_train_os)\n",
    "y_train_os = pd.DataFrame(y_train_os)"
   ]
  },
  {
   "cell_type": "markdown",
   "metadata": {},
   "source": [
    "## 建模 训练以及预测"
   ]
  },
  {
   "cell_type": "code",
   "execution_count": 29,
   "metadata": {},
   "outputs": [
    {
     "name": "stdout",
     "output_type": "stream",
     "text": [
      "score: [0.97910763 0.9821901  0.95374551]\n",
      "score mean: 0.9716810771168828\n"
     ]
    }
   ],
   "source": [
    "from sklearn.linear_model import LogisticRegression\n",
    "from sklearn.model_selection import KFold, cross_val_score\n",
    "\n",
    "kf = KFold(n_splits = 3, random_state = 1)\n",
    "lr = LogisticRegression(C = 1, penalty = 'l1', solver='liblinear')  # 加入正则惩罚项\n",
    "score = cross_val_score(lr, X_train_os, y_train_os.values.ravel(), cv = kf)\n",
    "\n",
    "print('score:', score)\n",
    "print('score mean:', score.mean())\n"
   ]
  },
  {
   "cell_type": "code",
   "execution_count": 30,
   "metadata": {},
   "outputs": [],
   "source": [
    "lr.fit(X_train,y_train.values.ravel())\n",
    "y_pred = lr.predict(X_test.values)"
   ]
  },
  {
   "cell_type": "markdown",
   "metadata": {},
   "source": [
    "# 混淆矩阵(confusion_matrix)\n",
    "- TP(True Positive)：将正类预测为正类数，真实为0，预测也为0\n",
    "- FN(False Negative)：将正类预测为负类数，真实为0，预测为1\n",
    "- FP(False Positive)：将负类预测为正类数， 真实为1，预测为0\n",
    "- TN(True Negative)：将负类预测为负类数，真实为1，预测也为1"
   ]
  },
  {
   "cell_type": "code",
   "execution_count": 6,
   "metadata": {},
   "outputs": [],
   "source": [
    "from sklearn.metrics import confusion_matrix"
   ]
  },
  {
   "cell_type": "markdown",
   "metadata": {},
   "source": [
    "## 计算"
   ]
  },
  {
   "cell_type": "code",
   "execution_count": 7,
   "metadata": {},
   "outputs": [
    {
     "data": {
      "text/plain": [
       "array([[85284,    12],\n",
       "       [   56,    91]])"
      ]
     },
     "execution_count": 7,
     "metadata": {},
     "output_type": "execute_result"
    }
   ],
   "source": [
    "# Compute confusion matrix\n",
    "cnf_matrix = confusion_matrix(y_test,y_pred)\n",
    "\n",
    "TP = cnf_matrix[0, 0]\n",
    "FN = cnf_matrix[0, 1]\n",
    "FP = cnf_matrix[1, 0]\n",
    "TN = cnf_matrix[1, 1]\n",
    "\n",
    "cnf_matrix"
   ]
  },
  {
   "cell_type": "markdown",
   "metadata": {},
   "source": [
    "## 画图"
   ]
  },
  {
   "cell_type": "code",
   "execution_count": 8,
   "metadata": {},
   "outputs": [],
   "source": [
    "import matplotlib.pyplot as plt\n",
    "%matplotlib inline\n"
   ]
  },
  {
   "cell_type": "code",
   "execution_count": 9,
   "metadata": {},
   "outputs": [],
   "source": [
    "import itertools\n",
    "def plot_confusion_matrix(cm, classes,\n",
    "                          title='Confusion matrix',\n",
    "                          cmap=plt.cm.Blues):\n",
    "    \"\"\"\n",
    "    This function prints and plots the confusion matrix.\n",
    "    \"\"\"\n",
    "    plt.imshow(cm, interpolation='nearest', cmap=cmap)\n",
    "    plt.title(title)\n",
    "    plt.colorbar()\n",
    "    tick_marks = np.arange(len(classes))\n",
    "    plt.xticks(tick_marks, classes, rotation=0)\n",
    "    plt.yticks(tick_marks, classes)\n",
    "\n",
    "    thresh = cm.max() / 2.\n",
    "    for i, j in itertools.product(range(cm.shape[0]), range(cm.shape[1])):\n",
    "        plt.text(j, i, cm[i, j],\n",
    "                 horizontalalignment=\"center\",\n",
    "                 color=\"white\" if cm[i, j] > thresh else \"black\")\n",
    "\n",
    "    plt.tight_layout()\n",
    "    plt.ylabel('True label')\n",
    "    plt.xlabel('Predicted label')"
   ]
  },
  {
   "cell_type": "code",
   "execution_count": 10,
   "metadata": {},
   "outputs": [
    {
     "data": {
      "image/png": "[encoded data removed]",
      "text/plain": [
       "<Figure size 576x576 with 2 Axes>"
      ]
     },
     "metadata": {
      "needs_background": "light"
     },
     "output_type": "display_data"
    }
   ],
   "source": [
    "plt.figure(figsize=(8,8))\n",
    "plot_confusion_matrix(cnf_matrix, [0, 1])"
   ]
  },
  {
   "cell_type": "markdown",
   "metadata": {},
   "source": [
    "# 模型评估方法\n"
   ]
  },
  {
   "cell_type": "markdown",
   "metadata": {},
   "source": [
    "## Accuracy-准确率\n",
    "- 简单粗暴的方法，直接用 预测正确的个数/总数 x 100% 即(TP+FP)/(TP+FN+FP+TN),但这个评估方法只适用于平衡数据集，即正负样本个数大致相同，若用于非平衡数据集效果会很差。"
   ]
  },
  {
   "cell_type": "code",
   "execution_count": 11,
   "metadata": {},
   "outputs": [
    {
     "data": {
      "text/plain": [
       "0.9987945179827488"
      ]
     },
     "execution_count": 11,
     "metadata": {},
     "output_type": "execute_result"
    }
   ],
   "source": [
    "accuracy = (TP + FP)/(TP + FP + FN +TN)\n",
    "accuracy"
   ]
  },
  {
   "cell_type": "markdown",
   "metadata": {},
   "source": [
    "## Precision-精确率\n",
    "- 精确率可以告诉我们正样本预测中正确的预测的百分比，即TP/(TP+FP)"
   ]
  },
  {
   "cell_type": "code",
   "execution_count": 12,
   "metadata": {},
   "outputs": [
    {
     "data": {
      "text/plain": [
       "0.9993438012655261"
      ]
     },
     "execution_count": 12,
     "metadata": {},
     "output_type": "execute_result"
    }
   ],
   "source": [
    "precision = TP/(TP+FP)\n",
    "precision"
   ]
  },
  {
   "cell_type": "markdown",
   "metadata": {},
   "source": [
    "## Recall-召回率\n",
    "- 召回率可以告诉我们预测正确的正样本个数占总正样本个数的百分比，即TP/(TP+FN),通常，精确率和召回率成反比。"
   ]
  },
  {
   "cell_type": "code",
   "execution_count": 13,
   "metadata": {},
   "outputs": [
    {
     "data": {
      "text/plain": [
       "0.9998593134496342"
      ]
     },
     "execution_count": 13,
     "metadata": {},
     "output_type": "execute_result"
    }
   ],
   "source": [
    "recall = TP/(TP + FN)\n",
    "recall"
   ]
  },
  {
   "cell_type": "code",
   "execution_count": 31,
   "metadata": {},
   "outputs": [],
   "source": [
    "from sklearn.metrics import roc_curve, auc  ###计算roc和auc"
   ]
  },
  {
   "cell_type": "code",
   "execution_count": 36,
   "metadata": {},
   "outputs": [
    {
     "data": {
      "image/png": "[encoded data removed]",
      "text/plain": [
       "<Figure size 720x720 with 1 Axes>"
      ]
     },
     "metadata": {
      "needs_background": "light"
     },
     "output_type": "display_data"
    }
   ],
   "source": [
    "y_score = lr.decision_function(X_test.values)\n",
    "fpr,tpr,threshold = roc_curve(y_test, y_score) ###计算真正率和假正率\n",
    "plt.figure(figsize=(10,10))\n",
    "plt.plot(fpr, tpr, color='darkorange',\n",
    "         lw=lw, label='ROC curve (area = %0.2f)' % roc_auc) ###假正率为横坐标，真正率为纵坐标做曲线\n",
    "plt.plot([0, 1], [0, 1], color='navy', lw=lw, linestyle='--')\n",
    "plt.xlim([0.0, 1.0])\n",
    "plt.ylim([0.0, 1.05])\n",
    "plt.xlabel('False Positive Rate')\n",
    "plt.ylabel('True Positive Rate')\n",
    "plt.title('Receiver operating characteristic example')\n",
    "plt.legend(loc=\"lower right\")\n",
    "plt.show()\n",
    "\n",
    "#  decision_function"
   ]
  },
  {
   "cell_type": "markdown",
   "metadata": {},
   "source": [
    "## ROC曲线"
   ]
  },
  {
   "cell_type": "code",
   "execution_count": 14,
   "metadata": {
    "scrolled": true
   },
   "outputs": [
    {
     "name": "stdout",
     "output_type": "stream",
     "text": [
      "[ 0.17284263  0.65445393 -0.54087101  0.3555818   0.00579262 -0.20174248\n",
      "  0.0565328   0.00571205 -0.1517872   0.25656427  0.39764688  0.04549989\n",
      "  0.33455816 -0.12499602  0.23724787 -0.36250412 -0.0874348  -0.11575856\n",
      " -0.25270656 -0.23457408 -0.18239472 -0.10728706 -0.32201471  0.71954289\n",
      " -0.29292995 -0.22073314 -0.32473373 -0.19383585 -0.24296148  0.37524795]\n",
      "auc: 0.8133333333333334\n"
     ]
    },
    {
     "data": {
      "text/plain": [
       "<Figure size 432x288 with 0 Axes>"
      ]
     },
     "metadata": {},
     "output_type": "display_data"
    },
    {
     "data": {
      "image/png": "[encoded data removed]",
      "text/plain": [
       "<Figure size 720x720 with 1 Axes>"
      ]
     },
     "metadata": {
      "needs_background": "light"
     },
     "output_type": "display_data"
    }
   ],
   "source": [
    "import numpy as np\n",
    "import matplotlib.pyplot as plt\n",
    "from sklearn import svm, datasets\n",
    "from sklearn.metrics import roc_curve, auc  ###计算roc和auc\n",
    "from sklearn.model_selection import train_test_split\n",
    " \n",
    "# Import some data to play with\n",
    "iris = datasets.load_iris()\n",
    "X = iris.data\n",
    "y = iris.target \n",
    "##变为2分类\n",
    "X, y = X[y != 2], y[y != 2]\n",
    " \n",
    "# Add noisy features to make the problem harder\n",
    "random_state = np.random.RandomState(0)\n",
    "n_samples, n_features = X.shape\n",
    "X = np.c_[X, random_state.randn(n_samples, 200 * n_features)]\n",
    " \n",
    "# shuffle and split training and test sets\n",
    "X_train, X_test, y_train, y_test = train_test_split(X, y, test_size=.3,random_state=0)\n",
    " \n",
    "# Learn to predict each class against the other\n",
    "svm = svm.SVC(kernel='linear', probability=True,random_state=random_state)\n",
    " \n",
    "###通过decision_function()计算得到的y_score的值，用在roc_curve()函数中\n",
    "y_score = svm.fit(X_train, y_train).decision_function(X_test) \n",
    "# Compute ROC curve and ROC area for each class\n",
    "fpr,tpr,threshold = roc_curve(y_test, y_score) ###计算真正率和假正率\n",
    "roc_auc = auc(fpr,tpr) ###计算auc的值\n",
    "print('auc:', roc_auc)\n",
    "\n",
    "plt.figure()\n",
    "lw = 2\n",
    "plt.figure(figsize=(10,10))\n",
    "plt.plot(fpr, tpr, color='darkorange',\n",
    "         lw=lw, label='ROC curve (area = %0.2f)' % roc_auc) ###假正率为横坐标，真正率为纵坐标做曲线\n",
    "plt.plot([0, 1], [0, 1], color='navy', lw=lw, linestyle='--')\n",
    "plt.xlim([0.0, 1.0])\n",
    "plt.ylim([0.0, 1.05])\n",
    "plt.xlabel('False Positive Rate')\n",
    "plt.ylabel('True Positive Rate')\n",
    "plt.title('Receiver operating characteristic example')\n",
    "plt.legend(loc=\"lower right\")\n",
    "plt.show()\n",
    "\n",
    "\n"
   ]
  },
  {
   "cell_type": "code",
   "execution_count": 26,
   "metadata": {},
   "outputs": [
    {
     "data": {
      "text/plain": [
       "array([[ 5.1       ,  3.5       ,  1.4       , ..., -1.07709907,\n",
       "        -0.4246633 , -0.8299646 ],\n",
       "       [ 4.9       ,  3.        ,  1.4       , ...,  1.4121517 ,\n",
       "        -1.38043075, -0.53591456],\n",
       "       [ 4.7       ,  3.2       ,  1.3       , ...,  0.65880214,\n",
       "        -0.59691711, -0.22295918],\n",
       "       ...,\n",
       "       [ 6.2       ,  2.9       ,  4.3       , ..., -0.8281054 ,\n",
       "        -1.43286053, -0.60855489],\n",
       "       [ 5.1       ,  2.5       ,  3.        , ...,  0.06532704,\n",
       "        -0.55380986, -0.88254487],\n",
       "       [ 5.7       ,  2.8       ,  4.1       , ..., -1.04873453,\n",
       "         0.37475842, -0.98731143]])"
      ]
     },
     "execution_count": 26,
     "metadata": {},
     "output_type": "execute_result"
    }
   ],
   "source": [
    "X"
   ]
  }
 ],
 "metadata": {
  "kernelspec": {
   "display_name": "Python 3",
   "language": "python",
   "name": "python3"
  },
  "language_info": {
   "codemirror_mode": {
    "name": "ipython",
    "version": 3
   },
   "file_extension": ".py",
   "mimetype": "text/x-python",
   "name": "python",
   "nbconvert_exporter": "python",
   "pygments_lexer": "ipython3",
   "version": "3.7.0"
  },
  "toc": {
   "base_numbering": 1,
   "nav_menu": {},
   "number_sections": true,
   "sideBar": true,
   "skip_h1_title": false,
   "title_cell": "Table of Contents",
   "title_sidebar": "Contents",
   "toc_cell": false,
   "toc_position": {},
   "toc_section_display": true,
   "toc_window_display": false
  }
 },
 "nbformat": 4,
 "nbformat_minor": 2
}
