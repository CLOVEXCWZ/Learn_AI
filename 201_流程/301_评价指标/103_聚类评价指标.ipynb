{
 "cells": [
  {
   "cell_type": "markdown",
   "metadata": {},
   "source": [
    "# 评价指标"
   ]
  },
  {
   "cell_type": "markdown",
   "metadata": {},
   "source": [
    "## CP (compactness 紧密性)\n",
    "\n",
    "- CP 计算一个类个点到聚类中心的平均距离 （计算的是一个类，多个类就会有多个 CP）\n",
    "- CP 越低意味着类内距离距离越近\n",
    "\n",
    "\n",
    "- 缺点：没有考虑类间效果\n",
    "\n",
    "![201](picture/201.png)\n",
    "\n",
    "- wi 表示的是一个聚类中心\n",
    "- "
   ]
  },
  {
   "cell_type": "markdown",
   "metadata": {},
   "source": [
    "## SP (Separation)- 间隔性\n",
    "\n",
    "- SP计算聚类中心两两之间平均距离\n",
    "- SP越高意味类间距离越远\n",
    "\n",
    "\n",
    "- 缺点：没有考虑类内效果\n",
    "\n",
    "![202](picture/202.png)"
   ]
  },
  {
   "cell_type": "markdown",
   "metadata": {},
   "source": [
    "## BDI (Davies-Bouldin Index) 戴维森堡丁指数\n",
    "\n",
    "- 戴维森堡丁指数(分类适确性指标)（DB   DBI）\n"
   ]
  },
  {
   "cell_type": "markdown",
   "metadata": {},
   "source": [
    "## DVI"
   ]
  },
  {
   "cell_type": "markdown",
   "metadata": {},
   "source": []
  },
  {
   "cell_type": "markdown",
   "metadata": {},
   "source": []
  },
  {
   "cell_type": "markdown",
   "metadata": {},
   "source": []
  },
  {
   "cell_type": "markdown",
   "metadata": {},
   "source": []
  },
  {
   "cell_type": "markdown",
   "metadata": {},
   "source": []
  }
 ],
 "metadata": {
  "kernelspec": {
   "display_name": "Python 3",
   "language": "python",
   "name": "python3"
  },
  "language_info": {
   "codemirror_mode": {
    "name": "ipython",
    "version": 3
   },
   "file_extension": ".py",
   "mimetype": "text/x-python",
   "name": "python",
   "nbconvert_exporter": "python",
   "pygments_lexer": "ipython3",
   "version": "3.7.3"
  },
  "toc": {
   "base_numbering": 1,
   "nav_menu": {},
   "number_sections": true,
   "sideBar": true,
   "skip_h1_title": false,
   "title_cell": "Table of Contents",
   "title_sidebar": "Contents",
   "toc_cell": false,
   "toc_position": {},
   "toc_section_display": true,
   "toc_window_display": false
  }
 },
 "nbformat": 4,
 "nbformat_minor": 2
}
