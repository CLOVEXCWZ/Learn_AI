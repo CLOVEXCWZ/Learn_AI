{
 "cells": [
  {
   "cell_type": "markdown",
   "metadata": {},
   "source": [
    "# 基本问题"
   ]
  },
  {
   "cell_type": "markdown",
   "metadata": {},
   "source": [
    "## 什么是决策树\n",
    "\n",
    "- 决策树是一种基本的分类与回归方法 \n",
    "\n",
    "- 分为分类树 和 回归树\n"
   ]
  },
  {
   "cell_type": "markdown",
   "metadata": {},
   "source": [
    "## 决策树是干什么的\n",
    "### 决策树的作用\n",
    "\n",
    "- 进行分类\n",
    "\n",
    "- 进行回归\n",
    "\n",
    "### 决策树用于哪些领域"
   ]
  },
  {
   "cell_type": "markdown",
   "metadata": {},
   "source": [
    "## 决策树的实现过程\n",
    "\n",
    "- 特征选择  (可根据 信息增益、信息增益率、gini指数进行选择)\n",
    "- 决策树生成 \n",
    "- 剪枝 (根据叶子节点样本数量进行剪枝  等)"
   ]
  },
  {
   "cell_type": "markdown",
   "metadata": {},
   "source": [
    "## 决策树的优缺点\n",
    "\n",
    "### 优点\n",
    "\n",
    "- 速度快：计算量相对较小, 且容易转化成分类规则. 只要沿着树根向下一直走到叶, 沿途的分裂条件就能够唯一确定一条分类的谓词.\n",
    "- 准确性高：挖掘出来的分类规则准确性高, 便于理解, 决策树可以清晰的显示哪些字段比较重要, 即可以生成可以理解的规则.\n",
    "- 适合高维度数据\n",
    "- 算法解释性强\n",
    "\n",
    "\n",
    "### 缺点\n",
    "\n",
    "- 容易过拟合\n",
    "- 忽略属性之间的相关性\n"
   ]
  }
 ],
 "metadata": {
  "kernelspec": {
   "display_name": "Python 3",
   "language": "python",
   "name": "python3"
  },
  "language_info": {
   "codemirror_mode": {
    "name": "ipython",
    "version": 3
   },
   "file_extension": ".py",
   "mimetype": "text/x-python",
   "name": "python",
   "nbconvert_exporter": "python",
   "pygments_lexer": "ipython3",
   "version": "3.7.0"
  },
  "toc": {
   "base_numbering": 1,
   "nav_menu": {},
   "number_sections": true,
   "sideBar": true,
   "skip_h1_title": false,
   "title_cell": "Table of Contents",
   "title_sidebar": "Contents",
   "toc_cell": false,
   "toc_position": {},
   "toc_section_display": true,
   "toc_window_display": false
  }
 },
 "nbformat": 4,
 "nbformat_minor": 2
}
