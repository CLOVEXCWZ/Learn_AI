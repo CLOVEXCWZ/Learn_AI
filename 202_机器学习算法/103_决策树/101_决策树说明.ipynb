{
 "cells": [
  {
   "cell_type": "markdown",
   "metadata": {},
   "source": [
    "# 决策树"
   ]
  },
  {
   "cell_type": "markdown",
   "metadata": {},
   "source": [
    "# 创建一颗决策树\n",
    "- 检测数据集中的所有数据的分类标签是否相同:\n",
    "        If so return 类标签\n",
    "        Else:\n",
    "            寻找划分数据集的最好特征（划分之后信息熵最小，也就是信息增益最大的特征）\n",
    "            划分数据集\n",
    "            创建分支节点\n",
    "                for 每个划分的子集\n",
    "                    调用函数 createBranch （创建分支的函数）并增加返回结果到分支节点中\n",
    "            return 分支节点"
   ]
  },
  {
   "cell_type": "markdown",
   "metadata": {},
   "source": [
    "# 决策树开发流程\n",
    "- 收集数据：可以使用任何方法。\n",
    "- 准备数据：树构造算法 (这里使用的是ID3算法，只适用于标称型数据，这就是为什么数值型数据必须离散化。 还有其他的树构造算法，比如CART)\n",
    "- 分析数据：可以使用任何方法，构造树完成之后，我们应该检查图形是否符合预期。\n",
    "- 训练算法：构造树的数据结构。\n",
    "- 测试算法：使用训练好的树计算错误率。\n",
    "- 使用算法：此步骤可以适用于任何监督学习任务，而使用决策树可以更好地理解数据的内在含义。"
   ]
  },
  {
   "cell_type": "markdown",
   "metadata": {},
   "source": [
    "# 优缺点"
   ]
  },
  {
   "cell_type": "markdown",
   "metadata": {},
   "source": [
    "## 优点\n",
    "- 算法复杂度不高\n",
    "- 输出结果容易理解\n",
    "- 可以处理不相关特征"
   ]
  },
  {
   "cell_type": "markdown",
   "metadata": {},
   "source": [
    "## 缺点\n",
    "- 容易过拟合"
   ]
  }
 ],
 "metadata": {
  "kernelspec": {
   "display_name": "Python 3",
   "language": "python",
   "name": "python3"
  },
  "language_info": {
   "codemirror_mode": {
    "name": "ipython",
    "version": 3
   },
   "file_extension": ".py",
   "mimetype": "text/x-python",
   "name": "python",
   "nbconvert_exporter": "python",
   "pygments_lexer": "ipython3",
   "version": "3.7.0"
  },
  "toc": {
   "base_numbering": 1,
   "nav_menu": {},
   "number_sections": true,
   "sideBar": true,
   "skip_h1_title": false,
   "title_cell": "Table of Contents",
   "title_sidebar": "Contents",
   "toc_cell": false,
   "toc_position": {},
   "toc_section_display": true,
   "toc_window_display": false
  }
 },
 "nbformat": 4,
 "nbformat_minor": 2
}
