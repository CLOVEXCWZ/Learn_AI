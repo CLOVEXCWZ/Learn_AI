{
 "cells": [
  {
   "cell_type": "markdown",
   "metadata": {},
   "source": [
    "# ID3\n",
    "    \n",
    "- ID3采用信息增益作为选择最优的分裂属性的方法"
   ]
  },
  {
   "cell_type": "markdown",
   "metadata": {},
   "source": [
    "# 信息熵\n",
    "\n",
    "- 信息熵是消除不确定性所需信息量的度量，即未知事件可能含有的信息量。通俗的讲信息熵就是用来衡量信息量的大小。\n",
    "- 若不确定性越大，信息量就越大，熵越大\n",
    "- 若不确定性越小，信息量就越小，熵越小\n",
    "\n",
    "    信息熵公式\n",
    "    \n",
    "    ![301](picture/301.png)\n"
   ]
  },
  {
   "cell_type": "markdown",
   "metadata": {},
   "source": [
    "# 条件熵\n",
    "\n",
    "- 信息熵是代表随机变量的复杂度（不确定度），条件熵代表在某一个条件下，随机变量的复杂度（不确定度）\n",
    "\n",
    "    条件熵公式\n",
    "    \n",
    "    ![203](picture/302.png)"
   ]
  },
  {
   "cell_type": "markdown",
   "metadata": {},
   "source": [
    "# 信息增益\n",
    "- 信息增益 = 信息熵 - 条件熵\n",
    "\n",
    "    公式\n",
    "    ![303](picture/303.png)"
   ]
  },
  {
   "cell_type": "markdown",
   "metadata": {},
   "source": [
    "序号 | 性别 | 活跃度 | 是否流失\n",
    "-|-|-|-\n",
    "1 | 男 | 高 | 0\n",
    "2 | 女 | 中 | 0\n",
    "3 | 男 | 低 | 1\n",
    "4 | 女 | 高 | 0\n",
    "5 | 男 | 高 | 0\n",
    "6 | 男 | 中 | 0\n",
    "7 | 男 | 中 | 1\n",
    "8 | 女 | 中 | 0\n",
    "9 | 女 | 低 | 1\n",
    "10 | 女 | 中 | 0\n",
    "11 | 女 | 高 | 0\n",
    "12 | 男 | 低 | 1\n",
    "13 | 女 | 低 | 1\n",
    "14 | 男 | 高 | 0\n",
    "15 | 男 | 高 | 0\n",
    "\n",
    "统计信息可以得到\n",
    "\n",
    "-  | 未流失| 流失 | 汇总\n",
    "-|-|-|-\n",
    "整体 | 5 | 10 | 15\n",
    "男性 | 3 | 5 | 8\n",
    "女性 | 2 | 5 | 7\n",
    "\n",
    "-  | 未流失 | 流失 | 汇总\n",
    "-|-|-|-\n",
    "整体 | 5 | 10 | 15\n",
    "高 | 0 | 6 | 6\n",
    "中 | 1 | 4 | 5\n",
    "低 | 4 | 0 | 4\n",
    "\n",
    "\n",
    "- 整体熵 E(S) = -5/15*log(5/15, 2) - (10/15)*log(10/15, 2) = 0.9182\n",
    "- 性别熵\n",
    "    - E(g1) = -(3/8)*log(3/8, 2) - (5/8)*log(5/8, 2) = 0.954\n",
    "    - E(g2) = -(2/7)*log(2/7, 2) - (5/7)*log(5/7, 2) = 0.863\n",
    "- 性别条件熵\n",
    "    - E(S, G) = (8/15)*E(g1) + (7/15)*E(g2) = 0.911\n",
    "- 性别的信息增益\n",
    "    - IGain(S, g) = S(S) -  (8/15)*E(g1) + (7/15)*E(g2) = 0.064"
   ]
  },
  {
   "cell_type": "code",
   "execution_count": 23,
   "metadata": {
    "scrolled": true
   },
   "outputs": [
    {
     "name": "stdout",
     "output_type": "stream",
     "text": [
      "整体熵： 0.9182958340544896\n",
      "男性条件熵： 0.9544340029249649\n",
      "女性条件熵： 0.863120568566631\n",
      "性别条件熵： 0.9118210668910758\n",
      "性别信息增益： 0.006474767163413775\n"
     ]
    }
   ],
   "source": [
    "import math\n",
    "log = math.log\n",
    " \n",
    "ES  =- (5/15)*log((5/15), 2) - (10/15)*log((10/15), 2) # 0.9182958340544896\n",
    "Eg1 = -(3/8)*log(3/8, 2) - (5/8)*log(5/8, 2) # 0.9544340029249649\n",
    "Eg2 =-(2/7)*log(2/7, 2) - (5/7)*log(5/7, 2) #  0.863120568566631\n",
    "ESG = (8/15)*Eg1 + (7/15)*Eg2\n",
    "IGSG = ES-ESG\n",
    "print(\"整体熵：\", ES)\n",
    "print(\"男性条件熵：\", Eg1)\n",
    "print(\"女性条件熵：\", Eg2)\n",
    "print(\"性别条件熵：\", ESG)\n",
    "print(\"性别信息增益：\", IGSG)"
   ]
  },
  {
   "cell_type": "code",
   "execution_count": null,
   "metadata": {},
   "outputs": [],
   "source": []
  }
 ],
 "metadata": {
  "kernelspec": {
   "display_name": "Python 3",
   "language": "python",
   "name": "python3"
  },
  "language_info": {
   "codemirror_mode": {
    "name": "ipython",
    "version": 3
   },
   "file_extension": ".py",
   "mimetype": "text/x-python",
   "name": "python",
   "nbconvert_exporter": "python",
   "pygments_lexer": "ipython3",
   "version": "3.7.0"
  },
  "toc": {
   "base_numbering": 1,
   "nav_menu": {},
   "number_sections": true,
   "sideBar": true,
   "skip_h1_title": false,
   "title_cell": "Table of Contents",
   "title_sidebar": "Contents",
   "toc_cell": false,
   "toc_position": {},
   "toc_section_display": true,
   "toc_window_display": false
  }
 },
 "nbformat": 4,
 "nbformat_minor": 2
}
