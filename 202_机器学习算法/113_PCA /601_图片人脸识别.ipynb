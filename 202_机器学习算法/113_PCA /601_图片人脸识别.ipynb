{
 "cells": [
  {
   "cell_type": "code",
   "execution_count": 1,
   "metadata": {},
   "outputs": [],
   "source": [
    "import numpy as np\n",
    "\n",
    "#定义PCA算法               \n",
    "def PCA(data,r):\n",
    "    data=np.float32(np.mat(data))\n",
    "    rows,cols=np.shape(data)\n",
    "    data_mean=np.mean(data,0)#对列求平均值\n",
    "    A=data-np.tile(data_mean,(rows,1))#将所有样例减去对应均值得到A\n",
    "    C=A*A.T #得到协方差矩阵\n",
    "    D,V=np.linalg.eig(C)#求协方差矩阵的特征值和特征向量\n",
    "    V_r=V[:,0:r]#按列取前r个特征向量\n",
    "    V_r=A.T*V_r#小矩阵特征向量向大矩阵特征向量过渡\n",
    "    for i in range(r):\n",
    "        V_r[:,i]=V_r[:,i]/np.linalg.norm(V_r[:,i])#特征向量归一化\n",
    "    \n",
    "    final_data=A*V_r\n",
    "    return final_data,data_mean,V_r"
   ]
  },
  {
   "cell_type": "code",
   "execution_count": 66,
   "metadata": {},
   "outputs": [
    {
     "name": "stdout",
     "output_type": "stream",
     "text": [
      "(80, 10304)\n",
      "OK\n"
     ]
    }
   ],
   "source": [
    "import matplotlib.image as mpig\n",
    "import os\n",
    "from sklearn.model_selection import GridSearchCV, train_test_split\n",
    "\n",
    "# 把图片转化成一个一维的向量\n",
    "def img_to_vector_mpig(img_path):\n",
    "    img = mpig.imread(img_path)\n",
    "    rows, cols = img.shape\n",
    "    img_vector = np.zeros((1, rows*cols))\n",
    "    img_vector = np.reshape(img, (1, rows*cols))\n",
    "    return img_vector\n",
    "\n",
    "# 图片文件夹\n",
    "img_path_base  = \"/Users/zhouwencheng/Desktop/Grass/05 AI/05 jupyter/10 data/03 图片/01 ORL\"\n",
    "# 文件夹下图片名称\n",
    "img_file_list = os.listdir(img_path_base)\n",
    "\n",
    "# 40个样本 index\n",
    "indices = [ i for i in range(40)] \n",
    "\n",
    "def read_img(test_size = 0.8):\n",
    "    # 总共有40个人 每个人10张照片 \n",
    "    x_train = []\n",
    "    y_train = [] \n",
    "    x_test  = []\n",
    "    y_test  = []\n",
    "    \n",
    "    k = 10*test_size\n",
    "    \n",
    "    for p in range(40):\n",
    "        for index in range(10):\n",
    "            path = img_path_base + '/' + ('s%ld_%ld.bmp'%(p+1, index+1))\n",
    "            img_vector = img_to_vector_mpig(path)\n",
    "            img_vector = img_vector.reshape(img_vector.size, )\n",
    "            if index >= k:\n",
    "                x_train.append(img_vector)\n",
    "                y_train.append(p)\n",
    "            else:\n",
    "                x_test.append(img_vector)\n",
    "                y_test.append(p)\n",
    "    \n",
    "    \n",
    "    \n",
    "    x_train = np.array(x_train) \n",
    "    x_test = np.array(x_test)\n",
    "    y_train = np.array(y_train) \n",
    "    y_test = np.array(y_test)  \n",
    "    \n",
    "    x_train = x_train.reshape(x_train.shape[0], -1)\n",
    "    x_test = x_test.reshape(x_test.shape[0], -1)\n",
    "     \n",
    "    return x_train, y_train, x_test, y_test\n",
    " \n",
    "x_train, y_train, x_test, y_test = read_img(test_size = 0.2)\n",
    "\n",
    "print(x_test.shape)\n",
    "print('OK')  "
   ]
  },
  {
   "cell_type": "code",
   "execution_count": 47,
   "metadata": {},
   "outputs": [
    {
     "data": {
      "text/plain": [
       "(80, 41216)"
      ]
     },
     "execution_count": 47,
     "metadata": {},
     "output_type": "execute_result"
    }
   ],
   "source": [
    "x_test.shape"
   ]
  },
  {
   "cell_type": "code",
   "execution_count": null,
   "metadata": {},
   "outputs": [],
   "source": []
  },
  {
   "cell_type": "code",
   "execution_count": 37,
   "metadata": {},
   "outputs": [
    {
     "data": {
      "text/plain": [
       "array([[ 39,  44,  53, ...,  29,  26,  29],\n",
       "       [ 34,  34,  33, ...,  37,  40,  33],\n",
       "       [ 35,  36,  37, ..., 144, 147, 143],\n",
       "       ...,\n",
       "       [ 75,  77,  75, ..., 116, 114, 113],\n",
       "       [119, 121, 123, ...,  36,  40,  36],\n",
       "       [127, 131, 128, ...,  94,  84,  89]], dtype=uint8)"
      ]
     },
     "execution_count": 37,
     "metadata": {},
     "output_type": "execute_result"
    }
   ],
   "source": [
    "x_test"
   ]
  },
  {
   "cell_type": "markdown",
   "metadata": {},
   "source": [
    "## PCA"
   ]
  },
  {
   "cell_type": "code",
   "execution_count": 1,
   "metadata": {},
   "outputs": [],
   "source": [
    "# PCA\n",
    "import numpy as np\n",
    "\n",
    "def zero_mean(data_mat):\n",
    "    \"\"\"\n",
    "    零均值化\n",
    "    \"\"\"\n",
    "    mean_val = np.mean(data_mat, axis = 0) #按列求均值，即求各个特征的均值\n",
    "    new_data = data_mat - mean_val\n",
    "    return new_data, mean_val\n",
    "\n",
    "def pca(data_mat, n):\n",
    "    new_data, mean_val = zero_mean(data_mat)\n",
    "    cov_mat = np.cov(new_data, rowvar = 0)  #求协方差矩阵,return ndarray；若rowvar非0，一列代表一个样本，为0，一行代表一个样本\n",
    "    \n",
    "    eig_vlas, eig_vects = np.linalg.eig(np.mat(cov_mat)) #求特征值和特征向量,特征向量是按列放的，即一列代表一个特征向量\n",
    "    eig_val_indice = np.argsort(eig_vlas) #对特征值从小到大排序\n",
    "    n_eig_val_indice=eig_val_indice[-1:-(n+1):-1]   #最大的n个特征值的下标( [::-1]是逆序的意思)\n",
    "    n_eig_vects = eig_vects[:,n_eig_val_indice] #最大的n个特征值对应的特征向量\n",
    "    low_data_mat=new_data*n_eig_vects               #低维特征空间的数据(点乘)\n",
    "    recon_mat = (low_data_mat * n_eig_vects.T) + mean_val #重构数据\n",
    "    return low_data_mat, recon_mat  "
   ]
  },
  {
   "cell_type": "code",
   "execution_count": 76,
   "metadata": {},
   "outputs": [
    {
     "name": "stdout",
     "output_type": "stream",
     "text": [
      "OK\n"
     ]
    }
   ],
   "source": [
    "# 人脸识别\n",
    "\n",
    "def face_rec1():\n",
    "    for r in range(10, 41, 10):\n",
    "        print(\"当降维到%d时\"%(r))\n",
    "        x_value=[]\n",
    "        y_value=[]\n",
    "        \n",
    "        for k in range(1,10): \n",
    "            test_size = 1 - k * 0.1\n",
    "            train_face,train_label,test_face,test_label=read_img(test_size) \n",
    "            #利用PCA算法进行训练\n",
    "            data_train_new,data_mean,V_r=PCA(train_face,r)\n",
    "            num_train = data_train_new.shape[0]#训练脸总数\n",
    "            num_test = test_face.shape[0]#测试脸总数\n",
    "            temp_face = test_face - np.tile(data_mean,(num_test,1))\n",
    "            data_test_new = temp_face*V_r #得到测试脸在特征向量下的数据\n",
    "            data_test_new = np.array(data_test_new) # mat change to array\n",
    "            data_train_new = np.array(data_train_new)\n",
    "    \n",
    "            #测试准确度\n",
    "            true_num = 0\n",
    "            for i in range(num_test):\n",
    "                testFace = data_test_new[i,:]\n",
    "                diffMat = data_train_new - np.tile(testFace,(num_train,1))#训练数据与测试脸之间距离\n",
    "                sqDiffMat = diffMat**2\n",
    "                sqDistances = sqDiffMat.sum(axis=1)#按行求和 \n",
    "                sortedDistIndicies = sqDistances.argsort()#对向量从小到大排序，使用的是索引值,得到一个向量\n",
    "                indexMin = sortedDistIndicies[0]#距离最近的索引\n",
    "                if train_label[indexMin] == test_label[i]:\n",
    "                    true_num += 1\n",
    "                else:\n",
    "                    pass\n",
    "\n",
    "            accuracy = float(true_num)/num_test\n",
    "            x_value.append(k)\n",
    "            y_value.append(round(accuracy,2))\n",
    "            \n",
    "            print ('当每个人选择%d张照片进行训练时，The classify accuracy is: %.2f%%'%(k,accuracy * 100))\n",
    "          \n",
    "\n",
    "            \n",
    "print('OK')\n",
    "\n"
   ]
  },
  {
   "cell_type": "code",
   "execution_count": 77,
   "metadata": {},
   "outputs": [
    {
     "name": "stdout",
     "output_type": "stream",
     "text": [
      "当降维到10时\n",
      "当每个人选择1张照片进行训练时，The classify accuracy is: 59.44%\n",
      "当每个人选择2张照片进行训练时，The classify accuracy is: 71.56%\n",
      "当每个人选择3张照片进行训练时，The classify accuracy is: 82.50%\n",
      "当每个人选择4张照片进行训练时，The classify accuracy is: 85.83%\n",
      "当每个人选择5张照片进行训练时，The classify accuracy is: 88.50%\n",
      "当每个人选择6张照片进行训练时，The classify accuracy is: 93.75%\n",
      "当每个人选择7张照片进行训练时，The classify accuracy is: 94.17%\n",
      "当每个人选择8张照片进行训练时，The classify accuracy is: 97.50%\n",
      "当每个人选择9张照片进行训练时，The classify accuracy is: 95.00%\n",
      "当降维到20时\n",
      "当每个人选择1张照片进行训练时，The classify accuracy is: 64.72%\n",
      "当每个人选择2张照片进行训练时，The classify accuracy is: 75.94%\n",
      "当每个人选择3张照片进行训练时，The classify accuracy is: 86.43%\n",
      "当每个人选择4张照片进行训练时，The classify accuracy is: 90.00%\n",
      "当每个人选择5张照片进行训练时，The classify accuracy is: 94.00%\n",
      "当每个人选择6张照片进行训练时，The classify accuracy is: 95.62%\n",
      "当每个人选择7张照片进行训练时，The classify accuracy is: 96.67%\n",
      "当每个人选择8张照片进行训练时，The classify accuracy is: 97.50%\n",
      "当每个人选择9张照片进行训练时，The classify accuracy is: 95.00%\n",
      "当降维到30时\n",
      "当每个人选择1张照片进行训练时，The classify accuracy is: 66.39%\n",
      "当每个人选择2张照片进行训练时，The classify accuracy is: 75.62%\n",
      "当每个人选择3张照片进行训练时，The classify accuracy is: 86.43%\n",
      "当每个人选择4张照片进行训练时，The classify accuracy is: 90.00%\n",
      "当每个人选择5张照片进行训练时，The classify accuracy is: 94.00%\n",
      "当每个人选择6张照片进行训练时，The classify accuracy is: 96.88%\n",
      "当每个人选择7张照片进行训练时，The classify accuracy is: 97.50%\n",
      "当每个人选择8张照片进行训练时，The classify accuracy is: 97.50%\n",
      "当每个人选择9张照片进行训练时，The classify accuracy is: 95.00%\n",
      "当降维到40时\n",
      "当每个人选择1张照片进行训练时，The classify accuracy is: 65.83%\n",
      "当每个人选择2张照片进行训练时，The classify accuracy is: 76.56%\n",
      "当每个人选择3张照片进行训练时，The classify accuracy is: 87.50%\n",
      "当每个人选择4张照片进行训练时，The classify accuracy is: 90.42%\n",
      "当每个人选择5张照片进行训练时，The classify accuracy is: 94.00%\n",
      "当每个人选择6张照片进行训练时，The classify accuracy is: 96.88%\n",
      "当每个人选择7张照片进行训练时，The classify accuracy is: 97.50%\n",
      "当每个人选择8张照片进行训练时，The classify accuracy is: 97.50%\n",
      "当每个人选择9张照片进行训练时，The classify accuracy is: 95.00%\n"
     ]
    }
   ],
   "source": [
    "face_rec1()"
   ]
  },
  {
   "cell_type": "code",
   "execution_count": 69,
   "metadata": {},
   "outputs": [],
   "source": [
    "#人脸识别\n",
    "def face_rec():\n",
    "    #k=int(input(\"每个人选择几张照片进行训练：\"))\n",
    "    #x_value=[]\n",
    "    #y_value=[]\n",
    "    for r in range(10,41,10):\n",
    "        print(\"当降维到%d时\"%(r))\n",
    "        x_value=[]\n",
    "        y_value=[]\n",
    "        for k in range(1,10):\n",
    "#             train_face,train_label,test_face,test_label=load_orl(k)#得到数据集\n",
    "            test_size = 1 - k * 0.1\n",
    "            train_face,train_label,test_face,test_label=read_img(test_size) \n",
    "            #利用PCA算法进行训练\n",
    "            data_train_new,data_mean,V_r=PCA(train_face,r)\n",
    "            num_train = data_train_new.shape[0]#训练脸总数\n",
    "            num_test = test_face.shape[0]#测试脸总数\n",
    "            temp_face = test_face - np.tile(data_mean,(num_test,1))\n",
    "            data_test_new = temp_face*V_r #得到测试脸在特征向量下的数据\n",
    "            data_test_new = np.array(data_test_new) # mat change to array\n",
    "            data_train_new = np.array(data_train_new)\n",
    "    \n",
    "            #测试准确度\n",
    "            true_num = 0\n",
    "            for i in range(num_test):\n",
    "                testFace = data_test_new[i,:]\n",
    "                diffMat = data_train_new - np.tile(testFace,(num_train,1))#训练数据与测试脸之间距离\n",
    "                sqDiffMat = diffMat**2\n",
    "                sqDistances = sqDiffMat.sum(axis=1)#按行求和 \n",
    "                sortedDistIndicies = sqDistances.argsort()#对向量从小到大排序，使用的是索引值,得到一个向量\n",
    "                indexMin = sortedDistIndicies[0]#距离最近的索引\n",
    "                if train_label[indexMin] == test_label[i]:\n",
    "                    true_num += 1\n",
    "                else:\n",
    "                    pass\n",
    "\n",
    "            accuracy = float(true_num)/num_test\n",
    "            x_value.append(k)\n",
    "            y_value.append(round(accuracy,2))\n",
    "            \n",
    "            print ('当每个人选择%d张照片进行训练时，The classify accuracy is: %.2f%%'%(k,accuracy * 100))\n",
    "        \n",
    "        #绘图\n",
    "        if r==10:\n",
    "            y1_value=y_value\n",
    "            plt.plot(x_value,y_value,marker=\"o\",markerfacecolor=\"red\")\n",
    "            for a, b in zip(x_value, y_value):  \n",
    "                plt.text(a,b,(a,b),ha='center', va='bottom', fontsize=10)  \n",
    " \n",
    "      \n",
    "            plt.title(\"降到10维时识别率\",fontsize=14)\n",
    "            plt.xlabel(\"K值\",fontsize=14)\n",
    "            plt.ylabel(\"识别率\",fontsize=14)\n",
    "            plt.show()\n",
    "            #print ('y1_value',y1_value)\n",
    "        if r==20:\n",
    "            y2_value=y_value\n",
    "            plt.plot(x_value,y2_value,marker=\"o\",markerfacecolor=\"red\")\n",
    "            for a, b in zip(x_value, y_value):  \n",
    "                plt.text(a,b,(a,b),ha='center', va='bottom', fontsize=10)  \n",
    " \n",
    "      \n",
    "            plt.title(\"降到20维时识别率\",fontsize=14)\n",
    "            plt.xlabel(\"K值\",fontsize=14)\n",
    "            plt.ylabel(\"识别率\",fontsize=14)\n",
    "            plt.show() \n",
    "            #print ('y2_value',y2_value)\n",
    "        if r==30:\n",
    "            y3_value=y_value\n",
    "            plt.plot(x_value,y3_value,marker=\"o\",markerfacecolor=\"red\")\n",
    "            for a, b in zip(x_value, y_value):  \n",
    "                plt.text(a,b,(a,b),ha='center', va='bottom', fontsize=10)  \n",
    " \n",
    "      \n",
    "            plt.title(\"降到30维时识别率\",fontsize=14)\n",
    "            plt.xlabel(\"K值\",fontsize=14)\n",
    "            plt.ylabel(\"识别率\",fontsize=14)\n",
    "            plt.show()\n",
    "            #print ('y3_value',y3_value)\n",
    "        if r==40:\n",
    "            y4_value=y_value \n",
    "            plt.plot(x_value,y4_value,marker=\"o\",markerfacecolor=\"red\")\n",
    "            for a, b in zip(x_value, y_value):  \n",
    "                plt.text(a,b,(a,b),ha='center', va='bottom', fontsize=10)  \n",
    " \n",
    "      \n",
    "            plt.title(\"降到40维时识别率\",fontsize=14)\n",
    "            plt.xlabel(\"K值\",fontsize=14)\n",
    "            plt.ylabel(\"识别率\",fontsize=14)\n",
    "            plt.show()\n",
    "            #print ('y4_value',y4_value) \n",
    "        \n",
    "        \n",
    "        \n",
    "    #各维度下准确度比较\n",
    "    L1,=plt.plot(x_value,y1_value,marker=\"o\",markerfacecolor=\"red\")   \n",
    "    L2,=plt.plot(x_value,y2_value,marker=\"o\",markerfacecolor=\"red\")\n",
    "    L3,=plt.plot(x_value,y3_value,marker=\"o\",markerfacecolor=\"red\")\n",
    "    L4,=plt.plot(x_value,y4_value,marker=\"o\",markerfacecolor=\"red\")\n",
    "    #for a, b in zip(x_value, y1_value):  \n",
    "    #    plt.text(a,b,(a,b),ha='center', va='bottom', fontsize=10)  \n",
    " \n",
    "    plt.legend([L1,L2,L3,L4], [\"降到10维\", \"降到20维\",\"降到30维\",\"降到40维\"], loc=4)\n",
    "    plt.title(\"各维度识别率比较\",fontsize=14)\n",
    "    plt.xlabel(\"K值\",fontsize=14)\n",
    "    plt.ylabel(\"识别率\",fontsize=14)\n",
    "    plt.show()"
   ]
  },
  {
   "cell_type": "code",
   "execution_count": 70,
   "metadata": {},
   "outputs": [
    {
     "name": "stdout",
     "output_type": "stream",
     "text": [
      "当降维到10时\n",
      "当每个人选择1张照片进行训练时，The classify accuracy is: 59.44%\n",
      "当每个人选择2张照片进行训练时，The classify accuracy is: 71.56%\n",
      "当每个人选择3张照片进行训练时，The classify accuracy is: 82.50%\n",
      "当每个人选择4张照片进行训练时，The classify accuracy is: 85.83%\n",
      "当每个人选择5张照片进行训练时，The classify accuracy is: 88.50%\n",
      "当每个人选择6张照片进行训练时，The classify accuracy is: 93.75%\n",
      "当每个人选择7张照片进行训练时，The classify accuracy is: 94.17%\n",
      "当每个人选择8张照片进行训练时，The classify accuracy is: 97.50%\n",
      "当每个人选择9张照片进行训练时，The classify accuracy is: 95.00%\n"
     ]
    },
    {
     "ename": "NameError",
     "evalue": "name 'plt' is not defined",
     "output_type": "error",
     "traceback": [
      "\u001b[0;31m---------------------------------------------------------------------------\u001b[0m",
      "\u001b[0;31mNameError\u001b[0m                                 Traceback (most recent call last)",
      "\u001b[0;32m<ipython-input-70-9cc34ddbd39f>\u001b[0m in \u001b[0;36m<module>\u001b[0;34m\u001b[0m\n\u001b[0;32m----> 1\u001b[0;31m \u001b[0mface_rec\u001b[0m\u001b[0;34m(\u001b[0m\u001b[0;34m)\u001b[0m\u001b[0;34m\u001b[0m\u001b[0;34m\u001b[0m\u001b[0m\n\u001b[0m",
      "\u001b[0;32m<ipython-input-69-ca80019b59d6>\u001b[0m in \u001b[0;36mface_rec\u001b[0;34m()\u001b[0m\n\u001b[1;32m     44\u001b[0m         \u001b[0;32mif\u001b[0m \u001b[0mr\u001b[0m\u001b[0;34m==\u001b[0m\u001b[0;36m10\u001b[0m\u001b[0;34m:\u001b[0m\u001b[0;34m\u001b[0m\u001b[0;34m\u001b[0m\u001b[0m\n\u001b[1;32m     45\u001b[0m             \u001b[0my1_value\u001b[0m\u001b[0;34m=\u001b[0m\u001b[0my_value\u001b[0m\u001b[0;34m\u001b[0m\u001b[0;34m\u001b[0m\u001b[0m\n\u001b[0;32m---> 46\u001b[0;31m             \u001b[0mplt\u001b[0m\u001b[0;34m.\u001b[0m\u001b[0mplot\u001b[0m\u001b[0;34m(\u001b[0m\u001b[0mx_value\u001b[0m\u001b[0;34m,\u001b[0m\u001b[0my_value\u001b[0m\u001b[0;34m,\u001b[0m\u001b[0mmarker\u001b[0m\u001b[0;34m=\u001b[0m\u001b[0;34m\"o\"\u001b[0m\u001b[0;34m,\u001b[0m\u001b[0mmarkerfacecolor\u001b[0m\u001b[0;34m=\u001b[0m\u001b[0;34m\"red\"\u001b[0m\u001b[0;34m)\u001b[0m\u001b[0;34m\u001b[0m\u001b[0;34m\u001b[0m\u001b[0m\n\u001b[0m\u001b[1;32m     47\u001b[0m             \u001b[0;32mfor\u001b[0m \u001b[0ma\u001b[0m\u001b[0;34m,\u001b[0m \u001b[0mb\u001b[0m \u001b[0;32min\u001b[0m \u001b[0mzip\u001b[0m\u001b[0;34m(\u001b[0m\u001b[0mx_value\u001b[0m\u001b[0;34m,\u001b[0m \u001b[0my_value\u001b[0m\u001b[0;34m)\u001b[0m\u001b[0;34m:\u001b[0m\u001b[0;34m\u001b[0m\u001b[0;34m\u001b[0m\u001b[0m\n\u001b[1;32m     48\u001b[0m                 \u001b[0mplt\u001b[0m\u001b[0;34m.\u001b[0m\u001b[0mtext\u001b[0m\u001b[0;34m(\u001b[0m\u001b[0ma\u001b[0m\u001b[0;34m,\u001b[0m\u001b[0mb\u001b[0m\u001b[0;34m,\u001b[0m\u001b[0;34m(\u001b[0m\u001b[0ma\u001b[0m\u001b[0;34m,\u001b[0m\u001b[0mb\u001b[0m\u001b[0;34m)\u001b[0m\u001b[0;34m,\u001b[0m\u001b[0mha\u001b[0m\u001b[0;34m=\u001b[0m\u001b[0;34m'center'\u001b[0m\u001b[0;34m,\u001b[0m \u001b[0mva\u001b[0m\u001b[0;34m=\u001b[0m\u001b[0;34m'bottom'\u001b[0m\u001b[0;34m,\u001b[0m \u001b[0mfontsize\u001b[0m\u001b[0;34m=\u001b[0m\u001b[0;36m10\u001b[0m\u001b[0;34m)\u001b[0m\u001b[0;34m\u001b[0m\u001b[0;34m\u001b[0m\u001b[0m\n",
      "\u001b[0;31mNameError\u001b[0m: name 'plt' is not defined"
     ]
    }
   ],
   "source": [
    "face_rec()"
   ]
  },
  {
   "cell_type": "code",
   "execution_count": null,
   "metadata": {},
   "outputs": [],
   "source": []
  }
 ],
 "metadata": {
  "kernelspec": {
   "display_name": "Python 3",
   "language": "python",
   "name": "python3"
  },
  "language_info": {
   "codemirror_mode": {
    "name": "ipython",
    "version": 3
   },
   "file_extension": ".py",
   "mimetype": "text/x-python",
   "name": "python",
   "nbconvert_exporter": "python",
   "pygments_lexer": "ipython3",
   "version": "3.7.3"
  },
  "toc": {
   "base_numbering": 1,
   "nav_menu": {},
   "number_sections": true,
   "sideBar": true,
   "skip_h1_title": false,
   "title_cell": "Table of Contents",
   "title_sidebar": "Contents",
   "toc_cell": false,
   "toc_position": {},
   "toc_section_display": true,
   "toc_window_display": false
  }
 },
 "nbformat": 4,
 "nbformat_minor": 2
}
