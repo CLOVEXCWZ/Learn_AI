{
 "cells": [
  {
   "cell_type": "code",
   "execution_count": 5,
   "metadata": {},
   "outputs": [],
   "source": [
    "import numpy as np\n",
    "import matplotlib.pyplot as plt"
   ]
  },
  {
   "cell_type": "code",
   "execution_count": 6,
   "metadata": {},
   "outputs": [],
   "source": [
    "#压缩函数\n",
    "\n",
    "def pic_compress(img_path, k = 2):\n",
    "    img = plt.imread(img_path)\n",
    "    new_img = np.zeros_like(img)\n",
    "    for i in range(img.shape[2]):\n",
    "        u, sigma, vt = np.linalg.svd(img[:, :, i])\n",
    "        new_img[:, :, i] = u[:, :k].dot(np.diag(sigma[:k])).dot(vt[:k, :])\n",
    "    return new_img"
   ]
  },
  {
   "cell_type": "code",
   "execution_count": 8,
   "metadata": {},
   "outputs": [
    {
     "name": "stdout",
     "output_type": "stream",
     "text": [
      "sdv_picture/5.jpg\n",
      "sdv_picture/10.jpg\n",
      "sdv_picture/15.jpg\n",
      "sdv_picture/20.jpg\n",
      "sdv_picture/25.jpg\n",
      "sdv_picture/30.jpg\n",
      "sdv_picture/35.jpg\n",
      "sdv_picture/40.jpg\n",
      "sdv_picture/45.jpg\n",
      "sdv_picture/50.jpg\n"
     ]
    }
   ],
   "source": [
    "path = \"/Users/zhouwencheng/Desktop/Grass/360存盘_C-LOVE/02 我的文件/02 电脑/01 桌面/爱乐之城01.jpg\"\n",
    "path = \"/Users/zhouwencheng/Downloads/img2.png\"\n",
    "\n",
    "for i in range(5, 51, 5):\n",
    "    img = pic_compress(path, k=i)\n",
    "\n",
    "    img_name = \"sdv_picture/%ld.jpg\"%(i)\n",
    "    plt.imsave(img_name, img)\n",
    "    print(img_name)"
   ]
  },
  {
   "cell_type": "code",
   "execution_count": null,
   "metadata": {},
   "outputs": [],
   "source": []
  }
 ],
 "metadata": {
  "kernelspec": {
   "display_name": "Python 3",
   "language": "python",
   "name": "python3"
  },
  "language_info": {
   "codemirror_mode": {
    "name": "ipython",
    "version": 3
   },
   "file_extension": ".py",
   "mimetype": "text/x-python",
   "name": "python",
   "nbconvert_exporter": "python",
   "pygments_lexer": "ipython3",
   "version": "3.7.3"
  },
  "toc": {
   "base_numbering": 1,
   "nav_menu": {},
   "number_sections": true,
   "sideBar": true,
   "skip_h1_title": false,
   "title_cell": "Table of Contents",
   "title_sidebar": "Contents",
   "toc_cell": false,
   "toc_position": {},
   "toc_section_display": true,
   "toc_window_display": false
  }
 },
 "nbformat": 4,
 "nbformat_minor": 2
}
