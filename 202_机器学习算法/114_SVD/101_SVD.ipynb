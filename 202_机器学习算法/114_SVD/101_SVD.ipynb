{
 "cells": [
  {
   "cell_type": "markdown",
   "metadata": {},
   "source": [
    "# SVD概述\n",
    "\n",
    "- 奇异值分解（SVD, Singular Value Decomposition）:\n",
    "    \n",
    "    提取信息的一种方法，可以吧SVD看成是从噪音数据中抽取相关特征。从生物信息学到金融学,SVD是提取信息的强大工具"
   ]
  },
  {
   "cell_type": "markdown",
   "metadata": {},
   "source": [
    "# SVD场景"
   ]
  },
  {
   "cell_type": "markdown",
   "metadata": {},
   "source": [
    "## 信息检索\n",
    "    \n",
    "    信息检索- 隐性语义检索  或  隐形语义分析\n",
    "\n",
    "- 隐性语义索引： 矩阵 = 文档 + 词语\n",
    "- 是最早的SVD应用之一，我们称利用SVD方法为隐性语义索引(LSI) 或 隐性语义分析(LSA)\n",
    "\n",
    "![使用SVD简化数据-LSI举例](picture/使用SVD简化数据-LSI举例.png)"
   ]
  },
  {
   "cell_type": "markdown",
   "metadata": {},
   "source": [
    "## 推荐系统\n",
    "- 利用SVD从数据构建一个主题空间\n",
    "- 再该空间下计算其相识度。（从高维 -> 底维空间计算相似度,SVD提升了推荐系统的效率）\n",
    "\n",
    "![SVD_推荐系统_主题空间案例1](picture/SVD_推荐系统_主题空间案例1.jpg)\n",
    "\n",
    "    上图右边标注的为一组共同特征，表示美式BBQ空间，另一组在上图右边未标注的为日食食品空间"
   ]
  },
  {
   "cell_type": "markdown",
   "metadata": {},
   "source": [
    "## 图形压缩\n",
    "\n",
    "    例如： 32*32 = 1024  ->  32*2 + 2 * 1 + 32 * 2 = 130 （2 * 1 表示去掉对角线的0），几乎获得了10倍的压缩比例\n",
    "    \n",
    "![使用SVD简化数据-SVD公式](picture/使用SVD简化数据-SVD公式.jpg)\n"
   ]
  },
  {
   "cell_type": "markdown",
   "metadata": {},
   "source": [
    "# SVD 原理"
   ]
  },
  {
   "cell_type": "markdown",
   "metadata": {},
   "source": [
    "## 矩阵分解\n",
    "\n",
    "- 矩阵分析是将数据矩阵分解为多个独立部分的过程\n",
    "- 矩阵分解可以将原始矩阵表示成新的易于处理的形式，这种新形式是两个或多个矩阵的乘积。（类似代数中的因数分解）\n",
    "- 举例： 如何将12分解成2个数的乘积？ （1，12）、（2，6）、（3，4）都是合理的答案"
   ]
  },
  {
   "cell_type": "markdown",
   "metadata": {},
   "source": [
    "## SVD矩阵分解\n",
    "\n",
    "- SVD将原始的数据集矩阵 Data分解成三个矩阵U、∑、V\n",
    "- 举例：如果袁术矩阵 Data<sub>m*n</sub>是m行n列\n",
    "    - U<sub>m*k</sub> 表示 表示m行k列\n",
    "    - ∑<sub>k*k</sub> 表示k行k列\n",
    "    - V<sub>k*n</sub> 表示k行n列。\n",
    "    \n",
    "    Data<sub>m*n</sub> = U<sub>m*k</sub> * ∑<sub>k*k</sub> * V<sub>k*n</sub>\n",
    "    \n",
    "    ![使用SVD简化数据-SVD公式](picture/使用SVD简化数据-SVD公式.jpg)\n",
    "    \n",
    "- 上述分解中会构建出一个矩阵∑，该矩阵只有对角元素，其他元素均为0(近似于0)。另一个惯例就是，∑的对角元素是从大到小排列的。这些对角元素称为奇异值。\n",
    "- 奇异值与特征值(PCA 数据中重要特征)是有关系的。这里的奇异值就是矩阵 \\(Data * Data^T\\) 特征值的平方根。\n",
    "- 普遍的事实：在某个奇异值的数目(r 个=>奇异值的平方和累加到总值的90%以上)之后，其他的奇异值都置为0(近似于0)。这意味着数据集中仅有 r 个重要特征，而其余特征则都是噪声或冗余特征。"
   ]
  },
  {
   "cell_type": "markdown",
   "metadata": {},
   "source": [
    "# 优缺点"
   ]
  },
  {
   "cell_type": "markdown",
   "metadata": {},
   "source": [
    "## 优点\n",
    "- 简化数据\n",
    "- 去除噪声\n",
    "- 优化算法的结果"
   ]
  },
  {
   "cell_type": "markdown",
   "metadata": {},
   "source": [
    "## 缺点\n",
    "- 数据的转换可能难以理解"
   ]
  }
 ],
 "metadata": {
  "kernelspec": {
   "display_name": "Python 3",
   "language": "python",
   "name": "python3"
  },
  "language_info": {
   "codemirror_mode": {
    "name": "ipython",
    "version": 3
   },
   "file_extension": ".py",
   "mimetype": "text/x-python",
   "name": "python",
   "nbconvert_exporter": "python",
   "pygments_lexer": "ipython3",
   "version": "3.7.0"
  },
  "toc": {
   "base_numbering": 1,
   "nav_menu": {},
   "number_sections": true,
   "sideBar": true,
   "skip_h1_title": false,
   "title_cell": "Table of Contents",
   "title_sidebar": "Contents",
   "toc_cell": false,
   "toc_position": {},
   "toc_section_display": true,
   "toc_window_display": false
  }
 },
 "nbformat": 4,
 "nbformat_minor": 2
}
