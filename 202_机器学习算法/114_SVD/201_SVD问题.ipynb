{
 "cells": [
  {
   "cell_type": "markdown",
   "metadata": {},
   "source": [
    "# 基本问题"
   ]
  },
  {
   "cell_type": "markdown",
   "metadata": {},
   "source": [
    "## 什么是SVD\n",
    "\n",
    "- SVD 奇异值分解，是线性代数中一种重要的矩阵分解。  [（参考百度百科定义）](https://baike.baidu.com/item/奇异值/9975162?fr=aladdin ) \n",
    "\n",
    "- （我的理解） 每个奇异值对应的是一个方向上的特征投影长度。\n",
    "\n",
    "[奇异值分解的推导博客](http://blog.chinaunix.net/uid-20761674-id-4040274.html)\n",
    "\n",
    "\n",
    "<font size = 5>奇异值分解公式</font>\n",
    "\n",
    "\n",
    "<font size = 5> __M = UΣV<sup>T</sup>__</font>\n",
    "\n",
    "\n",
    "- U表示经过A 变换后的co-domain的标准正交基\n",
    "- Σ 奇异值向量\n",
    "- V表示了原始域的标准正交基"
   ]
  },
  {
   "cell_type": "markdown",
   "metadata": {},
   "source": [
    "## SVD是用来干嘛的\n",
    "\n",
    "### SVD的作用\n",
    "\n",
    "- 降维\n",
    "\n",
    "### SVD应用在哪些领域\n",
    "\n",
    "- 系统推荐\n",
    "\n",
    "[博客电影推荐例子解析](https://blog.csdn.net/pan12jian/article/details/29840251)\n",
    "\n",
    "- LSI（潜在语义索引）\n",
    "\n",
    "[博客内容](https://my.oschina.net/u/1462678/blog/893835)\n",
    "\n",
    "- 图片压缩\n",
    "\n",
    "\n",
    "- 数据降维\n"
   ]
  },
  {
   "cell_type": "markdown",
   "metadata": {},
   "source": [
    "## SVD 推导过程\n",
    "\n",
    "   \n",
    "   ![101](picture/101.png)"
   ]
  },
  {
   "cell_type": "markdown",
   "metadata": {},
   "source": [
    "## SVD优缺点"
   ]
  },
  {
   "cell_type": "markdown",
   "metadata": {},
   "source": [
    "### 优点\n",
    "\n",
    "- 降低数据复杂度\n",
    "- 识别最重要的多个特征\n",
    "- 去除噪点"
   ]
  },
  {
   "cell_type": "markdown",
   "metadata": {},
   "source": [
    "### 缺点\n",
    "- 分解出来的矩阵解释性不强"
   ]
  }
 ],
 "metadata": {
  "kernelspec": {
   "display_name": "Python 3",
   "language": "python",
   "name": "python3"
  },
  "language_info": {
   "codemirror_mode": {
    "name": "ipython",
    "version": 3
   },
   "file_extension": ".py",
   "mimetype": "text/x-python",
   "name": "python",
   "nbconvert_exporter": "python",
   "pygments_lexer": "ipython3",
   "version": "3.7.0"
  },
  "toc": {
   "base_numbering": 1,
   "nav_menu": {},
   "number_sections": true,
   "sideBar": true,
   "skip_h1_title": false,
   "title_cell": "Table of Contents",
   "title_sidebar": "Contents",
   "toc_cell": false,
   "toc_position": {
    "height": "calc(100% - 180px)",
    "left": "10px",
    "top": "150px",
    "width": "205.796875px"
   },
   "toc_section_display": true,
   "toc_window_display": true
  }
 },
 "nbformat": 4,
 "nbformat_minor": 2
}
