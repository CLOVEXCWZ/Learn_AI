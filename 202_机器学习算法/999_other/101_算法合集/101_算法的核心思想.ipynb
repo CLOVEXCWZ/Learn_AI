{
 "cells": [
  {
   "cell_type": "markdown",
   "metadata": {},
   "source": [
    "<font size = 5> __算法思想 - 优缺点__  </font>\n",
    "\n",
    "<font size = 3> __优缺点 哪些方面分析__  </font>\n",
    "\n",
    "- 速度\n",
    "- 复杂度\n",
    "- 稳定性\n",
    "- 解释性 \n"
   ]
  },
  {
   "cell_type": "markdown",
   "metadata": {},
   "source": [
    "# KNN\n",
    "\n",
    "- 它的核心思想是： __物以类聚，人以群分__\n",
    "- KNN( k-NearestNeighbor)又称近邻算法。\n",
    "\n",
    "\n",
    "- 通过最近的k个邻居推导x的类别\n",
    "- 我们可以简化为：找邻居，投票决定\n",
    "\n",
    "## 优点\n",
    "\n",
    "- 算法简单，容易实现\n",
    "- 算法稳定性强\n",
    "- 可解释性强 \n",
    "- 思想简洁，易理解 \n",
    "- 可以进行增量式训练\n",
    "- 对噪声数据不敏感\n",
    "\n",
    "\n",
    "## 缺点\n",
    "- 预测效率低，每次都需要把数据集再算一遍\n",
    "- K值选取对结果影响大\n",
    "- 需要完整的训练数据\n",
    "- 样本不均衡时，对稀疏类别预测准确度低 \n"
   ]
  },
  {
   "cell_type": "markdown",
   "metadata": {},
   "source": [
    "# 决策树\n",
    "\n",
    "- 决策树（decision tree）是一个树结构（可以是二叉树和非二叉树）\n",
    "- 其每个非叶节点表示一个特征属性上的测试，每个分支代表这个特征属性在某个值域上的输出，而每个叶节点存放一个类别。\n",
    "\n",
    "## 优点\n",
    "- 速度快\n",
    "- 算法简单，易实现\n",
    "- 算法稳定\n",
    "- 可解释性强\n",
    "- 适合高维度数据\n",
    "\n",
    "## 缺点\n",
    "- 容易过拟合\n",
    "- 忽略属性之间的关系"
   ]
  },
  {
   "cell_type": "markdown",
   "metadata": {},
   "source": [
    "# 朴素贝叶斯\n",
    "\n",
    "- 对于给定的待分类项，求解在此项出现的条件下各个类别出现的概率，哪个最大，就认为此待分类项属于哪个类别\n",
    "\n",
    "## 优点\n",
    "- 速度快\n",
    "- 算法简单，易理解\n",
    "- 算法稳定\n",
    "- 可解释性强\n",
    "- 适合增量式训练\n",
    "\n",
    "## 缺点\n",
    "- 需要知道先验概率\n",
    "- 忽略属性之间的关系（因为使用了样本属性独立的假设）\n",
    "\n",
    "## 用处\n",
    "- 文本分类\n",
    "- 欺诈类检测"
   ]
  },
  {
   "cell_type": "markdown",
   "metadata": {},
   "source": [
    "# 逻辑回归\n",
    "- 根据现有数据对分类边界线建立回归公式，以此进行数据分类。\n",
    "\n",
    "\n",
    "\n",
    "- 可以注意到，我们建立的是回归公式。“回归”源于最佳拟合，这意味着我们要找到最佳的参数集，这个参数就需要我们通过数据训练得到"
   ]
  },
  {
   "cell_type": "markdown",
   "metadata": {},
   "source": [
    "# 线性回归"
   ]
  },
  {
   "cell_type": "markdown",
   "metadata": {},
   "source": [
    "# K-Means\n",
    "\n",
    "- 物以类聚，人以群分\n",
    "\n",
    "\n",
    "- 从初始的数据点集合，不断纳入新的点，然后再从新计算集合的“中心”，再以改点为初始点重新纳入新的点到集合，在计算”中心”，依次往复，直到这些集合不再都不能再纳入新的数据为止.\n",
    "\n",
    "\n",
    "## 优点 \n",
    "- 可解释性强\n",
    "- 算法简单，容易实现\n",
    "\n",
    "## 缺点\n",
    "- 算法不稳定\n",
    "- K值选定对结果影响大\n",
    "- 中心点初始化对算法结果有影响\n",
    "- 数据量大的时候，计算开销很大\n"
   ]
  },
  {
   "cell_type": "markdown",
   "metadata": {},
   "source": [
    "# Apriori\n",
    "\n",
    "-  Apriori算法是一种挖掘关联规则的频繁项集算法，其核心思想是通过候选集生成和情节的向下封闭检测两个阶段来挖掘频繁项集。\n",
    "\n",
    "## 优点\n",
    "- 易于编码，易于实现\n",
    "\n",
    "## 缺点\n",
    "\n",
    "- 大数据集上会比较慢"
   ]
  },
  {
   "cell_type": "markdown",
   "metadata": {},
   "source": [
    "# PCA\n",
    "\n",
    "- 就是找出数据里最主要的方面，用数据最主要的方面来代替原始数据。数据从n维降到n'维肯定有损失，但是我们希望损失尽可能的小。\n",
    "\n",
    "## 优点\n",
    "\n",
    "- 计算方法简单，易于实现\n",
    "\n",
    "## 缺点\n",
    "- 主成分含义比较模糊，解释性不强\n",
    "\n"
   ]
  },
  {
   "cell_type": "markdown",
   "metadata": {},
   "source": [
    "# SVD"
   ]
  },
  {
   "cell_type": "markdown",
   "metadata": {},
   "source": [
    "# SVM\n",
    "- 尽最大努力使分开的两个类别有最大间隔，这样才使得分隔具有更高的可信度。而且对于未知的新样本才有很好的分类预测能力（在机器学习中叫泛化能力）\n",
    "\n",
    "## 优点\n",
    "- 解决非线性问题\n",
    "- 可以很好的处理高维度数据集\n",
    "- 泛化能力比较强\n",
    "\n",
    "## 缺点\n",
    "- 对于核函数的高维度映射能力解释力不强，尤其是径向基函数\n",
    "- 对缺失数据敏感"
   ]
  },
  {
   "cell_type": "code",
   "execution_count": null,
   "metadata": {},
   "outputs": [],
   "source": []
  },
  {
   "cell_type": "code",
   "execution_count": null,
   "metadata": {},
   "outputs": [],
   "source": []
  },
  {
   "cell_type": "code",
   "execution_count": null,
   "metadata": {},
   "outputs": [],
   "source": []
  },
  {
   "cell_type": "code",
   "execution_count": null,
   "metadata": {},
   "outputs": [],
   "source": []
  },
  {
   "cell_type": "code",
   "execution_count": null,
   "metadata": {},
   "outputs": [],
   "source": []
  }
 ],
 "metadata": {
  "kernelspec": {
   "display_name": "Python 3",
   "language": "python",
   "name": "python3"
  },
  "language_info": {
   "codemirror_mode": {
    "name": "ipython",
    "version": 3
   },
   "file_extension": ".py",
   "mimetype": "text/x-python",
   "name": "python",
   "nbconvert_exporter": "python",
   "pygments_lexer": "ipython3",
   "version": "3.7.0"
  },
  "toc": {
   "base_numbering": 1,
   "nav_menu": {},
   "number_sections": true,
   "sideBar": true,
   "skip_h1_title": false,
   "title_cell": "Table of Contents",
   "title_sidebar": "Contents",
   "toc_cell": false,
   "toc_position": {},
   "toc_section_display": true,
   "toc_window_display": false
  }
 },
 "nbformat": 4,
 "nbformat_minor": 2
}
