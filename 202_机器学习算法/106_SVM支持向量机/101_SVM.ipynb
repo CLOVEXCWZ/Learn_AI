{
 "cells": [
  {
   "cell_type": "markdown",
   "metadata": {},
   "source": [
    "# 支持向量机 概述\n",
    "\n",
    "    支持向量机（Support Vector Machines, SVM）: 是一种监督学习算法。\n",
    "    - 支持向量（Suport Vector）就是分隔超平面最近的那些点。\n",
    "    - 机（Machines）就是表示一种算法，而不是表示机器。\n",
    "    \n",
    "- 支持向量机(Support Vector Machine, SVM)的基本模型是在特征空间上找到最佳的分离超平面使得训练集上正负样本间隔最大。"
   ]
  },
  {
   "cell_type": "markdown",
   "metadata": {},
   "source": [
    "# 场景\n",
    "- 要给左右两边的点进行分类\n",
    "- 明显发现：选择D会比B、C效果好很多\n",
    "\n",
    "![201](picture/201.jpg)"
   ]
  },
  {
   "cell_type": "markdown",
   "metadata": {},
   "source": [
    "# 原理\n",
    "\n",
    "![202](picture/202.jpg)\n",
    "\n",
    "    对于上述的苹果和香蕉，我们想象为2种水果类型的炸弹。（保证距离最近的炸弹，距离它们最远）\n",
    "    \n",
    "- 寻找最大分类间距\n",
    "- 转而通过拉个朗日函数求优化的问题\n",
    "    - 数据可以通过画一条线就可以将他们完全分开，这组数据叫线性可分数据，而这条分隔直线称为分隔超平面。\n",
    "    - 如果数据集上升到1024维呢？那么需要1023维分隔数据集，也就说需要N-1维的对象来分隔，这个对象叫做超平面(hyperlane)，也就是分类的决策边界。\n",
    "![203](picture/203.jpg)\n",
    "\n",
    "## 寻找最大间隔\n",
    "### 为什么寻找最大间隔\n",
    "\n",
    "- 直觉上是最安全的\n",
    "- 如果我们在边界的位置发生了一个小错误（它在垂直方向上被点颠倒），这给我们最小的可能导致错误分类\n",
    "- 有一些理论表明这是一件好东西。\n",
    "- 从经验角度上说它的效果非常非常好。"
   ]
  },
  {
   "cell_type": "markdown",
   "metadata": {},
   "source": [
    "## 推导\n",
    "\n",
    "![204](picture/204.png)\n",
    "![205](picture/205.png)\n",
    "![206](picture/206.png)\n",
    "![207](picture/207.png)"
   ]
  }
 ],
 "metadata": {
  "kernelspec": {
   "display_name": "Python 3",
   "language": "python",
   "name": "python3"
  },
  "language_info": {
   "codemirror_mode": {
    "name": "ipython",
    "version": 3
   },
   "file_extension": ".py",
   "mimetype": "text/x-python",
   "name": "python",
   "nbconvert_exporter": "python",
   "pygments_lexer": "ipython3",
   "version": "3.7.0"
  },
  "toc": {
   "base_numbering": 1,
   "nav_menu": {},
   "number_sections": true,
   "sideBar": true,
   "skip_h1_title": false,
   "title_cell": "Table of Contents",
   "title_sidebar": "Contents",
   "toc_cell": false,
   "toc_position": {},
   "toc_section_display": true,
   "toc_window_display": false
  }
 },
 "nbformat": 4,
 "nbformat_minor": 2
}
