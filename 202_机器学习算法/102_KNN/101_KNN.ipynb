{
 "cells": [
  {
   "cell_type": "code",
   "execution_count": 2,
   "metadata": {},
   "outputs": [],
   "source": [
    "import numpy as np\n",
    "from sklearn.datasets import load_iris\n",
    "from sklearn.preprocessing import StandardScaler"
   ]
  },
  {
   "cell_type": "code",
   "execution_count": 3,
   "metadata": {},
   "outputs": [],
   "source": [
    "x, y = load_iris(return_X_y = True)\n",
    "# 数据标准化\n",
    "scaler = StandardScaler()\n",
    "x_std = scaler.fit_transform(x)"
   ]
  },
  {
   "cell_type": "code",
   "execution_count": 33,
   "metadata": {},
   "outputs": [
    {
     "name": "stdout",
     "output_type": "stream",
     "text": [
      "(120, 4)\n",
      "(120,)\n",
      "(30, 4)\n",
      "(30,)\n"
     ]
    }
   ],
   "source": [
    "from sklearn.model_selection import GridSearchCV, train_test_split\n",
    "x_train, x_test, y_train, y_test = train_test_split(x, y, test_size = 0.2)\n",
    "print(x_train.shape)\n",
    "print(y_train.shape)\n",
    "print(x_test.shape)\n",
    "print(y_test.shape)"
   ]
  },
  {
   "cell_type": "markdown",
   "metadata": {},
   "source": [
    "# SKL KNN"
   ]
  },
  {
   "cell_type": "code",
   "execution_count": 34,
   "metadata": {},
   "outputs": [
    {
     "data": {
      "text/plain": [
       "0.9666666666666667"
      ]
     },
     "execution_count": 34,
     "metadata": {},
     "output_type": "execute_result"
    }
   ],
   "source": [
    "from sklearn.neighbors import KNeighborsClassifier\n",
    "\n",
    "knn = KNeighborsClassifier(n_neighbors=5)\n",
    "knn.fit(x_train, y_train) \n",
    "score = knn.score(x_test, y_test)\n",
    "score "
   ]
  },
  {
   "cell_type": "code",
   "execution_count": 35,
   "metadata": {},
   "outputs": [
    {
     "name": "stdout",
     "output_type": "stream",
     "text": [
      "[2 0 1 0 1 0 1 1 2 1 2 2 1 2 0 1 2 1 0 1 0 0 2 2 0 1 0 0 2 2]\n",
      "[2 0 1 0 1 0 1 1 2 1 2 2 1 2 0 1 2 1 0 2 0 0 2 2 0 1 0 0 2 2]\n"
     ]
    }
   ],
   "source": [
    "y_pre = knn.predict(x_test)\n",
    "print(y_test)\n",
    "print(y_pre)\n"
   ]
  },
  {
   "cell_type": "markdown",
   "metadata": {},
   "source": [
    "# 优劣势"
   ]
  },
  {
   "cell_type": "markdown",
   "metadata": {},
   "source": [
    "## 优势 \n",
    "- 对噪声数据不敏感\n",
    "- 支持增量式训练\n",
    "- 可解释性强"
   ]
  },
  {
   "cell_type": "markdown",
   "metadata": {},
   "source": [
    "## 劣势 \n",
    "- k值选取对结果影响大\n",
    "- 计算量大、内存消耗大 "
   ]
  },
  {
   "cell_type": "markdown",
   "metadata": {},
   "source": [
    "# 参数说明\n",
    "- sklearn.neighbors.KNeighborsClassifier(n_neighbors=5, weights=’uniform’, \n",
    "    algorithm=’auto’, leaf_size=30, p=2, metric=’minkowski’, metric_params=None, \n",
    "    n_jobs=None, **kwargs) \n",
    "    \n",
    "- n_neighbors：KNN中的k值，默认为5（对于k值的选择，前面已经给出解释）\n",
    "- weights：用于标识每个样本的近邻样本的权重，可选择\"uniform\",“distance” 或自定义权重。默认\"uniform\"，所有最近邻样本权重都一样。如果是\"distance\"，则权重和距离成反比例；如果样本的分布是比较成簇的，即各类样本都在相对分开的簇中时，我们用默认的\"uniform\"就可以了，如果样本的分布比较乱，规律不好寻找，选择\"distance\"是一个比较好的选择； \n",
    "-  algorithm：限定半径最近邻法使用的算法，可选‘auto’, ‘ball_tree’, ‘kd_tree’, ‘brute’。\n",
    "    - ‘brute’对应第一种线性扫描；\n",
    "    - ‘kd_tree’对应第二种kd树实现；\n",
    "    - ‘ball_tree’对应第三种的球树实现；\n",
    "    - ‘auto’则会在上面三种算法中做权衡，选择一个拟合最好的最优算法。  \n",
    "-  leaf_size：这个值控制了使用kd树或者球树时， 停止建子树的叶子节点数量的阈值。这个值越小，则生成的kc树或者球树就越大，层数越深，建树时间越长，反之，则生成的kd树或者球树会小，层数较浅，建树时间较短。默认是30。\n",
    "\n",
    "    这个值一般依赖于样本的数量，随着样本数量的增加，这个值必须要增加，否则不光建树预测的时间长，还容易过拟合。可以通过交叉验证来选择一个适中的值。当然，如果使用的算法是蛮力实现，则这个参数可以忽略；\n",
    "- metric，p：距离度量（前面介绍过），默认闵可夫斯基距离 “minkowski”（p=1为曼哈顿距离， p=2为欧式距离）；\n",
    "- metric_params：距离度量其他附属参数（具体我也不知道，一般用得少）；\n",
    "- n_jobs：并行处理任务数，主要用于多核CPU时的并行处理，加快建立KNN树和预测搜索的速度。n_jobs= -1，即所有的CPU核都参与计算。"
   ]
  },
  {
   "cell_type": "markdown",
   "metadata": {},
   "source": [
    "## 距离度量\n",
    "- 闵可夫斯基距离（minkowski）\n",
    "- 欧氏距离（euclidean，p=2）\n",
    "- 曼哈顿距离（manhattan，p=1）\n",
    "- 切比雪夫距离（chebyshev，p= ∞） "
   ]
  }
 ],
 "metadata": {
  "kernelspec": {
   "display_name": "Python 3",
   "language": "python",
   "name": "python3"
  },
  "language_info": {
   "codemirror_mode": {
    "name": "ipython",
    "version": 3
   },
   "file_extension": ".py",
   "mimetype": "text/x-python",
   "name": "python",
   "nbconvert_exporter": "python",
   "pygments_lexer": "ipython3",
   "version": "3.7.0"
  },
  "toc": {
   "base_numbering": 1,
   "nav_menu": {},
   "number_sections": true,
   "sideBar": true,
   "skip_h1_title": false,
   "title_cell": "Table of Contents",
   "title_sidebar": "Contents",
   "toc_cell": false,
   "toc_position": {},
   "toc_section_display": true,
   "toc_window_display": false
  }
 },
 "nbformat": 4,
 "nbformat_minor": 2
}
