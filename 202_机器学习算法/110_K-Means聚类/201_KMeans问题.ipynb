{
 "cells": [
  {
   "cell_type": "markdown",
   "metadata": {},
   "source": [
    "参考博客\n",
    "\n",
    "https://blog.csdn.net/u013181595/article/details/80362292\n",
    "\n",
    "\n",
    "https://blog.csdn.net/jingtingxu369/article/details/80970494\n"
   ]
  },
  {
   "cell_type": "markdown",
   "metadata": {},
   "source": [
    "# 基本问题"
   ]
  },
  {
   "cell_type": "markdown",
   "metadata": {},
   "source": [
    "## 什么是KMeans\n",
    "- KMeans 是一种聚类算法\n",
    "\n",
    "\n",
    "- 一种典型的无监督学习算法，主要是将相似的样本自动归到一个类别中"
   ]
  },
  {
   "cell_type": "markdown",
   "metadata": {},
   "source": [
    "## KMeans 是干嘛的\n",
    "\n",
    "### KMeans 作用\n",
    "\n",
    "- 相似的样本自动归到一个类别中\n",
    "\n",
    "### KMeans 应用领域\n",
    "\n",
    "- 分类总结\n",
    "- 图片图片\n",
    "- 数据聚类"
   ]
  },
  {
   "cell_type": "markdown",
   "metadata": {},
   "source": [
    "## KMeans实现过程\n",
    "\n",
    "- 选取K个中心\n",
    "    - 首次随机选取\n",
    "- 计算每个点跟K个类中心的距离\n",
    "- 把数据点分配给综合距离最近的一个类中心\n",
    "- 计算新的类中心（对该类中心中的所有点取均值）\n",
    "\n",
    "- 满足终止条件后终止迭代\n",
    "    - 不在有重先分配\n",
    "    - 最大迭代数\n",
    "    - 所有类中心移动小于某一值"
   ]
  },
  {
   "cell_type": "markdown",
   "metadata": {},
   "source": [
    "## KMeans 优缺点"
   ]
  },
  {
   "cell_type": "markdown",
   "metadata": {},
   "source": [
    "### KMeans 优点"
   ]
  },
  {
   "cell_type": "markdown",
   "metadata": {},
   "source": [
    "### KMeans 缺点\n",
    "\n",
    "- K值选定\n",
    "- 初始化问题\n",
    "- 数据量大的时候，开销非常大\n",
    "\n",
    "\n",
    "- 算法不稳定\n"
   ]
  },
  {
   "cell_type": "markdown",
   "metadata": {},
   "source": [
    "# 其他问题"
   ]
  },
  {
   "cell_type": "markdown",
   "metadata": {},
   "source": [
    "## KMeans 初始中心选择\n",
    "\n",
    "- 多次全随机选取最优\n",
    "- 最远选取\n",
    "    - 第一个类中心 -> 随机选择\n",
    "    - 第二个类中心 -> 距离第一个中心最远的点\n",
    "    - 第三个类中心 -> 距离前2个中心最远的点\n",
    "    - 以此类推，到第K个\n",
    "- KMeans++ 半随机\n",
    "    - 第一个类中心 -> 随机选择\n",
    "    - 记D(x)为数据点x距最近的距离中心距离\n",
    "    - 选取下一个聚类中心，选取的概率正比如D(x)^2\n",
    "    - 以此类推，到低K个\n",
    "    \n",
    "     \n",
    "     试验结果表明：KMeans++的效果最好\n",
    "     KMeans++ 中为什么最远点以某个概率选择？而不是直接选最远的点？\n",
    "     因为：最远的点可能是离群点（异常值），不是很代表性的值\n",
    "     "
   ]
  },
  {
   "cell_type": "markdown",
   "metadata": {},
   "source": []
  }
 ],
 "metadata": {
  "kernelspec": {
   "display_name": "Python 3",
   "language": "python",
   "name": "python3"
  },
  "language_info": {
   "codemirror_mode": {
    "name": "ipython",
    "version": 3
   },
   "file_extension": ".py",
   "mimetype": "text/x-python",
   "name": "python",
   "nbconvert_exporter": "python",
   "pygments_lexer": "ipython3",
   "version": "3.7.3"
  },
  "toc": {
   "base_numbering": 1,
   "nav_menu": {},
   "number_sections": true,
   "sideBar": true,
   "skip_h1_title": false,
   "title_cell": "Table of Contents",
   "title_sidebar": "Contents",
   "toc_cell": false,
   "toc_position": {},
   "toc_section_display": true,
   "toc_window_display": false
  }
 },
 "nbformat": 4,
 "nbformat_minor": 2
}
