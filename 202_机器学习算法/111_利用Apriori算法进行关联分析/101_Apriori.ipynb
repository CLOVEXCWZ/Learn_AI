{
 "cells": [
  {
   "cell_type": "markdown",
   "metadata": {},
   "source": [
    "# 关联分析\n",
    "关联分析师一种在大规模数据中寻找有趣关系的任务，这些关系可以有两种形式:\n",
    "\n",
    "- 频繁项集（frequent item sets）: 经常出现在一块的物品的集合。\n",
    "- 关联规则（associational rules）: 暗示两种物品之间可能存在很强的关系。"
   ]
  },
  {
   "cell_type": "markdown",
   "metadata": {},
   "source": [
    "# 相关术语"
   ]
  },
  {
   "cell_type": "markdown",
   "metadata": {},
   "source": [
    "## 关联分析\n",
    "- 关联分析（关联规则学习): 从大规模数据集中寻找物品间的隐含关系被称作 关联分析(associati analysis) 或者 关联规则学习（association rule learning） 。 下面是用一个 杂货店 例子来说明这两个概念，如下图所示:\n",
    "\n",
    "一个来自Hole Foods天然食品点的简单交易清单\n",
    "\n",
    "交易号码 | 商品\n",
    "- | - |\n",
    "0|豆奶，莴笋|\n",
    "1|莴笋，尿布，葡萄酒，甜菜|\n",
    "2|豆奶，尿布，葡萄酒，橙汁|\n",
    "3|莴笋，豆奶，尿布，葡萄酒|\n",
    "4|莴笋，豆奶，尿布，橙汁|\n"
   ]
  },
  {
   "cell_type": "markdown",
   "metadata": {},
   "source": [
    "## 频繁项集\n",
    "- {葡萄酒，尿布，豆奶}就是一个频繁项集的例子。"
   ]
  },
  {
   "cell_type": "markdown",
   "metadata": {},
   "source": [
    "## 关联规则\n",
    "- 尿布-> 葡萄酒 就是一个关联规则。 这意味着如果顾客买了尿布，那么他很可能会买葡萄酒"
   ]
  },
  {
   "cell_type": "markdown",
   "metadata": {},
   "source": [
    "那么\"繁琐\"的定义是什么呢？怎样才能算繁琐呢？度量它们的方法有很多种，这里我们简单介绍下支持度和可信度"
   ]
  },
  {
   "cell_type": "markdown",
   "metadata": {},
   "source": [
    "## 支持度\n",
    "- 数据集中包含该项集的记录所占的比例。例如上表中，{豆奶}的支持度为4/5。{豆奶，尿布}的支持度为3/5"
   ]
  },
  {
   "cell_type": "markdown",
   "metadata": {},
   "source": [
    "## 可信度\n",
    "- 针对一条诸如{尿布} -> {葡萄酒} 这样具体关联规则来定义的。这条规则的可信度被定义为 支持度({尿布， 葡萄酒})/支持度({尿布}) ，从图中可以看出支持度({尿布， 葡萄酒}) = 3/5 ， 支持度({尿布}) = 4/5 所以{尿布} -> {葡萄酒} 的可信度 = [(3/5) / (4/5)] = 0.75"
   ]
  },
  {
   "cell_type": "markdown",
   "metadata": {},
   "source": [
    "支持度 和 可信度 是用来量化 关联分析 是否成功的一个方法。 假设想找到支持度大于 0.8 的所有项集，应该如何去做呢？ 一个办法是生成一个物品所有可能组合的清单，然后对每一种组合统计它出现的频繁程度，但是当物品成千上万时，上述做法就非常非常慢了。 我们需要详细分析下这种情况并讨论下 Apriori 原理，该原理会减少关联规则学习时所需的计算量。"
   ]
  },
  {
   "cell_type": "markdown",
   "metadata": {},
   "source": [
    "# Apriori 原理"
   ]
  },
  {
   "cell_type": "markdown",
   "metadata": {},
   "source": [
    "假设我们一共有 4 个商品: 商品0, 商品1, 商品2, 商品3。 所有可能的情况如下:\n",
    "![avatar](picture/apachecn_apriori_goods_all_1.jpg)\n",
    "如果我们计算所有组合的支持度，也需要计算 15 次。即 2^N - 1 = 2^4 - 1 = 15。\n",
    "随着物品的增加，计算的次数呈指数的形式增长 ...\n",
    "为了降低计算次数和时间，研究人员发现了一种所谓的 Apriori 原理，即某个项集是频繁的，那么它的所有子集也是频繁的。 例如，如果 {0, 1} 是频繁的，那么 {0}, {1} 也是频繁的。 该原理直观上没有什么帮助，但是如果反过来看就有用了，也就是说如果一个项集是 非频繁项集，那么它的所有超集也是非频繁项集，如下图所示:\n",
    "![非频繁项](picture/非频繁项集.png)\n",
    "在图中我们可以看到，已知灰色部分 {2,3} 是 非频繁项集，那么利用上面的知识，我们就可以知道 {0,2,3} {1,2,3} {0,1,2,3} 都是 非频繁的。 也就是说，计算出 {2,3} 的支持度，知道它是 非频繁 的之后，就不需要再计算 {0,2,3} {1,2,3} {0,1,2,3} 的支持度，因为我们知道这些集合不会满足我们的要求。 使用该原理就可以避免项集数目的指数增长，从而在合理的时间内计算出频繁项集。"
   ]
  },
  {
   "cell_type": "markdown",
   "metadata": {},
   "source": [
    "## Apriori定律1 \n",
    "- Apriori定律1：如果一个集合是频繁项集，则它的所有子集都是频繁项集。"
   ]
  },
  {
   "cell_type": "markdown",
   "metadata": {},
   "source": [
    "## Apriori定律2\n",
    "- Apriori定律2：如果一个集合不是频繁项集，则它的所有超集都不是频繁项集"
   ]
  },
  {
   "cell_type": "markdown",
   "metadata": {},
   "source": [
    "# Apriori 算法优缺点"
   ]
  },
  {
   "cell_type": "markdown",
   "metadata": {},
   "source": [
    "## 优点 \n",
    "- 易编码实现"
   ]
  },
  {
   "cell_type": "markdown",
   "metadata": {},
   "source": [
    "## 缺点\n",
    "- 在大数据集上可能比较慢"
   ]
  },
  {
   "cell_type": "markdown",
   "metadata": {},
   "source": [
    "# Apriori算法的使用\n",
    "\n",
    "前面提到，关联分析的目标包括两项: 发现 频繁项集 和发现 关联规则。 首先需要找到 频繁项集，然后才能发现 关联规则。\n",
    "Apriori 算法是发现 频繁项集 的一种方法。 Apriori 算法的两个输入参数分别是最小支持度和数据集。 该算法首先会生成所有单个物品的项集列表。 接着扫描交易记录来查看哪些项集满足最小支持度要求，那些不满足最小支持度要求的集合会被去掉。 燃尽后对生下来的集合进行组合以声场包含两个元素的项集。 接下来再重新扫描交易记录，去掉不满足最小支持度的项集。 该过程重复进行直到所有项集被去掉。"
   ]
  },
  {
   "cell_type": "markdown",
   "metadata": {},
   "source": [
    "# 生成候选项集\n",
    "\n",
    "下面会创建一个用于构建初始集合的函数，也会创建一个通过扫描数据集以寻找交易记录子集的函数， 数据扫描的伪代码如下:\n",
    "\n",
    "- 对数据集中的每条交易记录tran\n",
    "- 对每个候选集can\n",
    "    - 检查一下can是否是tran的子集：如果是则增加can的计数\n",
    "- 对每个候选项集\n",
    "    - 如果其支持度不低于最小值，则保留该项集\n",
    "    - 如果所选频繁项集列表 ---"
   ]
  }
 ],
 "metadata": {
  "kernelspec": {
   "display_name": "Python 3",
   "language": "python",
   "name": "python3"
  },
  "language_info": {
   "codemirror_mode": {
    "name": "ipython",
    "version": 3
   },
   "file_extension": ".py",
   "mimetype": "text/x-python",
   "name": "python",
   "nbconvert_exporter": "python",
   "pygments_lexer": "ipython3",
   "version": "3.7.3"
  },
  "toc": {
   "base_numbering": 1,
   "nav_menu": {},
   "number_sections": true,
   "sideBar": true,
   "skip_h1_title": false,
   "title_cell": "Table of Contents",
   "title_sidebar": "Contents",
   "toc_cell": false,
   "toc_position": {
    "height": "calc(100% - 180px)",
    "left": "10px",
    "top": "150px",
    "width": "180.796875px"
   },
   "toc_section_display": true,
   "toc_window_display": true
  }
 },
 "nbformat": 4,
 "nbformat_minor": 2
}
