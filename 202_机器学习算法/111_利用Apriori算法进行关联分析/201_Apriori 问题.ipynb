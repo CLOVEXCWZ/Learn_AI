{
 "cells": [
  {
   "cell_type": "markdown",
   "metadata": {},
   "source": [
    "# 基本问题"
   ]
  },
  {
   "cell_type": "markdown",
   "metadata": {},
   "source": [
    "## Apriori 是什么\n",
    "\n",
    "- 是一种挖掘关联规则的频繁项集算法\n",
    "\n",
    "\n",
    "- 频繁项集\n",
    "- 关联规则\n",
    "- 支持度\n",
    "- 可信度"
   ]
  },
  {
   "cell_type": "markdown",
   "metadata": {},
   "source": [
    "## Apriori 是干嘛的\n",
    "\n",
    "### Apriori 的作用\n",
    "\n",
    "- 挖掘频繁项集\n",
    "\n",
    "### Apriori 应用于那些方面\n",
    "\n",
    " "
   ]
  },
  {
   "cell_type": "markdown",
   "metadata": {},
   "source": [
    "## Apriori实现过程\n",
    "\n",
    "\n",
    "\n",
    "- Apriori定律1：如果一个集合是频繁项集，则它的所有子集都是频繁项集。\n",
    "- Apriori定律2：如果一个集合不是频繁项集，则它的所有超集都不是频繁项集"
   ]
  },
  {
   "cell_type": "markdown",
   "metadata": {},
   "source": [
    "## Apriori 优缺点"
   ]
  },
  {
   "cell_type": "markdown",
   "metadata": {},
   "source": [
    "### Apriori优点\n",
    "\n",
    "- 易于编码，易于实现"
   ]
  },
  {
   "cell_type": "markdown",
   "metadata": {},
   "source": [
    "### Apriori 缺点\n",
    "\n",
    "- 大数据集上可能比较慢"
   ]
  }
 ],
 "metadata": {
  "kernelspec": {
   "display_name": "Python 3",
   "language": "python",
   "name": "python3"
  },
  "language_info": {
   "codemirror_mode": {
    "name": "ipython",
    "version": 3
   },
   "file_extension": ".py",
   "mimetype": "text/x-python",
   "name": "python",
   "nbconvert_exporter": "python",
   "pygments_lexer": "ipython3",
   "version": "3.7.3"
  },
  "toc": {
   "base_numbering": 1,
   "nav_menu": {},
   "number_sections": true,
   "sideBar": true,
   "skip_h1_title": false,
   "title_cell": "Table of Contents",
   "title_sidebar": "Contents",
   "toc_cell": false,
   "toc_position": {},
   "toc_section_display": true,
   "toc_window_display": false
  }
 },
 "nbformat": 4,
 "nbformat_minor": 2
}
