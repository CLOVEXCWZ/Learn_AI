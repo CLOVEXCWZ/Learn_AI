{
 "cells": [
  {
   "cell_type": "code",
   "execution_count": 29,
   "metadata": {},
   "outputs": [
    {
     "name": "stdout",
     "output_type": "stream",
     "text": [
      "[1 1 1 0 2 1 1 1 0 1 2 0]\n",
      "[1 0 0 1 2 0 1 1 1 1 1 1]\n"
     ]
    }
   ],
   "source": [
    "# 文本处理\n",
    "\n",
    "import jieba\n",
    "\n",
    "text_1 = \"这只皮靴号码大了。那只号码合适\"\n",
    "text_2 = \"这只皮靴号码不小，那只更合适\"\n",
    "\n",
    "# 进行分词处理\n",
    "t1_list = list(jieba.cut(text_1))\n",
    "t2_list = list(jieba.cut(text_2))\n",
    "\n",
    "# 构建 index word 字典\n",
    "words = set(t1_list + t2_list)\n",
    "word_to_index = {word:index for index, word in enumerate(words)} \n",
    "index_to_word = {index:word for index, word in enumerate(words)} \n",
    "\n",
    "# 把词转化成index\n",
    "def bag_of_word(sentence, word_to_index=word_to_index):\n",
    "    words_num = len(word_to_index)\n",
    "    index_list = [0  for _ in range(words_num)]\n",
    "    for word in sentence:\n",
    "        index = word_to_index.get(word, 0)\n",
    "        index_list[index] += 1\n",
    "    return index_list\n",
    "    \n",
    "\n",
    "t1_index = bag_of_word(t1_list)\n",
    "t2_index = bag_of_word(t2_list)\n",
    "\n",
    "import numpy as np\n",
    "\n",
    "\n",
    "t1_list = np.array(t1_list)\n",
    "t2_list = np.array(t2_list)\n",
    "\n",
    "t1_index = np.array(t1_index)\n",
    "t2_index = np.array(t2_index)\n",
    "\n",
    "print(t1_index)\n",
    "print(t2_index)"
   ]
  },
  {
   "cell_type": "markdown",
   "metadata": {},
   "source": [
    "# 1 余弦相似度"
   ]
  },
  {
   "cell_type": "code",
   "execution_count": 2,
   "metadata": {},
   "outputs": [
    {
     "data": {
      "text/plain": [
       "74.54"
      ]
     },
     "execution_count": 2,
     "metadata": {},
     "output_type": "execute_result"
    }
   ],
   "source": [
    "# 自定义实现\n",
    "\n",
    "def cosine_similarity(vector1, vector2):\n",
    "    dot_product = 0.0\n",
    "    normA = 0.0\n",
    "    normB = 0.0\n",
    "    for a, b in zip(vector1, vector2):\n",
    "        dot_product += a * b\n",
    "        normA += a ** 2\n",
    "        normB += b ** 2\n",
    "    if normA == 0.0 or normB == 0.0:\n",
    "        return 0\n",
    "    else:\n",
    "        return round(dot_product / ((normA**0.5)*(normB**0.5)) * 100, 2)\n",
    "    \n",
    "cosine_similarity(t1_index, t2_index)"
   ]
  },
  {
   "cell_type": "code",
   "execution_count": 3,
   "metadata": {},
   "outputs": [
    {
     "data": {
      "text/plain": [
       "array([[1.        , 0.74535599],\n",
       "       [0.74535599, 1.        ]])"
      ]
     },
     "execution_count": 3,
     "metadata": {},
     "output_type": "execute_result"
    }
   ],
   "source": [
    "# sklearn 里面的实现\n",
    "\n",
    "from sklearn.metrics.pairwise import cosine_similarity \n",
    "cosine_similarity([t1_index, t2_index])"
   ]
  },
  {
   "cell_type": "markdown",
   "metadata": {},
   "source": [
    "# 2 欧式距离"
   ]
  },
  {
   "cell_type": "code",
   "execution_count": 11,
   "metadata": {},
   "outputs": [
    {
     "data": {
      "text/plain": [
       "array([[0.        , 2.64575131],\n",
       "       [2.64575131, 0.        ]])"
      ]
     },
     "execution_count": 11,
     "metadata": {},
     "output_type": "execute_result"
    }
   ],
   "source": [
    "from sklearn.metrics.pairwise import euclidean_distances\n",
    "euclidean_distances([t1_index, t2_index])"
   ]
  },
  {
   "cell_type": "code",
   "execution_count": 15,
   "metadata": {},
   "outputs": [
    {
     "data": {
      "text/plain": [
       "2.6457513110645907"
      ]
     },
     "execution_count": 15,
     "metadata": {},
     "output_type": "execute_result"
    }
   ],
   "source": [
    "import numpy as np\n",
    "np.sqrt(np.sum(np.square(np.array(t1_index)-np.array(t2_index))))"
   ]
  },
  {
   "cell_type": "code",
   "execution_count": 20,
   "metadata": {},
   "outputs": [
    {
     "data": {
      "text/plain": [
       "array([2.64575131])"
      ]
     },
     "execution_count": 20,
     "metadata": {},
     "output_type": "execute_result"
    }
   ],
   "source": [
    "from scipy.spatial.distance import pdist\n",
    "X=np.vstack([t1_index, t2_index])  \n",
    "pdist(X) "
   ]
  },
  {
   "cell_type": "markdown",
   "metadata": {},
   "source": [
    "# 3 曼哈顿距离"
   ]
  },
  {
   "cell_type": "code",
   "execution_count": 23,
   "metadata": {},
   "outputs": [
    {
     "data": {
      "text/plain": [
       "matrix([[0, 1, 1, 1, 0, 1, 0, 0, 1, 0, 1, 1]])"
      ]
     },
     "execution_count": 23,
     "metadata": {},
     "output_type": "execute_result"
    }
   ],
   "source": [
    "from numpy import *\n",
    "abs(mat(t1_index)-mat(t2_index))"
   ]
  },
  {
   "cell_type": "code",
   "execution_count": 28,
   "metadata": {},
   "outputs": [
    {
     "data": {
      "text/plain": [
       "7"
      ]
     },
     "execution_count": 28,
     "metadata": {},
     "output_type": "execute_result"
    }
   ],
   "source": [
    "sum(abs(np.array(t1_index)-np.array(t2_index)))"
   ]
  },
  {
   "cell_type": "markdown",
   "metadata": {},
   "source": [
    "# 4 皮尔森相似度\n",
    "\n",
    "\"文本的皮尔森相似度:\":np.sum(a*b) / (np.sqrt(np.sum(a ** 2)) * np.sqrt(np.sum(b ** 2)))\n"
   ]
  },
  {
   "cell_type": "code",
   "execution_count": 30,
   "metadata": {},
   "outputs": [
    {
     "data": {
      "text/plain": [
       "0.74535599249993"
      ]
     },
     "execution_count": 30,
     "metadata": {},
     "output_type": "execute_result"
    }
   ],
   "source": [
    "a = t1_index\n",
    "b = t2_index\n",
    "np.sum(a*b) / (np.sqrt(np.sum(a ** 2)) * np.sqrt(np.sum(b ** 2)))"
   ]
  },
  {
   "cell_type": "markdown",
   "metadata": {},
   "source": [
    "# 5 Jaccard相似性系数\n",
    "计算sa和sb的相似度 len（sa & sb）/ len（sa | sb）"
   ]
  },
  {
   "cell_type": "code",
   "execution_count": 34,
   "metadata": {
    "scrolled": true
   },
   "outputs": [
    {
     "name": "stdout",
     "output_type": "stream",
     "text": [
      "seta:{'合适', '。', '了', '只', '大', '这', '那', '皮靴', '号码'}\n",
      "setb:{'合适', '，', '只', '这', '那', '不小', '皮靴', '号码', '更'}\n"
     ]
    },
    {
     "data": {
      "text/plain": [
       "0.5"
      ]
     },
     "execution_count": 34,
     "metadata": {},
     "output_type": "execute_result"
    }
   ],
   "source": [
    "seta = set(t1_list)\n",
    "setb = set(t2_list)\n",
    "\n",
    "print(f\"seta:{seta}\")\n",
    "print(f\"setb:{setb}\")\n",
    "\n",
    "\n",
    "1.0 * len(seta & setb) / len(seta | setb)"
   ]
  },
  {
   "cell_type": "code",
   "execution_count": null,
   "metadata": {},
   "outputs": [],
   "source": []
  },
  {
   "cell_type": "code",
   "execution_count": null,
   "metadata": {},
   "outputs": [],
   "source": []
  }
 ],
 "metadata": {
  "kernelspec": {
   "display_name": "Python 3",
   "language": "python",
   "name": "python3"
  },
  "language_info": {
   "codemirror_mode": {
    "name": "ipython",
    "version": 3
   },
   "file_extension": ".py",
   "mimetype": "text/x-python",
   "name": "python",
   "nbconvert_exporter": "python",
   "pygments_lexer": "ipython3",
   "version": "3.7.0"
  }
 },
 "nbformat": 4,
 "nbformat_minor": 2
}
