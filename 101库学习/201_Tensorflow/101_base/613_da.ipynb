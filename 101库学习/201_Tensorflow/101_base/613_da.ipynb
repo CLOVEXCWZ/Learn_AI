{
 "cells": [
  {
   "cell_type": "code",
   "execution_count": 1,
   "metadata": {},
   "outputs": [],
   "source": [
    "import tensorflow as tf\n",
    "import numpy as np \n",
    "from tensorflow.examples.tutorials.mnist import input_data\n",
    "\n",
    "import matplotlib.pyplot as plt"
   ]
  },
  {
   "cell_type": "code",
   "execution_count": 3,
   "metadata": {},
   "outputs": [
    {
     "name": "stdout",
     "output_type": "stream",
     "text": [
      "Extracting ./data/MNIST_data/train-images-idx3-ubyte.gz\n",
      "Extracting ./data/MNIST_data/train-labels-idx1-ubyte.gz\n",
      "Extracting ./data/MNIST_data/t10k-images-idx3-ubyte.gz\n",
      "Extracting ./data/MNIST_data/t10k-labels-idx1-ubyte.gz\n"
     ]
    }
   ],
   "source": [
    "mnist_base_path=\"/Users/zhouwencheng/Desktop/Grass/data/picture/mnist\"\n",
    "# 载入数据集\n",
    "mnist = input_data.read_data_sets(mnist_base_path, one_hot=True)"
   ]
  },
  {
   "cell_type": "code",
   "execution_count": 4,
   "metadata": {},
   "outputs": [],
   "source": [
    "# Parameter\n",
    "learning_rate = 0.01\n",
    "training_epochs = 20 # 五组训练\n",
    "batch_size = 256\n",
    "display_step = 1\n",
    "examples_to_show = 10\n",
    "\n",
    "keep_prob = 1\n",
    "\n",
    "# Network Parameters\n",
    "n_input = 784  # MNIST data input (img shape: 28*28)"
   ]
  },
  {
   "cell_type": "code",
   "execution_count": 5,
   "metadata": {},
   "outputs": [],
   "source": [
    "\"\"\"\n",
    "x : 输入的x值\n",
    "in_size : 输入大小\n",
    "out_size: 输出大小 \n",
    "activator_func: 激活函数\n",
    "\"\"\"\n",
    "def add_fc_layer(x, in_size, out_size, activator_func = None):\n",
    "    W = tf.Variable(tf.truncated_normal(shape = [in_size, out_size], stddev = 0.1))\n",
    "    b = tf.Variable(tf.constant(0.1, shape = [out_size]))\n",
    "    mul = tf.matmul(x, W) + b\n",
    "    if activator_func:\n",
    "        return activator_func(mul)\n",
    "    else:\n",
    "        return mul"
   ]
  },
  {
   "cell_type": "code",
   "execution_count": 18,
   "metadata": {},
   "outputs": [],
   "source": [
    "# hidden layer settings\n",
    "n_hidden_1 = 128 # 1st layer num features\n",
    "n_hidden_2 = 64 # 2nd layer num features "
   ]
  },
  {
   "cell_type": "code",
   "execution_count": 14,
   "metadata": {},
   "outputs": [],
   "source": [
    "# Building the encoder\n",
    "def encoder(x):  \n",
    "    layer_1 = add_fc_layer(x, n_input, n_hidden_1, tf.nn.sigmoid)\n",
    "    layer_2 = add_fc_layer(layer_1, n_hidden_1, n_hidden_2, tf.nn.sigmoid) \n",
    "    return layer_2\n",
    "    \n",
    "# Building the decoder\n",
    "def decoder(x):\n",
    "    layer_1 = add_fc_layer(x, n_hidden_2, n_hidden_1, tf.nn.sigmoid)\n",
    "    layer_2 = add_fc_layer(layer_1, n_hidden_1, n_input, tf.nn.sigmoid) \n",
    "    return layer_2"
   ]
  },
  {
   "cell_type": "code",
   "execution_count": 15,
   "metadata": {},
   "outputs": [],
   "source": [
    "x = tf.placeholder(dtype=tf.float32, shape=[None, 28*28])  \n",
    "\n",
    "# Construct model\n",
    "encoder_op = encoder(x) # 64 Features\n",
    "decoder_op = decoder(encoder_op) # 784 Features\n",
    "\n",
    "# Prediction\n",
    "y_pred = decoder_op\t# After \n",
    "# Targets (Labels) are the input data.\n",
    "y_true = x  # Before"
   ]
  },
  {
   "cell_type": "code",
   "execution_count": 16,
   "metadata": {},
   "outputs": [],
   "source": [
    "# Define loss and optimizer, minimize the squared error\n",
    "cost = tf.reduce_mean(tf.pow(y_true - y_pred, 2))\n",
    "# cost = tf.reduce_mean(tf.nn.softmax_cross_entropy_with_logits(labels=y_true, logits=y_pred))\n",
    "optimizer = tf.train.AdamOptimizer(learning_rate).minimize(cost)"
   ]
  },
  {
   "cell_type": "code",
   "execution_count": 17,
   "metadata": {
    "scrolled": false
   },
   "outputs": [
    {
     "name": "stdout",
     "output_type": "stream",
     "text": [
      "Epoch: 0001 cost= 0.047035839\n",
      "Epoch: 0002 cost= 0.028509028\n",
      "Epoch: 0003 cost= 0.021316070\n",
      "Epoch: 0004 cost= 0.018521918\n",
      "Epoch: 0005 cost= 0.016209545\n",
      "Epoch: 0006 cost= 0.013844875\n",
      "Epoch: 0007 cost= 0.013131953\n",
      "Epoch: 0008 cost= 0.011450130\n",
      "Epoch: 0009 cost= 0.011301233\n",
      "Epoch: 0010 cost= 0.010517797\n",
      "Epoch: 0011 cost= 0.009134311\n",
      "Epoch: 0012 cost= 0.009328615\n",
      "Epoch: 0013 cost= 0.008454538\n",
      "Epoch: 0014 cost= 0.007667188\n",
      "Epoch: 0015 cost= 0.007985183\n",
      "Epoch: 0016 cost= 0.007357247\n",
      "Epoch: 0017 cost= 0.007946694\n",
      "Epoch: 0018 cost= 0.007435599\n",
      "Epoch: 0019 cost= 0.007115738\n",
      "Epoch: 0020 cost= 0.006622505\n",
      "Optimization Finished!\n"
     ]
    },
    {
     "data": {
      "image/png": "[encoded data removed]",
      "text/plain": [
       "<Figure size 720x144 with 20 Axes>"
      ]
     },
     "metadata": {
      "needs_background": "light"
     },
     "output_type": "display_data"
    }
   ],
   "source": [
    "# Launch the graph\n",
    "with tf.Session() as sess:\n",
    "    # tf 马上就要废弃tf.initialize_all_variables()这种写法\n",
    "    # 替换成下面:\n",
    "    sess.run(tf.global_variables_initializer())\n",
    "    total_batch = int(mnist.train.num_examples/batch_size)\n",
    "    # Training cycle\n",
    "    for epoch in range(training_epochs):\n",
    "        # Loop over all batches\n",
    "        for i in range(total_batch):\n",
    "            batch_xs, batch_ys = mnist.train.next_batch(batch_size)  # max(x) = 1, min(x) = 0\n",
    "            # Run optimization op (backprop) and cost op (to get loss value) \n",
    "            \n",
    "            _, c = sess.run([optimizer, cost], feed_dict={x: batch_xs})\n",
    "        # Display logs per epoch step\n",
    "        if epoch % display_step == 0:\n",
    "            print(\"Epoch:\", '%04d' % (epoch+1),\n",
    "                  \"cost=\", \"{:.9f}\".format(c))\n",
    "\n",
    "    print(\"Optimization Finished!\")\n",
    "    \n",
    "    # # Applying encode and decode over test set\n",
    "    encode_decode = sess.run(\n",
    "        y_pred, feed_dict={x: mnist.test.images[:examples_to_show]})\n",
    "    # Compare original images with their reconstructions\n",
    "    f, a = plt.subplots(2, 10, figsize=(10, 2))\n",
    "    for i in range(examples_to_show):\n",
    "        a[0][i].imshow(np.reshape(mnist.test.images[i], (28, 28)))\n",
    "        a[1][i].imshow(np.reshape(encode_decode[i], (28, 28)))\n",
    "    plt.show()"
   ]
  },
  {
   "cell_type": "code",
   "execution_count": null,
   "metadata": {},
   "outputs": [],
   "source": []
  }
 ],
 "metadata": {
  "kernelspec": {
   "display_name": "Python 3",
   "language": "python",
   "name": "python3"
  },
  "language_info": {
   "codemirror_mode": {
    "name": "ipython",
    "version": 3
   },
   "file_extension": ".py",
   "mimetype": "text/x-python",
   "name": "python",
   "nbconvert_exporter": "python",
   "pygments_lexer": "ipython3",
   "version": "3.7.0"
  },
  "toc": {
   "base_numbering": 1,
   "nav_menu": {},
   "number_sections": true,
   "sideBar": true,
   "skip_h1_title": false,
   "title_cell": "Table of Contents",
   "title_sidebar": "Contents",
   "toc_cell": false,
   "toc_position": {},
   "toc_section_display": true,
   "toc_window_display": false
  }
 },
 "nbformat": 4,
 "nbformat_minor": 2
}
