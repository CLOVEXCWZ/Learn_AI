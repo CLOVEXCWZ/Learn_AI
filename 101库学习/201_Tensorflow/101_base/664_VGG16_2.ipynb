{
 "cells": [
  {
   "cell_type": "markdown",
   "metadata": {},
   "source": [
    "# VGG-11层\n",
    "\n",
    "- padding  same\n",
    "- img  224 x 224\n",
    "\n",
    "\n",
    "- conv_1 f_64 k_3x3  s_1x1    => 224x224x64\n",
    "- conv_2 f_64 k_3x3  s_1x1    => 224x224x64\n",
    "- pool_1  k_2x2  s_2x2          => 112x112x64\n",
    "\n",
    "\n",
    "- conv_3 f_128 k_3x3  s_1x1    => 112x112x128\n",
    "- conv_4 f_128 k_3x3  s_1x1    => 112x112x128\n",
    "- pool_2  k_2x2  s_2x2           => 56x56x128\n",
    "\n",
    "\n",
    "- conv_5 f_256 k_3x3  s_1x1    => 56x56x256\n",
    "- conv_6 f_256 k_3x3  s_1x1    => 56x56x256\n",
    "- conv_7 f_256 k_3x3  s_1x1     => 56x56x256\n",
    "- pool_3  k_2x2  s_2x2           => 28x28x256\n",
    "\n",
    "\n",
    "- conv_8 f_512 k_3x3  s_1x1    => 28x38x512\n",
    "- conv_9 f_512 k_3x3  s_1x1    => 38x38x512\n",
    "- conv_10 f_512 k_3x3  s_1x1   => 38x38x512\n",
    "- pool_3  k_2x2  s_2x2           => 14x14x512\n",
    "\n",
    "\n",
    "- conv_11 f_512 k_3x3  s_1x1    => 14x14x512\n",
    "- conv_12 f_512 k_3x3  s_1x1   => 14x14x512\n",
    "- conv_13 f_512 k_3x3  s_1x1   => 14x14x512\n",
    "- pool_3  k_2x2  s_2x2           => 7x7x512\n",
    "\n",
    "\n",
    "- dense_14  in_25088 out_4096 => 4096\n",
    "- dense_15 in_4096 out_4096 => 4096\n",
    "- dense_16 in_4096 out_1000 => 1000"
   ]
  },
  {
   "cell_type": "code",
   "execution_count": 1,
   "metadata": {},
   "outputs": [],
   "source": [
    "import tensorflow as tf"
   ]
  },
  {
   "cell_type": "code",
   "execution_count": 2,
   "metadata": {},
   "outputs": [],
   "source": [
    "img_type = 1000\n",
    "\n",
    "x = tf.placeholder(dtype=tf.float32, shape=[None, 224*224])\n",
    "y = tf.placeholder(dtype=tf.float32, shape=[None, img_type])\n",
    "\n",
    "x_flat = tf.reshape(x, shape=[-1, 224, 224, 1]) "
   ]
  },
  {
   "cell_type": "code",
   "execution_count": 3,
   "metadata": {},
   "outputs": [
    {
     "name": "stdout",
     "output_type": "stream",
     "text": [
      "WARNING:tensorflow:From <ipython-input-3-6c3f3b5408c1>:1: conv2d (from tensorflow.python.layers.convolutional) is deprecated and will be removed in a future version.\n",
      "Instructions for updating:\n",
      "Use keras.layers.conv2d instead.\n",
      "WARNING:tensorflow:From /Users/zhouwencheng/Desktop/Grass/02Study/02PythonEnv/1env2/lib/python3.7/site-packages/tensorflow/python/framework/op_def_library.py:263: colocate_with (from tensorflow.python.framework.ops) is deprecated and will be removed in a future version.\n",
      "Instructions for updating:\n",
      "Colocations handled automatically by placer.\n",
      "WARNING:tensorflow:From <ipython-input-3-6c3f3b5408c1>:3: max_pooling2d (from tensorflow.python.layers.pooling) is deprecated and will be removed in a future version.\n",
      "Instructions for updating:\n",
      "Use keras.layers.max_pooling2d instead.\n",
      "WARNING:tensorflow:From <ipython-input-3-6c3f3b5408c1>:26: dense (from tensorflow.python.layers.core) is deprecated and will be removed in a future version.\n",
      "Instructions for updating:\n",
      "Use keras.layers.dense instead.\n",
      "WARNING:tensorflow:From <ipython-input-3-6c3f3b5408c1>:27: calling dropout (from tensorflow.python.ops.nn_ops) with keep_prob is deprecated and will be removed in a future version.\n",
      "Instructions for updating:\n",
      "Please use `rate` instead of `keep_prob`. Rate should be set to `rate = 1 - keep_prob`.\n"
     ]
    }
   ],
   "source": [
    "conv_1 = tf.layers.conv2d(inputs=x_flat, filters=64, kernel_size=(3, 3), strides=(1, 1), padding='same',activation=tf.nn.relu)\n",
    "conv_2 = tf.layers.conv2d(inputs=conv_1, filters=64, kernel_size=(3, 3), strides=(1, 1), padding='same',activation=tf.nn.relu)\n",
    "pool_1 = tf.layers.max_pooling2d(inputs=conv_2, pool_size=(2, 2), strides=(2, 2), padding='same')\n",
    "\n",
    "conv_3 = tf.layers.conv2d(inputs=pool_1, filters=128, kernel_size=(3, 3), strides=(1, 1), padding='same',activation=tf.nn.relu)\n",
    "conv_4 = tf.layers.conv2d(inputs=conv_3, filters=128, kernel_size=(3, 3), strides=(1, 1), padding='same',activation=tf.nn.relu)\n",
    "pool_2 = tf.layers.max_pooling2d(inputs=conv_4, pool_size=(2, 2), strides=(2, 2), padding='same')\n",
    "\n",
    "conv_5 = tf.layers.conv2d(inputs=pool_2, filters=256, kernel_size=(3, 3), strides=(1, 1), padding='same',activation=tf.nn.relu)\n",
    "conv_6 = tf.layers.conv2d(inputs=conv_5, filters=256, kernel_size=(3, 3), strides=(1, 1), padding='same',activation=tf.nn.relu)\n",
    "conv_7 = tf.layers.conv2d(inputs=conv_6, filters=256, kernel_size=(3, 3), strides=(1, 1), padding='same',activation=tf.nn.relu)\n",
    "pool_3 = tf.layers.max_pooling2d(inputs=conv_7, pool_size=(2, 2), strides=(2, 2), padding='same')\n",
    "\n",
    "conv_8  = tf.layers.conv2d(inputs=pool_3, filters=512, kernel_size=(3, 3), strides=(1, 1), padding='same',activation=tf.nn.relu)\n",
    "conv_9  = tf.layers.conv2d(inputs=conv_8, filters=512, kernel_size=(3, 3), strides=(1, 1), padding='same',activation=tf.nn.relu)\n",
    "conv_10 = tf.layers.conv2d(inputs=conv_9, filters=512, kernel_size=(3, 3), strides=(1, 1), padding='same',activation=tf.nn.relu)\n",
    "pool_4   = tf.layers.max_pooling2d(inputs=conv_10, pool_size=(2, 2), strides=(2, 2), padding='same')\n",
    "\n",
    "conv_11 = tf.layers.conv2d(inputs=pool_4, filters=512, kernel_size=(3, 3), strides=(1, 1), padding='same',activation=tf.nn.relu)\n",
    "conv_12 = tf.layers.conv2d(inputs=conv_11, filters=512, kernel_size=(3, 3), strides=(1, 1), padding='same',activation=tf.nn.relu)\n",
    "conv_13 = tf.layers.conv2d(inputs=conv_12, filters=512, kernel_size=(3, 3), strides=(1, 1), padding='same',activation=tf.nn.relu)\n",
    "pool_5 = tf.layers.max_pooling2d(inputs=conv_13, pool_size=(2, 2), strides=(2, 2), padding='same')\n",
    "\n",
    "pool_5_flat = tf.reshape(pool_5, shape=[-1, 7*7*512])\n",
    "\n",
    "dense_14 = tf.layers.dense(pool_5_flat, 4096, activation=tf.nn.relu)\n",
    "dense_14 = tf.nn.dropout(dense_14, keep_prob=0.5)\n",
    "dense_15 = tf.layers.dense(dense_14, 4096, activation=tf.nn.relu)\n",
    "dense_15 = tf.nn.dropout(dense_15, keep_prob=0.5)\n",
    "dense_16 = tf.layers.dense(dense_15, img_type , activation=tf.nn.softmax)"
   ]
  },
  {
   "cell_type": "code",
   "execution_count": null,
   "metadata": {},
   "outputs": [],
   "source": []
  }
 ],
 "metadata": {
  "kernelspec": {
   "display_name": "Python 3",
   "language": "python",
   "name": "python3"
  },
  "language_info": {
   "codemirror_mode": {
    "name": "ipython",
    "version": 3
   },
   "file_extension": ".py",
   "mimetype": "text/x-python",
   "name": "python",
   "nbconvert_exporter": "python",
   "pygments_lexer": "ipython3",
   "version": "3.7.0"
  },
  "toc": {
   "base_numbering": 1,
   "nav_menu": {},
   "number_sections": true,
   "sideBar": true,
   "skip_h1_title": false,
   "title_cell": "Table of Contents",
   "title_sidebar": "Contents",
   "toc_cell": false,
   "toc_position": {},
   "toc_section_display": true,
   "toc_window_display": false
  }
 },
 "nbformat": 4,
 "nbformat_minor": 2
}
