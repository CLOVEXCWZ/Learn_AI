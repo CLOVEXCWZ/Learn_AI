{
 "cells": [
  {
   "cell_type": "code",
   "execution_count": 1,
   "metadata": {},
   "outputs": [],
   "source": [
    "import tensorflow as tf\n",
    "from tensorflow.examples.tutorials.mnist import input_data"
   ]
  },
  {
   "cell_type": "code",
   "execution_count": 3,
   "metadata": {},
   "outputs": [
    {
     "name": "stdout",
     "output_type": "stream",
     "text": [
      "Extracting ./data/MNIST_data/train-images-idx3-ubyte.gz\n",
      "Extracting ./data/MNIST_data/train-labels-idx1-ubyte.gz\n",
      "Extracting ./data/MNIST_data/t10k-images-idx3-ubyte.gz\n",
      "Extracting ./data/MNIST_data/t10k-labels-idx1-ubyte.gz\n"
     ]
    }
   ],
   "source": [
    "mnist_base_path=\"/Users/zhouwencheng/Desktop/Grass/data/picture/mnist\"\n",
    "# 载入数据集\n",
    "mnist = input_data.read_data_sets(mnist_base_path, one_hot=True)"
   ]
  },
  {
   "cell_type": "code",
   "execution_count": 8,
   "metadata": {},
   "outputs": [
    {
     "name": "stdout",
     "output_type": "stream",
     "text": [
      "accuracy: 0.8242\n",
      "accuracy: 0.8895\n",
      "accuracy: 0.9017\n",
      "accuracy: 0.9061\n",
      "accuracy: 0.9087\n",
      "accuracy: 0.9103\n",
      "accuracy: 0.9113\n",
      "accuracy: 0.9135\n",
      "accuracy: 0.9152\n",
      "accuracy: 0.9156\n",
      "accuracy: 0.9162\n",
      "accuracy: 0.9175\n",
      "accuracy: 0.9189\n",
      "accuracy: 0.9195\n",
      "accuracy: 0.9197\n",
      "accuracy: 0.9195\n",
      "accuracy: 0.9194\n",
      "accuracy: 0.9209\n",
      "accuracy: 0.9216\n",
      "accuracy: 0.9219\n",
      "accuracy: 0.921\n"
     ]
    },
    {
     "data": {
      "text/plain": [
       "550"
      ]
     },
     "execution_count": 8,
     "metadata": {},
     "output_type": "execute_result"
    }
   ],
   "source": [
    "# 每个批次的大小\n",
    "batch_size = 100\n",
    "# 计算一共有多少个批次 (550)\n",
    "n_batch = mnist.train.num_examples // batch_size\n",
    "\n",
    "# 定义两个 placeholder\n",
    "x = tf.placeholder(tf.float32, [None, 784])\n",
    "y = tf.placeholder(tf.float32, [None, 10])\n",
    "\n",
    "\n",
    "# 创建一个简单的神经网络\n",
    "W = tf.Variable(tf.zeros([784, 10]))\n",
    "b = tf.Variable(tf.zeros([10]))\n",
    "prediction = tf.nn.softmax(tf.matmul(x, W) + b)\n",
    "\n",
    "# 定义 二次代价函数\n",
    "# loss = tf.reduce_mean(tf.square(y - prediction))\n",
    "# 使用交叉熵\n",
    "loss = tf.reduce_mean(tf.nn.softmax_cross_entropy_with_logits(labels = y, logits = prediction))\n",
    "\n",
    "# 使用梯度下降法\n",
    "train_step = tf.train.GradientDescentOptimizer(0.2).minimize(loss)\n",
    "# 初始化变量\n",
    "init = tf.global_variables_initializer()\n",
    "\n",
    "# 结果放在一个布尔型列表中\n",
    "correct_prediction = tf.equal(tf.arg_max(y, 1), tf.arg_max(prediction, 1))\n",
    "# 求准确率\n",
    "accuracy = tf.reduce_mean(tf.cast(correct_prediction, tf.float32))\n",
    "\n",
    "with tf.Session() as sess:\n",
    "    sess.run(init)\n",
    "    for epoch in range(21):\n",
    "        for batch in range(n_batch):\n",
    "            batch_xs, batch_ys = mnist.train.next_batch(batch_size)\n",
    "            sess.run(train_step, feed_dict = {x:batch_xs, y:batch_ys})\n",
    "        acc = sess.run(accuracy, feed_dict = {x:mnist.test.images, y:mnist.test.labels})\n",
    "        print('accuracy:', acc)\n",
    "            \n",
    "\n",
    "\n",
    "n_batch"
   ]
  },
  {
   "cell_type": "code",
   "execution_count": null,
   "metadata": {},
   "outputs": [],
   "source": [
    "# 二次代价函数\n",
    "\n",
    "###\n",
    "\n",
    "accuracy: 0.8317\n",
    "accuracy: 0.8707\n",
    "accuracy: 0.881\n",
    "accuracy: 0.8889\n",
    "accuracy: 0.8947\n",
    "accuracy: 0.897\n",
    "accuracy: 0.9003\n",
    "accuracy: 0.9025\n",
    "accuracy: 0.9041\n",
    "accuracy: 0.9052\n",
    "accuracy: 0.9062\n",
    "accuracy: 0.9069\n",
    "accuracy: 0.9081\n",
    "accuracy: 0.9094\n",
    "accuracy: 0.9101\n",
    "accuracy: 0.9113\n",
    "accuracy: 0.9114\n",
    "accuracy: 0.9125\n",
    "accuracy: 0.9131\n",
    "accuracy: 0.9131\n",
    "accuracy: 0.9137\n",
    "\n",
    "###\n",
    "\n",
    "### \n",
    "\n",
    "交叉熵\n",
    "使用s型曲线的时候 使用交叉熵作为代价函数效果会好些\n",
    "\n",
    "accuracy: 0.8242\n",
    "accuracy: 0.8895\n",
    "accuracy: 0.9017\n",
    "accuracy: 0.9061\n",
    "accuracy: 0.9087\n",
    "accuracy: 0.9103\n",
    "accuracy: 0.9113\n",
    "accuracy: 0.9135\n",
    "accuracy: 0.9152\n",
    "accuracy: 0.9156\n",
    "accuracy: 0.9162\n",
    "accuracy: 0.9175\n",
    "accuracy: 0.9189\n",
    "accuracy: 0.9195\n",
    "accuracy: 0.9197\n",
    "accuracy: 0.9195\n",
    "accuracy: 0.9194\n",
    "accuracy: 0.9209\n",
    "accuracy: 0.9216\n",
    "accuracy: 0.9219\n",
    "accuracy: 0.921\n",
    "###\n",
    "\n"
   ]
  }
 ],
 "metadata": {
  "kernelspec": {
   "display_name": "Python 3",
   "language": "python",
   "name": "python3"
  },
  "language_info": {
   "codemirror_mode": {
    "name": "ipython",
    "version": 3
   },
   "file_extension": ".py",
   "mimetype": "text/x-python",
   "name": "python",
   "nbconvert_exporter": "python",
   "pygments_lexer": "ipython3",
   "version": "3.7.0"
  },
  "toc": {
   "base_numbering": 1,
   "nav_menu": {},
   "number_sections": true,
   "sideBar": true,
   "skip_h1_title": false,
   "title_cell": "Table of Contents",
   "title_sidebar": "Contents",
   "toc_cell": false,
   "toc_position": {},
   "toc_section_display": true,
   "toc_window_display": false
  }
 },
 "nbformat": 4,
 "nbformat_minor": 2
}
