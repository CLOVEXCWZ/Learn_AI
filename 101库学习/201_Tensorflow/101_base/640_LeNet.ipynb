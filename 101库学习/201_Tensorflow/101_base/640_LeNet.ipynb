{
 "cells": [
  {
   "cell_type": "code",
   "execution_count": 1,
   "metadata": {},
   "outputs": [],
   "source": [
    "import tensorflow as tf\n",
    "from tensorflow.examples.tutorials.mnist import input_data\n",
    "import matplotlib.pyplot as plt\n",
    "import numpy as np"
   ]
  },
  {
   "cell_type": "code",
   "execution_count": 2,
   "metadata": {},
   "outputs": [
    {
     "name": "stdout",
     "output_type": "stream",
     "text": [
      "WARNING:tensorflow:From <ipython-input-2-aa12db7df73f>:2: read_data_sets (from tensorflow.contrib.learn.python.learn.datasets.mnist) is deprecated and will be removed in a future version.\n",
      "Instructions for updating:\n",
      "Please use alternatives such as official/mnist/dataset.py from tensorflow/models.\n",
      "WARNING:tensorflow:From /Users/zhouwencheng/Desktop/Grass/02Study/02PythonEnv/1env2/lib/python3.7/site-packages/tensorflow/contrib/learn/python/learn/datasets/mnist.py:260: maybe_download (from tensorflow.contrib.learn.python.learn.datasets.base) is deprecated and will be removed in a future version.\n",
      "Instructions for updating:\n",
      "Please write your own downloading logic.\n",
      "WARNING:tensorflow:From /Users/zhouwencheng/Desktop/Grass/02Study/02PythonEnv/1env2/lib/python3.7/site-packages/tensorflow/contrib/learn/python/learn/datasets/mnist.py:262: extract_images (from tensorflow.contrib.learn.python.learn.datasets.mnist) is deprecated and will be removed in a future version.\n",
      "Instructions for updating:\n",
      "Please use tf.data to implement this functionality.\n",
      "Extracting ./data/MNIST_data/train-images-idx3-ubyte.gz\n",
      "WARNING:tensorflow:From /Users/zhouwencheng/Desktop/Grass/02Study/02PythonEnv/1env2/lib/python3.7/site-packages/tensorflow/contrib/learn/python/learn/datasets/mnist.py:267: extract_labels (from tensorflow.contrib.learn.python.learn.datasets.mnist) is deprecated and will be removed in a future version.\n",
      "Instructions for updating:\n",
      "Please use tf.data to implement this functionality.\n",
      "Extracting ./data/MNIST_data/train-labels-idx1-ubyte.gz\n",
      "WARNING:tensorflow:From /Users/zhouwencheng/Desktop/Grass/02Study/02PythonEnv/1env2/lib/python3.7/site-packages/tensorflow/contrib/learn/python/learn/datasets/mnist.py:110: dense_to_one_hot (from tensorflow.contrib.learn.python.learn.datasets.mnist) is deprecated and will be removed in a future version.\n",
      "Instructions for updating:\n",
      "Please use tf.one_hot on tensors.\n",
      "Extracting ./data/MNIST_data/t10k-images-idx3-ubyte.gz\n",
      "Extracting ./data/MNIST_data/t10k-labels-idx1-ubyte.gz\n",
      "WARNING:tensorflow:From /Users/zhouwencheng/Desktop/Grass/02Study/02PythonEnv/1env2/lib/python3.7/site-packages/tensorflow/contrib/learn/python/learn/datasets/mnist.py:290: DataSet.__init__ (from tensorflow.contrib.learn.python.learn.datasets.mnist) is deprecated and will be removed in a future version.\n",
      "Instructions for updating:\n",
      "Please use alternatives such as official/mnist/dataset.py from tensorflow/models.\n"
     ]
    }
   ],
   "source": [
    "mnist_base_path=\"/Users/zhouwencheng/Desktop/Grass/data/picture/mnist\"\n",
    "# 载入数据集\n",
    "mnist = input_data.read_data_sets(mnist_base_path, one_hot=True)"
   ]
  },
  {
   "cell_type": "code",
   "execution_count": 3,
   "metadata": {},
   "outputs": [],
   "source": [
    "x = tf.placeholder(dtype=tf.float32, shape=[None, 28*28])\n",
    "y = tf.placeholder(dtype=tf.float32, shape=[None, 10])\n",
    "\n",
    "x_flat = tf.reshape(x, shape=[-1, 28, 28, 1]) "
   ]
  },
  {
   "cell_type": "code",
   "execution_count": 4,
   "metadata": {},
   "outputs": [
    {
     "name": "stdout",
     "output_type": "stream",
     "text": [
      "WARNING:tensorflow:From <ipython-input-4-53400db999a9>:1: conv2d (from tensorflow.python.layers.convolutional) is deprecated and will be removed in a future version.\n",
      "Instructions for updating:\n",
      "Use keras.layers.conv2d instead.\n",
      "WARNING:tensorflow:From /Users/zhouwencheng/Desktop/Grass/02Study/02PythonEnv/1env2/lib/python3.7/site-packages/tensorflow/python/framework/op_def_library.py:263: colocate_with (from tensorflow.python.framework.ops) is deprecated and will be removed in a future version.\n",
      "Instructions for updating:\n",
      "Colocations handled automatically by placer.\n",
      "WARNING:tensorflow:From <ipython-input-4-53400db999a9>:2: max_pooling2d (from tensorflow.python.layers.pooling) is deprecated and will be removed in a future version.\n",
      "Instructions for updating:\n",
      "Use keras.layers.max_pooling2d instead.\n",
      "WARNING:tensorflow:From <ipython-input-4-53400db999a9>:9: dense (from tensorflow.python.layers.core) is deprecated and will be removed in a future version.\n",
      "Instructions for updating:\n",
      "Use keras.layers.dense instead.\n"
     ]
    }
   ],
   "source": [
    "conv_1 = tf.layers.conv2d(x_flat, filters=6, kernel_size=(5, 5), strides=(1, 1), padding='same',activation=tf.nn.relu)\n",
    "pool_1 = tf.layers.max_pooling2d(inputs=conv_1, pool_size=(2, 2), strides=(2, 2), padding='same')\n",
    "# pool_1 = tf.math.sigmoid(pool_1)\n",
    "conv_2 = tf.layers.conv2d(pool_1, filters=16, kernel_size=(5, 5), strides=(1, 1), padding='valid',activation=tf.nn.relu)\n",
    "pool_2 = tf.layers.max_pooling2d(inputs=conv_2, pool_size=(2, 2), strides=(2, 2), padding='same')\n",
    "\n",
    "pool_2_flat = tf.reshape(pool_2, shape=[-1, 5*5*16])\n",
    "\n",
    "dense_1 = tf.layers.dense(pool_2_flat, 120, activation=tf.nn.relu)\n",
    "dense_2 = tf.layers.dense(dense_1, 84, activation=tf.nn.relu)\n",
    "prediction = tf.layers.dense(dense_2, 10, activation=tf.nn.softmax)"
   ]
  },
  {
   "cell_type": "code",
   "execution_count": 5,
   "metadata": {},
   "outputs": [
    {
     "name": "stdout",
     "output_type": "stream",
     "text": [
      "WARNING:tensorflow:From <ipython-input-5-640af4abdd0b>:1: softmax_cross_entropy_with_logits (from tensorflow.python.ops.nn_ops) is deprecated and will be removed in a future version.\n",
      "Instructions for updating:\n",
      "\n",
      "Future major versions of TensorFlow will allow gradients to flow\n",
      "into the labels input on backprop by default.\n",
      "\n",
      "See `tf.nn.softmax_cross_entropy_with_logits_v2`.\n",
      "\n"
     ]
    }
   ],
   "source": [
    "loss = tf.reduce_mean(tf.nn.softmax_cross_entropy_with_logits(labels=y, logits=prediction))\n",
    "train = tf.train.AdamOptimizer(learning_rate=0.00005).minimize(loss)\n",
    "\n",
    "correct_prediction = tf.equal(x=tf.math.argmax(y, 1), y=tf.math.argmax(prediction, 1))\n",
    "accuracy = tf.reduce_mean(tf.cast(correct_prediction, dtype = tf.float32))"
   ]
  },
  {
   "cell_type": "code",
   "execution_count": 6,
   "metadata": {
    "scrolled": false
   },
   "outputs": [
    {
     "name": "stdout",
     "output_type": "stream",
     "text": [
      "BG\n",
      "WARNING:tensorflow:From /Users/zhouwencheng/Desktop/Grass/02Study/02PythonEnv/1env2/lib/python3.7/site-packages/tensorflow/python/training/saver.py:1266: checkpoint_exists (from tensorflow.python.training.checkpoint_management) is deprecated and will be removed in a future version.\n",
      "Instructions for updating:\n",
      "Use standard file APIs to check for files with this prefix.\n",
      "INFO:tensorflow:Restoring parameters from save/640/LeNet.ckpt\n",
      "step: 0 loss: 1.4693915 accuracy: 0.9917\n",
      "step: 1 loss: 1.4693543 accuracy: 0.9917\n",
      "step: 2 loss: 1.4693975 accuracy: 0.9917\n",
      "step: 3 loss: 1.4696538 accuracy: 0.9913\n",
      "step: 4 loss: 1.469598 accuracy: 0.9913\n",
      "step: 5 loss: 1.4695617 accuracy: 0.9915\n",
      "step: 6 loss: 1.4695272 accuracy: 0.9915\n",
      "step: 7 loss: 1.4694484 accuracy: 0.9917\n",
      "step: 8 loss: 1.4694167 accuracy: 0.9916\n",
      "step: 9 loss: 1.4695302 accuracy: 0.9915\n",
      "step: 10 loss: 1.4696649 accuracy: 0.9913\n",
      "step: 11 loss: 1.4696605 accuracy: 0.9914\n",
      "step: 12 loss: 1.469553 accuracy: 0.9915\n",
      "step: 13 loss: 1.4695476 accuracy: 0.9915\n",
      "step: 14 loss: 1.4695235 accuracy: 0.9916\n",
      "step: 15 loss: 1.4694666 accuracy: 0.9917\n",
      "step: 16 loss: 1.4694909 accuracy: 0.9917\n",
      "step: 17 loss: 1.469485 accuracy: 0.9918\n",
      "step: 18 loss: 1.4693805 accuracy: 0.9919\n",
      "step: 19 loss: 1.4693773 accuracy: 0.9919\n",
      "step: 20 loss: 1.4694872 accuracy: 0.9915\n",
      "step: 21 loss: 1.4694697 accuracy: 0.9918\n",
      "step: 22 loss: 1.4694437 accuracy: 0.9917\n",
      "step: 23 loss: 1.4694647 accuracy: 0.9916\n",
      "step: 24 loss: 1.469508 accuracy: 0.9915\n",
      "step: 25 loss: 1.469382 accuracy: 0.9918\n",
      "step: 26 loss: 1.469343 accuracy: 0.9917\n",
      "step: 27 loss: 1.4695296 accuracy: 0.9917\n",
      "step: 28 loss: 1.469658 accuracy: 0.9913\n",
      "step: 29 loss: 1.4696664 accuracy: 0.9913\n",
      "step: 30 loss: 1.4695297 accuracy: 0.9915\n",
      "step: 31 loss: 1.4695414 accuracy: 0.9915\n",
      "step: 32 loss: 1.4695334 accuracy: 0.9916\n",
      "step: 33 loss: 1.4695475 accuracy: 0.9915\n",
      "step: 34 loss: 1.4695237 accuracy: 0.9917\n",
      "step: 35 loss: 1.4695305 accuracy: 0.9916\n",
      "step: 36 loss: 1.4692326 accuracy: 0.992\n",
      "step: 37 loss: 1.4692421 accuracy: 0.992\n",
      "step: 38 loss: 1.4694515 accuracy: 0.9916\n",
      "step: 39 loss: 1.469446 accuracy: 0.9915\n",
      "step: 40 loss: 1.4695739 accuracy: 0.9917\n",
      "step: 41 loss: 1.4694577 accuracy: 0.9917\n",
      "step: 42 loss: 1.4694641 accuracy: 0.9916\n",
      "step: 43 loss: 1.469416 accuracy: 0.9918\n",
      "step: 44 loss: 1.4691609 accuracy: 0.9921\n",
      "step: 45 loss: 1.4694728 accuracy: 0.9918\n",
      "step: 46 loss: 1.469567 accuracy: 0.9915\n",
      "step: 47 loss: 1.4696045 accuracy: 0.9915\n",
      "step: 48 loss: 1.4699606 accuracy: 0.9915\n",
      "step: 49 loss: 1.4699401 accuracy: 0.9912\n",
      "step: 50 loss: 1.469624 accuracy: 0.9915\n",
      "step: 51 loss: 1.4694515 accuracy: 0.9917\n",
      "step: 52 loss: 1.4693849 accuracy: 0.9916\n",
      "step: 53 loss: 1.4693542 accuracy: 0.9917\n",
      "step: 54 loss: 1.4693469 accuracy: 0.9918\n",
      "step: 55 loss: 1.4693573 accuracy: 0.9919\n",
      "step: 56 loss: 1.4695411 accuracy: 0.9917\n",
      "step: 57 loss: 1.46952 accuracy: 0.9917\n",
      "step: 58 loss: 1.46944 accuracy: 0.9916\n",
      "step: 59 loss: 1.469305 accuracy: 0.9918\n",
      "step: 60 loss: 1.4693842 accuracy: 0.9916\n",
      "step: 61 loss: 1.4693736 accuracy: 0.9916\n",
      "step: 62 loss: 1.4693573 accuracy: 0.9916\n",
      "step: 63 loss: 1.4691049 accuracy: 0.9921\n",
      "step: 64 loss: 1.4693009 accuracy: 0.9918\n",
      "step: 65 loss: 1.4693228 accuracy: 0.9917\n",
      "step: 66 loss: 1.4693795 accuracy: 0.9915\n",
      "step: 67 loss: 1.4692861 accuracy: 0.9918\n",
      "step: 68 loss: 1.4692762 accuracy: 0.9918\n",
      "step: 69 loss: 1.4693598 accuracy: 0.9919\n",
      "step: 70 loss: 1.4694378 accuracy: 0.9915\n",
      "step: 71 loss: 1.4698004 accuracy: 0.9915\n",
      "step: 72 loss: 1.469952 accuracy: 0.9913\n",
      "step: 73 loss: 1.4696215 accuracy: 0.9916\n",
      "step: 74 loss: 1.4692707 accuracy: 0.9923\n",
      "step: 75 loss: 1.4695728 accuracy: 0.9915\n",
      "step: 76 loss: 1.4694273 accuracy: 0.9917\n",
      "step: 77 loss: 1.4694363 accuracy: 0.9915\n",
      "step: 78 loss: 1.4695232 accuracy: 0.9915\n",
      "step: 79 loss: 1.4694663 accuracy: 0.9916\n",
      "step: 80 loss: 1.4695065 accuracy: 0.9916\n",
      "step: 81 loss: 1.4695561 accuracy: 0.9917\n",
      "step: 82 loss: 1.4695168 accuracy: 0.9917\n",
      "step: 83 loss: 1.4695152 accuracy: 0.9918\n",
      "step: 84 loss: 1.4694172 accuracy: 0.9919\n",
      "step: 85 loss: 1.4695121 accuracy: 0.992\n",
      "step: 86 loss: 1.469473 accuracy: 0.9918\n",
      "step: 87 loss: 1.4695457 accuracy: 0.9917\n",
      "step: 88 loss: 1.4695354 accuracy: 0.9918\n",
      "step: 89 loss: 1.4696833 accuracy: 0.9916\n",
      "step: 90 loss: 1.4695821 accuracy: 0.9918\n",
      "step: 91 loss: 1.4695433 accuracy: 0.9917\n",
      "step: 92 loss: 1.4694854 accuracy: 0.9918\n",
      "step: 93 loss: 1.469573 accuracy: 0.9917\n",
      "step: 94 loss: 1.4695758 accuracy: 0.9916\n",
      "step: 95 loss: 1.4697976 accuracy: 0.9914\n",
      "step: 96 loss: 1.4696441 accuracy: 0.9916\n",
      "step: 97 loss: 1.4694972 accuracy: 0.9916\n",
      "step: 98 loss: 1.4695296 accuracy: 0.9915\n",
      "step: 99 loss: 1.4695315 accuracy: 0.9916\n",
      "step: 100 loss: 1.4694781 accuracy: 0.9917\n",
      "step: 101 loss: 1.4696368 accuracy: 0.9916\n",
      "step: 102 loss: 1.469675 accuracy: 0.9915\n",
      "step: 103 loss: 1.4694784 accuracy: 0.9915\n",
      "step: 104 loss: 1.4696096 accuracy: 0.9913\n",
      "step: 105 loss: 1.4696226 accuracy: 0.9914\n",
      "step: 106 loss: 1.4694686 accuracy: 0.9917\n",
      "step: 107 loss: 1.4696951 accuracy: 0.9915\n",
      "step: 108 loss: 1.4696422 accuracy: 0.9917\n",
      "step: 109 loss: 1.4697094 accuracy: 0.9915\n"
     ]
    },
    {
     "ename": "KeyboardInterrupt",
     "evalue": "",
     "output_type": "error",
     "traceback": [
      "\u001b[0;31m---------------------------------------------------------------------------\u001b[0m",
      "\u001b[0;31mKeyboardInterrupt\u001b[0m                         Traceback (most recent call last)",
      "\u001b[0;32m~/anaconda3/lib/python3.7/contextlib.py\u001b[0m in \u001b[0;36m__exit__\u001b[0;34m(self, type, value, traceback)\u001b[0m\n\u001b[1;32m    129\u001b[0m             \u001b[0;32mtry\u001b[0m\u001b[0;34m:\u001b[0m\u001b[0;34m\u001b[0m\u001b[0;34m\u001b[0m\u001b[0m\n\u001b[0;32m--> 130\u001b[0;31m                 \u001b[0mself\u001b[0m\u001b[0;34m.\u001b[0m\u001b[0mgen\u001b[0m\u001b[0;34m.\u001b[0m\u001b[0mthrow\u001b[0m\u001b[0;34m(\u001b[0m\u001b[0mtype\u001b[0m\u001b[0;34m,\u001b[0m \u001b[0mvalue\u001b[0m\u001b[0;34m,\u001b[0m \u001b[0mtraceback\u001b[0m\u001b[0;34m)\u001b[0m\u001b[0;34m\u001b[0m\u001b[0;34m\u001b[0m\u001b[0m\n\u001b[0m\u001b[1;32m    131\u001b[0m             \u001b[0;32mexcept\u001b[0m \u001b[0mStopIteration\u001b[0m \u001b[0;32mas\u001b[0m \u001b[0mexc\u001b[0m\u001b[0;34m:\u001b[0m\u001b[0;34m\u001b[0m\u001b[0;34m\u001b[0m\u001b[0m\n",
      "\u001b[0;32m~/Desktop/Grass/02Study/02PythonEnv/1env2/lib/python3.7/site-packages/tensorflow/python/framework/ops.py\u001b[0m in \u001b[0;36mget_controller\u001b[0;34m(self, default)\u001b[0m\n\u001b[1;32m   5252\u001b[0m           default) as g, context.graph_mode():\n\u001b[0;32m-> 5253\u001b[0;31m         \u001b[0;32myield\u001b[0m \u001b[0mg\u001b[0m\u001b[0;34m\u001b[0m\u001b[0;34m\u001b[0m\u001b[0m\n\u001b[0m\u001b[1;32m   5254\u001b[0m     \u001b[0;32mfinally\u001b[0m\u001b[0;34m:\u001b[0m\u001b[0;34m\u001b[0m\u001b[0;34m\u001b[0m\u001b[0m\n",
      "\u001b[0;32m<ipython-input-6-1a63b3277e2a>\u001b[0m in \u001b[0;36m<module>\u001b[0;34m\u001b[0m\n\u001b[1;32m     14\u001b[0m             \u001b[0mx_train\u001b[0m\u001b[0;34m,\u001b[0m \u001b[0my_train\u001b[0m \u001b[0;34m=\u001b[0m \u001b[0mmnist\u001b[0m\u001b[0;34m.\u001b[0m\u001b[0mtrain\u001b[0m\u001b[0;34m.\u001b[0m\u001b[0mnext_batch\u001b[0m\u001b[0;34m(\u001b[0m\u001b[0mbatch_size\u001b[0m\u001b[0;34m=\u001b[0m\u001b[0;36m100\u001b[0m\u001b[0;34m)\u001b[0m\u001b[0;34m\u001b[0m\u001b[0;34m\u001b[0m\u001b[0m\n\u001b[0;32m---> 15\u001b[0;31m             \u001b[0msess\u001b[0m\u001b[0;34m.\u001b[0m\u001b[0mrun\u001b[0m\u001b[0;34m(\u001b[0m\u001b[0mtrain\u001b[0m\u001b[0;34m,\u001b[0m \u001b[0mfeed_dict\u001b[0m \u001b[0;34m=\u001b[0m \u001b[0;34m{\u001b[0m\u001b[0mx\u001b[0m\u001b[0;34m:\u001b[0m\u001b[0mx_train\u001b[0m\u001b[0;34m,\u001b[0m \u001b[0my\u001b[0m\u001b[0;34m:\u001b[0m\u001b[0my_train\u001b[0m\u001b[0;34m}\u001b[0m\u001b[0;34m)\u001b[0m\u001b[0;34m\u001b[0m\u001b[0;34m\u001b[0m\u001b[0m\n\u001b[0m\u001b[1;32m     16\u001b[0m \u001b[0;34m\u001b[0m\u001b[0m\n",
      "\u001b[0;32m~/Desktop/Grass/02Study/02PythonEnv/1env2/lib/python3.7/site-packages/tensorflow/python/client/session.py\u001b[0m in \u001b[0;36mrun\u001b[0;34m(self, fetches, feed_dict, options, run_metadata)\u001b[0m\n\u001b[1;32m    928\u001b[0m       result = self._run(None, fetches, feed_dict, options_ptr,\n\u001b[0;32m--> 929\u001b[0;31m                          run_metadata_ptr)\n\u001b[0m\u001b[1;32m    930\u001b[0m       \u001b[0;32mif\u001b[0m \u001b[0mrun_metadata\u001b[0m\u001b[0;34m:\u001b[0m\u001b[0;34m\u001b[0m\u001b[0;34m\u001b[0m\u001b[0m\n",
      "\u001b[0;32m~/Desktop/Grass/02Study/02PythonEnv/1env2/lib/python3.7/site-packages/tensorflow/python/client/session.py\u001b[0m in \u001b[0;36m_run\u001b[0;34m(self, handle, fetches, feed_dict, options, run_metadata)\u001b[0m\n\u001b[1;32m   1151\u001b[0m       results = self._do_run(handle, final_targets, final_fetches,\n\u001b[0;32m-> 1152\u001b[0;31m                              feed_dict_tensor, options, run_metadata)\n\u001b[0m\u001b[1;32m   1153\u001b[0m     \u001b[0;32melse\u001b[0m\u001b[0;34m:\u001b[0m\u001b[0;34m\u001b[0m\u001b[0;34m\u001b[0m\u001b[0m\n",
      "\u001b[0;32m~/Desktop/Grass/02Study/02PythonEnv/1env2/lib/python3.7/site-packages/tensorflow/python/client/session.py\u001b[0m in \u001b[0;36m_do_run\u001b[0;34m(self, handle, target_list, fetch_list, feed_dict, options, run_metadata)\u001b[0m\n\u001b[1;32m   1327\u001b[0m       return self._do_call(_run_fn, feeds, fetches, targets, options,\n\u001b[0;32m-> 1328\u001b[0;31m                            run_metadata)\n\u001b[0m\u001b[1;32m   1329\u001b[0m     \u001b[0;32melse\u001b[0m\u001b[0;34m:\u001b[0m\u001b[0;34m\u001b[0m\u001b[0;34m\u001b[0m\u001b[0m\n",
      "\u001b[0;32m~/Desktop/Grass/02Study/02PythonEnv/1env2/lib/python3.7/site-packages/tensorflow/python/client/session.py\u001b[0m in \u001b[0;36m_do_call\u001b[0;34m(self, fn, *args)\u001b[0m\n\u001b[1;32m   1333\u001b[0m     \u001b[0;32mtry\u001b[0m\u001b[0;34m:\u001b[0m\u001b[0;34m\u001b[0m\u001b[0;34m\u001b[0m\u001b[0m\n\u001b[0;32m-> 1334\u001b[0;31m       \u001b[0;32mreturn\u001b[0m \u001b[0mfn\u001b[0m\u001b[0;34m(\u001b[0m\u001b[0;34m*\u001b[0m\u001b[0margs\u001b[0m\u001b[0;34m)\u001b[0m\u001b[0;34m\u001b[0m\u001b[0;34m\u001b[0m\u001b[0m\n\u001b[0m\u001b[1;32m   1335\u001b[0m     \u001b[0;32mexcept\u001b[0m \u001b[0merrors\u001b[0m\u001b[0;34m.\u001b[0m\u001b[0mOpError\u001b[0m \u001b[0;32mas\u001b[0m \u001b[0me\u001b[0m\u001b[0;34m:\u001b[0m\u001b[0;34m\u001b[0m\u001b[0;34m\u001b[0m\u001b[0m\n",
      "\u001b[0;32m~/Desktop/Grass/02Study/02PythonEnv/1env2/lib/python3.7/site-packages/tensorflow/python/client/session.py\u001b[0m in \u001b[0;36m_run_fn\u001b[0;34m(feed_dict, fetch_list, target_list, options, run_metadata)\u001b[0m\n\u001b[1;32m   1318\u001b[0m       return self._call_tf_sessionrun(\n\u001b[0;32m-> 1319\u001b[0;31m           options, feed_dict, fetch_list, target_list, run_metadata)\n\u001b[0m\u001b[1;32m   1320\u001b[0m \u001b[0;34m\u001b[0m\u001b[0m\n",
      "\u001b[0;32m~/Desktop/Grass/02Study/02PythonEnv/1env2/lib/python3.7/site-packages/tensorflow/python/client/session.py\u001b[0m in \u001b[0;36m_call_tf_sessionrun\u001b[0;34m(self, options, feed_dict, fetch_list, target_list, run_metadata)\u001b[0m\n\u001b[1;32m   1406\u001b[0m         \u001b[0mself\u001b[0m\u001b[0;34m.\u001b[0m\u001b[0m_session\u001b[0m\u001b[0;34m,\u001b[0m \u001b[0moptions\u001b[0m\u001b[0;34m,\u001b[0m \u001b[0mfeed_dict\u001b[0m\u001b[0;34m,\u001b[0m \u001b[0mfetch_list\u001b[0m\u001b[0;34m,\u001b[0m \u001b[0mtarget_list\u001b[0m\u001b[0;34m,\u001b[0m\u001b[0;34m\u001b[0m\u001b[0;34m\u001b[0m\u001b[0m\n\u001b[0;32m-> 1407\u001b[0;31m         run_metadata)\n\u001b[0m\u001b[1;32m   1408\u001b[0m \u001b[0;34m\u001b[0m\u001b[0m\n",
      "\u001b[0;31mKeyboardInterrupt\u001b[0m: ",
      "\nDuring handling of the above exception, another exception occurred:\n",
      "\u001b[0;31mKeyboardInterrupt\u001b[0m                         Traceback (most recent call last)",
      "\u001b[0;32m<ipython-input-6-1a63b3277e2a>\u001b[0m in \u001b[0;36m<module>\u001b[0;34m\u001b[0m\n\u001b[1;32m     22\u001b[0m \u001b[0;34m\u001b[0m\u001b[0m\n\u001b[1;32m     23\u001b[0m \u001b[0;34m\u001b[0m\u001b[0m\n\u001b[0;32m---> 24\u001b[0;31m     \u001b[0mprint\u001b[0m\u001b[0;34m(\u001b[0m\u001b[0;34m\"OK\"\u001b[0m\u001b[0;34m)\u001b[0m\u001b[0;34m\u001b[0m\u001b[0;34m\u001b[0m\u001b[0m\n\u001b[0m",
      "\u001b[0;32m~/Desktop/Grass/02Study/02PythonEnv/1env2/lib/python3.7/site-packages/tensorflow/python/client/session.py\u001b[0m in \u001b[0;36m__exit__\u001b[0;34m(self, exec_type, exec_value, exec_tb)\u001b[0m\n\u001b[1;32m   1590\u001b[0m     \u001b[0mself\u001b[0m\u001b[0;34m.\u001b[0m\u001b[0m_default_graph_context_manager\u001b[0m \u001b[0;34m=\u001b[0m \u001b[0;32mNone\u001b[0m\u001b[0;34m\u001b[0m\u001b[0;34m\u001b[0m\u001b[0m\n\u001b[1;32m   1591\u001b[0m \u001b[0;34m\u001b[0m\u001b[0m\n\u001b[0;32m-> 1592\u001b[0;31m     \u001b[0mself\u001b[0m\u001b[0;34m.\u001b[0m\u001b[0mclose\u001b[0m\u001b[0;34m(\u001b[0m\u001b[0;34m)\u001b[0m\u001b[0;34m\u001b[0m\u001b[0;34m\u001b[0m\u001b[0m\n\u001b[0m\u001b[1;32m   1593\u001b[0m \u001b[0;34m\u001b[0m\u001b[0m\n\u001b[1;32m   1594\u001b[0m   \u001b[0;34m@\u001b[0m\u001b[0mstaticmethod\u001b[0m\u001b[0;34m\u001b[0m\u001b[0;34m\u001b[0m\u001b[0m\n",
      "\u001b[0;32m~/Desktop/Grass/02Study/02PythonEnv/1env2/lib/python3.7/site-packages/tensorflow/python/client/session.py\u001b[0m in \u001b[0;36mclose\u001b[0;34m(self)\u001b[0m\n\u001b[1;32m    726\u001b[0m     \u001b[0;32mif\u001b[0m \u001b[0mself\u001b[0m\u001b[0;34m.\u001b[0m\u001b[0m_session\u001b[0m \u001b[0;32mand\u001b[0m \u001b[0;32mnot\u001b[0m \u001b[0mself\u001b[0m\u001b[0;34m.\u001b[0m\u001b[0m_closed\u001b[0m\u001b[0;34m:\u001b[0m\u001b[0;34m\u001b[0m\u001b[0;34m\u001b[0m\u001b[0m\n\u001b[1;32m    727\u001b[0m       \u001b[0mself\u001b[0m\u001b[0;34m.\u001b[0m\u001b[0m_closed\u001b[0m \u001b[0;34m=\u001b[0m \u001b[0;32mTrue\u001b[0m\u001b[0;34m\u001b[0m\u001b[0;34m\u001b[0m\u001b[0m\n\u001b[0;32m--> 728\u001b[0;31m       \u001b[0mtf_session\u001b[0m\u001b[0;34m.\u001b[0m\u001b[0mTF_CloseSession\u001b[0m\u001b[0;34m(\u001b[0m\u001b[0mself\u001b[0m\u001b[0;34m.\u001b[0m\u001b[0m_session\u001b[0m\u001b[0;34m)\u001b[0m\u001b[0;34m\u001b[0m\u001b[0;34m\u001b[0m\u001b[0m\n\u001b[0m\u001b[1;32m    729\u001b[0m \u001b[0;34m\u001b[0m\u001b[0m\n\u001b[1;32m    730\u001b[0m   \u001b[0;32mdef\u001b[0m \u001b[0m__del__\u001b[0m\u001b[0;34m(\u001b[0m\u001b[0mself\u001b[0m\u001b[0;34m)\u001b[0m\u001b[0;34m:\u001b[0m\u001b[0;34m\u001b[0m\u001b[0;34m\u001b[0m\u001b[0m\n",
      "\u001b[0;31mKeyboardInterrupt\u001b[0m: "
     ]
    }
   ],
   "source": [
    "print(\"BG\")\n",
    "\n",
    "# 定义存储路径\n",
    "# ckpt_dir=\"save/640/\" 、\n",
    "\n",
    "to_saver = tf.train.Saver()  \n",
    "\n",
    "with tf.Session() as sess:  \n",
    "    saver = tf.train.import_meta_graph('save/640/LeNet.ckpt.meta')\n",
    "    saver.restore(sess, 'save/640/LeNet.ckpt') \n",
    "    \n",
    "    for step in range(1000): \n",
    "        for batch in range(100):\n",
    "            x_train, y_train = mnist.train.next_batch(batch_size=100)\n",
    "            sess.run(train, feed_dict = {x:x_train, y:y_train})\n",
    "            \n",
    "        x_test = mnist.test.images\n",
    "        y_test = mnist.test.labels\n",
    "        this_loss, acc = sess.run([loss, accuracy], feed_dict = {x:x_test, y:y_test})\n",
    "        print('step:', step, 'loss:', this_loss, 'accuracy:', acc)  \n",
    "        to_saver.save(sess, \"save/640/LeNet.ckpt\")\n",
    "        \n",
    "        \n",
    "    print(\"OK\")"
   ]
  },
  {
   "cell_type": "raw",
   "metadata": {},
   "source": [
    "学习率 0.001\n",
    "\n",
    "n_batch = 100\n",
    "batch_size = 100\n",
    "\n",
    "BG\n",
    "step: 0 loss: 1.6588713 accuracy: 0.8214\n",
    "step: 1 loss: 1.6011307 accuracy: 0.8639\n",
    "step: 2 loss: 1.5988811 accuracy: 0.8639\n",
    "step: 3 loss: 1.5913715 accuracy: 0.8718\n",
    "step: 4 loss: 1.5889313 accuracy: 0.872\n",
    "step: 5 loss: 1.5823203 accuracy: 0.8797\n",
    "step: 6 loss: 1.583297 accuracy: 0.8777\n",
    "step: 7 loss: 1.5802037 accuracy: 0.88\n",
    "step: 8 loss: 1.5766307 accuracy: 0.8837\n",
    "step: 9 loss: 1.5781043 accuracy: 0.8827\n",
    "step: 10 loss: 1.5795867 accuracy: 0.8807\n",
    "step: 11 loss: 1.5745629 accuracy: 0.8852\n",
    "step: 12 loss: 1.5756388 accuracy: 0.8845\n",
    "step: 13 loss: 1.5736843 accuracy: 0.8865\n",
    "step: 14 loss: 1.4869107 accuracy: 0.9772\n",
    "step: 15 loss: 1.48414 accuracy: 0.978\n",
    "step: 16 loss: 1.4818015 accuracy: 0.9804\n",
    "step: 17 loss: 1.4841199 accuracy: 0.9789\n",
    "step: 18 loss: 1.4780576 accuracy: 0.9835\n",
    "step: 19 loss: 1.4792172 accuracy: 0.9831\n",
    "step: 20 loss: 1.4766148 accuracy: 0.9854\n",
    "OK"
   ]
  },
  {
   "cell_type": "code",
   "execution_count": null,
   "metadata": {},
   "outputs": [],
   "source": []
  },
  {
   "cell_type": "code",
   "execution_count": null,
   "metadata": {},
   "outputs": [],
   "source": []
  },
  {
   "cell_type": "code",
   "execution_count": null,
   "metadata": {},
   "outputs": [],
   "source": []
  },
  {
   "cell_type": "code",
   "execution_count": null,
   "metadata": {},
   "outputs": [],
   "source": []
  },
  {
   "cell_type": "code",
   "execution_count": null,
   "metadata": {},
   "outputs": [],
   "source": []
  },
  {
   "cell_type": "code",
   "execution_count": null,
   "metadata": {},
   "outputs": [],
   "source": []
  },
  {
   "cell_type": "code",
   "execution_count": null,
   "metadata": {},
   "outputs": [],
   "source": []
  },
  {
   "cell_type": "code",
   "execution_count": null,
   "metadata": {},
   "outputs": [],
   "source": []
  }
 ],
 "metadata": {
  "kernelspec": {
   "display_name": "Python 3",
   "language": "python",
   "name": "python3"
  },
  "language_info": {
   "codemirror_mode": {
    "name": "ipython",
    "version": 3
   },
   "file_extension": ".py",
   "mimetype": "text/x-python",
   "name": "python",
   "nbconvert_exporter": "python",
   "pygments_lexer": "ipython3",
   "version": "3.7.0"
  },
  "toc": {
   "base_numbering": 1,
   "nav_menu": {},
   "number_sections": true,
   "sideBar": true,
   "skip_h1_title": false,
   "title_cell": "Table of Contents",
   "title_sidebar": "Contents",
   "toc_cell": false,
   "toc_position": {},
   "toc_section_display": true,
   "toc_window_display": false
  }
 },
 "nbformat": 4,
 "nbformat_minor": 2
}
