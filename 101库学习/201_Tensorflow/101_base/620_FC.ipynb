{
 "cells": [
  {
   "cell_type": "code",
   "execution_count": 2,
   "metadata": {},
   "outputs": [],
   "source": [
    "import tensorflow as tf"
   ]
  },
  {
   "cell_type": "code",
   "execution_count": 5,
   "metadata": {},
   "outputs": [],
   "source": [
    "class FC_Layer(object):\n",
    "    def __init__(self, x, in_size, out_size, W=None, b=None, activation = tf.nn.sigmoid, keep_prob=1.0):\n",
    "        \"\"\"\n",
    "        x: 输入x数据\n",
    "        in_size: 输入大小\n",
    "        out_size:输出大小\n",
    "        W: w参数\n",
    "        b:偏置参数\n",
    "        activation: 激活函数\n",
    "        keep_prob:保持活跃神经元比例\n",
    "        \"\"\"\n",
    "        self.x = x\n",
    "        self.in_size = in_size\n",
    "        self.out_size = out_size\n",
    "        self.activation = activation\n",
    "        \n",
    "        if W is None:\n",
    "            W = self.__get_w_variable(in_size=self.in_size , out_size=self.out_size)\n",
    "        if b is None:\n",
    "            b = self.__get_b_variable(out_size=self.out_size)\n",
    "        self.params = [self.W, self.b]\n",
    "         \n",
    "    \n",
    "    def __get_w_variable(self, in_size, out_size):\n",
    "        return tf.Variable(tf.truncated_normal(shape = [in_size, out_size], stddev = 0.1))\n",
    "    \n",
    "    def __get_b_variable(self, out_size):\n",
    "        return tf.Variable(tf.constant(0.1, shape = [out_size]))\n",
    "     \n",
    "    def output(self):\n",
    "        x_plus_b = tf.matmul(self.x, self.W) + self.b\n",
    "        if self.activation:\n",
    "            return self.activation(x_plus_b)\n",
    "        else:\n",
    "            return x_plus_b"
   ]
  },
  {
   "cell_type": "code",
   "execution_count": null,
   "metadata": {},
   "outputs": [],
   "source": [
    "class MLP(object):\n",
    "    def __init__(self, x, in_size, heidden_layers, activations, keep_probs=None):\n",
    "        \n",
    "        assert len(layers_sizes) >= 1\n",
    "        assert len(layers_sizes) == len(activations)\n",
    "          \n",
    "        if keep_probs is None:\n",
    "            keep_probs = []\n",
    "            \n",
    "        self.x = x\n",
    "        self.heidden_layers = heidden_layers\n",
    "        self.layers = []\n",
    "        self.in_size = in_size\n",
    "        \n",
    "        self.activations = activations\n",
    "        self.keep_probs = keep_probs\n",
    "        \n",
    "        for indx in range(self.heidden_layers):\n",
    "            if i == 0:\n",
    "                input_size = self.in_size\n",
    "                output_size = \n",
    "            \n",
    "        \n",
    "        \n",
    "        \n",
    "        \n",
    "        \n",
    "    "
   ]
  }
 ],
 "metadata": {
  "kernelspec": {
   "display_name": "Python 3",
   "language": "python",
   "name": "python3"
  },
  "language_info": {
   "codemirror_mode": {
    "name": "ipython",
    "version": 3
   },
   "file_extension": ".py",
   "mimetype": "text/x-python",
   "name": "python",
   "nbconvert_exporter": "python",
   "pygments_lexer": "ipython3",
   "version": "3.7.0"
  },
  "toc": {
   "base_numbering": 1,
   "nav_menu": {},
   "number_sections": true,
   "sideBar": true,
   "skip_h1_title": false,
   "title_cell": "Table of Contents",
   "title_sidebar": "Contents",
   "toc_cell": false,
   "toc_position": {},
   "toc_section_display": true,
   "toc_window_display": false
  }
 },
 "nbformat": 4,
 "nbformat_minor": 2
}
