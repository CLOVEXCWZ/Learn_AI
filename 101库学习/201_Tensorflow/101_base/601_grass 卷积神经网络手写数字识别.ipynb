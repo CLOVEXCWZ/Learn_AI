{
 "cells": [
  {
   "cell_type": "code",
   "execution_count": 46,
   "metadata": {},
   "outputs": [],
   "source": [
    "import tensorflow as tf\n",
    "from tensorflow.examples.tutorials.mnist import input_data"
   ]
  },
  {
   "cell_type": "code",
   "execution_count": 47,
   "metadata": {
    "scrolled": false
   },
   "outputs": [
    {
     "name": "stdout",
     "output_type": "stream",
     "text": [
      "Extracting ./data/MNIST_data/train-images-idx3-ubyte.gz\n",
      "Extracting ./data/MNIST_data/train-labels-idx1-ubyte.gz\n",
      "Extracting ./data/MNIST_data/t10k-images-idx3-ubyte.gz\n",
      "Extracting ./data/MNIST_data/t10k-labels-idx1-ubyte.gz\n"
     ]
    }
   ],
   "source": [
    "mnist_base_path=\"/Users/zhouwencheng/Desktop/Grass/data/picture/mnist\"\n",
    "# 载入数据集\n",
    "mnist = input_data.read_data_sets(mnist_base_path, one_hot=True)"
   ]
  },
  {
   "cell_type": "code",
   "execution_count": 48,
   "metadata": {},
   "outputs": [],
   "source": [
    "# 每个批次的大小\n",
    "batch_size = 100\n",
    "# 计算一共有多少个批次 (550)\n",
    "n_batch = mnist.train.num_examples // batch_size\n",
    "n_batch = 100"
   ]
  },
  {
   "cell_type": "code",
   "execution_count": 49,
   "metadata": {},
   "outputs": [],
   "source": [
    "def add_fc_layer(x_input, in_size, out_size, activator_func):\n",
    "    W = tf.Variable(tf.truncated_normal(shape=[in_size, out_size], stddev=0.1))\n",
    "    b = tf.Variable(tf.constant(0.1, shape=[out_size]))\n",
    "    w_plus_b = tf.matmul(x_input, W) + b\n",
    "    if activator_func:\n",
    "        return activator_func(w_plus_b)\n",
    "    else:\n",
    "        return w_plus_b"
   ]
  },
  {
   "cell_type": "code",
   "execution_count": 50,
   "metadata": {},
   "outputs": [],
   "source": [
    "def add_conv_layer(input_fm, in_channel, out_channel, k_size, k_stride, activator_func):\n",
    "    W = tf.Variable(tf.truncated_normal(shape=[k_size, k_size, in_channel, out_channel], stddev=0.1))\n",
    "    b = tf.Variable(tf.constant(0.1, shape=[out_channel]))\n",
    "    w_conv_2d = tf.nn.conv2d(input_fm, W, strides=[1, k_stride, k_stride, 1], padding='SAME') + b\n",
    "    if activator_func:\n",
    "        return activator_func(w_conv_2d)\n",
    "    else:\n",
    "        return w_conv_2d"
   ]
  },
  {
   "cell_type": "code",
   "execution_count": 51,
   "metadata": {},
   "outputs": [],
   "source": [
    "def add_pool_layer(input_fm, k_size, k_stride):\n",
    "    return tf.nn.max_pool(input_fm, ksize=[1, k_size, k_size, 1], strides=[1, k_stride, k_stride, 1], padding='SAME')"
   ]
  },
  {
   "cell_type": "code",
   "execution_count": null,
   "metadata": {},
   "outputs": [
    {
     "name": "stdout",
     "output_type": "stream",
     "text": [
      "BG\n"
     ]
    }
   ],
   "source": [
    "x = tf.placeholder(tf.float32, shape=[None, 28, 28, 1])\n",
    "y = tf.placeholder(tf.float32, [None, 10]) \n",
    "\n",
    "h_conv1 = add_conv_layer(x, 1, 32, 5, 1, tf.nn.relu)\n",
    "h_pool1 = add_pool_layer(h_conv1, 2, 2)\n",
    "\n",
    "h_conv2 = add_conv_layer(h_pool1, 32, 64, 5, 1, tf.nn.relu)\n",
    "h_pool2 = add_pool_layer(h_conv2, 2, 2)\n",
    "\n",
    "h_pool2_flat = tf.reshape(h_pool2, [-1, 7*7*64])\n",
    "\n",
    "fc1 = add_fc_layer(h_pool2_flat, 7*7*64, 512, tf.nn.relu) \n",
    "prediction = add_fc_layer(fc1, 512, 10, tf.nn.softmax) \n",
    "\n",
    "# 交叉熵\n",
    "loss = tf.reduce_mean(tf.nn.softmax_cross_entropy_with_logits(labels = y, logits = prediction))\n",
    "train_step = tf.train.AdamOptimizer(1e-4).minimize(loss)\n",
    "\n",
    "# 结果放在一个布尔型列表中\n",
    "correct_prediction = tf.equal(tf.arg_max(y, 1), tf.arg_max(prediction, 1))\n",
    "# 求准确率\n",
    "accuracy = tf.reduce_mean(tf.cast(correct_prediction, tf.float32))\n",
    "\n",
    "print('BG')\n",
    "with tf.Session() as sess:\n",
    "    sess.run(tf.global_variables_initializer())\n",
    "    for epoch in range(21):\n",
    "        for batch in range(n_batch):\n",
    "            batch_xs, batch_ys = mnist.train.next_batch(batch_size)\n",
    "            batch_xs = batch_xs.reshape([-1, 28, 28, 1])\n",
    "            \n",
    "            sess.run(train_step, feed_dict = {x:batch_xs, y:batch_ys})\n",
    "        x_test = mnist.test.images\n",
    "        y_test = mnist.test.labels\n",
    "        x_test = x_test.reshape([-1, 28, 28, 1])\n",
    "        acc = sess.run(accuracy, feed_dict = {x:x_test, y:y_test})\n",
    "        print('accuracy:', acc)\n",
    "print('OK')"
   ]
  },
  {
   "cell_type": "code",
   "execution_count": null,
   "metadata": {},
   "outputs": [],
   "source": [
    "import tensorflow as tf\n",
    "from tensorflow.examples.tutorials.mnist import input_data\n",
    "# 载入数据集\n",
    "mnist = input_data.read_data_sets('./data/MNIST_data', one_hot=True)\n",
    "# 每个批次的大小\n",
    "batch_size = 100\n",
    "# 计算一共有多少个批次 (550)\n",
    "n_batch = mnist.train.num_examples // batch_size\n",
    "n_batch = 100\n",
    "\n",
    "def add_fc_layer(x_input, in_size, out_size, activator_func):\n",
    "    W = tf.Variable(tf.truncated_normal(shape=[in_size, out_size], stddev=0.1))\n",
    "    b = tf.Variable(tf.constant(0.1, shape=[out_size]))\n",
    "    w_plus_b = tf.matmul(x_input, W) + b\n",
    "    if activator_func:\n",
    "        return activator_func(w_plus_b)\n",
    "    else:\n",
    "        return w_plus_b\n",
    "    \n",
    "def add_conv_layer(input_fm, in_channel, out_channel, k_size, k_stride, activator_func):\n",
    "    W = tf.Variable(tf.truncated_normal(shape=[k_size, k_size, in_channel, out_channel], stddev=0.1))\n",
    "    b = tf.Variable(tf.constant(0.1, shape=[out_channel]))\n",
    "    w_conv_2d = tf.nn.conv2d(input_fm, W, strides=[1, k_stride, k_stride, 1], padding='SAME') + b\n",
    "    if activator_func:\n",
    "        return activator_func(w_conv_2d)\n",
    "    else:\n",
    "        return w_conv_2d\n",
    "    \n",
    "def add_pool_layer(input_fm, k_size, k_stride):\n",
    "    return tf.nn.max_pool(input_fm, ksize=[1, k_size, k_size, 1], strides=[1, k_stride, k_stride, 1], padding='SAME')\n",
    "\n",
    "x = tf.placeholder(tf.float32, shape=[None, 28, 28, 1])\n",
    "y = tf.placeholder(tf.float32, [None, 10]) \n",
    "\n",
    "h_conv1 = add_conv_layer(x, 1, 6, 5, 1, tf.nn.relu)\n",
    "h_pool1 = add_pool_layer(h_conv1, 2, 2)\n",
    "\n",
    "h_conv2 = add_conv_layer(h_pool1, 6, 16, 5, 1, tf.nn.relu)\n",
    "h_pool2 = add_pool_layer(h_conv2, 2, 2)\n",
    "\n",
    "h_pool2_flat = tf.reshape(h_pool2, [-1, 7*7*16])\n",
    "\n",
    "fc1 = add_cf_layer(h_pool2_flat, 7*7*16, 120, tf.nn.relu) \n",
    "prediction = add_fc_layer(fc1, 120, 10, tf.nn.softmax) \n",
    "\n",
    "# 交叉熵\n",
    "loss = tf.reduce_mean(tf.nn.softmax_cross_entropy_with_logits(labels = y, logits = prediction))\n",
    "train_step = tf.train.AdamOptimizer(1e-4).minimize(loss)\n",
    "\n",
    "# 结果放在一个布尔型列表中\n",
    "correct_prediction = tf.equal(tf.arg_max(y, 1), tf.arg_max(prediction, 1))\n",
    "# 求准确率\n",
    "accuracy = tf.reduce_mean(tf.cast(correct_prediction, tf.float32))\n",
    "\n",
    "print('BG')\n",
    "with tf.Session() as sess:\n",
    "    sess.run(tf.global_variables_initializer())\n",
    "    for epoch in range(21):\n",
    "        for batch in range(n_batch):\n",
    "            batch_xs, batch_ys = mnist.train.next_batch(batch_size)\n",
    "            batch_xs = batch_xs.reshape([-1, 28, 28, 1])\n",
    "            \n",
    "            sess.run(train_step, feed_dict = {x:batch_xs, y:batch_ys})\n",
    "        x_test = mnist.test.images\n",
    "        y_test = mnist.test.labels\n",
    "        x_test = x_test.reshape([-1, 28, 28, 1])\n",
    "        acc = sess.run(accuracy, feed_dict = {x:x_test, y:y_test})\n",
    "        print('accuracy:', acc)\n",
    "print('OK')"
   ]
  },
  {
   "cell_type": "markdown",
   "metadata": {},
   "source": [
    "# \n",
    "\n",
    "accuracy: 0.3541\n",
    "accuracy: 0.5498\n",
    "accuracy: 0.6867\n",
    "accuracy: 0.7227\n",
    "\n",
    "BG\n",
    "accuracy: 0.1723\n",
    "accuracy: 0.2862\n",
    "accuracy: 0.4121\n",
    "accuracy: 0.5157\n",
    "accuracy: 0.5757\n",
    "accuracy: 0.6048\n",
    "accuracy: 0.6188\n",
    "accuracy: 0.6424"
   ]
  },
  {
   "cell_type": "code",
   "execution_count": null,
   "metadata": {},
   "outputs": [],
   "source": []
  }
 ],
 "metadata": {
  "kernelspec": {
   "display_name": "Python 3",
   "language": "python",
   "name": "python3"
  },
  "language_info": {
   "codemirror_mode": {
    "name": "ipython",
    "version": 3
   },
   "file_extension": ".py",
   "mimetype": "text/x-python",
   "name": "python",
   "nbconvert_exporter": "python",
   "pygments_lexer": "ipython3",
   "version": "3.7.0"
  },
  "toc": {
   "base_numbering": 1,
   "nav_menu": {},
   "number_sections": true,
   "sideBar": true,
   "skip_h1_title": false,
   "title_cell": "Table of Contents",
   "title_sidebar": "Contents",
   "toc_cell": false,
   "toc_position": {},
   "toc_section_display": true,
   "toc_window_display": false
  }
 },
 "nbformat": 4,
 "nbformat_minor": 2
}
