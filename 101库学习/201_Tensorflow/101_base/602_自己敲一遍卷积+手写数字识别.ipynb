{
 "cells": [
  {
   "cell_type": "code",
   "execution_count": 1,
   "metadata": {},
   "outputs": [],
   "source": [
    "import tensorflow as tf\n",
    "from tensorflow.examples.tutorials.mnist import input_data"
   ]
  },
  {
   "cell_type": "code",
   "execution_count": 2,
   "metadata": {},
   "outputs": [
    {
     "name": "stdout",
     "output_type": "stream",
     "text": [
      "WARNING:tensorflow:From <ipython-input-2-aa12db7df73f>:2: read_data_sets (from tensorflow.contrib.learn.python.learn.datasets.mnist) is deprecated and will be removed in a future version.\n",
      "Instructions for updating:\n",
      "Please use alternatives such as official/mnist/dataset.py from tensorflow/models.\n",
      "WARNING:tensorflow:From /Users/zhouwencheng/Desktop/Grass/02Study/02PythonEnv/1env2/lib/python3.7/site-packages/tensorflow/contrib/learn/python/learn/datasets/mnist.py:260: maybe_download (from tensorflow.contrib.learn.python.learn.datasets.base) is deprecated and will be removed in a future version.\n",
      "Instructions for updating:\n",
      "Please write your own downloading logic.\n",
      "WARNING:tensorflow:From /Users/zhouwencheng/Desktop/Grass/02Study/02PythonEnv/1env2/lib/python3.7/site-packages/tensorflow/contrib/learn/python/learn/datasets/mnist.py:262: extract_images (from tensorflow.contrib.learn.python.learn.datasets.mnist) is deprecated and will be removed in a future version.\n",
      "Instructions for updating:\n",
      "Please use tf.data to implement this functionality.\n",
      "Extracting ./data/MNIST_data/train-images-idx3-ubyte.gz\n",
      "WARNING:tensorflow:From /Users/zhouwencheng/Desktop/Grass/02Study/02PythonEnv/1env2/lib/python3.7/site-packages/tensorflow/contrib/learn/python/learn/datasets/mnist.py:267: extract_labels (from tensorflow.contrib.learn.python.learn.datasets.mnist) is deprecated and will be removed in a future version.\n",
      "Instructions for updating:\n",
      "Please use tf.data to implement this functionality.\n",
      "Extracting ./data/MNIST_data/train-labels-idx1-ubyte.gz\n",
      "WARNING:tensorflow:From /Users/zhouwencheng/Desktop/Grass/02Study/02PythonEnv/1env2/lib/python3.7/site-packages/tensorflow/contrib/learn/python/learn/datasets/mnist.py:110: dense_to_one_hot (from tensorflow.contrib.learn.python.learn.datasets.mnist) is deprecated and will be removed in a future version.\n",
      "Instructions for updating:\n",
      "Please use tf.one_hot on tensors.\n",
      "Extracting ./data/MNIST_data/t10k-images-idx3-ubyte.gz\n",
      "Extracting ./data/MNIST_data/t10k-labels-idx1-ubyte.gz\n",
      "WARNING:tensorflow:From /Users/zhouwencheng/Desktop/Grass/02Study/02PythonEnv/1env2/lib/python3.7/site-packages/tensorflow/contrib/learn/python/learn/datasets/mnist.py:290: DataSet.__init__ (from tensorflow.contrib.learn.python.learn.datasets.mnist) is deprecated and will be removed in a future version.\n",
      "Instructions for updating:\n",
      "Please use alternatives such as official/mnist/dataset.py from tensorflow/models.\n"
     ]
    }
   ],
   "source": [
    "mnist_base_path=\"/Users/zhouwencheng/Desktop/Grass/data/picture/mnist\"\n",
    "# 载入数据集\n",
    "mnist = input_data.read_data_sets(mnist_base_path, one_hot=True)"
   ]
  },
  {
   "cell_type": "code",
   "execution_count": 3,
   "metadata": {},
   "outputs": [],
   "source": [
    "batch_size = 100  # 每批次大小\n",
    "n_batch = mnist.train.num_examples // batch_size  # 每次多少批次\n",
    "n_step = 21  # 总共训练多少轮\n",
    "\n",
    "learn_rate = 1e-4  # 学习率"
   ]
  },
  {
   "cell_type": "code",
   "execution_count": 4,
   "metadata": {},
   "outputs": [],
   "source": [
    "\"\"\"\n",
    "x : 输入的x值\n",
    "in_size : 输入大小\n",
    "out_size: 输出大小 \n",
    "activator_func: 激活函数\n",
    "\"\"\"\n",
    "def add_fc_layer(x, in_size, out_size, activator_func = None):\n",
    "    W = tf.Variable(tf.truncated_normal(shape = [in_size, out_size], stddev = 0.1))\n",
    "    b = tf.Variable(tf.constant(0.1, shape = [out_size]))\n",
    "    mul = tf.matmul(x, W) + b\n",
    "    if activator_func:\n",
    "        return activator_func(mul)\n",
    "    else:\n",
    "        return mul"
   ]
  },
  {
   "cell_type": "code",
   "execution_count": 5,
   "metadata": {},
   "outputs": [],
   "source": [
    "\"\"\"\n",
    "x : 输入的x值\n",
    "in_channel : 输入通道\n",
    "out_channel: 输出通道\n",
    "k_size: 卷积核尺寸\n",
    "k_stride ：步长\n",
    "activator_func: 激活函数\n",
    "\"\"\"\n",
    "def add_conv_layer(x,in_channel, out_channel,  k_size = 5, k_stride = 1, activator_func = None):\n",
    "    W = tf.Variable(tf.truncated_normal(shape= [k_size, k_size, in_channel, out_channel], stddev = 0.1))\n",
    "    b = tf.Variable(tf.constant(0.1, shape=[out_channel]))\n",
    "    conv = tf.nn.conv2d(input = x, filter=W, strides=[1, k_stride, k_stride, 1], padding='SAME') + b\n",
    "    if activator_func:\n",
    "        return activator_func(conv)\n",
    "    else:\n",
    "        return conv"
   ]
  },
  {
   "cell_type": "code",
   "execution_count": 6,
   "metadata": {},
   "outputs": [],
   "source": [
    "\"\"\"\n",
    "x : 输入的x值 \n",
    "k_size: 卷积核尺寸\n",
    "k_stride ：步长 \n",
    "\"\"\"\n",
    "def add_pool_layer(x, k_size = 2, k_stride = 2):\n",
    "    return tf.nn.max_pool(x, ksize=[1, k_size, k_size, 1], strides=[1, k_stride, k_stride, 1], padding='SAME')"
   ]
  },
  {
   "cell_type": "code",
   "execution_count": 8,
   "metadata": {},
   "outputs": [
    {
     "name": "stdout",
     "output_type": "stream",
     "text": [
      "BG\n",
      "step: 0 loss: 0.33819357 accuracy: 0.9083\n",
      "step: 1 loss: 0.23892613 accuracy: 0.9308\n",
      "step: 2 loss: 0.19297439 accuracy: 0.9432\n",
      "step: 3 loss: 0.16542353 accuracy: 0.9503\n"
     ]
    },
    {
     "name": "stderr",
     "output_type": "stream",
     "text": [
      "ERROR:root:Internal Python error in the inspect module.\n",
      "Below is the traceback from this internal error.\n",
      "\n"
     ]
    },
    {
     "name": "stdout",
     "output_type": "stream",
     "text": [
      "Traceback (most recent call last):\n",
      "  File \"/Users/zhouwencheng/Desktop/Grass/02Study/02PythonEnv/1env2/lib/python3.7/site-packages/IPython/core/interactiveshell.py\", line 3296, in run_code\n",
      "    exec(code_obj, self.user_global_ns, self.user_ns)\n",
      "  File \"<ipython-input-8-c01be6e9a972>\", line 34, in <module>\n",
      "    sess.run(train, feed_dict = {x:x_train, y:y_train, rate:0.5})\n",
      "  File \"/Users/zhouwencheng/Desktop/Grass/02Study/02PythonEnv/1env2/lib/python3.7/site-packages/tensorflow/python/client/session.py\", line 929, in run\n",
      "    run_metadata_ptr)\n",
      "  File \"/Users/zhouwencheng/Desktop/Grass/02Study/02PythonEnv/1env2/lib/python3.7/site-packages/tensorflow/python/client/session.py\", line 1152, in _run\n",
      "    feed_dict_tensor, options, run_metadata)\n",
      "  File \"/Users/zhouwencheng/Desktop/Grass/02Study/02PythonEnv/1env2/lib/python3.7/site-packages/tensorflow/python/client/session.py\", line 1328, in _do_run\n",
      "    run_metadata)\n",
      "  File \"/Users/zhouwencheng/Desktop/Grass/02Study/02PythonEnv/1env2/lib/python3.7/site-packages/tensorflow/python/client/session.py\", line 1334, in _do_call\n",
      "    return fn(*args)\n",
      "  File \"/Users/zhouwencheng/Desktop/Grass/02Study/02PythonEnv/1env2/lib/python3.7/site-packages/tensorflow/python/client/session.py\", line 1319, in _run_fn\n",
      "    options, feed_dict, fetch_list, target_list, run_metadata)\n",
      "  File \"/Users/zhouwencheng/Desktop/Grass/02Study/02PythonEnv/1env2/lib/python3.7/site-packages/tensorflow/python/client/session.py\", line 1407, in _call_tf_sessionrun\n",
      "    run_metadata)\n",
      "KeyboardInterrupt\n",
      "\n",
      "During handling of the above exception, another exception occurred:\n",
      "\n",
      "Traceback (most recent call last):\n",
      "  File \"/Users/zhouwencheng/Desktop/Grass/02Study/02PythonEnv/1env2/lib/python3.7/site-packages/IPython/core/interactiveshell.py\", line 2033, in showtraceback\n",
      "    stb = value._render_traceback_()\n",
      "AttributeError: 'KeyboardInterrupt' object has no attribute '_render_traceback_'\n",
      "\n",
      "During handling of the above exception, another exception occurred:\n",
      "\n",
      "Traceback (most recent call last):\n",
      "  File \"/Users/zhouwencheng/Desktop/Grass/02Study/02PythonEnv/1env2/lib/python3.7/site-packages/IPython/core/ultratb.py\", line 1095, in get_records\n",
      "    return _fixed_getinnerframes(etb, number_of_lines_of_context, tb_offset)\n",
      "  File \"/Users/zhouwencheng/Desktop/Grass/02Study/02PythonEnv/1env2/lib/python3.7/site-packages/IPython/core/ultratb.py\", line 313, in wrapped\n",
      "    return f(*args, **kwargs)\n",
      "  File \"/Users/zhouwencheng/Desktop/Grass/02Study/02PythonEnv/1env2/lib/python3.7/site-packages/IPython/core/ultratb.py\", line 347, in _fixed_getinnerframes\n",
      "    records = fix_frame_records_filenames(inspect.getinnerframes(etb, context))\n",
      "  File \"/Users/zhouwencheng/anaconda3/lib/python3.7/inspect.py\", line 1502, in getinnerframes\n",
      "    frameinfo = (tb.tb_frame,) + getframeinfo(tb, context)\n",
      "  File \"/Users/zhouwencheng/anaconda3/lib/python3.7/inspect.py\", line 1460, in getframeinfo\n",
      "    filename = getsourcefile(frame) or getfile(frame)\n",
      "  File \"/Users/zhouwencheng/anaconda3/lib/python3.7/inspect.py\", line 696, in getsourcefile\n",
      "    if getattr(getmodule(object, filename), '__loader__', None) is not None:\n",
      "  File \"/Users/zhouwencheng/anaconda3/lib/python3.7/inspect.py\", line 742, in getmodule\n",
      "    os.path.realpath(f)] = module.__name__\n",
      "  File \"/Users/zhouwencheng/anaconda3/lib/python3.7/posixpath.py\", line 395, in realpath\n",
      "    path, ok = _joinrealpath(filename[:0], filename, {})\n",
      "  File \"/Users/zhouwencheng/anaconda3/lib/python3.7/posixpath.py\", line 429, in _joinrealpath\n",
      "    if not islink(newpath):\n",
      "  File \"/Users/zhouwencheng/anaconda3/lib/python3.7/posixpath.py\", line 171, in islink\n",
      "    st = os.lstat(path)\n",
      "KeyboardInterrupt\n"
     ]
    },
    {
     "ename": "KeyboardInterrupt",
     "evalue": "",
     "output_type": "error",
     "traceback": [
      "\u001b[0;31m---------------------------------------------------------------------------\u001b[0m"
     ]
    }
   ],
   "source": [
    "x = tf.placeholder(dtype=tf.float32, shape=[None, 28*28])\n",
    "y = tf.placeholder(dtype=tf.float32, shape=[None, 10])\n",
    "x_flat = tf.reshape(x, shape=[-1, 28, 28, 1])\n",
    "\n",
    "conv_1 = add_conv_layer(x=x_flat, in_channel=1, out_channel=6, k_size=5, k_stride=1, activator_func=tf.nn.relu) # 28 * 28 * 6\n",
    "pool_1 = add_pool_layer(x=conv_1) # 14 * 14 * 6\n",
    "\n",
    "x_conved_size = 14 * 14 * 6\n",
    "pool_flat = tf.reshape(pool_1, shape=[-1, x_conved_size])\n",
    "\n",
    "fc_1 = add_fc_layer(x=pool_flat, in_size=x_conved_size, out_size=512, activator_func=tf.nn.relu)\n",
    "\n",
    "rate = tf.placeholder(dtype=tf.float32)\n",
    "fc_1_drop = tf.nn.dropout(fc_1, keep_prob=rate)\n",
    "\n",
    "# prediction = add_fc_layer(x=fc_1_drop, in_size=512, out_size=10, activator_func=tf.nn.softmax)\n",
    "prediction = add_fc_layer(x=fc_1_drop, in_size=512, out_size=10, activator_func=None)\n",
    "\n",
    "\n",
    "\n",
    "loss = tf.reduce_mean(tf.nn.softmax_cross_entropy_with_logits(labels=y, logits=prediction))\n",
    "train = tf.train.AdamOptimizer(learning_rate=learn_rate).minimize(loss)\n",
    "\n",
    "correct_prediction = tf.equal(x=tf.math.argmax(y, 1), y=tf.math.argmax(prediction, 1))\n",
    "accuracy = tf.reduce_mean(tf.cast(correct_prediction, dtype = tf.float32))\n",
    "\n",
    "print(\"BG\")\n",
    "with tf.Session() as sess:\n",
    "    sess.run(tf.global_variables_initializer())\n",
    "    \n",
    "    for step in range(n_step): \n",
    "        for batch in range(n_batch):\n",
    "            x_train, y_train = mnist.train.next_batch(batch_size=batch_size)\n",
    "            sess.run(train, feed_dict = {x:x_train, y:y_train, rate:0.5})\n",
    "        x_test = mnist.test.images\n",
    "        y_test = mnist.test.labels\n",
    "        this_loss, acc = sess.run([loss, accuracy], feed_dict = {x:x_test, y:y_test, rate:1.0})\n",
    "        print('step:', step, 'loss:', this_loss, 'accuracy:', acc)\n",
    "        \n",
    "    print(\"OK\")\n"
   ]
  },
  {
   "cell_type": "raw",
   "metadata": {},
   "source": [
    "网络结构 卷积网络 + 全连接网络\n",
    "\n",
    "conv      : => filter = [1, 5, 5, 1]  strides = [1, 1, 1, 1]  in_channel = 1 out_channel = 6  => [-1, 28, 28, 6]\n",
    "max_pool: =>ksize = [1, 2, 2, 1] strides = [1, 2, 2, 1]   => [-1, 14, 14, 6]\n",
    "pool_flat :=> [-1, 14 * 14 * 6]  # 数据拉平\n",
    "fc_1       : => in_size = 14 * 14 *6  out_size = 512\n",
    "drop_out: => train: drop_prob = 0.7   test:drop_prob = 1.0\n",
    "fc_2(output): => in_size = 512   out_size = 10\n",
    "\n",
    "训练\n",
    "\n",
    "学习率 1e-4\n",
    "每次样本数(bath_size) = 100\n",
    "每一次训练多少次(n_batch) = 550  （训练集数量 / 每次样本数）\n",
    "训练周期 (n_step) = 21\n",
    "\n",
    "BG\n",
    "step: 0 loss: 1.5870984 accuracy: 0.9081\n",
    "step: 1 loss: 1.539296 accuracy: 0.9349\n",
    "step: 2 loss: 1.5243804 accuracy: 0.9462\n",
    "step: 3 loss: 1.5129666 accuracy: 0.9555\n",
    "step: 4 loss: 1.5075336 accuracy: 0.9588\n",
    "step: 5 loss: 1.5015594 accuracy: 0.9652\n",
    "step: 6 loss: 1.4978644 accuracy: 0.968\n",
    "step: 7 loss: 1.4952092 accuracy: 0.9694\n",
    "step: 8 loss: 1.492352 accuracy: 0.9726\n",
    "step: 9 loss: 1.4900703 accuracy: 0.9749\n",
    "step: 10 loss: 1.4888809 accuracy: 0.9752\n",
    "step: 11 loss: 1.4872283 accuracy: 0.9763\n",
    "step: 12 loss: 1.486107 accuracy: 0.9772\n",
    "step: 13 loss: 1.4854561 accuracy: 0.9779\n",
    "step: 14 loss: 1.4842477 accuracy: 0.9787\n",
    "step: 15 loss: 1.4837078 accuracy: 0.9798\n",
    "step: 16 loss: 1.4821949 accuracy: 0.9811\n",
    "step: 17 loss: 1.4820557 accuracy: 0.9805\n",
    "step: 18 loss: 1.4810923 accuracy: 0.9813\n",
    "step: 19 loss: 1.4806545 accuracy: 0.9823\n",
    "step: 20 loss: 1.4801508 accuracy: 0.9826\n",
    "OK\n",
    "    "
   ]
  }
 ],
 "metadata": {
  "kernelspec": {
   "display_name": "Python 3",
   "language": "python",
   "name": "python3"
  },
  "language_info": {
   "codemirror_mode": {
    "name": "ipython",
    "version": 3
   },
   "file_extension": ".py",
   "mimetype": "text/x-python",
   "name": "python",
   "nbconvert_exporter": "python",
   "pygments_lexer": "ipython3",
   "version": "3.7.0"
  },
  "toc": {
   "base_numbering": 1,
   "nav_menu": {},
   "number_sections": true,
   "sideBar": true,
   "skip_h1_title": false,
   "title_cell": "Table of Contents",
   "title_sidebar": "Contents",
   "toc_cell": false,
   "toc_position": {},
   "toc_section_display": true,
   "toc_window_display": false
  }
 },
 "nbformat": 4,
 "nbformat_minor": 2
}
