{
 "cells": [
  {
   "cell_type": "code",
   "execution_count": 2,
   "metadata": {},
   "outputs": [],
   "source": [
    "import tensorflow as tf\n",
    "from tensorflow.examples.tutorials.mnist import input_data"
   ]
  },
  {
   "cell_type": "code",
   "execution_count": 4,
   "metadata": {},
   "outputs": [
    {
     "name": "stdout",
     "output_type": "stream",
     "text": [
      "Extracting ./data/MNIST_data/train-images-idx3-ubyte.gz\n",
      "Extracting ./data/MNIST_data/train-labels-idx1-ubyte.gz\n",
      "Extracting ./data/MNIST_data/t10k-images-idx3-ubyte.gz\n",
      "Extracting ./data/MNIST_data/t10k-labels-idx1-ubyte.gz\n"
     ]
    }
   ],
   "source": [
    "mnist_base_path=\"/Users/zhouwencheng/Desktop/Grass/data/picture/mnist\"\n",
    "# 载入数据集\n",
    "mnist = input_data.read_data_sets(mnist_base_path, one_hot=True)"
   ]
  },
  {
   "cell_type": "code",
   "execution_count": 17,
   "metadata": {},
   "outputs": [
    {
     "name": "stdout",
     "output_type": "stream",
     "text": [
      "accuracy: 0.9091  train acc: 0.90154546\n",
      "accuracy: 0.9221  train acc: 0.9200909\n",
      "accuracy: 0.9307  train acc: 0.92938185\n",
      "accuracy: 0.9361  train acc: 0.93683636\n",
      "accuracy: 0.9398  train acc: 0.9411455\n",
      "accuracy: 0.9434  train acc: 0.94574547\n",
      "accuracy: 0.9446  train acc: 0.9491818\n",
      "accuracy: 0.947  train acc: 0.9518545\n",
      "accuracy: 0.9502  train acc: 0.9538182\n",
      "accuracy: 0.951  train acc: 0.95594543\n",
      "accuracy: 0.9525  train acc: 0.9578909\n",
      "accuracy: 0.9564  train acc: 0.9604727\n",
      "accuracy: 0.9562  train acc: 0.9620182\n",
      "accuracy: 0.9573  train acc: 0.9632909\n",
      "accuracy: 0.959  train acc: 0.9650364\n",
      "accuracy: 0.9589  train acc: 0.9653091\n",
      "accuracy: 0.9601  train acc: 0.9670727\n",
      "accuracy: 0.9615  train acc: 0.96834546\n",
      "accuracy: 0.9621  train acc: 0.96903634\n",
      "accuracy: 0.9606  train acc: 0.96863633\n",
      "accuracy: 0.9642  train acc: 0.97163635\n"
     ]
    },
    {
     "data": {
      "text/plain": [
       "550"
      ]
     },
     "execution_count": 17,
     "metadata": {},
     "output_type": "execute_result"
    }
   ],
   "source": [
    "# 每个批次的大小\n",
    "batch_size = 100\n",
    "# 计算一共有多少个批次 (550)\n",
    "n_batch = mnist.train.num_examples // batch_size\n",
    "\n",
    "# 定义两个 placeholder\n",
    "x = tf.placeholder(tf.float32, [None, 784])\n",
    "y = tf.placeholder(tf.float32, [None, 10])\n",
    "keep_prob = tf.placeholder(tf.float32)\n",
    "\n",
    "# 创建一个简单的神经网络\n",
    "W1 = tf.Variable(tf.truncated_normal([784, 200], stddev = 0.1))\n",
    "b1 = tf.Variable(tf.zeros([200]) + 0.1)\n",
    "L1 = tf.nn.tanh(tf.matmul(x, W1) + b1)\n",
    "L1_drop = tf.nn.dropout(L1, keep_prob)\n",
    "\n",
    "W2 = tf.Variable(tf.truncated_normal([200, 200], stddev = 0.1))\n",
    "b2 = tf.Variable(tf.zeros([200]) + 0.1)\n",
    "L2 = tf.nn.tanh(tf.matmul(L1_drop, W2) + b2)\n",
    "L2_drop = tf.nn.dropout(L2, keep_prob)\n",
    "\n",
    "W3 = tf.Variable(tf.truncated_normal([200, 100], stddev = 0.1))\n",
    "b3 = tf.Variable(tf.zeros([100]) + 0.1)\n",
    "L3 = tf.nn.tanh(tf.matmul(L2_drop, W3) + b3)\n",
    "L3_drop = tf.nn.dropout(L3, keep_prob)\n",
    "\n",
    "W4 = tf.Variable(tf.truncated_normal([100, 10], stddev = 0.1))\n",
    "b4 = tf.Variable(tf.zeros([10]) + 0.1)\n",
    "prediction = tf.nn.softmax(tf.matmul(L3_drop, W4) + b4)\n",
    "\n",
    "# 定义 二次代价函数\n",
    "# loss = tf.reduce_mean(tf.square(y - prediction))\n",
    "# 使用交叉熵\n",
    "loss = tf.reduce_mean(tf.nn.softmax_cross_entropy_with_logits(labels = y, logits = prediction))\n",
    "\n",
    "# 使用梯度下降法\n",
    "train_step = tf.train.GradientDescentOptimizer(0.2).minimize(loss)\n",
    "# 初始化变量\n",
    "init = tf.global_variables_initializer()\n",
    "\n",
    "# 结果放在一个布尔型列表中\n",
    "correct_prediction = tf.equal(tf.arg_max(y, 1), tf.arg_max(prediction, 1))\n",
    "# 求准确率\n",
    "accuracy = tf.reduce_mean(tf.cast(correct_prediction, tf.float32))\n",
    "\n",
    "with tf.Session() as sess:\n",
    "    sess.run(init)\n",
    "    for epoch in range(21):\n",
    "        for batch in range(n_batch):\n",
    "            batch_xs, batch_ys = mnist.train.next_batch(batch_size)\n",
    "            sess.run(train_step, feed_dict = {x:batch_xs, y:batch_ys, keep_prob:0.8})\n",
    "        acc = sess.run(accuracy, feed_dict = {x:mnist.test.images, y:mnist.test.labels, keep_prob:1.0})\n",
    "        acc1 = sess.run(accuracy, feed_dict = {x:mnist.train.images, y:mnist.train.labels, keep_prob:1.0})\n",
    "        print('accuracy:', acc, ' train acc:', acc1)\n",
    "            \n",
    "\n",
    "\n",
    "n_batch"
   ]
  },
  {
   "cell_type": "markdown",
   "metadata": {},
   "source": [
    "\n",
    "\n",
    "    drop = 1.0\n",
    "\n",
    "    accuracy: 0.9186  train acc: 0.91456366\n",
    "    accuracy: 0.9351  train acc: 0.9356545\n",
    "    accuracy: 0.9434  train acc: 0.9452364\n",
    "    accuracy: 0.95  train acc: 0.9541091\n",
    "    accuracy: 0.9538  train acc: 0.9592182\n",
    "    accuracy: 0.9566  train acc: 0.96352726\n",
    "    accuracy: 0.9578  train acc: 0.96738183\n",
    "    accuracy: 0.9625  train acc: 0.96901816\n",
    "    accuracy: 0.9637  train acc: 0.9735818\n",
    "    accuracy: 0.9653  train acc: 0.9751818\n",
    "    accuracy: 0.9664  train acc: 0.9776\n",
    "    accuracy: 0.9681  train acc: 0.97967273\n",
    "    accuracy: 0.9679  train acc: 0.9803454\n",
    "    accuracy: 0.9691  train acc: 0.982\n",
    "    accuracy: 0.9678  train acc: 0.98267275\n",
    "    accuracy: 0.9694  train acc: 0.98434544\n",
    "    accuracy: 0.9705  train acc: 0.9843818\n",
    "    accuracy: 0.9713  train acc: 0.98585457\n",
    "    accuracy: 0.9711  train acc: 0.985\n",
    "    accuracy: 0.9721  train acc: 0.98701817\n",
    "    accuracy: 0.9729  train acc: 0.98767275\n"
   ]
  },
  {
   "cell_type": "code",
   "execution_count": null,
   "metadata": {},
   "outputs": [],
   "source": []
  },
  {
   "cell_type": "code",
   "execution_count": null,
   "metadata": {},
   "outputs": [],
   "source": []
  }
 ],
 "metadata": {
  "kernelspec": {
   "display_name": "Python 3",
   "language": "python",
   "name": "python3"
  },
  "language_info": {
   "codemirror_mode": {
    "name": "ipython",
    "version": 3
   },
   "file_extension": ".py",
   "mimetype": "text/x-python",
   "name": "python",
   "nbconvert_exporter": "python",
   "pygments_lexer": "ipython3",
   "version": "3.7.0"
  },
  "toc": {
   "base_numbering": 1,
   "nav_menu": {},
   "number_sections": true,
   "sideBar": true,
   "skip_h1_title": false,
   "title_cell": "Table of Contents",
   "title_sidebar": "Contents",
   "toc_cell": false,
   "toc_position": {},
   "toc_section_display": true,
   "toc_window_display": false
  }
 },
 "nbformat": 4,
 "nbformat_minor": 2
}
