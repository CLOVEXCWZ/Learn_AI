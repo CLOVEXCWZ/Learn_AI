{
 "cells": [
  {
   "cell_type": "code",
   "execution_count": 1,
   "metadata": {},
   "outputs": [],
   "source": [
    "import tensorflow as tf\n",
    "import numpy as np"
   ]
  },
  {
   "cell_type": "code",
   "execution_count": 6,
   "metadata": {},
   "outputs": [
    {
     "name": "stdout",
     "output_type": "stream",
     "text": [
      "0 [0.42236984, 0.17520994]\n",
      "20 [0.2633863, 0.108337425]\n",
      "40 [0.2043695, 0.14144684]\n",
      "60 [0.16667019, 0.16259682]\n",
      "80 [0.14258824, 0.17610723]\n",
      "100 [0.12720494, 0.18473753]\n",
      "120 [0.11737825, 0.19025049]\n",
      "140 [0.11110105, 0.1937721]\n",
      "160 [0.107091226, 0.19602169]\n",
      "180 [0.10452981, 0.1974587]\n",
      "200 [0.10289359, 0.19837666]\n"
     ]
    }
   ],
   "source": [
    "# 使用numpy 生产100个随机点\n",
    "\n",
    "x_data = np.random.rand(100)\n",
    "y_data = x_data * 0.1 + 0.2\n",
    "\n",
    "# 构造一个线性模型\n",
    "b = tf.Variable(.3)\n",
    "k = tf.Variable(0.5)\n",
    "y = k * x_data + b\n",
    "\n",
    "# 二次代价函数\n",
    "loss = tf.reduce_mean(tf.square(y_data - y))\n",
    "# 定义一个梯度下降法 进行训练的优化器\n",
    "optimazer = tf.train.GradientDescentOptimizer(0.2)\n",
    "# 定义一个最小化代价函数\n",
    "train = optimazer.minimize(loss)\n",
    "\n",
    "# 初始化变量\n",
    "init = tf.global_variables_initializer()\n",
    "\n",
    "with tf.Session() as sess:\n",
    "    sess.run(init)\n",
    "    \n",
    "    for step in range(201):\n",
    "        sess.run(train)\n",
    "        if step%20 == 0:\n",
    "            print(step, sess.run([k, b]))\n",
    "        \n",
    "\n"
   ]
  }
 ],
 "metadata": {
  "kernelspec": {
   "display_name": "Python 3",
   "language": "python",
   "name": "python3"
  },
  "language_info": {
   "codemirror_mode": {
    "name": "ipython",
    "version": 3
   },
   "file_extension": ".py",
   "mimetype": "text/x-python",
   "name": "python",
   "nbconvert_exporter": "python",
   "pygments_lexer": "ipython3",
   "version": "3.6.8"
  },
  "toc": {
   "base_numbering": 1,
   "nav_menu": {},
   "number_sections": true,
   "sideBar": true,
   "skip_h1_title": false,
   "title_cell": "Table of Contents",
   "title_sidebar": "Contents",
   "toc_cell": false,
   "toc_position": {},
   "toc_section_display": true,
   "toc_window_display": false
  }
 },
 "nbformat": 4,
 "nbformat_minor": 2
}
