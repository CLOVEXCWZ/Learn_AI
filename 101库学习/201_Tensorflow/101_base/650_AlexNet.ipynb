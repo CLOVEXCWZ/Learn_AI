{
 "cells": [
  {
   "cell_type": "code",
   "execution_count": 1,
   "metadata": {},
   "outputs": [],
   "source": [
    "import tensorflow as tf\n",
    "from tensorflow.examples.tutorials.mnist import input_data\n",
    "import matplotlib.pyplot as plt\n",
    "import numpy as np"
   ]
  },
  {
   "cell_type": "code",
   "execution_count": 3,
   "metadata": {},
   "outputs": [
    {
     "name": "stdout",
     "output_type": "stream",
     "text": [
      "Extracting ./data/MNIST_data/train-images-idx3-ubyte.gz\n",
      "Extracting ./data/MNIST_data/train-labels-idx1-ubyte.gz\n",
      "Extracting ./data/MNIST_data/t10k-images-idx3-ubyte.gz\n",
      "Extracting ./data/MNIST_data/t10k-labels-idx1-ubyte.gz\n"
     ]
    }
   ],
   "source": [
    "mnist_base_path=\"/Users/zhouwencheng/Desktop/Grass/data/picture/mnist\"\n",
    "# 载入数据集\n",
    "mnist = input_data.read_data_sets(mnist_base_path, one_hot=True)"
   ]
  },
  {
   "cell_type": "code",
   "execution_count": 4,
   "metadata": {},
   "outputs": [],
   "source": [
    "x = tf.placeholder(dtype=tf.float32, shape=[None, 28*28])\n",
    "y = tf.placeholder(dtype=tf.float32, shape=[None, 10])\n",
    "\n",
    "x_flat = tf.reshape(x, shape=[-1, 28, 28, 1]) "
   ]
  },
  {
   "cell_type": "code",
   "execution_count": 5,
   "metadata": {},
   "outputs": [
    {
     "name": "stdout",
     "output_type": "stream",
     "text": [
      "WARNING:tensorflow:From <ipython-input-5-fae764379281>:2: conv2d (from tensorflow.python.layers.convolutional) is deprecated and will be removed in a future version.\n",
      "Instructions for updating:\n",
      "Use keras.layers.conv2d instead.\n",
      "WARNING:tensorflow:From /Users/zhouwencheng/Desktop/Grass/02Study/02PythonEnv/1env2/lib/python3.7/site-packages/tensorflow/python/framework/op_def_library.py:263: colocate_with (from tensorflow.python.framework.ops) is deprecated and will be removed in a future version.\n",
      "Instructions for updating:\n",
      "Colocations handled automatically by placer.\n",
      "WARNING:tensorflow:From <ipython-input-5-fae764379281>:4: max_pooling2d (from tensorflow.python.layers.pooling) is deprecated and will be removed in a future version.\n",
      "Instructions for updating:\n",
      "Use keras.layers.max_pooling2d instead.\n",
      "WARNING:tensorflow:From <ipython-input-5-fae764379281>:16: dense (from tensorflow.python.layers.core) is deprecated and will be removed in a future version.\n",
      "Instructions for updating:\n",
      "Use keras.layers.dense instead.\n",
      "WARNING:tensorflow:From <ipython-input-5-fae764379281>:17: calling dropout (from tensorflow.python.ops.nn_ops) with keep_prob is deprecated and will be removed in a future version.\n",
      "Instructions for updating:\n",
      "Please use `rate` instead of `keep_prob`. Rate should be set to `rate = 1 - keep_prob`.\n"
     ]
    }
   ],
   "source": [
    "# => 28*28*64\n",
    "conv_1 = tf.layers.conv2d(inputs=x_flat, filters=64, kernel_size=(3, 3), strides=(1, 1), padding='same', activation=tf.nn.relu)\n",
    "# 14*14*64\n",
    "pool_1 = tf.layers.max_pooling2d(inputs=conv_1, pool_size=(2, 2), strides=(2, 2), padding='same')\n",
    "# => 28*28*128\n",
    "conv_2 = tf.layers.conv2d(inputs=pool_1, filters=128, kernel_size=(3, 3), strides=(1, 1), padding='same', activation=tf.nn.relu)\n",
    "# 7*7*64\n",
    "pool_2 = tf.layers.max_pooling2d(inputs=conv_2, pool_size=(2, 2), strides=(2, 2), padding='same')\n",
    "# => 7*7*256\n",
    "conv_3 = tf.layers.conv2d(inputs=pool_2, filters=256, kernel_size=(3, 3), strides=(1, 1), padding='same', activation=tf.nn.relu)\n",
    "# 4*4*256\n",
    "pool_3 = tf.layers.max_pooling2d(inputs=conv_3, pool_size=(2, 2), strides=(2, 2), padding='same')\n",
    "\n",
    "pool_3_flat = tf.reshape(pool_3, shape=[-1, 4*4*256])\n",
    "\n",
    "dense_1 = tf.layers.dense(pool_3_flat, 1024, activation=tf.nn.relu)\n",
    "dense_1 = tf.nn.dropout(dense_1, keep_prob=0.5)\n",
    "dense_2 = tf.layers.dense(dense_1, 512, activation=tf.nn.relu)\n",
    "dense_2 = tf.nn.dropout(dense_2, keep_prob=0.5)\n",
    "prediction = tf.layers.dense(dense_2, 10, activation=tf.nn.softmax)"
   ]
  },
  {
   "cell_type": "code",
   "execution_count": 6,
   "metadata": {},
   "outputs": [
    {
     "name": "stdout",
     "output_type": "stream",
     "text": [
      "WARNING:tensorflow:From <ipython-input-6-3a0cb1b82b9a>:1: softmax_cross_entropy_with_logits (from tensorflow.python.ops.nn_ops) is deprecated and will be removed in a future version.\n",
      "Instructions for updating:\n",
      "\n",
      "Future major versions of TensorFlow will allow gradients to flow\n",
      "into the labels input on backprop by default.\n",
      "\n",
      "See `tf.nn.softmax_cross_entropy_with_logits_v2`.\n",
      "\n"
     ]
    }
   ],
   "source": [
    "loss = tf.reduce_mean(tf.nn.softmax_cross_entropy_with_logits(labels=y, logits=prediction))\n",
    "train = tf.train.AdamOptimizer(learning_rate=0.001).minimize(loss)\n",
    "\n",
    "correct_prediction = tf.equal(x=tf.math.argmax(y, 1), y=tf.math.argmax(prediction, 1))\n",
    "accuracy = tf.reduce_mean(tf.cast(correct_prediction, dtype = tf.float32))"
   ]
  },
  {
   "cell_type": "code",
   "execution_count": 7,
   "metadata": {
    "scrolled": false
   },
   "outputs": [
    {
     "name": "stdout",
     "output_type": "stream",
     "text": [
      "BG\n",
      "step: 0 loss: 2.1995466 accuracy: 0.2511\n",
      "step: 1 loss: 2.1474323 accuracy: 0.3025\n",
      "step: 2 loss: 2.04489 accuracy: 0.4145\n",
      "step: 3 loss: 1.9213004 accuracy: 0.5392\n",
      "step: 4 loss: 1.8412559 accuracy: 0.6224\n",
      "step: 5 loss: 1.7826233 accuracy: 0.6823\n",
      "step: 6 loss: 1.7600358 accuracy: 0.7015\n",
      "step: 7 loss: 1.7139103 accuracy: 0.7487\n",
      "step: 8 loss: 1.7143277 accuracy: 0.7471\n",
      "step: 9 loss: 1.709591 accuracy: 0.7517\n",
      "step: 10 loss: 1.7187895 accuracy: 0.7424\n",
      "step: 11 loss: 1.6957632 accuracy: 0.7654\n",
      "step: 12 loss: 1.7085897 accuracy: 0.7524\n",
      "step: 13 loss: 1.6934612 accuracy: 0.7667\n",
      "step: 14 loss: 1.688614 accuracy: 0.7721\n",
      "step: 15 loss: 1.6687664 accuracy: 0.7906\n",
      "step: 16 loss: 1.6361699 accuracy: 0.8259\n",
      "step: 17 loss: 1.6281941 accuracy: 0.8331\n",
      "step: 18 loss: 1.6115677 accuracy: 0.8493\n",
      "step: 19 loss: 1.6430609 accuracy: 0.8194\n",
      "step: 20 loss: 1.6157627 accuracy: 0.8454\n",
      "step: 21 loss: 1.6135105 accuracy: 0.8486\n",
      "step: 22 loss: 1.6238416 accuracy: 0.8371\n",
      "step: 23 loss: 1.6125727 accuracy: 0.8484\n",
      "step: 24 loss: 1.6034892 accuracy: 0.8582\n",
      "step: 25 loss: 1.6011275 accuracy: 0.8607\n",
      "step: 26 loss: 1.5955734 accuracy: 0.8659\n",
      "step: 27 loss: 1.6064506 accuracy: 0.8553\n",
      "step: 28 loss: 1.6002336 accuracy: 0.8614\n",
      "step: 29 loss: 1.5988767 accuracy: 0.8613\n",
      "step: 30 loss: 1.6003691 accuracy: 0.8617\n",
      "step: 31 loss: 1.5970001 accuracy: 0.8634\n",
      "step: 32 loss: 1.6012502 accuracy: 0.8593\n",
      "step: 33 loss: 1.5975906 accuracy: 0.8629\n",
      "step: 34 loss: 1.6007545 accuracy: 0.8594\n",
      "step: 35 loss: 1.5986001 accuracy: 0.8625\n",
      "step: 36 loss: 1.5905818 accuracy: 0.8703\n",
      "step: 37 loss: 1.5965828 accuracy: 0.8646\n",
      "step: 38 loss: 1.6139591 accuracy: 0.8472\n",
      "step: 39 loss: 1.6141471 accuracy: 0.8463\n",
      "step: 40 loss: 1.5982368 accuracy: 0.8628\n",
      "step: 41 loss: 1.5922822 accuracy: 0.8681\n",
      "step: 42 loss: 1.5959172 accuracy: 0.8656\n",
      "step: 43 loss: 1.5969883 accuracy: 0.8637\n",
      "step: 44 loss: 1.5974001 accuracy: 0.8637\n",
      "step: 45 loss: 1.59681 accuracy: 0.864\n",
      "step: 46 loss: 1.5946158 accuracy: 0.8669\n",
      "step: 47 loss: 1.5981394 accuracy: 0.8626\n",
      "step: 48 loss: 1.5967323 accuracy: 0.8635\n",
      "step: 49 loss: 1.5983318 accuracy: 0.8627\n",
      "step: 50 loss: 1.5911193 accuracy: 0.8693\n",
      "step: 51 loss: 1.5921832 accuracy: 0.8687\n",
      "step: 52 loss: 1.5846063 accuracy: 0.8763\n",
      "step: 53 loss: 1.5850435 accuracy: 0.8759\n",
      "step: 54 loss: 1.533455 accuracy: 0.9281\n",
      "step: 55 loss: 1.5096617 accuracy: 0.9523\n",
      "step: 56 loss: 1.5014181 accuracy: 0.9605\n",
      "step: 57 loss: 1.498496 accuracy: 0.9626\n",
      "step: 58 loss: 1.500448 accuracy: 0.9613\n",
      "step: 59 loss: 1.501554 accuracy: 0.9594\n",
      "step: 60 loss: 1.5017833 accuracy: 0.9601\n",
      "step: 61 loss: 1.4998645 accuracy: 0.9608\n",
      "step: 62 loss: 1.4894279 accuracy: 0.972\n",
      "step: 63 loss: 1.4932377 accuracy: 0.9681\n",
      "step: 64 loss: 1.4937849 accuracy: 0.9675\n",
      "step: 65 loss: 1.487547 accuracy: 0.9739\n",
      "step: 66 loss: 1.4876703 accuracy: 0.9742\n",
      "step: 67 loss: 1.4930377 accuracy: 0.9684\n",
      "step: 68 loss: 1.4882131 accuracy: 0.9735\n",
      "step: 69 loss: 1.4868058 accuracy: 0.9745\n",
      "step: 70 loss: 1.4886988 accuracy: 0.9726\n",
      "step: 71 loss: 1.4864337 accuracy: 0.9736\n",
      "step: 72 loss: 1.4965528 accuracy: 0.965\n",
      "step: 73 loss: 1.4878187 accuracy: 0.9732\n",
      "step: 74 loss: 1.4920018 accuracy: 0.9694\n",
      "step: 75 loss: 1.4913273 accuracy: 0.9694\n",
      "step: 76 loss: 1.510415 accuracy: 0.9503\n",
      "step: 77 loss: 1.5005021 accuracy: 0.9605\n",
      "step: 78 loss: 1.4877514 accuracy: 0.974\n",
      "step: 79 loss: 1.496914 accuracy: 0.9647\n",
      "step: 80 loss: 1.5006489 accuracy: 0.9611\n",
      "step: 81 loss: 1.493889 accuracy: 0.9671\n",
      "step: 82 loss: 1.4875977 accuracy: 0.9734\n",
      "step: 83 loss: 1.4876711 accuracy: 0.9735\n",
      "step: 84 loss: 1.4866239 accuracy: 0.9745\n",
      "step: 85 loss: 1.4838833 accuracy: 0.9779\n",
      "step: 86 loss: 1.4890515 accuracy: 0.9723\n",
      "step: 87 loss: 1.4854149 accuracy: 0.9756\n",
      "step: 88 loss: 1.4845257 accuracy: 0.9769\n",
      "step: 89 loss: 1.4825556 accuracy: 0.9786\n",
      "step: 90 loss: 1.4863594 accuracy: 0.9749\n",
      "step: 91 loss: 1.4879916 accuracy: 0.9731\n",
      "step: 92 loss: 1.4838605 accuracy: 0.9775\n",
      "step: 93 loss: 1.4854424 accuracy: 0.9754\n",
      "step: 94 loss: 1.4878178 accuracy: 0.9736\n",
      "step: 95 loss: 1.4951515 accuracy: 0.9658\n",
      "step: 96 loss: 1.4859221 accuracy: 0.9747\n",
      "step: 97 loss: 1.4941847 accuracy: 0.9663\n",
      "step: 98 loss: 1.4866664 accuracy: 0.9742\n",
      "step: 99 loss: 1.4875021 accuracy: 0.9735\n",
      "step: 100 loss: 1.4869362 accuracy: 0.9739\n",
      "step: 101 loss: 1.4871721 accuracy: 0.9739\n",
      "step: 102 loss: 1.4898846 accuracy: 0.9714\n",
      "step: 103 loss: 1.4876914 accuracy: 0.9736\n",
      "step: 104 loss: 1.507647 accuracy: 0.9541\n",
      "step: 105 loss: 1.4929842 accuracy: 0.9682\n",
      "step: 106 loss: 1.4980806 accuracy: 0.9627\n",
      "step: 107 loss: 1.4899284 accuracy: 0.9713\n",
      "step: 108 loss: 1.4891967 accuracy: 0.9721\n",
      "step: 109 loss: 1.4856273 accuracy: 0.9755\n",
      "step: 110 loss: 1.4839475 accuracy: 0.9777\n",
      "step: 111 loss: 1.482979 accuracy: 0.9785\n",
      "step: 112 loss: 1.4826978 accuracy: 0.9782\n",
      "step: 113 loss: 1.4878373 accuracy: 0.9731\n",
      "step: 114 loss: 1.4972965 accuracy: 0.9641\n",
      "step: 115 loss: 1.4850175 accuracy: 0.9761\n",
      "step: 116 loss: 1.4851811 accuracy: 0.976\n",
      "step: 117 loss: 1.4928899 accuracy: 0.9682\n",
      "step: 118 loss: 1.4829822 accuracy: 0.9782\n"
     ]
    },
    {
     "name": "stderr",
     "output_type": "stream",
     "text": [
      "ERROR:root:Internal Python error in the inspect module.\n",
      "Below is the traceback from this internal error.\n",
      "\n"
     ]
    },
    {
     "name": "stdout",
     "output_type": "stream",
     "text": [
      "Traceback (most recent call last):\n",
      "  File \"/Users/zhouwencheng/Desktop/Grass/02Study/02PythonEnv/1env2/lib/python3.7/site-packages/IPython/core/interactiveshell.py\", line 3296, in run_code\n",
      "    exec(code_obj, self.user_global_ns, self.user_ns)\n",
      "  File \"<ipython-input-7-a788fa56f61b>\", line 8, in <module>\n",
      "    sess.run(train, feed_dict = {x:x_train, y:y_train})\n",
      "  File \"/Users/zhouwencheng/Desktop/Grass/02Study/02PythonEnv/1env2/lib/python3.7/site-packages/tensorflow/python/client/session.py\", line 929, in run\n",
      "    run_metadata_ptr)\n",
      "  File \"/Users/zhouwencheng/Desktop/Grass/02Study/02PythonEnv/1env2/lib/python3.7/site-packages/tensorflow/python/client/session.py\", line 1152, in _run\n",
      "    feed_dict_tensor, options, run_metadata)\n",
      "  File \"/Users/zhouwencheng/Desktop/Grass/02Study/02PythonEnv/1env2/lib/python3.7/site-packages/tensorflow/python/client/session.py\", line 1328, in _do_run\n",
      "    run_metadata)\n",
      "  File \"/Users/zhouwencheng/Desktop/Grass/02Study/02PythonEnv/1env2/lib/python3.7/site-packages/tensorflow/python/client/session.py\", line 1334, in _do_call\n",
      "    return fn(*args)\n",
      "  File \"/Users/zhouwencheng/Desktop/Grass/02Study/02PythonEnv/1env2/lib/python3.7/site-packages/tensorflow/python/client/session.py\", line 1319, in _run_fn\n",
      "    options, feed_dict, fetch_list, target_list, run_metadata)\n",
      "  File \"/Users/zhouwencheng/Desktop/Grass/02Study/02PythonEnv/1env2/lib/python3.7/site-packages/tensorflow/python/client/session.py\", line 1407, in _call_tf_sessionrun\n",
      "    run_metadata)\n",
      "KeyboardInterrupt\n",
      "\n",
      "During handling of the above exception, another exception occurred:\n",
      "\n",
      "Traceback (most recent call last):\n",
      "  File \"/Users/zhouwencheng/Desktop/Grass/02Study/02PythonEnv/1env2/lib/python3.7/site-packages/IPython/core/interactiveshell.py\", line 2033, in showtraceback\n",
      "    stb = value._render_traceback_()\n",
      "AttributeError: 'KeyboardInterrupt' object has no attribute '_render_traceback_'\n",
      "\n",
      "During handling of the above exception, another exception occurred:\n",
      "\n",
      "Traceback (most recent call last):\n",
      "  File \"/Users/zhouwencheng/Desktop/Grass/02Study/02PythonEnv/1env2/lib/python3.7/site-packages/IPython/core/ultratb.py\", line 1095, in get_records\n",
      "    return _fixed_getinnerframes(etb, number_of_lines_of_context, tb_offset)\n",
      "  File \"/Users/zhouwencheng/Desktop/Grass/02Study/02PythonEnv/1env2/lib/python3.7/site-packages/IPython/core/ultratb.py\", line 313, in wrapped\n",
      "    return f(*args, **kwargs)\n",
      "  File \"/Users/zhouwencheng/Desktop/Grass/02Study/02PythonEnv/1env2/lib/python3.7/site-packages/IPython/core/ultratb.py\", line 347, in _fixed_getinnerframes\n",
      "    records = fix_frame_records_filenames(inspect.getinnerframes(etb, context))\n",
      "  File \"/Users/zhouwencheng/anaconda3/lib/python3.7/inspect.py\", line 1502, in getinnerframes\n",
      "    frameinfo = (tb.tb_frame,) + getframeinfo(tb, context)\n",
      "  File \"/Users/zhouwencheng/anaconda3/lib/python3.7/inspect.py\", line 1460, in getframeinfo\n",
      "    filename = getsourcefile(frame) or getfile(frame)\n",
      "  File \"/Users/zhouwencheng/anaconda3/lib/python3.7/inspect.py\", line 696, in getsourcefile\n",
      "    if getattr(getmodule(object, filename), '__loader__', None) is not None:\n",
      "  File \"/Users/zhouwencheng/anaconda3/lib/python3.7/inspect.py\", line 732, in getmodule\n",
      "    for modname, module in list(sys.modules.items()):\n",
      "KeyboardInterrupt\n"
     ]
    },
    {
     "ename": "KeyboardInterrupt",
     "evalue": "",
     "output_type": "error",
     "traceback": [
      "\u001b[0;31m---------------------------------------------------------------------------\u001b[0m"
     ]
    }
   ],
   "source": [
    "print(\"BG\")\n",
    "with tf.Session() as sess:\n",
    "    sess.run(tf.global_variables_initializer())\n",
    "    \n",
    "    for step in range(300): \n",
    "        for batch in range(10):\n",
    "            x_train, y_train = mnist.train.next_batch(batch_size=100)\n",
    "            sess.run(train, feed_dict = {x:x_train, y:y_train})\n",
    "        x_test = mnist.test.images\n",
    "        y_test = mnist.test.labels\n",
    "        this_loss, acc = sess.run([loss, accuracy], feed_dict = {x:x_test, y:y_test})\n",
    "        print('step:', step, 'loss:', this_loss, 'accuracy:', acc)\n",
    "        \n",
    "    print(\"OK\")"
   ]
  },
  {
   "cell_type": "raw",
   "metadata": {},
   "source": [
    "step: 109 loss: 1.4856273 accuracy: 0.9755\n",
    "step: 110 loss: 1.4839475 accuracy: 0.9777\n",
    "step: 111 loss: 1.482979 accuracy: 0.9785\n",
    "step: 112 loss: 1.4826978 accuracy: 0.9782\n",
    "step: 113 loss: 1.4878373 accuracy: 0.9731\n",
    "step: 114 loss: 1.4972965 accuracy: 0.9641\n",
    "step: 115 loss: 1.4850175 accuracy: 0.9761\n",
    "step: 116 loss: 1.4851811 accuracy: 0.976\n",
    "step: 117 loss: 1.4928899 accuracy: 0.9682\n",
    "step: 118 loss: 1.4829822 accuracy: 0.9782"
   ]
  }
 ],
 "metadata": {
  "kernelspec": {
   "display_name": "Python 3",
   "language": "python",
   "name": "python3"
  },
  "language_info": {
   "codemirror_mode": {
    "name": "ipython",
    "version": 3
   },
   "file_extension": ".py",
   "mimetype": "text/x-python",
   "name": "python",
   "nbconvert_exporter": "python",
   "pygments_lexer": "ipython3",
   "version": "3.7.0"
  },
  "toc": {
   "base_numbering": 1,
   "nav_menu": {},
   "number_sections": true,
   "sideBar": true,
   "skip_h1_title": false,
   "title_cell": "Table of Contents",
   "title_sidebar": "Contents",
   "toc_cell": false,
   "toc_position": {},
   "toc_section_display": true,
   "toc_window_display": false
  }
 },
 "nbformat": 4,
 "nbformat_minor": 2
}
