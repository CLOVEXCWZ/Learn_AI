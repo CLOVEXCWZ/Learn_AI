{
 "cells": [
  {
   "cell_type": "markdown",
   "metadata": {},
   "source": [
    "## 索引与切片\n",
    "\n",
    "- 基本访问\n",
    "- 切片\n",
    "- 索引"
   ]
  },
  {
   "cell_type": "markdown",
   "metadata": {},
   "source": [
    "## 1 基本访问"
   ]
  },
  {
   "cell_type": "code",
   "execution_count": 7,
   "metadata": {},
   "outputs": [
    {
     "data": {
      "text/plain": [
       "3"
      ]
     },
     "execution_count": 7,
     "metadata": {},
     "output_type": "execute_result"
    }
   ],
   "source": [
    "import numpy as np\n",
    "a = np.arange(10)\n",
    "a[3]"
   ]
  },
  {
   "cell_type": "markdown",
   "metadata": {},
   "source": [
    "## 2 切片\n",
    "- slice (start, stop, step)\n",
    "- :\n",
    "- ..."
   ]
  },
  {
   "cell_type": "code",
   "execution_count": 15,
   "metadata": {},
   "outputs": [
    {
     "name": "stdout",
     "output_type": "stream",
     "text": [
      "[2 4 6]\n",
      "[2 4 6]\n",
      "[2 3 4 5 6 7 8 9]\n",
      "[8 9]\n",
      "[2 4 5]\n",
      "[3 4 5]\n",
      "[[2 3]\n",
      " [4 5]\n",
      " [5 6]]\n"
     ]
    }
   ],
   "source": [
    "import numpy as np\n",
    "\n",
    "# ----------------- slice\n",
    "a = np.arange(10)\n",
    "print(a[slice(2, 7, 2)]) # slice [2 4 6]\n",
    "\n",
    "# ----------------- start:stop:step \n",
    "\n",
    "print(a[2: 7: 2]) # start:stop:step  [2 4 6]\n",
    "print(a[2:]) # [2 3 4 5 6 7 8 9]\n",
    "print(a[-2:])\n",
    "\n",
    "\n",
    "#------------------- ...\n",
    "\"\"\"\n",
    "切片还可以包括省略号(...)，来使选择元组的长度与数组的维度相同。\n",
    "如果在行位置使用省略号，它将返回包含行中元素的ndarray。 \n",
    "\"\"\"\n",
    "a = np.array([[1,2,3],[3,4,5],[4,5,6]])  \n",
    "print(a[...,1]) # 第二列  [2 4 5]\n",
    "print(a[1,...]) # 第二行的元素\n",
    "print(a[...,1:]) # 第二列及其剩余元素"
   ]
  },
  {
   "cell_type": "markdown",
   "metadata": {},
   "source": [
    "## 3 索引\n",
    "- 整数索引\n",
    "- 布尔值索引"
   ]
  },
  {
   "cell_type": "code",
   "execution_count": 22,
   "metadata": {},
   "outputs": [
    {
     "name": "stdout",
     "output_type": "stream",
     "text": [
      "[ 6  7  8  9 10 11]\n",
      "[1. 2. 3. 4. 5.]\n",
      "[2. +6.j 3.5+5.j]\n"
     ]
    }
   ],
   "source": [
    "import numpy as np \n",
    "\n",
    "#----------------- 整数索引\n",
    "\n",
    "x = np.array([[1,  2],  [3,  4],  [5,  6]]) \n",
    "y = x[[0,1,2],  [0,1,0]]   # [1 4 5]\n",
    " \n",
    "x = np.array([[  0,  1,  2],[  3,  4,  5],[  6,  7,  8],[  9,  10,  11]]) \n",
    "rows = np.array([[0,0],[3,3]]) \n",
    "cols = np.array([[0,2],[0,2]]) \n",
    "y = x[rows,cols] \n",
    "\"\"\"\n",
    "我们的数组是：                                                                 \n",
    "[[ 0  1  2]                                                                   \n",
    " [ 3  4  5]                                                                   \n",
    " [ 6  7  8]                                                                   \n",
    " [ 9 10 11]]\n",
    "\n",
    "这个数组的每个角处的元素是：                                      \n",
    "[[ 0  2]                                                                      \n",
    " [ 9 11]] \n",
    "\"\"\"\n",
    "\n",
    "x = np.array([[  0,  1,  2],[  3,  4,  5],[  6,  7,  8],[  9,  10,  11]])  \n",
    "z = x[1:4,1:3] \n",
    "y = x[1:4,[1,2]] \n",
    "\"\"\"\n",
    "x：\n",
    "[[ 0  1  2] \n",
    " [ 3  4  5] \n",
    " [ 6  7  8]\n",
    " [ 9 10 11]]\n",
    "z:\n",
    "[[ 4  5]\n",
    " [ 7  8]\n",
    " [10 11]]\n",
    "\n",
    "y:\n",
    "[[ 4  5]\n",
    " [ 7  8]\n",
    " [10 11]]\n",
    "\n",
    "\"\"\"\n",
    "\n",
    "#------------------------ 布尔索引\n",
    "\"\"\"\n",
    "当结果对象是布尔运算(例如比较运算符)的结果时，将使用此类型的高级索引。\n",
    "\"\"\"\n",
    "x = np.array([[  0,  1,  2],[  3,  4,  5],[  6,  7,  8],[  9,  10,  11]])  \n",
    "print(x[x >  5])  # [ 6  7  8  9 10 11]\n",
    "\n",
    "#  这个例子使用了~(取补运算符)来过滤NaN。\n",
    "a = np.array([np.nan,  1,2,np.nan,3,4,5]) \n",
    "print(a[~np.isnan(a)]) # [ 1.   2.   3.   4.   5.]\n",
    "\n",
    "# 以下示例显示如何从数组中过滤掉非复数元素。\n",
    "a = np.array([1,  2+6j,  5,  3.5+5j])  \n",
    "print(a[np.iscomplex(a)])  # [2.0+6.j  3.5+5.j]"
   ]
  },
  {
   "cell_type": "code",
   "execution_count": null,
   "metadata": {},
   "outputs": [],
   "source": []
  }
 ],
 "metadata": {
  "kernelspec": {
   "display_name": "Python 3",
   "language": "python",
   "name": "python3"
  },
  "language_info": {
   "codemirror_mode": {
    "name": "ipython",
    "version": 3
   },
   "file_extension": ".py",
   "mimetype": "text/x-python",
   "name": "python",
   "nbconvert_exporter": "python",
   "pygments_lexer": "ipython3",
   "version": "3.7.0"
  }
 },
 "nbformat": 4,
 "nbformat_minor": 2
}
