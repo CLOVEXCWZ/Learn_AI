{
 "cells": [
  {
   "cell_type": "code",
   "execution_count": 1,
   "metadata": {},
   "outputs": [],
   "source": [
    "import torch\n",
    "import torch.utils.data as Data"
   ]
  },
  {
   "cell_type": "code",
   "execution_count": 10,
   "metadata": {},
   "outputs": [
    {
     "name": "stdout",
     "output_type": "stream",
     "text": [
      "Epoch:  0 | Step:  0 | batch x:  [4. 6. 5.] | batch y:  [7. 5. 6.]\n",
      "Epoch:  0 | Step:  1 | batch x:  [ 3. 10.  1.] | batch y:  [ 8.  1. 10.]\n",
      "Epoch:  0 | Step:  2 | batch x:  [2. 7. 8.] | batch y:  [9. 4. 3.]\n",
      "Epoch:  0 | Step:  3 | batch x:  [9.] | batch y:  [2.]\n",
      "Epoch:  1 | Step:  0 | batch x:  [8. 1. 6.] | batch y:  [ 3. 10.  5.]\n",
      "Epoch:  1 | Step:  1 | batch x:  [10.  2.  5.] | batch y:  [1. 9. 6.]\n",
      "Epoch:  1 | Step:  2 | batch x:  [9. 7. 3.] | batch y:  [2. 4. 8.]\n",
      "Epoch:  1 | Step:  3 | batch x:  [4.] | batch y:  [7.]\n",
      "Epoch:  2 | Step:  0 | batch x:  [8. 1. 7.] | batch y:  [ 3. 10.  4.]\n",
      "Epoch:  2 | Step:  1 | batch x:  [2. 3. 4.] | batch y:  [9. 8. 7.]\n",
      "Epoch:  2 | Step:  2 | batch x:  [10.  6.  9.] | batch y:  [1. 5. 2.]\n",
      "Epoch:  2 | Step:  3 | batch x:  [5.] | batch y:  [6.]\n"
     ]
    }
   ],
   "source": [
    "BATCH_SIZE = 3\n",
    "\n",
    "x = torch.linspace(1, 10, 10)\n",
    "y = torch.linspace(10, 1, 10)\n",
    "\n",
    "# torch_dataset = Data.TensorDataset(data_tensor = x, target_tensor = y)\n",
    "torch_dataset = Data.TensorDataset(x, y)\n",
    "loader = Data.DataLoader(\n",
    "    dataset = torch_dataset,\n",
    "    batch_size=BATCH_SIZE,\n",
    "    shuffle=True,\n",
    "    num_workers=2,\n",
    ")\n",
    "\n",
    "for epoch in range(3):\n",
    "    for step, (batch_x, batch_y) in enumerate(loader):\n",
    "        # training...\n",
    "        print('Epoch: ', epoch, '| Step: ', step, '| batch x: ',\n",
    "              batch_x.numpy(), '| batch y: ', batch_y.numpy())\n"
   ]
  }
 ],
 "metadata": {
  "kernelspec": {
   "display_name": "Python 3",
   "language": "python",
   "name": "python3"
  },
  "language_info": {
   "codemirror_mode": {
    "name": "ipython",
    "version": 3
   },
   "file_extension": ".py",
   "mimetype": "text/x-python",
   "name": "python",
   "nbconvert_exporter": "python",
   "pygments_lexer": "ipython3",
   "version": "3.7.0"
  },
  "toc": {
   "base_numbering": 1,
   "nav_menu": {},
   "number_sections": true,
   "sideBar": true,
   "skip_h1_title": false,
   "title_cell": "Table of Contents",
   "title_sidebar": "Contents",
   "toc_cell": false,
   "toc_position": {},
   "toc_section_display": true,
   "toc_window_display": false
  }
 },
 "nbformat": 4,
 "nbformat_minor": 2
}
