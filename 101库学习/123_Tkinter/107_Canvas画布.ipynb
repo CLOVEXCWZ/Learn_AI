{
 "cells": [
  {
   "cell_type": "code",
   "execution_count": 1,
   "metadata": {},
   "outputs": [],
   "source": [
    "import tkinter as tk"
   ]
  },
  {
   "cell_type": "code",
   "execution_count": 2,
   "metadata": {},
   "outputs": [],
   "source": [
    "window = tk.Tk()\n",
    "window.title('my window')\n",
    "window.geometry('200x200')\n",
    "\n",
    "canvas = tk.Canvas(window, bg='blue', height=100, width=200)\n",
    "# image_file = tk.PhotoImage(file='ins.gif')\n",
    "# image = canvas.create_image(10, 10, anchor='nw', image=image_file)\n",
    "image_file = tk.PhotoImage(file='ins.gif')\n",
    "image = canvas.create_image(10, 10, anchor='nw', image=image_file)\n",
    "x0, y0, x1, y1 = 50, 50, 80, 80\n",
    "line = canvas.create_line(x0, y0, x1, y1)\n",
    "oval = canvas.create_oval(x0, y0, x1, y1, fill='red')\n",
    "arc = canvas.create_arc(x0+30, y0+20, x1+30, y1+30, start=0, extent=180)\n",
    "rect = canvas.create_rectangle(100, 30, 100+20, 30+20)\n",
    "canvas.pack()\n",
    "\n",
    "def moveit():\n",
    "    canvas.move(rect, 0, 2)\n",
    "    \n",
    "b = tk.Button(window, text='move', command=moveit).pack()\n",
    "\n",
    "window.mainloop()"
   ]
  },
  {
   "cell_type": "code",
   "execution_count": 8,
   "metadata": {},
   "outputs": [],
   "source": []
  },
  {
   "cell_type": "code",
   "execution_count": null,
   "metadata": {},
   "outputs": [],
   "source": []
  }
 ],
 "metadata": {
  "kernelspec": {
   "display_name": "Python 3",
   "language": "python",
   "name": "python3"
  },
  "language_info": {
   "codemirror_mode": {
    "name": "ipython",
    "version": 3
   },
   "file_extension": ".py",
   "mimetype": "text/x-python",
   "name": "python",
   "nbconvert_exporter": "python",
   "pygments_lexer": "ipython3",
   "version": "3.7.0"
  },
  "toc": {
   "base_numbering": 1,
   "nav_menu": {},
   "number_sections": true,
   "sideBar": true,
   "skip_h1_title": false,
   "title_cell": "Table of Contents",
   "title_sidebar": "Contents",
   "toc_cell": false,
   "toc_position": {},
   "toc_section_display": true,
   "toc_window_display": false
  }
 },
 "nbformat": 4,
 "nbformat_minor": 2
}
