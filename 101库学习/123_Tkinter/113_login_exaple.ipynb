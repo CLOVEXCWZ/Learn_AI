{
 "cells": [
  {
   "cell_type": "code",
   "execution_count": 4,
   "metadata": {},
   "outputs": [
    {
     "name": "stderr",
     "output_type": "stream",
     "text": [
      "Exception in Tkinter callback\n",
      "Traceback (most recent call last):\n",
      "  File \"/Users/zhouwencheng/anaconda3/lib/python3.7/tkinter/__init__.py\", line 1705, in __call__\n",
      "    return self.func(*args)\n",
      "  File \"<ipython-input-4-0b41fa000ca2>\", line 31, in usr_login\n",
      "    usrs_info = pickle.load(usr_file)\n",
      "  File \"/Users/zhouwencheng/anaconda3/lib/python3.7/pickle.py\", line 1593, in _load\n",
      "    encoding=encoding, errors=errors).load()\n",
      "  File \"/Users/zhouwencheng/anaconda3/lib/python3.7/pickle.py\", line 1083, in load\n",
      "    raise EOFError\n",
      "EOFError\n"
     ]
    }
   ],
   "source": [
    "import tkinter as tk \n",
    "import pickle\n",
    "\n",
    "window = tk.Tk()\n",
    "window.title('I am C-LOVE')\n",
    "window.geometry('450x300')\n",
    "\n",
    "# welcome image\n",
    "canvas = tk.Canvas(window, height=200, width=500) \n",
    "image_file = tk.PhotoImage(file='welcome.gif')\n",
    "image = canvas.create_image(0,0, anchor='nw', image=image_file)\n",
    "canvas.pack(side='top')\n",
    "\n",
    "# user information\n",
    "tk.Label(window, text='User name: ').place(x=50, y=150)\n",
    "tk.Label(window, text='Password: ').place(x=50, y=190)\n",
    "\n",
    "var_usr_name = tk.StringVar()\n",
    "var_usr_name.set('cl')\n",
    "entry_usr_name = tk.Entry(window, textvariable=var_usr_name)\n",
    "entry_usr_name.place(x=160, y=150) \n",
    "var_usr_pwd = tk.StringVar()\n",
    "entry_usr_pwd = tk.Entry(window, textvariable=var_usr_pwd, show='*')\n",
    "entry_usr_pwd.place(x=160, y=190)\n",
    "\n",
    "def usr_login():\n",
    "    usr_name = var_usr_name.get()\n",
    "    usr_pwd = var_usr_pwd.get()\n",
    "    try:\n",
    "        with open('usrs_info.pickle', 'rb') as usr_file:\n",
    "            usrs_info = pickle.load(usr_file)\n",
    "    except FileNotFoundError:\n",
    "        with open('usrs_info.pickle', 'wb') as usr_file:\n",
    "            usrs_info = {'admin': 'admin'}\n",
    "            pickle.dump(usrs_info, usr_file)\n",
    "    if usr_name in usrs_info:\n",
    "        if usr_pwd == usrs_info[usr_name]:\n",
    "            tk.messagebox.show(title='Welcome', message='How are you? ' + usr_name)\n",
    "        else:\n",
    "            tk.messagebox.showerror(message='Error, your password is wrong, try again.')\n",
    "    else:\n",
    "        is_sign_up = tk.messagebox.askretrycancel('Welcome',\n",
    "                               'You have not sign up yet. Sign up today?')\n",
    "        if is_sign_up:\n",
    "            usr_sign_up()\n",
    "\n",
    "def usr_sign_up():\n",
    "    pass\n",
    "\n",
    "# login and sign up button\n",
    "btn_login = tk.Button(window, text='Login', command=usr_login)\n",
    "btn_login.place(x=170, y=230)\n",
    "btn_sign_up = tk.Button(window, text='Sign up', command=usr_sign_up)\n",
    "btn_sign_up.place(x=270, y=230)\n",
    "\n",
    "window.mainloop()"
   ]
  },
  {
   "cell_type": "code",
   "execution_count": null,
   "metadata": {},
   "outputs": [],
   "source": []
  }
 ],
 "metadata": {
  "kernelspec": {
   "display_name": "Python 3",
   "language": "python",
   "name": "python3"
  },
  "language_info": {
   "codemirror_mode": {
    "name": "ipython",
    "version": 3
   },
   "file_extension": ".py",
   "mimetype": "text/x-python",
   "name": "python",
   "nbconvert_exporter": "python",
   "pygments_lexer": "ipython3",
   "version": "3.7.0"
  },
  "toc": {
   "base_numbering": 1,
   "nav_menu": {},
   "number_sections": true,
   "sideBar": true,
   "skip_h1_title": false,
   "title_cell": "Table of Contents",
   "title_sidebar": "Contents",
   "toc_cell": false,
   "toc_position": {},
   "toc_section_display": true,
   "toc_window_display": false
  }
 },
 "nbformat": 4,
 "nbformat_minor": 2
}
