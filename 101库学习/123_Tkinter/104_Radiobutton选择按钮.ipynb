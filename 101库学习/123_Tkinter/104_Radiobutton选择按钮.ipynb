{
 "cells": [
  {
   "cell_type": "code",
   "execution_count": 1,
   "metadata": {},
   "outputs": [],
   "source": [
    "import tkinter as tk"
   ]
  },
  {
   "cell_type": "code",
   "execution_count": 3,
   "metadata": {},
   "outputs": [],
   "source": [
    "window = tk.Tk()\n",
    "window.title('my window')\n",
    "window.geometry('200x200')\n",
    "\n",
    "var = tk.StringVar()\n",
    "l = tk.Label(window, bg='yellow', width=20, text='empty')\n",
    "l.pack()\n",
    "\n",
    "def print_selection():\n",
    "    l.config(text='you have selected' + var.get())\n",
    "\n",
    "r1 = tk.Radiobutton(window, text='Option A',\n",
    "                   variable=var, value='A',\n",
    "                   command=print_selection)\n",
    "r1.pack()\n",
    "\n",
    "r2 = tk.Radiobutton(window, text='Option B',\n",
    "                   variable=var, value='B',\n",
    "                   command=print_selection)\n",
    "r2.pack()\n",
    "\n",
    "r3 = tk.Radiobutton(window, text='Option C',\n",
    "                   variable=var, value='C',\n",
    "                   command=print_selection)\n",
    "r3.pack()\n",
    "\n",
    "window.mainloop()"
   ]
  },
  {
   "cell_type": "code",
   "execution_count": null,
   "metadata": {},
   "outputs": [],
   "source": []
  }
 ],
 "metadata": {
  "kernelspec": {
   "display_name": "Python 3",
   "language": "python",
   "name": "python3"
  },
  "language_info": {
   "codemirror_mode": {
    "name": "ipython",
    "version": 3
   },
   "file_extension": ".py",
   "mimetype": "text/x-python",
   "name": "python",
   "nbconvert_exporter": "python",
   "pygments_lexer": "ipython3",
   "version": "3.7.0"
  },
  "toc": {
   "base_numbering": 1,
   "nav_menu": {},
   "number_sections": true,
   "sideBar": true,
   "skip_h1_title": false,
   "title_cell": "Table of Contents",
   "title_sidebar": "Contents",
   "toc_cell": false,
   "toc_position": {},
   "toc_section_display": true,
   "toc_window_display": false
  }
 },
 "nbformat": 4,
 "nbformat_minor": 2
}
