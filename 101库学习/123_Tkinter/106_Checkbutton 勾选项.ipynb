{
 "cells": [
  {
   "cell_type": "code",
   "execution_count": 1,
   "metadata": {},
   "outputs": [],
   "source": [
    "import tkinter as tk"
   ]
  },
  {
   "cell_type": "code",
   "execution_count": 2,
   "metadata": {},
   "outputs": [],
   "source": [
    "window = tk.Tk()\n",
    "window.title('my window')\n",
    "window.geometry('200x200')\n",
    "\n",
    "l = tk.Label(window, bg='yellow', width=20, text='empty')\n",
    "l.pack()\n",
    "\n",
    "def print_selection():\n",
    "    if(var1.get()==1)&(var2.get()==0):\n",
    "        l.config(text='I love only Python')\n",
    "    elif (var1.get()==0)&(var2.get()==1):\n",
    "        l.config(text='I love only C++')\n",
    "    elif (var1.get()==0)&(var2.get()==0):\n",
    "        l.config(text='I dont lov either')\n",
    "    else:\n",
    "        l.config(text='I love both')\n",
    "        \n",
    "var1 = tk.IntVar()\n",
    "var2 = tk.IntVar()\n",
    "\n",
    "c1=tk.Checkbutton(window, text='Python', variable=var1, onvalue=1, offvalue=0,\n",
    "                 command=print_selection)\n",
    "c2=tk.Checkbutton(window, text='C++', variable=var2, onvalue=1, offvalue=0,\n",
    "                 command=print_selection)\n",
    "c1.pack()\n",
    "c2.pack()\n",
    "\n",
    "window.mainloop()"
   ]
  },
  {
   "cell_type": "code",
   "execution_count": null,
   "metadata": {},
   "outputs": [],
   "source": []
  }
 ],
 "metadata": {
  "kernelspec": {
   "display_name": "Python 3",
   "language": "python",
   "name": "python3"
  },
  "language_info": {
   "codemirror_mode": {
    "name": "ipython",
    "version": 3
   },
   "file_extension": ".py",
   "mimetype": "text/x-python",
   "name": "python",
   "nbconvert_exporter": "python",
   "pygments_lexer": "ipython3",
   "version": "3.7.0"
  },
  "toc": {
   "base_numbering": 1,
   "nav_menu": {},
   "number_sections": true,
   "sideBar": true,
   "skip_h1_title": false,
   "title_cell": "Table of Contents",
   "title_sidebar": "Contents",
   "toc_cell": false,
   "toc_position": {},
   "toc_section_display": true,
   "toc_window_display": false
  }
 },
 "nbformat": 4,
 "nbformat_minor": 2
}
