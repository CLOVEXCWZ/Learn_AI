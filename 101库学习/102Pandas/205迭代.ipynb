{
 "cells": [
  {
   "cell_type": "markdown",
   "metadata": {},
   "source": [
    "# Pandas迭代\n",
    "Pandas对象之间的基本迭代的行为取决于类型。当迭代一个系列时，它被视为数组式，基本迭代产生这些值。其他数据结构，如：DataFrame和Panel，遵循类似惯例迭代对象的键。\n",
    "简而言之，基本迭代(对于i在对象中)产生 -\n",
    "\n",
    "- Series - 值\n",
    "- DataFrame - 列标签\n",
    "- Pannel - 项目标签 \n",
    "\n",
    "注意 - 不要尝试在迭代时修改任何对象。迭代是用于读取，迭代器返回原始对象(视图)的副本，因此更改将不会反映在原始对象上。"
   ]
  },
  {
   "cell_type": "markdown",
   "metadata": {},
   "source": [
    "## 迭代DataFrame\n",
    "- for in  迭代DataFrame提供列名 \n",
    "- iteritems()  列 迭代(key，value)对\n",
    "- iterrows()  行 将行迭代为(索引，系列)对\n",
    "- itertuples() 行 以namedtuples的形式迭代行"
   ]
  },
  {
   "cell_type": "code",
   "execution_count": 6,
   "metadata": {
    "scrolled": false
   },
   "outputs": [
    {
     "name": "stdout",
     "output_type": "stream",
     "text": [
      "            A     x         y       C           D\n",
      "0  2016-01-01   0.0  0.577244    High  109.975602\n",
      "1  2016-01-02   1.0  0.665014  Medium  113.394454\n",
      "2  2016-01-03   2.0  0.982564    High   94.549445\n",
      "3  2016-01-04   3.0  0.851160  Medium  100.231794\n",
      "4  2016-01-05   4.0  0.538774    High   87.453212\n",
      "5  2016-01-06   5.0  0.844544     Low  107.448078\n",
      "6  2016-01-07   6.0  0.820369    High  115.640149\n",
      "7  2016-01-08   7.0  0.277820  Medium   99.226653\n",
      "8  2016-01-09   8.0  0.077948  Medium  111.503528\n",
      "9  2016-01-10   9.0  0.497468     Low   85.159039\n",
      "10 2016-01-11  10.0  0.223452    High  120.865425\n",
      "11 2016-01-12  11.0  0.725847  Medium   83.862872\n",
      "12 2016-01-13  12.0  0.358913  Medium   92.891491\n",
      "13 2016-01-14  13.0  0.672671    High   92.261664\n",
      "14 2016-01-15  14.0  0.891195    High   96.139938\n",
      "15 2016-01-16  15.0  0.318164  Medium  103.441272\n",
      "16 2016-01-17  16.0  0.872782  Medium  101.092868\n",
      "17 2016-01-18  17.0  0.367514     Low   93.585234\n",
      "18 2016-01-19  18.0  0.993005     Low   99.181664\n",
      "19 2016-01-20  19.0  0.969207  Medium  102.383043\n",
      "A\n",
      "x\n",
      "y\n",
      "C\n",
      "D\n"
     ]
    }
   ],
   "source": [
    "# 迭代DataFrame提供列名\n",
    "\n",
    "import pandas as pd\n",
    "import numpy as np\n",
    "N=20\n",
    "df = pd.DataFrame({\n",
    "    'A': pd.date_range(start='2016-01-01',periods=N,freq='D'),\n",
    "    'x': np.linspace(0,stop=N-1,num=N),\n",
    "    'y': np.random.rand(N),\n",
    "    'C': np.random.choice(['Low','Medium','High'],N).tolist(),\n",
    "    'D': np.random.normal(100, 10, size=(N)).tolist()\n",
    "    })\n",
    "print(df)\n",
    "for col in df:\n",
    "   print(col) "
   ]
  },
  {
   "cell_type": "code",
   "execution_count": 15,
   "metadata": {},
   "outputs": [
    {
     "name": "stdout",
     "output_type": "stream",
     "text": [
      "col1 0    0.851255\n",
      "1    0.965122\n",
      "2    0.393984\n",
      "3    0.607448\n",
      "Name: col1, dtype: float64\n",
      "col2 0   -0.325713\n",
      "1    0.535768\n",
      "2   -0.158361\n",
      "3    2.036761\n",
      "Name: col2, dtype: float64\n",
      "col3 0    0.363819\n",
      "1    0.732609\n",
      "2   -0.788404\n",
      "3    0.118169\n",
      "Name: col3, dtype: float64\n"
     ]
    }
   ],
   "source": [
    "#------------- iteritems()示例\n",
    "\"\"\"\n",
    "将每个列作为键，将值与值作为键和列值迭代为Series对象。\n",
    "\"\"\"\n",
    "import pandas as pd\n",
    "import numpy as np\n",
    "df = pd.DataFrame(np.random.randn(4,3),columns=['col1','col2','col3'])\n",
    "for key,value in df.iteritems():\n",
    "   print (key, value)"
   ]
  },
  {
   "cell_type": "code",
   "execution_count": 16,
   "metadata": {},
   "outputs": [
    {
     "name": "stdout",
     "output_type": "stream",
     "text": [
      "0 col1   -2.141848\n",
      "col2   -1.080591\n",
      "col3    0.016402\n",
      "Name: 0, dtype: float64\n",
      "1 col1    0.562631\n",
      "col2    0.782613\n",
      "col3    0.312021\n",
      "Name: 1, dtype: float64\n",
      "2 col1    0.214056\n",
      "col2   -0.941972\n",
      "col3    0.249979\n",
      "Name: 2, dtype: float64\n",
      "3 col1   -0.126826\n",
      "col2    0.811581\n",
      "col3   -0.274224\n",
      "Name: 3, dtype: float64\n"
     ]
    }
   ],
   "source": [
    "#---------------- iterrows()示例\n",
    "\"\"\"\n",
    "iterrows()返回迭代器，产生每个索引值以及包含每行数据的序列。\n",
    "\"\"\"\n",
    "import pandas as pd\n",
    "import numpy as np\n",
    "\n",
    "df = pd.DataFrame(np.random.randn(4,3),columns = ['col1','col2','col3'])\n",
    "for row_index,row in df.iterrows():\n",
    "   print (row_index,row) "
   ]
  },
  {
   "cell_type": "code",
   "execution_count": 14,
   "metadata": {},
   "outputs": [
    {
     "name": "stdout",
     "output_type": "stream",
     "text": [
      "Pandas(Index=0, col1=0.5025492795882459, col2=-0.5298381707299722, col3=1.3939868813609084)\n",
      "Pandas(Index=1, col1=-0.9956693819463067, col2=0.4979543732257999, col3=-1.0555851162850065)\n",
      "Pandas(Index=2, col1=-1.476966722137543, col2=-0.20229783735299992, col3=-0.4034280948728957)\n",
      "Pandas(Index=3, col1=-0.5497550150207252, col2=-0.0924983193288906, col3=1.4724032859606115)\n"
     ]
    }
   ],
   "source": [
    "# itertuples()示例\n",
    "\"\"\"\n",
    "itertuples()方法将为DataFrame中的每一行返回一个产生一个命名元组的迭代器。\n",
    "元组的第一个元素将是行的相应索引值，而剩余的值是行值。 \n",
    "\"\"\"\n",
    "import pandas as pd\n",
    "import numpy as np\n",
    "df = pd.DataFrame(np.random.randn(4,3),columns = ['col1','col2','col3'])\n",
    "for row in df.itertuples():\n",
    "    print (row) "
   ]
  },
  {
   "cell_type": "code",
   "execution_count": null,
   "metadata": {},
   "outputs": [],
   "source": []
  }
 ],
 "metadata": {
  "kernelspec": {
   "display_name": "Python 3",
   "language": "python",
   "name": "python3"
  },
  "language_info": {
   "codemirror_mode": {
    "name": "ipython",
    "version": 3
   },
   "file_extension": ".py",
   "mimetype": "text/x-python",
   "name": "python",
   "nbconvert_exporter": "python",
   "pygments_lexer": "ipython3",
   "version": "3.7.0"
  }
 },
 "nbformat": 4,
 "nbformat_minor": 2
}
