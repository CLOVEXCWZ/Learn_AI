{
 "cells": [
  {
   "cell_type": "markdown",
   "metadata": {},
   "source": [
    "# 日期功能\n",
    "- 创建日期\n",
    "- 更改日期频率\n",
    "- bdate_range函数\n",
    "- 偏移别名"
   ]
  },
  {
   "cell_type": "markdown",
   "metadata": {},
   "source": [
    "## 1 创建日期\n",
    "通过指定周期和频率，使用date.range()函数就可以创建日期序列。 默认情况下，范围的频率是天"
   ]
  },
  {
   "cell_type": "code",
   "execution_count": 5,
   "metadata": {},
   "outputs": [
    {
     "name": "stdout",
     "output_type": "stream",
     "text": [
      "DatetimeIndex(['2020-11-21', '2020-11-22', '2020-11-23', '2020-11-24',\n",
      "               '2020-11-25'],\n",
      "              dtype='datetime64[ns]', freq='D')\n"
     ]
    }
   ],
   "source": [
    "import pandas as pd\n",
    "datelist = pd.date_range('2020/11/21', periods=5)\n",
    "print(datelist) "
   ]
  },
  {
   "cell_type": "markdown",
   "metadata": {},
   "source": [
    "## 2 更改日期频率"
   ]
  },
  {
   "cell_type": "code",
   "execution_count": 6,
   "metadata": {},
   "outputs": [
    {
     "name": "stdout",
     "output_type": "stream",
     "text": [
      "DatetimeIndex(['2020-11-30', '2020-12-31', '2021-01-31', '2021-02-28',\n",
      "               '2021-03-31'],\n",
      "              dtype='datetime64[ns]', freq='M')\n"
     ]
    }
   ],
   "source": [
    "import pandas as pd\n",
    "datelist = pd.date_range('2020/11/21', periods=5,freq='M')\n",
    "print(datelist) "
   ]
  },
  {
   "cell_type": "markdown",
   "metadata": {},
   "source": [
    "## 3 bdate_range()函数\n",
    "bdate_range()用来表示商业日期范围，不同于date_range()，它不包括星期六和星期天。"
   ]
  },
  {
   "cell_type": "code",
   "execution_count": 9,
   "metadata": {},
   "outputs": [
    {
     "name": "stdout",
     "output_type": "stream",
     "text": [
      "DatetimeIndex(['2019-09-27', '2019-09-30', '2019-10-01', '2019-10-02',\n",
      "               '2019-10-03'],\n",
      "              dtype='datetime64[ns]', freq='B')\n"
     ]
    }
   ],
   "source": [
    "import pandas as pd\n",
    "datelist = pd.bdate_range('2019/09/27', periods=5)\n",
    "print(datelist) # 2019-09-28  2019-09-29 是周末 所以没有显示出来"
   ]
  },
  {
   "cell_type": "markdown",
   "metadata": {},
   "source": [
    "## 偏移别名\n",
    "\n",
    "大量的字符串别名被赋予常用的时间序列频率。我们把这些别名称为偏移别名。\n",
    "\n",
    "|  别名 |   \t描述说明 |\n",
    "|-----|----------|\n",
    "|  B     |\t工作日频率    |\n",
    "|  BQS |  \t商务季度开始频率 |\n",
    "|  D     |\t日历/自然日频率 |\n",
    "|  A     |\t年度(年)结束频率|\n",
    "|  W     |\t每周频率     |\n",
    "|  BA    |\t商务年底结束|   \n",
    "|  M     |\t月结束频率    |\n",
    "|  BAS  | \t商务年度开始频率 |\n",
    "|  SM    |\t半月结束频率   |\n",
    "|  BH    |\t商务时间频率   |\n",
    "|  SM    |\t半月结束频率   |\n",
    "|  BH    |\t商务时间频率   |\n",
    "|  BM    |\t商务月结束频率|  \n",
    "|  H     |\t小时频率     |\n",
    "|  MS   | \t月起始频率 |   \n",
    "|  T, min|\t分钟的频率 |   \n",
    "|  SMS   |\tSMS半开始频率 |\n",
    "|  S     \t|秒频率      |\n",
    "|  BMS   |\t商务月开始频率  |\n",
    "|  L, ms |\t毫秒       |\n",
    "|  Q     |\t季度结束频率   |\n",
    "|  U, us |\t微秒       |\n",
    "|  BQ    |\t商务季度结束频率 |\n",
    "|  N     |\t纳秒       |\n",
    "|  BQ   | \t商务季度结束频率 |\n",
    "|  QS   | \t季度开始频率   |"
   ]
  },
  {
   "cell_type": "code",
   "execution_count": null,
   "metadata": {},
   "outputs": [],
   "source": []
  }
 ],
 "metadata": {
  "kernelspec": {
   "display_name": "Python 3",
   "language": "python",
   "name": "python3"
  },
  "language_info": {
   "codemirror_mode": {
    "name": "ipython",
    "version": 3
   },
   "file_extension": ".py",
   "mimetype": "text/x-python",
   "name": "python",
   "nbconvert_exporter": "python",
   "pygments_lexer": "ipython3",
   "version": "3.7.0"
  }
 },
 "nbformat": 4,
 "nbformat_minor": 2
}
