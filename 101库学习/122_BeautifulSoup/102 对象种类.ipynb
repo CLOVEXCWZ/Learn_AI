{
 "cells": [
  {
   "cell_type": "markdown",
   "metadata": {},
   "source": [
    "# 对象种类\n",
    "Beautiful Soup将复杂HTML文档转化成一个复杂的树形结构，每个节点都是Python对象，所有对象可以归纳为4中：Tag、NavigableString、BeautifulSoup、Comment\n",
    "\n",
    "- tag\n",
    "- 可以遍历的字符串\n",
    "- BeautifulSoup\n",
    "- 注释以及特殊字符串"
   ]
  },
  {
   "cell_type": "markdown",
   "metadata": {},
   "source": [
    "# 1 tag\n",
    "Tag 对象与XML或HTML原文档中的tag相同"
   ]
  },
  {
   "cell_type": "code",
   "execution_count": 11,
   "metadata": {},
   "outputs": [
    {
     "name": "stdout",
     "output_type": "stream",
     "text": [
      "b\n",
      "<blockquote class=\"boldest\">Extremely bold</blockquote>\n",
      "['boldest']\n",
      "{'class': ['boldest']}\n",
      "<blockquote class=\"vergbold\" id=\"1\">Extremely bold</blockquote>\n",
      "['body', 'strikeout']\n"
     ]
    }
   ],
   "source": [
    "from bs4 import BeautifulSoup\n",
    "\n",
    "#-------------------------- tag\n",
    "\"\"\"\n",
    "tag 的基本属性\n",
    "- name\n",
    "- attributes\n",
    "\"\"\"\n",
    "\n",
    "soup = BeautifulSoup('<b class=\"boldest\">Extremely bold</b>')\n",
    "tag = soup.b\n",
    "type(tag) # bs4.element.Tag\n",
    "\n",
    "#------------------------- Name\n",
    "\n",
    "print(tag.name) # b\n",
    "\n",
    "# 修改tag name\n",
    "tag.name = \"blockquote\" \n",
    "print(tag)\n",
    "\n",
    "#------------------------- Attributes\n",
    "\"\"\"\n",
    "一个tag中可能有很多属性 \n",
    "tag <b class=\"boldest\"> 有一个 “class” 的属性,值为 “boldest” .\n",
    "tag的属性的操作方法与字典相同:\n",
    "\"\"\"\n",
    "print(tag['class']) # 像字典一样访问\n",
    "print(tag.attrs) # 返回属性列表\n",
    "tag['class'] = 'vergbold' # 修改属性值\n",
    "tag['id'] = 1 # 增加属性值\n",
    "print(tag) # <blockquote class=\"vergbold\" id=\"1\">Extremely bold</blockquote>\n",
    "\n",
    "del tag['id'] # 删除属性\n",
    "\n",
    "#------------------------ 多值属性\n",
    "\"\"\"\n",
    "HTML 4定义了一系列可以包含多个值的属性.在HTML5中移除了一些,\n",
    "却增加更多.最常见的多值的属性是 class (一个tag可以有多个CSS的class). \n",
    "还有一些属性 rel , rev , accept-charset , headers , accesskey . 在Beautiful Soup中多值属性的返回类型是list:\n",
    "\"\"\"\n",
    "css_soup = BeautifulSoup('<p class=\"body strikeout\"></p>')\n",
    "print(css_soup.p['class']) # ['body', 'strikeout']"
   ]
  },
  {
   "cell_type": "markdown",
   "metadata": {},
   "source": [
    "## 2 可以遍历的字符串\n",
    "字符串常被包含在tag内，Beautiful Soup用NavigableString类来包装tag中字符串"
   ]
  },
  {
   "cell_type": "code",
   "execution_count": 17,
   "metadata": {},
   "outputs": [
    {
     "name": "stdout",
     "output_type": "stream",
     "text": [
      "Extremely bold\n",
      "<class 'bs4.element.NavigableString'>\n",
      "<b class=\"boldest\">No longer bold</b>\n"
     ]
    }
   ],
   "source": [
    "from bs4 import BeautifulSoup \n",
    "soup = BeautifulSoup('<b class=\"boldest\">Extremely bold</b>')\n",
    "tag = soup.b\n",
    "\n",
    "print(tag.string)  # Extremely bold\n",
    "print(type(tag.string)) # <class 'bs4.element.NavigableString'>\n",
    "\n",
    "#--- 替换 string\n",
    "tag.string.replace_with('No longer bold')\n",
    "print(tag) # <b class=\"boldest\">No longer bold</b>"
   ]
  },
  {
   "cell_type": "markdown",
   "metadata": {},
   "source": [
    "## 3  BeautifulSoup\n",
    "BeautifulSoup对象表示的是一个文档的全部内容，大部分时候，可以吧它当作Tag对象，它支持方法比较多。\n",
    "\n",
    "因为BeautifulSoup对象并不是真正的HTML或XML的tag所以它并没有name和attribute属性。但有时查看它的 .name 属性是很方便的,所以 BeautifulSoup 对象包含了一个值为 “[document]” 的特殊属性 .name"
   ]
  },
  {
   "cell_type": "code",
   "execution_count": 18,
   "metadata": {},
   "outputs": [
    {
     "name": "stdout",
     "output_type": "stream",
     "text": [
      "[document]\n"
     ]
    }
   ],
   "source": [
    "from bs4 import BeautifulSoup \n",
    "soup = BeautifulSoup('<b class=\"boldest\">Extremely bold</b>')\n",
    "\n",
    "print(soup.name) # [document]"
   ]
  },
  {
   "cell_type": "markdown",
   "metadata": {},
   "source": [
    "## 4 注释及特殊字符串\n",
    "Tag , NavigableString , BeautifulSoup 几乎覆盖了html和xml中的所有内容,但是还有一些特殊对象.容易让人担心的内容是文档的注释部分:"
   ]
  },
  {
   "cell_type": "code",
   "execution_count": 19,
   "metadata": {},
   "outputs": [
    {
     "name": "stdout",
     "output_type": "stream",
     "text": [
      "<class 'bs4.element.Comment'>\n"
     ]
    }
   ],
   "source": [
    "from bs4 import BeautifulSoup \n",
    "markup = \"<b><!--Hey, buddy. Want to buy a used parser?--></b>\"\n",
    "\n",
    "soup = BeautifulSoup(markup)\n",
    "comment = soup.b.string\n",
    "print(type(comment))\n"
   ]
  },
  {
   "cell_type": "code",
   "execution_count": null,
   "metadata": {},
   "outputs": [],
   "source": []
  },
  {
   "cell_type": "code",
   "execution_count": null,
   "metadata": {},
   "outputs": [],
   "source": []
  },
  {
   "cell_type": "code",
   "execution_count": null,
   "metadata": {},
   "outputs": [],
   "source": []
  },
  {
   "cell_type": "code",
   "execution_count": null,
   "metadata": {},
   "outputs": [],
   "source": []
  },
  {
   "cell_type": "code",
   "execution_count": null,
   "metadata": {},
   "outputs": [],
   "source": []
  },
  {
   "cell_type": "code",
   "execution_count": null,
   "metadata": {},
   "outputs": [],
   "source": []
  },
  {
   "cell_type": "code",
   "execution_count": null,
   "metadata": {},
   "outputs": [],
   "source": []
  }
 ],
 "metadata": {
  "kernelspec": {
   "display_name": "Python 3",
   "language": "python",
   "name": "python3"
  },
  "language_info": {
   "codemirror_mode": {
    "name": "ipython",
    "version": 3
   },
   "file_extension": ".py",
   "mimetype": "text/x-python",
   "name": "python",
   "nbconvert_exporter": "python",
   "pygments_lexer": "ipython3",
   "version": "3.7.0"
  }
 },
 "nbformat": 4,
 "nbformat_minor": 2
}
