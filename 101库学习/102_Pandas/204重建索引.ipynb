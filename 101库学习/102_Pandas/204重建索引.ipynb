{
 "cells": [
  {
   "cell_type": "markdown",
   "metadata": {},
   "source": [
    "# 重建索引\n",
    "\n",
    "重新索引会更改DataFrame的行标签和列标签。重新索引意味着符合数据以匹配特定轴上的一组给定的标签。\n",
    "可以通过索引来实现多个操作 -\n",
    "\n",
    "重新排序现有数据以匹配一组新的标签。\n",
    "\n",
    "在没有标签数据的标签位置插入缺失值(NA)标记\n",
    "\n",
    "- 重建索引与其他对象对齐\n",
    "- 填充时重新加注\n",
    "- 重建索引时的填充限制\n",
    "- 重命名"
   ]
  },
  {
   "cell_type": "code",
   "execution_count": 1,
   "metadata": {},
   "outputs": [
    {
     "name": "stdout",
     "output_type": "stream",
     "text": [
      "            A     x         y       C           D\n",
      "0  2016-01-01   0.0  0.442713    High  111.722146\n",
      "1  2016-01-02   1.0  0.698932    High   90.258637\n",
      "2  2016-01-03   2.0  0.064254     Low  107.429447\n",
      "3  2016-01-04   3.0  0.556987     Low   80.436316\n",
      "4  2016-01-05   4.0  0.879583  Medium   92.343476\n",
      "5  2016-01-06   5.0  0.200288    High   85.114561\n",
      "6  2016-01-07   6.0  0.349371    High  109.959658\n",
      "7  2016-01-08   7.0  0.590062     Low   99.075823\n",
      "8  2016-01-09   8.0  0.415122  Medium  101.204360\n",
      "9  2016-01-10   9.0  0.594882  Medium   94.290754\n",
      "10 2016-01-11  10.0  0.003399    High   99.368224\n",
      "11 2016-01-12  11.0  0.936685     Low   82.517894\n",
      "12 2016-01-13  12.0  0.282026    High   86.651163\n",
      "13 2016-01-14  13.0  0.182096  Medium  104.525852\n",
      "14 2016-01-15  14.0  0.761361     Low  105.588561\n",
      "15 2016-01-16  15.0  0.252168    High   98.667607\n",
      "16 2016-01-17  16.0  0.317600     Low   93.904366\n",
      "17 2016-01-18  17.0  0.144913  Medium   97.380534\n",
      "18 2016-01-19  18.0  0.329985  Medium   93.251733\n",
      "19 2016-01-20  19.0  0.393104     Low   98.169141\n",
      "           A     C   B\n",
      "0 2016-01-01  High NaN\n",
      "2 2016-01-03   Low NaN\n",
      "5 2016-01-06  High NaN\n"
     ]
    }
   ],
   "source": [
    "import pandas as pd\n",
    "import numpy as np \n",
    "N=20 \n",
    "df = pd.DataFrame({\n",
    "   'A': pd.date_range(start='2016-01-01',periods=N,freq='D'),\n",
    "   'x': np.linspace(0,stop=N-1,num=N),\n",
    "   'y': np.random.rand(N),\n",
    "   'C': np.random.choice(['Low','Medium','High'],N).tolist(),\n",
    "   'D': np.random.normal(100, 10, size=(N)).tolist()\n",
    "}) \n",
    "print(df)\n",
    "df_reindexed = df.reindex(index=[0,2,5], columns=['A', 'C', 'B'])\n",
    "print (df_reindexed)"
   ]
  },
  {
   "cell_type": "markdown",
   "metadata": {},
   "source": [
    "## 1 重建索引与其他对象对齐\n",
    "有时可能希望采取一个对象和重新索引，其轴被标记为与另一个对象相同。 考虑下面的例子来理解这一点。"
   ]
  },
  {
   "cell_type": "code",
   "execution_count": 6,
   "metadata": {},
   "outputs": [
    {
     "name": "stdout",
     "output_type": "stream",
     "text": [
      "df1.shape: (10, 3)\n",
      "df2.shape: (7, 3)\n",
      "       col1      col2      col3\n",
      "0  1.130328  0.225797 -1.086386\n",
      "1  0.163961 -1.302032  0.515123\n",
      "2 -0.017108 -2.618230 -0.332424\n",
      "3 -0.149488 -1.392738  0.176868\n",
      "4  2.311437  0.820681  0.194800\n",
      "5  0.863296 -0.016309 -0.264341\n",
      "6 -0.775899  0.296823  0.465187\n",
      "df1.shape: (7, 3)\n"
     ]
    }
   ],
   "source": [
    "import pandas as pd\n",
    "import numpy as np\n",
    "\n",
    "df1 = pd.DataFrame(np.random.randn(10,3),columns=['col1','col2','col3'])\n",
    "df2 = pd.DataFrame(np.random.randn(7,3),columns=['col1','col2','col3'])\n",
    "print(\"df1.shape:\", df1.shape)\n",
    "print(\"df2.shape:\", df2.shape)\n",
    "df1 = df1.reindex_like(df2)\n",
    "print(df1)\n",
    "print(\"df1.shape:\", df1.shape)"
   ]
  },
  {
   "cell_type": "markdown",
   "metadata": {},
   "source": [
    "## 填充时重新加注\n",
    "reindex()采用可选参数方法，它是一个填充方法，其值如下：\n",
    "- pad/ffill - 向前填充值\n",
    "- bfill/backfill - 向后填充值\n",
    "- nearest  - 从最近的索引值填充"
   ]
  },
  {
   "cell_type": "code",
   "execution_count": 8,
   "metadata": {},
   "outputs": [
    {
     "name": "stdout",
     "output_type": "stream",
     "text": [
      "       col1      col2      col3\n",
      "0 -1.511791  0.189542 -0.643108\n",
      "1  0.875902  0.290877 -0.698173\n",
      "2       NaN       NaN       NaN\n",
      "3       NaN       NaN       NaN\n",
      "4       NaN       NaN       NaN\n",
      "5       NaN       NaN       NaN\n",
      "       col1      col2      col3\n",
      "0 -1.511791  0.189542 -0.643108\n",
      "1  0.875902  0.290877 -0.698173\n",
      "2  0.875902  0.290877 -0.698173\n",
      "3  0.875902  0.290877 -0.698173\n",
      "4  0.875902  0.290877 -0.698173\n",
      "5  0.875902  0.290877 -0.698173\n"
     ]
    }
   ],
   "source": [
    "import pandas as pd\n",
    "import numpy as np\n",
    "\n",
    "df1 = pd.DataFrame(np.random.randn(6,3),columns=['col1','col2','col3'])\n",
    "df2 = pd.DataFrame(np.random.randn(2,3),columns=['col1','col2','col3'])\n",
    "print(df2.reindex_like(df1)) \n",
    "print(df2.reindex_like(df1,method='ffill')) "
   ]
  },
  {
   "cell_type": "markdown",
   "metadata": {},
   "source": [
    "## 3 重建索引时的填充限制\n",
    "限制参数在重建索引时提供对填充的额外控制。限制指定连续匹配的最大计数。考虑下面的例子来理解这个概念"
   ]
  },
  {
   "cell_type": "code",
   "execution_count": 11,
   "metadata": {},
   "outputs": [
    {
     "name": "stdout",
     "output_type": "stream",
     "text": [
      "       col1      col2      col3\n",
      "0  0.665770 -0.670541  1.823377\n",
      "1  0.064197  0.401259 -1.160411\n",
      "2       NaN       NaN       NaN\n",
      "3       NaN       NaN       NaN\n",
      "4       NaN       NaN       NaN\n",
      "5       NaN       NaN       NaN\n",
      "       col1      col2      col3\n",
      "0  0.665770 -0.670541  1.823377\n",
      "1  0.064197  0.401259 -1.160411\n",
      "2  0.064197  0.401259 -1.160411\n",
      "3  0.064197  0.401259 -1.160411\n",
      "4  0.064197  0.401259 -1.160411\n",
      "5  0.064197  0.401259 -1.160411\n"
     ]
    }
   ],
   "source": [
    "import pandas as pd\n",
    "import numpy as np\n",
    "\n",
    "df1 = pd.DataFrame(np.random.randn(6,3),columns=['col1','col2','col3'])\n",
    "df2 = pd.DataFrame(np.random.randn(2,3),columns=['col1','col2','col3'])\n",
    "# Padding NAN's\n",
    "print(df2.reindex_like(df1)) \n",
    "print(df2.reindex_like(df1,method='ffill',limit=1))"
   ]
  },
  {
   "cell_type": "markdown",
   "metadata": {},
   "source": [
    "## 重命名\n",
    "rename()方法允许基于一些映射(字典或者系列)或任意函数来重新标记一个轴。看看下面的例子来理解这一概念。"
   ]
  },
  {
   "cell_type": "code",
   "execution_count": 13,
   "metadata": {},
   "outputs": [
    {
     "name": "stdout",
     "output_type": "stream",
     "text": [
      "       col1      col2      col3\n",
      "0 -0.491026  0.232165 -0.029898\n",
      "1 -0.237460  1.152158  1.978778\n",
      "2  0.091988 -0.585323  0.338671\n",
      "3 -1.133684  0.777426  2.194401\n",
      "4 -0.448795 -0.983682 -0.151114\n",
      "5  1.631571  0.904795  0.791048\n",
      "After renaming the rows and columns:\n",
      "              c1        c2      col3\n",
      "apple  -0.491026  0.232165 -0.029898\n",
      "banana -0.237460  1.152158  1.978778\n",
      "durian  0.091988 -0.585323  0.338671\n",
      "3      -1.133684  0.777426  2.194401\n",
      "4      -0.448795 -0.983682 -0.151114\n",
      "5       1.631571  0.904795  0.791048\n"
     ]
    }
   ],
   "source": [
    "import pandas as pd\n",
    "import numpy as np\n",
    "\n",
    "df1 = pd.DataFrame(np.random.randn(6,3),columns=['col1','col2','col3'])\n",
    "print(df1)\n",
    "\n",
    "print (\"After renaming the rows and columns:\")\n",
    "print(df1.rename(columns={'col1' : 'c1', 'col2' : 'c2'}, index = {0 : 'apple', 1 : 'banana', 2 : 'durian'}))"
   ]
  },
  {
   "cell_type": "code",
   "execution_count": null,
   "metadata": {},
   "outputs": [],
   "source": []
  }
 ],
 "metadata": {
  "kernelspec": {
   "display_name": "Python 3",
   "language": "python",
   "name": "python3"
  },
  "language_info": {
   "codemirror_mode": {
    "name": "ipython",
    "version": 3
   },
   "file_extension": ".py",
   "mimetype": "text/x-python",
   "name": "python",
   "nbconvert_exporter": "python",
   "pygments_lexer": "ipython3",
   "version": "3.7.0"
  }
 },
 "nbformat": 4,
 "nbformat_minor": 2
}
